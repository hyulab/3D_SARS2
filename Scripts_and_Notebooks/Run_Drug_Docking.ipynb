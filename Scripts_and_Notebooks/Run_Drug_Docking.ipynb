{
 "cells": [
  {
   "cell_type": "code",
   "execution_count": 1,
   "metadata": {},
   "outputs": [],
   "source": [
    "# Set the process name to be human readable in htop\n",
    "import setproctitle\n",
    "setproctitle.setproctitle(\"Run_Drug_Docking\")\n",
    "\n",
    "import requests\n",
    "import pandas as pd\n",
    "pd.options.display.max_columns = 999\n",
    "\n",
    "import numpy as np\n",
    "import helper as my\n",
    "\n",
    "import glob\n",
    "import os\n",
    "import sys\n",
    "\n",
    "from tqdm import tqdm, tqdm_notebook\n",
    "from tqdm._tqdm_notebook import tqdm_notebook\n",
    "\n",
    "tqdm.pandas(tqdm_notebook)\n",
    "tqdm_notebook.pandas()\n",
    "\n",
    "\n",
    "%matplotlib inline\n",
    "import matplotlib\n",
    "import matplotlib.pyplot as plt\n",
    "\n",
    "import seaborn as sns\n",
    "\n",
    "from mjm_tools import zip_res_range, unzip_res_range\n",
    "\n",
    "from collections import defaultdict\n",
    "\n",
    "import subprocess as sp\n",
    "import time\n",
    "from scipy.spatial import distance"
   ]
  },
  {
   "cell_type": "code",
   "execution_count": null,
   "metadata": {},
   "outputs": [],
   "source": []
  },
  {
   "cell_type": "code",
   "execution_count": null,
   "metadata": {},
   "outputs": [],
   "source": []
  },
  {
   "cell_type": "markdown",
   "metadata": {},
   "source": [
    "# Paramaters for file locations"
   ]
  },
  {
   "cell_type": "code",
   "execution_count": 2,
   "metadata": {},
   "outputs": [],
   "source": [
    "# Base directory for whole project\n",
    "base_dir = \"/home/sdw95/3D_SARS2\""
   ]
  },
  {
   "cell_type": "code",
   "execution_count": null,
   "metadata": {},
   "outputs": [],
   "source": []
  },
  {
   "cell_type": "markdown",
   "metadata": {},
   "source": [
    "# Parse and Clean Drug List"
   ]
  },
  {
   "cell_type": "code",
   "execution_count": 3,
   "metadata": {},
   "outputs": [],
   "source": [
    "# Downloaded from Gordon et al Nature 2020 Supplemental Data\n",
    "# https://static-content.springer.com/esm/art%3A10.1038%2Fs41586-020-2286-9/MediaObjects/41586_2020_2286_MOESM9_ESM.xlsx\n",
    "drugs = pd.read_csv(\"{0}/Krogan_Drug_Candidates.txt\".format(base_dir), sep=\"\\t\")"
   ]
  },
  {
   "cell_type": "code",
   "execution_count": 4,
   "metadata": {},
   "outputs": [],
   "source": [
    "# Clean entries with multiple gene names in one row\n",
    "# Based on manual inspection of all cases\n",
    "rows = []\n",
    "for row in drugs.values:\n",
    "    row = list(row)\n",
    "    \n",
    "    # Simple case, multiple genes separated by slash\n",
    "    if(\"/\" in row[1]):\n",
    "        targets = row[1].split(\"/\")\n",
    "        if(len(targets[1]) <= 2):\n",
    "            targets = (targets[0], targets[0][:-1] + targets[-1])\n",
    "            targets = [x if x != \"EIF4EH\" else \"EIF4H\" for x in targets]\n",
    "        else:\n",
    "            pass\n",
    "    # Special case for genes separated by space\n",
    "    elif(\" \" in row[1]):\n",
    "        # Separate out \"NUPs RAE1\" entry to include\n",
    "        # all NUP proteins + RAE1\n",
    "        if(\"NUPs\" in row[1]):\n",
    "            targets = ['NUP210', 'NUP214', 'NUP62', 'NUP54', 'NUP88', 'NUP58', 'NUP98', 'RAE1']\n",
    "        else:\n",
    "            targets = [row[1]]\n",
    "    # These are mostly groups of gene described by function (e.g. \"Cell Entry\")\n",
    "    # We ignore these, but there are also a handful of genes with extra spaces\n",
    "    # in the gene name.\n",
    "    else:\n",
    "        targets = [row[1].strip()]\n",
    "    # Special case to interpret NDUFs as all NDUF Proteins\n",
    "    if(targets == [\"NDUFs\"]):\n",
    "        targets = [\"NDUFAF2\", \"NDUFAF1\", \"NDUFB9\"]\n",
    "    \n",
    "    # Flatten table for separate rows for all targets\n",
    "    targets = set(my.flatten([x.strip().split(\"\\n\") for x in targets]))\n",
    "    for t in targets:\n",
    "        rows.append([row[0], t] + row[2:])\n",
    "drugs = pd.DataFrame(rows, columns=list(drugs))"
   ]
  },
  {
   "cell_type": "code",
   "execution_count": null,
   "metadata": {},
   "outputs": [],
   "source": []
  },
  {
   "cell_type": "code",
   "execution_count": 5,
   "metadata": {},
   "outputs": [],
   "source": [
    "# Match by human interacting gene name\n",
    "interactions = pd.read_csv(\"{0}/COVID19_Interactome.txt\".format(base_dir), sep=\"\\t\")\n",
    "\n",
    "m = drugs.join(interactions.set_index(\"PreyGene\"), on=\"Human Gene\", how=\"left\")\n",
    "\n",
    "# Select / Rename columns and save\n",
    "m = m[[\"Compound Name\", \"Human Gene\", \"Preys\", \"Bait\", \"Structures (PDB)\", \"Drug Status\", \"Activity Description\", \"Activity Description.1\", \"Reference\", \"Smiles\", \"ZINC_ID\", \"Purchase notes\", \"Source\"]]\n",
    "m.columns = [\"Compound Name\", \"Human Gene\", \"Human ID\", \"Viral ID\", \"Human PDBs\", \"Drug Status\", \"Activity Type\", \"Activity\", \"Reference\", \"Smiles\", \"ZINC_ID\", \"Purchase Notes\", \"Source\"]\n",
    "\n",
    "m.to_csv(\"{0}/Data/Krogan_Drug_Candidates.txt\".format(base_dir), sep=\"\\t\", index=None)"
   ]
  },
  {
   "cell_type": "code",
   "execution_count": null,
   "metadata": {},
   "outputs": [],
   "source": []
  },
  {
   "cell_type": "code",
   "execution_count": null,
   "metadata": {},
   "outputs": [],
   "source": []
  },
  {
   "cell_type": "code",
   "execution_count": null,
   "metadata": {},
   "outputs": [],
   "source": []
  },
  {
   "cell_type": "markdown",
   "metadata": {},
   "source": [
    "# Generate PDB files for each ligand"
   ]
  },
  {
   "cell_type": "code",
   "execution_count": 22,
   "metadata": {},
   "outputs": [],
   "source": [
    "if(not os.path.exists(\"{0}/Data/Ligands\".format(base_dir))):\n",
    "    os.mkdir(\"{0}/Data/Ligands\".format(base_dir))\n",
    "if(not os.path.exists(\"{0}/Data/Ligands/Images\".format(base_dir))):\n",
    "    os.mkdir(\"{0}/Data/Ligands/Images\".format(base_dir))"
   ]
  },
  {
   "cell_type": "code",
   "execution_count": null,
   "metadata": {},
   "outputs": [],
   "source": []
  },
  {
   "cell_type": "code",
   "execution_count": 23,
   "metadata": {},
   "outputs": [
    {
     "data": {
      "application/vnd.jupyter.widget-view+json": {
       "model_id": "1801f8ec7c6d4da8a4640871c0209a0e",
       "version_major": 2,
       "version_minor": 0
      },
      "text/plain": [
       "HBox(children=(IntProgress(value=0, max=69), HTML(value=u'')))"
      ]
     },
     "metadata": {},
     "output_type": "display_data"
    },
    {
     "name": "stdout",
     "output_type": "stream",
     "text": [
      "0\n",
      "0\n",
      "0\n",
      "0\n",
      "0\n",
      "0\n",
      "0\n",
      "0\n",
      "0\n",
      "0\n",
      "0\n",
      "0\n",
      "0\n",
      "0\n",
      "0\n",
      "0\n",
      "0\n",
      "0\n",
      "0\n",
      "0\n",
      "0\n",
      "0\n",
      "0\n",
      "0\n",
      "0\n",
      "0\n",
      "0\n",
      "0\n",
      "0\n",
      "0\n",
      "0\n",
      "0\n",
      "0\n",
      "0\n",
      "0\n",
      "0\n",
      "0\n",
      "0\n",
      "0\n",
      "0\n",
      "0\n",
      "0\n",
      "0\n",
      "0\n",
      "0\n",
      "0\n",
      "0\n",
      "0\n",
      "0\n",
      "0\n",
      "0\n",
      "0\n",
      "0\n",
      "0\n",
      "0\n",
      "0\n",
      "0\n",
      "0\n",
      "0\n",
      "0\n",
      "0\n",
      "0\n",
      "0\n",
      "0\n",
      "0\n",
      "0\n",
      "0\n",
      "0\n",
      "0\n",
      "0\n",
      "0\n",
      "0\n",
      "0\n",
      "0\n",
      "0\n",
      "0\n",
      "0\n",
      "0\n",
      "0\n",
      "0\n",
      "0\n",
      "0\n",
      "0\n",
      "0\n",
      "0\n",
      "0\n",
      "0\n",
      "0\n",
      "0\n",
      "0\n",
      "0\n",
      "0\n",
      "0\n",
      "0\n",
      "0\n",
      "0\n",
      "0\n",
      "0\n",
      "0\n",
      "0\n",
      "0\n",
      "0\n",
      "0\n",
      "0\n",
      "0\n",
      "0\n",
      "0\n",
      "0\n",
      "0\n",
      "0\n",
      "0\n",
      "0\n",
      "0\n",
      "0\n",
      "0\n",
      "0\n",
      "0\n",
      "0\n",
      "0\n",
      "0\n",
      "0\n",
      "0\n",
      "0\n",
      "0\n",
      "0\n",
      "0\n",
      "0\n",
      "0\n",
      "0\n",
      "0\n",
      "0\n",
      "0\n",
      "0\n",
      "0\n",
      "0\n",
      "0\n",
      "0\n",
      "0\n",
      "\n"
     ]
    }
   ],
   "source": [
    "for name, smiles in tqdm_notebook(drugs.drop_duplicates([\"Compound Name\"])[[\"Compound Name\", \"Smiles\"]].values):\n",
    "    # This SMILES String is improperly formatted. I looked up the \"correct\" string here...\n",
    "    # https://www.medchemexpress.com/dBET6.html?src=google-product&gclid=EAIaIQobChMIqYf5m5ul6QIVT8DICh20VQh-EAAYASAAEgLmkPD_BwE\n",
    "    if(name == \"dBET6\"):\n",
    "        smiles = \"O=C(NCCCCCCCCNC(COC1=CC=CC(C(N2C(CC3)C(NC3=O)=O)=O)=C1C2=O)=O)C[C@H]4C5=NN=C(C)N5C6=C(C(C)=C(C)S6)C(C7=CC=C(Cl)C=C7)=N4\"\n",
    "    \n",
    "    # Use OpenBabel to create PDB File\n",
    "    print os.system(\"obabel -:\\\"{0}\\\" --gen3d -opdb -O {1}/Data/Ligands/{2}.pdb -d\".format(smiles, base_dir, name.replace(\"-\", \"_\").replace(\" \", \"_\").split(\"(\")[0]))\n",
    "    \n",
    "    # Use OpenBabel to create 2D svg image of ligand\n",
    "    print os.system(\"obabel -:\\\"{0}\\\" --gen3d -osvg -O {1}/Data/Ligands/Images/{2}.svg -d\".format(smiles, base_dir, name.replace(\"-\", \"_\").replace(\" \", \"_\").split(\"(\")[0]))\n",
    "    #os.system(\"obabel -i pdb {0} -o pdb -O {0} -d\".format(smiles, name.replace(\"-\", \"_\").replace(\" \", \"_\").split(\"(\")[0]))"
   ]
  },
  {
   "cell_type": "code",
   "execution_count": 26,
   "metadata": {},
   "outputs": [
    {
     "data": {
      "text/plain": [
       "76"
      ]
     },
     "execution_count": 26,
     "metadata": {},
     "output_type": "execute_result"
    }
   ],
   "source": [
    "# Total Number of Potentially Dockable Examples\n",
    "# with specific (viral-prot, human-prot, drug) pairs\n",
    "# (Cases where Viral ID is NaN have non-specific human\n",
    "# drug target specified (e.g. \"Viral Transcription\"))\n",
    "len(m[~pd.isnull(m[\"Viral ID\"])])"
   ]
  },
  {
   "cell_type": "code",
   "execution_count": null,
   "metadata": {},
   "outputs": [],
   "source": []
  },
  {
   "cell_type": "code",
   "execution_count": null,
   "metadata": {},
   "outputs": [],
   "source": []
  },
  {
   "cell_type": "markdown",
   "metadata": {},
   "source": [
    "# Clean Undocked Structures for Docking"
   ]
  },
  {
   "cell_type": "code",
   "execution_count": 30,
   "metadata": {},
   "outputs": [],
   "source": [
    "# Make sure there are no hydrogens in the protein structures\n",
    "# used for docking\n",
    "for f in tqdm_notebook(glob.glob(\"{0}/Data/Undocked_Structures/*\".format(base_dir))):\n",
    "    os.system(\"obabel -i pdb {0} -o pdb -O {0} -d\".format(f))"
   ]
  },
  {
   "cell_type": "code",
   "execution_count": null,
   "metadata": {},
   "outputs": [],
   "source": []
  },
  {
   "cell_type": "code",
   "execution_count": null,
   "metadata": {},
   "outputs": [],
   "source": []
  },
  {
   "cell_type": "markdown",
   "metadata": {},
   "source": [
    "# Run Ligand Docking"
   ]
  },
  {
   "cell_type": "code",
   "execution_count": 65,
   "metadata": {},
   "outputs": [],
   "source": [
    "if(not os.path.exists(\"{0}/Data/Docked_Ligands\".format(base_dir))):\n",
    "    os.mkdir(\"{0}/Data/Docked_Ligands\".format(base_dir))\n",
    "if(not os.path.exists(\"{0}/Data/Docked_Ligands/sub_batches/\".format(base_dir))):\n",
    "    os.mkdir(\"{0}/Data/Docked_Ligands/sub_batches/\".format(base_dir))\n",
    "if(not os.path.exists(\"{0}/Data/Docked_Ligands/ranked_poses/\".format(base_dir))):\n",
    "    os.mkdir(\"{0}/Data/Docked_Ligands/ranked_poses/\".format(base_dir))"
   ]
  },
  {
   "cell_type": "code",
   "execution_count": 39,
   "metadata": {},
   "outputs": [],
   "source": [
    "# Read in list of drug pairs\n",
    "drug_pairs = pd.read_csv(\"{0}/Data/Krogan_Drug_Candidates.txt\".format(base_dir), sep=\"\\t\")\n",
    "\n",
    "# Read in model info\n",
    "models = pd.read_csv(\"{0}/Data/Models.txt\".format(base_dir), sep=\"\\t\")\n",
    "\n",
    "# Read in Protein info for total sequence length\n",
    "proteins = pd.read_csv(\"{0}/Data/Proteins.txt\".format(base_dir), sep=\"\\t\")\n",
    "uni2seq = proteins.set_index(\"ID\")[\"Sequence\"].to_dict()"
   ]
  },
  {
   "cell_type": "code",
   "execution_count": null,
   "metadata": {},
   "outputs": [],
   "source": []
  },
  {
   "cell_type": "code",
   "execution_count": 49,
   "metadata": {},
   "outputs": [
    {
     "data": {
      "application/vnd.jupyter.widget-view+json": {
       "model_id": "b9861e2aa5054f49a0814409b962b656",
       "version_major": 2,
       "version_minor": 0
      },
      "text/plain": [
       "HBox(children=(IntProgress(value=0, max=76), HTML(value=u'')))"
      ]
     },
     "metadata": {},
     "output_type": "display_data"
    },
    {
     "name": "stdout",
     "output_type": "stream",
     "text": [
      "Q9Y680 Rapamycin_\n",
      "Q9Y680 FK_506_\n",
      "\n"
     ]
    }
   ],
   "source": [
    "# Test loop for running docking with one process at a time\n",
    "# NOTE: For now we just use this to get a summary of how\n",
    "#       many docks will be run, and run the main batch\n",
    "#       in parallel.\n",
    "\n",
    "undockable = []\n",
    "low_coverage = []\n",
    "docked = []\n",
    "for drug, uni in tqdm_notebook(drug_pairs[~pd.isnull(drug_pairs[\"Human ID\"])][[\"Compound Name\", \"Human ID\"]].values):\n",
    "    drug = drug.replace(\"-\", \"_\").replace(\" \", \"_\").split(\"(\")[0]\n",
    "    \n",
    "    # Grap Drug PDB\n",
    "    drug_f = glob.glob(\"{0}/Data/Ligands/{1}*\".format(base_dir, drug))[0]\n",
    "    \n",
    "    # Grab Human Protein PDB (skip if no PDB available)\n",
    "    try:\n",
    "        uni_f = glob.glob(\"{0}/Data/Undocked_Structures/{1}*\".format(base_dir, uni))[0]\n",
    "    except IndexError:\n",
    "        print uni, drug\n",
    "        undockable.append((drug, uni))\n",
    "        continue\n",
    "    \n",
    "    # Check coverage of selected Human PDB\n",
    "    # NOTE: Assumes only one Human Structure available for\n",
    "    #       each protein\n",
    "    total_len = len(uni2seq[uni])\n",
    "    resi_covered = models[models[\"ID\"] == uni][\"Resi_Covered\"].map(lambda x: len(unzip_res_range(x))).values[0]\n",
    "    coverage = resi_covered / float(total_len)\n",
    "    \n",
    "    # If coverage is low, do not attempt docking\n",
    "    # (would be inaccurate / bias predicted binding site)\n",
    "    if(not coverage >= 0.33):\n",
    "        low_coverage.append((drug, uni))\n",
    "        continue\n",
    "    docked.append((drug, uni))\n",
    "    \n",
    "    #print \"smina -r {0} -l {1} --autobox_ligand {0} --autobox_add 10 -o {2}/Data/Docked_Ligands/{3}_{4}.pdb --exhaustiveness 8 --num_modes 10 --cpu 1\".format(uni_f, drug_f, base_dir, uni, drug)\n",
    "    #print os.system(\"smina -r {0} -l {1} --autobox_ligand {0} --autobox_add 10 -o {2}/Data/Docked_Ligands/{3}_{4}.pdb --exhaustiveness 8 --num_modes 10 --cpu 1\".format(uni_f, drug_f, base_dir, uni, drug))\n",
    "    #break"
   ]
  },
  {
   "cell_type": "code",
   "execution_count": 50,
   "metadata": {},
   "outputs": [
    {
     "name": "stdout",
     "output_type": "stream",
     "text": [
      "2\n",
      "38\n",
      "36\n"
     ]
    }
   ],
   "source": [
    "print len(undockable)\n",
    "print len(low_coverage)\n",
    "print len(docked)"
   ]
  },
  {
   "cell_type": "code",
   "execution_count": null,
   "metadata": {},
   "outputs": [],
   "source": []
  },
  {
   "cell_type": "code",
   "execution_count": null,
   "metadata": {},
   "outputs": [],
   "source": []
  },
  {
   "cell_type": "code",
   "execution_count": null,
   "metadata": {
    "scrolled": true
   },
   "outputs": [
    {
     "name": "stdout",
     "output_type": "stream",
     "text": [
      "Docking Iteration 0\n"
     ]
    },
    {
     "data": {
      "application/vnd.jupyter.widget-view+json": {
       "model_id": "c2124f2e22284c668cd5e05413ede12b",
       "version_major": 2,
       "version_minor": 0
      },
      "text/plain": [
       "HBox(children=(IntProgress(value=0, max=76), HTML(value=u'')))"
      ]
     },
     "metadata": {},
     "output_type": "display_data"
    },
    {
     "name": "stdout",
     "output_type": "stream",
     "text": [
      "Q9Y680\n",
      "Q9Y680\n",
      "21/|/ 28%|| 21/76 [00:20<00:52,  1.05it/s]Error 1\n",
      "cmd: nice smina -r /home/sdw95/3D_SARS2/Data/Undocked_Structures/Q8TEM1_f9f9fdc761e4f6082b496b5c06f0778e.pdb -l /home/sdw95/3D_SARS2/Data/Ligands/Verdinexor.pdb --autobox_ligand /home/sdw95/3D_SARS2/Data/Undocked_Structures/Q8TEM1_f9f9fdc761e4f6082b496b5c06f0778e.pdb --autobox_add 10 -o /home/sdw95/3D_SARS2/Data/Docked_Ligands/sub_batches/Q8TEM1_Verdinexor_0_in_progress.pdb --exhaustiveness 40 --num_modes 1000 --cpu 5 --seed 0\n",
      "RunTime: 30.0467140675\n",
      "\n",
      "Finished Docking ('Chloroquine', 'Q99720') in 90.2327830791\n",
      "Finished Docking ('Verdinexor', 'Q99567') in 180.284098864\n",
      "Finished Docking ('Verdinexor', 'P78406') in 180.281339884\n",
      "Finished Docking ('Zotatifin_', 'O60573') in 240.358707905\n",
      "Finished Docking ('Zotatifin_', 'Q15056') in 240.38004899\n",
      "Finished Docking ('E_52862', 'Q99720') in 90.1459751129\n",
      "Finished Docking ('Bafilomycin_A1', 'Q15904') in 150.278942823\n",
      "Finished Docking ('Entacapone', 'P21964') in 90.1832931042\n",
      "Finished Docking ('Haloperidol', 'Q99720') in 90.1561150551\n",
      "Finished Docking ('Metformin', 'Q9Y6M9') in 30.0401651859\n",
      "Finished Docking ('Apicidin', 'Q92769') in 330.626230001\n",
      "Finished Docking ('H_89', 'P17612') in 150.312102795\n",
      "Finished Docking ('Haloperidol', 'Q5BJF2') in 90.2122030258\n",
      "Finished Docking ('Metformin', 'Q8N183') in 30.0820169449\n",
      "Error 1\n",
      "cmd: nice smina -r /home/sdw95/3D_SARS2/Data/Undocked_Structures/Q7KZI7_3IEC_A.pdb -l /home/sdw95/3D_SARS2/Data/Ligands/Midostaurin.pdb --autobox_ligand /home/sdw95/3D_SARS2/Data/Undocked_Structures/Q7KZI7_3IEC_A.pdb --autobox_add 10 -o /home/sdw95/3D_SARS2/Data/Docked_Ligands/sub_batches/Q7KZI7_Midostaurin_0_in_progress.pdb --exhaustiveness 40 --num_modes 1000 --cpu 5 --seed 0\n",
      "RunTime: 30.067661047\n",
      "\n",
      "Error 1\n",
      "cmd: nice smina -r /home/sdw95/3D_SARS2/Data/Undocked_Structures/P27448_2QNJ_A.pdb -l /home/sdw95/3D_SARS2/Data/Ligands/Midostaurin.pdb --autobox_ligand /home/sdw95/3D_SARS2/Data/Undocked_Structures/P27448_2QNJ_A.pdb --autobox_add 10 -o /home/sdw95/3D_SARS2/Data/Docked_Ligands/sub_batches/P27448_Midostaurin_0_in_progress.pdb --exhaustiveness 40 --num_modes 1000 --cpu 5 --seed 0\n",
      "RunTime: 30.054582119\n",
      "\n",
      "Finished Docking ('Migalastat', 'P06280') in 30.0456199646\n",
      "Finished Docking ('Merimepodib', 'P12268') in 180.405170202\n",
      "Finished Docking ('Mycophenolic_acid', 'P12268') in 90.1748387814\n",
      "Finished Docking ('PD_144418', 'Q99720') in 60.120732069\n",
      "Finished Docking ('PB28', 'Q99720') in 90.2253079414\n",
      "Finished Docking ('PB28', 'Q5BJF2') in 90.2294580936\n",
      "Finished Docking ('Ribavirin', 'P12268') in 60.1465611458\n",
      "Finished Docking ('RS_PPCC', 'Q99720') in 120.238402843\n",
      "Finished Docking ('Ruxolitinib', 'Q7KZI7') in 90.1847560406\n",
      "Finished Docking ('Ruxolitinib', 'P27448') in 90.1821100712\n",
      "Finished Docking ('Silmitasertib_', 'P19784') in 90.1953580379\n",
      "Error 1\n",
      "cmd: nice smina -r /home/sdw95/3D_SARS2/Data/Undocked_Structures/Q9H773_343f792499fe2ee667308c91dba97ffb.pdb -l /home/sdw95/3D_SARS2/Data/Ligands/ZINC1775962367.pdb --autobox_ligand /home/sdw95/3D_SARS2/Data/Undocked_Structures/Q9H773_343f792499fe2ee667308c91dba97ffb.pdb --autobox_add 10 -o /home/sdw95/3D_SARS2/Data/Docked_Ligands/sub_batches/Q9H773_ZINC1775962367_0_in_progress.pdb --exhaustiveness 40 --num_modes 1000 --cpu 5 --seed 0\n",
      "RunTime: 30.046500206\n",
      "\n",
      "Finished Docking ('Ponatinib', 'Q13546') in 180.457512856\n",
      "Finished Docking ('TMCB', 'P19784') in 60.1530900002\n",
      "Finished Docking ('Valproic_Acid', 'Q92769') in 60.1488289833\n",
      "Error 1\n",
      "cmd: nice smina -r /home/sdw95/3D_SARS2/Data/Undocked_Structures/Q9H773_343f792499fe2ee667308c91dba97ffb.pdb -l /home/sdw95/3D_SARS2/Data/Ligands/ZINC4326719.pdb --autobox_ligand /home/sdw95/3D_SARS2/Data/Undocked_Structures/Q9H773_343f792499fe2ee667308c91dba97ffb.pdb --autobox_add 10 -o /home/sdw95/3D_SARS2/Data/Docked_Ligands/sub_batches/Q9H773_ZINC4326719_0_in_progress.pdb --exhaustiveness 40 --num_modes 1000 --cpu 5 --seed 0\n",
      "RunTime: 30.0935468674\n",
      "\n",
      "Error 1\n",
      "cmd: nice smina -r /home/sdw95/3D_SARS2/Data/Undocked_Structures/Q9H773_343f792499fe2ee667308c91dba97ffb.pdb -l /home/sdw95/3D_SARS2/Data/Ligands/ZINC4511851.pdb --autobox_ligand /home/sdw95/3D_SARS2/Data/Undocked_Structures/Q9H773_343f792499fe2ee667308c91dba97ffb.pdb --autobox_add 10 -o /home/sdw95/3D_SARS2/Data/Docked_Ligands/sub_batches/Q9H773_ZINC4511851_0_in_progress.pdb --exhaustiveness 40 --num_modes 1000 --cpu 5 --seed 0\n",
      "RunTime: 30.0803010464\n",
      "\n",
      "\n",
      "Docking Iteration 1\n"
     ]
    },
    {
     "data": {
      "application/vnd.jupyter.widget-view+json": {
       "model_id": "99dc49860e6b4995bb951115c7bdedf1",
       "version_major": 2,
       "version_minor": 0
      },
      "text/plain": [
       "HBox(children=(IntProgress(value=0, max=76), HTML(value=u'')))"
      ]
     },
     "metadata": {},
     "output_type": "display_data"
    },
    {
     "name": "stdout",
     "output_type": "stream",
     "text": [
      "Q9Y680\n",
      "Q9Y680\n",
      "19/|/ 25%|| 19/76 [00:20<01:00,  1.05s/it]Finished Docking ('Chloroquine', 'Q99720') in 60.1590151787\n",
      "Error 1\n",
      "cmd: nice smina -r /home/sdw95/3D_SARS2/Data/Undocked_Structures/Q8TEM1_f9f9fdc761e4f6082b496b5c06f0778e.pdb -l /home/sdw95/3D_SARS2/Data/Ligands/Verdinexor.pdb --autobox_ligand /home/sdw95/3D_SARS2/Data/Undocked_Structures/Q8TEM1_f9f9fdc761e4f6082b496b5c06f0778e.pdb --autobox_add 10 -o /home/sdw95/3D_SARS2/Data/Docked_Ligands/sub_batches/Q8TEM1_Verdinexor_1_in_progress.pdb --exhaustiveness 40 --num_modes 1000 --cpu 5 --seed 1\n",
      "RunTime: 30.041134119\n",
      "\n",
      "Finished Docking ('Verdinexor', 'Q99567') in 180.279384851\n",
      "Finished Docking ('Verdinexor', 'P78406') in 180.279301882\n",
      "Finished Docking ('ZINC95559591', 'P27448') in 210.478615999\n",
      "Finished Docking ('Zotatifin_', 'O60573') in 240.292335033\n",
      "Finished Docking ('Bafilomycin_A1', 'Q15904') in 150.160057068\n",
      "Finished Docking ('Zotatifin_', 'Q15056') in 240.316132069\n",
      "Finished Docking ('E_52862', 'Q99720') in 90.160145998\n",
      "Finished Docking ('Entacapone', 'P21964') in 90.1706769466\n",
      "Finished Docking ('Apicidin', 'Q92769') in 330.502687931\n",
      "Finished Docking ('Haloperidol', 'Q99720') in 90.1587052345\n",
      "Finished Docking ('Sanglifehrin_A', 'P12268') in 1232.72806215\n",
      "Finished Docking ('Haloperidol', 'Q5BJF2') in 90.184579134\n",
      "Finished Docking ('Metformin', 'Q9Y6M9') in 30.0610580444\n",
      "Finished Docking ('H_89', 'P17612') in 150.354759932\n",
      "Finished Docking ('Metformin', 'Q8N183') in 30.0735120773\n",
      "Error 1\n",
      "cmd: nice smina -r /home/sdw95/3D_SARS2/Data/Undocked_Structures/Q7KZI7_3IEC_A.pdb -l /home/sdw95/3D_SARS2/Data/Ligands/Midostaurin.pdb --autobox_ligand /home/sdw95/3D_SARS2/Data/Undocked_Structures/Q7KZI7_3IEC_A.pdb --autobox_add 10 -o /home/sdw95/3D_SARS2/Data/Docked_Ligands/sub_batches/Q7KZI7_Midostaurin_1_in_progress.pdb --exhaustiveness 40 --num_modes 1000 --cpu 5 --seed 1\n",
      "RunTime: 30.0728681087\n",
      "\n",
      "Error 1\n",
      "cmd: nice smina -r /home/sdw95/3D_SARS2/Data/Undocked_Structures/P27448_2QNJ_A.pdb -l /home/sdw95/3D_SARS2/Data/Ligands/Midostaurin.pdb --autobox_ligand /home/sdw95/3D_SARS2/Data/Undocked_Structures/P27448_2QNJ_A.pdb --autobox_add 10 -o /home/sdw95/3D_SARS2/Data/Docked_Ligands/sub_batches/P27448_Midostaurin_1_in_progress.pdb --exhaustiveness 40 --num_modes 1000 --cpu 5 --seed 1\n",
      "RunTime: 30.0640950203\n",
      "\n",
      "Finished Docking ('Migalastat', 'P06280') in 30.0673341751\n",
      "Finished Docking ('Mycophenolic_acid', 'P12268') in 90.1486480236\n",
      "Finished Docking ('PB28', 'Q99720') in 90.1581120491\n",
      "Finished Docking ('PB28', 'Q5BJF2') in 90.1609239578\n",
      "Finished Docking ('PD_144418', 'Q99720') in 60.1142148972\n",
      "Finished Docking ('Merimepodib', 'P12268') in 180.495322943\n",
      "Finished Docking ('Ribavirin', 'P12268') in 60.1304671764\n",
      "Finished Docking ('Ruxolitinib', 'Q7KZI7') in 90.1819880009\n",
      "Finished Docking ('RS_PPCC', 'Q99720') in 120.257969856\n",
      "Finished Docking ('Ruxolitinib', 'P27448') in 90.2045621872\n",
      "Finished Docking ('Silmitasertib_', 'P19784') in 90.2056410313\n",
      "Finished Docking ('TMCB', 'P19784') in 60.1514799595\n",
      "Error 1\n",
      "cmd: nice smina -r /home/sdw95/3D_SARS2/Data/Undocked_Structures/Q9H773_343f792499fe2ee667308c91dba97ffb.pdb -l /home/sdw95/3D_SARS2/Data/Ligands/ZINC1775962367.pdb --autobox_ligand /home/sdw95/3D_SARS2/Data/Undocked_Structures/Q9H773_343f792499fe2ee667308c91dba97ffb.pdb --autobox_add 10 -o /home/sdw95/3D_SARS2/Data/Docked_Ligands/sub_batches/Q9H773_ZINC1775962367_1_in_progress.pdb --exhaustiveness 40 --num_modes 1000 --cpu 5 --seed 1\n",
      "RunTime: 30.0630409718\n",
      "\n",
      "\n",
      "Docking Iteration 2\n"
     ]
    },
    {
     "data": {
      "application/vnd.jupyter.widget-view+json": {
       "model_id": "75ea945e421f4e48be08bdc65d2b510e",
       "version_major": 2,
       "version_minor": 0
      },
      "text/plain": [
       "HBox(children=(IntProgress(value=0, max=76), HTML(value=u'')))"
      ]
     },
     "metadata": {},
     "output_type": "display_data"
    },
    {
     "name": "stdout",
     "output_type": "stream",
     "text": [
      "Finished Docking ('Ponatinib', 'Q13546') in 180.530934095\n",
      "Finished Docking ('Valproic_Acid', 'Q92769') in 60.2208528519\n",
      "Error 1\n",
      "cmd: nice smina -r /home/sdw95/3D_SARS2/Data/Undocked_Structures/Q9H773_343f792499fe2ee667308c91dba97ffb.pdb -l /home/sdw95/3D_SARS2/Data/Ligands/ZINC4326719.pdb --autobox_ligand /home/sdw95/3D_SARS2/Data/Undocked_Structures/Q9H773_343f792499fe2ee667308c91dba97ffb.pdb --autobox_add 10 -o /home/sdw95/3D_SARS2/Data/Docked_Ligands/sub_batches/Q9H773_ZINC4326719_1_in_progress.pdb --exhaustiveness 40 --num_modes 1000 --cpu 5 --seed 1\n",
      "RunTime: 30.1394879818\n",
      "\n",
      "Error 1\n",
      "cmd: nice smina -r /home/sdw95/3D_SARS2/Data/Undocked_Structures/Q9H773_343f792499fe2ee667308c91dba97ffb.pdb -l /home/sdw95/3D_SARS2/Data/Ligands/ZINC4511851.pdb --autobox_ligand /home/sdw95/3D_SARS2/Data/Undocked_Structures/Q9H773_343f792499fe2ee667308c91dba97ffb.pdb --autobox_add 10 -o /home/sdw95/3D_SARS2/Data/Docked_Ligands/sub_batches/Q9H773_ZINC4511851_1_in_progress.pdb --exhaustiveness 40 --num_modes 1000 --cpu 5 --seed 1\n",
      "RunTime: 30.1267249584\n",
      "\n",
      "Q9Y680\n",
      "Q9Y680\n",
      "27/|/ 36%|| 27/76 [00:50<01:30,  1.85s/it]Finished Docking ('Chloroquine', 'Q99720') in 60.1658389568\n",
      "Error 1\n",
      "cmd: nice smina -r /home/sdw95/3D_SARS2/Data/Undocked_Structures/Q8TEM1_f9f9fdc761e4f6082b496b5c06f0778e.pdb -l /home/sdw95/3D_SARS2/Data/Ligands/Verdinexor.pdb --autobox_ligand /home/sdw95/3D_SARS2/Data/Undocked_Structures/Q8TEM1_f9f9fdc761e4f6082b496b5c06f0778e.pdb --autobox_add 10 -o /home/sdw95/3D_SARS2/Data/Docked_Ligands/sub_batches/Q8TEM1_Verdinexor_2_in_progress.pdb --exhaustiveness 40 --num_modes 1000 --cpu 5 --seed 2\n",
      "RunTime: 30.046020031\n",
      "\n",
      "Finished Docking ('ZINC95559591', 'P27448') in 180.437060833\n",
      "Finished Docking ('Verdinexor', 'Q99567') in 180.312880993\n",
      "Finished Docking ('Verdinexor', 'P78406') in 180.314332008\n",
      "Finished Docking ('Zotatifin_', 'O60573') in 240.361869097\n",
      "Finished Docking ('Bafilomycin_A1', 'Q15904') in 150.178504229\n",
      "Finished Docking ('Sanglifehrin_A', 'P12268') in 1202.59891796\n",
      "Finished Docking ('Zotatifin_', 'Q15056') in 240.419170141\n",
      "Finished Docking ('E_52862', 'Q99720') in 90.1777501106\n",
      "Finished Docking ('Entacapone', 'P21964') in 90.1848421097\n",
      "Finished Docking ('Haloperidol', 'Q99720') in 90.1774389744\n",
      "Finished Docking ('Apicidin', 'Q92769') in 330.603365898\n",
      "Finished Docking ('H_89', 'P17612') in 150.322573185\n",
      "Finished Docking ('Haloperidol', 'Q5BJF2') in 90.1879148483\n",
      "Finished Docking ('Metformin', 'Q9Y6M9') in 30.0829539299\n",
      "Finished Docking ('Metformin', 'Q8N183') in 30.0715801716\n",
      "Error 1\n",
      "cmd: nice smina -r /home/sdw95/3D_SARS2/Data/Undocked_Structures/Q7KZI7_3IEC_A.pdb -l /home/sdw95/3D_SARS2/Data/Ligands/Midostaurin.pdb --autobox_ligand /home/sdw95/3D_SARS2/Data/Undocked_Structures/Q7KZI7_3IEC_A.pdb --autobox_add 10 -o /home/sdw95/3D_SARS2/Data/Docked_Ligands/sub_batches/Q7KZI7_Midostaurin_2_in_progress.pdb --exhaustiveness 40 --num_modes 1000 --cpu 5 --seed 2\n",
      "RunTime: 30.0712668896\n",
      "\n",
      "Error 1\n",
      "cmd: nice smina -r /home/sdw95/3D_SARS2/Data/Undocked_Structures/P27448_2QNJ_A.pdb -l /home/sdw95/3D_SARS2/Data/Ligands/Midostaurin.pdb --autobox_ligand /home/sdw95/3D_SARS2/Data/Undocked_Structures/P27448_2QNJ_A.pdb --autobox_add 10 -o /home/sdw95/3D_SARS2/Data/Docked_Ligands/sub_batches/P27448_Midostaurin_2_in_progress.pdb --exhaustiveness 40 --num_modes 1000 --cpu 5 --seed 2\n",
      "RunTime: 30.0623919964\n",
      "\n",
      "Finished Docking ('Migalastat', 'P06280') in 30.0531830788\n",
      "Finished Docking ('Merimepodib', 'P12268') in 180.391422987\n",
      "Finished Docking ('PD_144418', 'Q99720') in 60.0615570545\n",
      "Finished Docking ('Mycophenolic_acid', 'P12268') in 90.1664431095\n",
      "Finished Docking ('PB28', 'Q99720') in 90.1662559509\n",
      "Finished Docking ('PB28', 'Q5BJF2') in 90.1673209667\n",
      "Finished Docking ('Ribavirin', 'P12268') in 60.1473579407\n",
      "Finished Docking ('Ruxolitinib', 'Q7KZI7') in 90.1396119595\n",
      "Finished Docking ('Ruxolitinib', 'P27448') in 90.1533999443\n",
      "Finished Docking ('RS_PPCC', 'Q99720') in 120.237566948\n",
      "Finished Docking ('Silmitasertib_', 'P19784') in 90.1572408676\n",
      "Finished Docking ('Ponatinib', 'Q13546') in 180.415952921\n",
      "Finished Docking ('TMCB', 'P19784') in 60.1397361755\n",
      "Finished Docking ('Valproic_Acid', 'Q92769') in 60.1346108913\n",
      "Error 1\n",
      "cmd: nice smina -r /home/sdw95/3D_SARS2/Data/Undocked_Structures/Q9H773_343f792499fe2ee667308c91dba97ffb.pdb -l /home/sdw95/3D_SARS2/Data/Ligands/ZINC1775962367.pdb --autobox_ligand /home/sdw95/3D_SARS2/Data/Undocked_Structures/Q9H773_343f792499fe2ee667308c91dba97ffb.pdb --autobox_add 10 -o /home/sdw95/3D_SARS2/Data/Docked_Ligands/sub_batches/Q9H773_ZINC1775962367_2_in_progress.pdb --exhaustiveness 40 --num_modes 1000 --cpu 5 --seed 2\n",
      "RunTime: 30.0924592018\n",
      "\n",
      "Error 1\n",
      "cmd: nice smina -r /home/sdw95/3D_SARS2/Data/Undocked_Structures/Q9H773_343f792499fe2ee667308c91dba97ffb.pdb -l /home/sdw95/3D_SARS2/Data/Ligands/ZINC4326719.pdb --autobox_ligand /home/sdw95/3D_SARS2/Data/Undocked_Structures/Q9H773_343f792499fe2ee667308c91dba97ffb.pdb --autobox_add 10 -o /home/sdw95/3D_SARS2/Data/Docked_Ligands/sub_batches/Q9H773_ZINC4326719_2_in_progress.pdb --exhaustiveness 40 --num_modes 1000 --cpu 5 --seed 2\n",
      "RunTime: 30.0800070763\n",
      "\n",
      "\n",
      "Docking Iteration 3\n"
     ]
    },
    {
     "data": {
      "application/vnd.jupyter.widget-view+json": {
       "model_id": "b8839976e2994dbe87f3200f1a432060",
       "version_major": 2,
       "version_minor": 0
      },
      "text/plain": [
       "HBox(children=(IntProgress(value=0, max=76), HTML(value=u'')))"
      ]
     },
     "metadata": {},
     "output_type": "display_data"
    },
    {
     "name": "stdout",
     "output_type": "stream",
     "text": [
      "Q9Y680\n",
      "Q9Y680\n",
      "20/|/ 26%|| 20/76 [00:20<00:56,  1.00s/it]Error 1\n",
      "cmd: nice smina -r /home/sdw95/3D_SARS2/Data/Undocked_Structures/Q9H773_343f792499fe2ee667308c91dba97ffb.pdb -l /home/sdw95/3D_SARS2/Data/Ligands/ZINC4511851.pdb --autobox_ligand /home/sdw95/3D_SARS2/Data/Undocked_Structures/Q9H773_343f792499fe2ee667308c91dba97ffb.pdb --autobox_add 10 -o /home/sdw95/3D_SARS2/Data/Docked_Ligands/sub_batches/Q9H773_ZINC4511851_2_in_progress.pdb --exhaustiveness 40 --num_modes 1000 --cpu 5 --seed 2\n",
      "RunTime: 30.1817619801\n",
      "\n",
      "Finished Docking ('Chloroquine', 'Q99720') in 90.1833019257\n",
      "Error 1\n",
      "cmd: nice smina -r /home/sdw95/3D_SARS2/Data/Undocked_Structures/Q8TEM1_f9f9fdc761e4f6082b496b5c06f0778e.pdb -l /home/sdw95/3D_SARS2/Data/Ligands/Verdinexor.pdb --autobox_ligand /home/sdw95/3D_SARS2/Data/Undocked_Structures/Q8TEM1_f9f9fdc761e4f6082b496b5c06f0778e.pdb --autobox_add 10 -o /home/sdw95/3D_SARS2/Data/Docked_Ligands/sub_batches/Q8TEM1_Verdinexor_3_in_progress.pdb --exhaustiveness 40 --num_modes 1000 --cpu 5 --seed 3\n",
      "RunTime: 30.0426149368\n",
      "\n",
      "Finished Docking ('ZINC95559591', 'P27448') in 180.388483047\n",
      "Finished Docking ('Verdinexor', 'Q99567') in 180.284826994\n",
      "Finished Docking ('Verdinexor', 'P78406') in 180.308930159\n",
      "Finished Docking ('Zotatifin_', 'O60573') in 240.357105017\n",
      "Finished Docking ('Bafilomycin_A1', 'Q15904') in 150.191439152\n",
      "Finished Docking ('Zotatifin_', 'Q15056') in 240.384799004\n",
      "Finished Docking ('Sanglifehrin_A', 'P12268') in 1232.63981199\n",
      "Finished Docking ('E_52862', 'Q99720') in 90.1774930954\n",
      "Finished Docking ('Entacapone', 'P21964') in 90.1688079834\n",
      "Finished Docking ('Apicidin', 'Q92769') in 330.586919069\n",
      "Finished Docking ('Haloperidol', 'Q99720') in 90.1698760986\n",
      "Finished Docking ('Haloperidol', 'Q5BJF2') in 90.1754088402\n",
      "Finished Docking ('Metformin', 'Q9Y6M9') in 30.0726020336\n",
      "Finished Docking ('H_89', 'P17612') in 150.380228996\n",
      "Finished Docking ('Metformin', 'Q8N183') in 30.0798609257\n",
      "Error 1\n",
      "cmd: nice smina -r /home/sdw95/3D_SARS2/Data/Undocked_Structures/Q7KZI7_3IEC_A.pdb -l /home/sdw95/3D_SARS2/Data/Ligands/Midostaurin.pdb --autobox_ligand /home/sdw95/3D_SARS2/Data/Undocked_Structures/Q7KZI7_3IEC_A.pdb --autobox_add 10 -o /home/sdw95/3D_SARS2/Data/Docked_Ligands/sub_batches/Q7KZI7_Midostaurin_3_in_progress.pdb --exhaustiveness 40 --num_modes 1000 --cpu 5 --seed 3\n",
      "RunTime: 30.0791211128\n",
      "\n",
      "Error 1\n",
      "cmd: nice smina -r /home/sdw95/3D_SARS2/Data/Undocked_Structures/P27448_2QNJ_A.pdb -l /home/sdw95/3D_SARS2/Data/Ligands/Midostaurin.pdb --autobox_ligand /home/sdw95/3D_SARS2/Data/Undocked_Structures/P27448_2QNJ_A.pdb --autobox_add 10 -o /home/sdw95/3D_SARS2/Data/Docked_Ligands/sub_batches/P27448_Midostaurin_3_in_progress.pdb --exhaustiveness 40 --num_modes 1000 --cpu 5 --seed 3\n",
      "RunTime: 30.0661711693\n",
      "\n",
      "Finished Docking ('Merimepodib', 'P12268') in 150.366580963\n",
      "Finished Docking ('Migalastat', 'P06280') in 30.0876479149\n",
      "Finished Docking ('Mycophenolic_acid', 'P12268') in 90.1731419563\n",
      "Finished Docking ('PB28', 'Q99720') in 90.1806750298\n",
      "Finished Docking ('PB28', 'Q5BJF2') in 90.184855938\n",
      "Finished Docking ('PD_144418', 'Q99720') in 60.1228809357\n",
      "Finished Docking ('Ribavirin', 'P12268') in 60.1104290485\n",
      "Finished Docking ('Ruxolitinib', 'Q7KZI7') in 90.1518859863\n",
      "Finished Docking ('Ruxolitinib', 'P27448') in 90.1579890251\n",
      "Finished Docking ('Ponatinib', 'Q13546') in 180.402276993\n",
      "Finished Docking ('RS_PPCC', 'Q99720') in 120.27017498\n",
      "Finished Docking ('Silmitasertib_', 'P19784') in 90.2364590168\n",
      "Finished Docking ('TMCB', 'P19784') in 60.1717619896\n",
      "Finished Docking ('Valproic_Acid', 'Q92769') in 60.1675040722\n",
      "Error 1\n",
      "cmd: nice smina -r /home/sdw95/3D_SARS2/Data/Undocked_Structures/Q9H773_343f792499fe2ee667308c91dba97ffb.pdb -l /home/sdw95/3D_SARS2/Data/Ligands/ZINC1775962367.pdb --autobox_ligand /home/sdw95/3D_SARS2/Data/Undocked_Structures/Q9H773_343f792499fe2ee667308c91dba97ffb.pdb --autobox_add 10 -o /home/sdw95/3D_SARS2/Data/Docked_Ligands/sub_batches/Q9H773_ZINC1775962367_3_in_progress.pdb --exhaustiveness 40 --num_modes 1000 --cpu 5 --seed 3\n",
      "RunTime: 30.0983691216\n",
      "\n",
      "Error 1\n",
      "cmd: nice smina -r /home/sdw95/3D_SARS2/Data/Undocked_Structures/Q9H773_343f792499fe2ee667308c91dba97ffb.pdb -l /home/sdw95/3D_SARS2/Data/Ligands/ZINC4326719.pdb --autobox_ligand /home/sdw95/3D_SARS2/Data/Undocked_Structures/Q9H773_343f792499fe2ee667308c91dba97ffb.pdb --autobox_add 10 -o /home/sdw95/3D_SARS2/Data/Docked_Ligands/sub_batches/Q9H773_ZINC4326719_3_in_progress.pdb --exhaustiveness 40 --num_modes 1000 --cpu 5 --seed 3\n",
      "RunTime: 30.0750229359\n",
      "\n",
      "\n",
      "Docking Iteration 4\n"
     ]
    },
    {
     "data": {
      "application/vnd.jupyter.widget-view+json": {
       "model_id": "35db40f27fc9412bbdbdc6dfcd83b63e",
       "version_major": 2,
       "version_minor": 0
      },
      "text/plain": [
       "HBox(children=(IntProgress(value=0, max=76), HTML(value=u'')))"
      ]
     },
     "metadata": {},
     "output_type": "display_data"
    },
    {
     "name": "stdout",
     "output_type": "stream",
     "text": [
      "Q9Y680\n",
      "Q9Y680\n",
      "18/|/ 24%|| 18/76 [00:20<01:04,  1.11s/it]Error 1\n",
      "cmd: nice smina -r /home/sdw95/3D_SARS2/Data/Undocked_Structures/Q9H773_343f792499fe2ee667308c91dba97ffb.pdb -l /home/sdw95/3D_SARS2/Data/Ligands/ZINC4511851.pdb --autobox_ligand /home/sdw95/3D_SARS2/Data/Undocked_Structures/Q9H773_343f792499fe2ee667308c91dba97ffb.pdb --autobox_add 10 -o /home/sdw95/3D_SARS2/Data/Docked_Ligands/sub_batches/Q9H773_ZINC4511851_3_in_progress.pdb --exhaustiveness 40 --num_modes 1000 --cpu 5 --seed 3\n",
      "RunTime: 30.1908299923\n",
      "\n",
      "Finished Docking ('Chloroquine', 'Q99720') in 90.2101309299\n",
      "Error 1\n",
      "cmd: nice smina -r /home/sdw95/3D_SARS2/Data/Undocked_Structures/Q8TEM1_f9f9fdc761e4f6082b496b5c06f0778e.pdb -l /home/sdw95/3D_SARS2/Data/Ligands/Verdinexor.pdb --autobox_ligand /home/sdw95/3D_SARS2/Data/Undocked_Structures/Q8TEM1_f9f9fdc761e4f6082b496b5c06f0778e.pdb --autobox_add 10 -o /home/sdw95/3D_SARS2/Data/Docked_Ligands/sub_batches/Q8TEM1_Verdinexor_4_in_progress.pdb --exhaustiveness 40 --num_modes 1000 --cpu 5 --seed 4\n",
      "RunTime: 30.0424230099\n",
      "\n",
      "Finished Docking ('ZINC95559591', 'P27448') in 180.418400049\n",
      "Finished Docking ('Verdinexor', 'Q99567') in 180.30642581\n",
      "Finished Docking ('Verdinexor', 'P78406') in 180.32416296\n"
     ]
    }
   ],
   "source": [
    "# Run Ligand Docking in Loop\n",
    "# For the setup here we want to run N different docking trials for each drug-target pair\n",
    "# producing up to 1000 docked conformations for each trial. We will then merge the results\n",
    "# from all trials and retain the top N poses overall.\n",
    "#\n",
    "# Conceptually there should be no difference between repeating the same job N times, vs.\n",
    "# just changing the exhaustiveness parameter to N*exhaustiveness (and possibly upping the\n",
    "# num_mores parameter as well). We just do it in separate jobs here so that the results\n",
    "# for each drug-target pair come in evenly.\n",
    "#\n",
    "# NOTE: I think the setup here might not be 100% safe for the server. While it's running\n",
    "#       I start getting too many files open errors. (Mainly seems to break the running\n",
    "#       JuPyter server)\n",
    "\n",
    "i_num = 1\n",
    "finished_processes = []\n",
    "processes = []\n",
    "\n",
    "max_processes = 5\n",
    "# For this setup we will do 10 trials per drug-target pair. This could be set arbitrarilly\n",
    "# high or low. From past experience, a single trial should be sufficient to obtain good docking\n",
    "# results. We only increase the number of trials here for added roubustness.\n",
    "for i_num in range(10):\n",
    "    print \"Docking Iteration\", i_num\n",
    "    \n",
    "    # Iterate over all Docking Inputs\n",
    "    for drug, uni in tqdm_notebook(drug_pairs[~pd.isnull(drug_pairs[\"Human ID\"])][[\"Compound Name\", \"Human ID\"]].values):\n",
    "        # If this drug-target pair has already been docked on this iteration in the past, just skip it\n",
    "        if(os.path.exists(\"{0}/Data/Docked_Ligands/sub_batches/{1}_{2}_{3}.pdb\".format(base_dir, uni, drug, i_num))):\n",
    "            continue\n",
    "        \n",
    "        # Grab Drug PDB\n",
    "        drug = drug.replace(\"-\", \"_\").replace(\" \", \"_\").split(\"(\")[0]\n",
    "        drug_f = glob.glob(\"{0}/Data/Ligands/{1}*\".format(base_dir, drug))[0]\n",
    "        \n",
    "        # Try to Grab Human PDB\n",
    "        try:\n",
    "            uni_f = glob.glob(\"{0}/Data/Undocked_Structures/{1}*\".format(base_dir, uni))[0]\n",
    "        except IndexError:\n",
    "            print uni\n",
    "            continue\n",
    "        \n",
    "        # Check coverage of selected Human PDB\n",
    "        # NOTE: Assumes only one Human Structure available for\n",
    "        #       each protein\n",
    "        total_len = len(uni2seq[uni])\n",
    "        resi_covered = models[models[\"ID\"] == uni][\"Resi_Covered\"].map(lambda x: len(unzip_res_range(x))).values[0]\n",
    "        coverage = resi_covered / float(total_len)\n",
    "        \n",
    "        # If coverage is low, do not attempt docking\n",
    "        # (would be inaccurate / bias predicted binding site)\n",
    "        if(not coverage >= 0.33):\n",
    "            continue\n",
    "        \n",
    "        # Block new jobs if too many running already\n",
    "        while(True):\n",
    "            # If fewer than N (5) jobs running currently, submit next docking job\n",
    "            if(len(processes) <= max_processes):\n",
    "                cmd = \"nice smina -r {0} -l {1} --autobox_ligand {0} --autobox_add 10 -o {2}/Data/Docked_Ligands/sub_batches/{3}_{4}_{5}_in_progress.pdb --exhaustiveness 40 --num_modes 1000 --cpu 5 --seed {5}\".format(uni_f, drug_f, base_dir, uni, drug, i_num)\n",
    "                p = sp.Popen(cmd, shell=True)\n",
    "                processes.append({\"p\":p, \"cmd\":cmd, \"start_time\":time.time(), \"end_time\":None, \"in\":(drug, uni), \"out_f\":\"{0}/Data/Docked_Ligands/sub_batches/{1}_{2}_{3}_in_progress.pdb\".format(base_dir, uni, drug, i_num)})\n",
    "                break\n",
    "            \n",
    "            # Otherwise wait until previous jobs have finished before starting a new docking job\n",
    "            else:\n",
    "                # Sleep for 30 seconds to give processes a change to finish\n",
    "                time.sleep(30)\n",
    "                \n",
    "                # List of actively running processes (to be built)\n",
    "                new_processes = []\n",
    "                \n",
    "                # Iterate over current process list\n",
    "                for p in processes:\n",
    "                    # If the process hasn't exited yet add it back\n",
    "                    # into the list\n",
    "                    if(p[\"p\"].poll() is None):\n",
    "                        new_processes.append(p)\n",
    "                    # Otherwise, if exit code indicates and error\n",
    "                    # print out error message\n",
    "                    elif(p[\"p\"].poll() != 0):\n",
    "                        p[\"end_time\"] = time.time()\n",
    "                        print \"Error\", p[\"p\"].poll()\n",
    "                        print \"cmd:\", p[\"cmd\"]\n",
    "                        print \"RunTime:\", (p[\"end_time\"] - p[\"start_time\"])\n",
    "                        print\n",
    "                        finished_processes.append(p)\n",
    "                    # otherwise, process finished successfully\n",
    "                    # Print out total run-time\n",
    "                    else:\n",
    "                        p[\"end_time\"] = time.time()\n",
    "                        print \"Finished Docking\", p[\"in\"], \"in\", (p[\"end_time\"] - p[\"start_time\"])\n",
    "                        os.system(\"mv {0} {1}\".format(p[\"out_f\"], p[\"out_f\"].replace(\"_in_progress\", \"\")))\n",
    "                        finished_processes.append(p)\n",
    "                \n",
    "                # Update active process list\n",
    "                processes = new_processes"
   ]
  },
  {
   "cell_type": "code",
   "execution_count": 63,
   "metadata": {},
   "outputs": [
    {
     "name": "stdout",
     "output_type": "stream",
     "text": [
      "Finished Docking ('Sanglifehrin_A', 'P12268') in 1239.91199112\n",
      "Finished Docking ('Ponatinib', 'Q13546') in 608.596369028\n",
      "Finished Docking ('Valproic_Acid', 'Q92769') in 488.308521032\n",
      "Error 1\n",
      "cmd: nice smina -r /home/sdw95/3D_SARS2/Data/Undocked_Structures/Q9H773_343f792499fe2ee667308c91dba97ffb.pdb -l /home/sdw95/3D_SARS2/Data/Ligands/ZINC4326719.pdb --autobox_ligand /home/sdw95/3D_SARS2/Data/Undocked_Structures/Q9H773_343f792499fe2ee667308c91dba97ffb.pdb --autobox_add 10 -o /home/sdw95/3D_SARS2/Data/Docked_Ligands/sub_batches/Q9H773_ZINC4326719_9_in_progress.pdb --exhaustiveness 40 --num_modes 1000 --cpu 5 --seed 9\n",
      "RunTime: 458.229407072\n",
      "\n",
      "Error 1\n",
      "cmd: nice smina -r /home/sdw95/3D_SARS2/Data/Undocked_Structures/Q9H773_343f792499fe2ee667308c91dba97ffb.pdb -l /home/sdw95/3D_SARS2/Data/Ligands/ZINC4511851.pdb --autobox_ligand /home/sdw95/3D_SARS2/Data/Undocked_Structures/Q9H773_343f792499fe2ee667308c91dba97ffb.pdb --autobox_add 10 -o /home/sdw95/3D_SARS2/Data/Docked_Ligands/sub_batches/Q9H773_ZINC4511851_9_in_progress.pdb --exhaustiveness 40 --num_modes 1000 --cpu 5 --seed 9\n",
      "RunTime: 458.21669507\n",
      "\n",
      "Finished Docking ('ZINC95559591', 'P27448') in 458.198688984\n"
     ]
    }
   ],
   "source": [
    "# Iterate over remaining processes to finish\n",
    "# NOTE: The main reason this is necessary is because I rename\n",
    "#       the output file after the process is fully done.\n",
    "while(processes):\n",
    "    # Sleep for 30 seconds to give processes a change to finish\n",
    "    time.sleep(30)\n",
    "    \n",
    "    # List of actively running processes (to be built)\n",
    "    new_processes = []\n",
    "    \n",
    "    # Iterate over current process list\n",
    "    for p in processes:\n",
    "        # If the process hasn't exited yet add it back\n",
    "        # into the list\n",
    "        if(p[\"p\"].poll() is None):\n",
    "            new_processes.append(p)\n",
    "        # Otherwise, if exit code indicates and error\n",
    "        # print out error message\n",
    "        elif(p[\"p\"].poll() != 0):\n",
    "            p[\"end_time\"] = time.time()\n",
    "            print \"Error\", p[\"p\"].poll()\n",
    "            print \"cmd:\", p[\"cmd\"]\n",
    "            print \"RunTime:\", (p[\"end_time\"] - p[\"start_time\"])\n",
    "            print\n",
    "            finished_processes.append(p)\n",
    "        # otherwise, process finished successfully\n",
    "        # Print out total run-time\n",
    "        else:\n",
    "            p[\"end_time\"] = time.time()\n",
    "            print \"Finished Docking\", p[\"in\"], \"in\", (p[\"end_time\"] - p[\"start_time\"])\n",
    "            os.system(\"mv {0} {1}\".format(p[\"out_f\"], p[\"out_f\"].replace(\"_in_progress\", \"\")))\n",
    "            finished_processes.append(p)\n",
    "    \n",
    "    # Update active process list\n",
    "    processes = new_processes"
   ]
  },
  {
   "cell_type": "code",
   "execution_count": 74,
   "metadata": {},
   "outputs": [],
   "source": [
    "# Kill everything left just in case\n",
    "for p in finished_processes:\n",
    "    try:\n",
    "        p[\"p\"].terminate()\n",
    "    except:\n",
    "        pass"
   ]
  },
  {
   "cell_type": "code",
   "execution_count": null,
   "metadata": {},
   "outputs": [],
   "source": []
  },
  {
   "cell_type": "code",
   "execution_count": 68,
   "metadata": {},
   "outputs": [
    {
     "data": {
      "application/vnd.jupyter.widget-view+json": {
       "model_id": "b1796c4cd4cc405697fc71f8f485a10f",
       "version_major": 2,
       "version_minor": 0
      },
      "text/plain": [
       "HBox(children=(IntProgress(value=0, max=76), HTML(value=u'')))"
      ]
     },
     "metadata": {},
     "output_type": "display_data"
    },
    {
     "name": "stdout",
     "output_type": "stream",
     "text": [
      "\n"
     ]
    }
   ],
   "source": [
    "# Parse Ligand Docking Results\n",
    "#\n",
    "# Reads in all docking results from N independent trials and creates\n",
    "# a ranked poses describing the top 100 scoring poses accross all\n",
    "# trials for each drug-target pair. Also creates a single .pdb under\n",
    "# docked_ligands that contains these 100 top poses in one .pdb\n",
    "#\n",
    "for drug, uni in tqdm_notebook(drug_pairs[~pd.isnull(drug_pairs[\"Human ID\"])][[\"Compound Name\", \"Human ID\"]].values):\n",
    "    # Parse Inputs\n",
    "    drug = drug.replace(\"-\", \"_\").replace(\" \", \"_\").split(\"(\")[0]\n",
    "    drug_f = glob.glob(\"{0}/Data/Ligands/{1}*\".format(base_dir, drug))[0]\n",
    "    \n",
    "    try:\n",
    "        uni_f = glob.glob(\"{0}/Data/Undocked_Structures/{1}*\".format(base_dir, uni))[0]\n",
    "    except IndexError:\n",
    "        continue\n",
    "    \n",
    "    # Load all docking sub-batches\n",
    "    outs = glob.glob(\"{0}/Data/Docked_Ligands/sub_batches/{1}_{2}_*.pdb\".format(base_dir, uni, drug))\n",
    "    \n",
    "    if(len(outs) == 0):\n",
    "        continue\n",
    "    \n",
    "    # Read in all docked poses\n",
    "    model2data = dict()\n",
    "    for out in outs:\n",
    "        with open(out, \"r\") as f:\n",
    "            for l in f:\n",
    "                if(l[:6] == \"MODEL \"):\n",
    "                    model = (out, int(l.strip().split()[-1]))\n",
    "                    lines = [\"MODELSTART\\n\"]\n",
    "                    socre = 0\n",
    "                    centroid = np.zeros(3)\n",
    "                    n_atoms = 0\n",
    "                elif(l[:6] == \"REMARK\"):\n",
    "                    score = float(l.strip().split()[-1])\n",
    "                    lines.append(l)\n",
    "                elif(l[:6] == \"COMPND\"):\n",
    "                    lines.append(l.replace(\"UNNAMED\", drug.upper()))\n",
    "                elif(l[:6] == \"HETATM\"):\n",
    "                    lines.append(l)\n",
    "                    centroid += np.array([float(l[30:38]), float(l[38:46]), float(l[46:54])])\n",
    "                    n_atoms += 1\n",
    "                elif(l[:6] == \"END   \"):\n",
    "                    lines.append(l)\n",
    "                elif(l[:6] == \"ENDMDL\"):\n",
    "                    lines.append(l)\n",
    "                    model2data[model] = (lines, score, centroid / float(n_atoms))\n",
    "                else:\n",
    "                    pass\n",
    "    \n",
    "    # Select top poses from \"distinct\" binding sites\n",
    "    #out = open(\"Data/Docked_Ligands/{0}_{1}.pdb\".format(uni, drug), \"w+\")\n",
    "    model_num = 1\n",
    "    cur_centroids = []\n",
    "    out = open(\"{0}/Data/Docked_Ligands/{1}_{2}.pdb\".format(base_dir, uni, drug), \"w+\")\n",
    "    for k, v in sorted(model2data.iteritems(), key=lambda (k, v): v[1]):\n",
    "        if(len(cur_centroids) == 0):\n",
    "            out2 = open(\"{0}/Data/Docked_Ligands/ranked_poses/{1}_{2}_{3}.pdb\".format(base_dir, uni, drug, model_num), \"w+\")\n",
    "            out.write(\"\".join(v[0]).replace(\"MODELSTART\", \"MODEL{0:>9}\".format(model_num)))\n",
    "            out2.write(\"\".join(v[0]).replace(\"MODELSTART\", \"MODEL{0:>9}\".format(model_num)))\n",
    "            out2.close()\n",
    "            model_num += 1\n",
    "            cur_centroids.append(v[2])\n",
    "        elif(min([distance.euclidean(v[2], x) for x in cur_centroids]) >= 1):\n",
    "            out2 = open(\"{0}/Data/Docked_Ligands/ranked_poses/{1}_{2}_{3}.pdb\".format(base_dir, uni, drug, model_num), \"w+\")\n",
    "            out.write(\"\".join(v[0]).replace(\"MODELSTART\", \"MODEL{0:>9}\".format(model_num)))\n",
    "            out2.write(\"\".join(v[0]).replace(\"MODELSTART\", \"MODEL{0:>9}\".format(model_num)))\n",
    "            out2.close()\n",
    "            model_num += 1\n",
    "            cur_centroids.append(v[2])\n",
    "        if(model_num > 100):\n",
    "            break\n",
    "    out.close()"
   ]
  },
  {
   "cell_type": "code",
   "execution_count": null,
   "metadata": {},
   "outputs": [],
   "source": []
  },
  {
   "cell_type": "code",
   "execution_count": 32,
   "metadata": {},
   "outputs": [],
   "source": [
    "if(not os.path.exists(\"{0}/Data/Docked_Ligands/For_Website/\".format(base_dir))):\n",
    "    os.mkdir(\"{0}/Data/Docked_Ligands/For_Website/\".format(base_dir))"
   ]
  },
  {
   "cell_type": "code",
   "execution_count": 19,
   "metadata": {},
   "outputs": [],
   "source": [
    "# List of drug name replacements to make\n",
    "# (For website its for some reason more convenient\n",
    "#  to have the file formatted to exactly match the drug\n",
    "#  name in the drugs file)\n",
    "rename = [[\"Zotatifin.pdb\", \"Zotatifin (eFT226).pdb\"],\n",
    "          [\"E_52862.pdb\", \"E-52862.pdb\"],\n",
    "          [\"Silmitasertib_.pdb\", \"Silmitasertib.pdb\"],\n",
    "          [\"Bafilomycin_A1.pdb\", \"Bafilomycin A1.pdb\"],\n",
    "          [\"PD_144418.pdb\", \"PD-144418.pdb\"],\n",
    "          [\"Mycophenolic_acid.pdb\", \"Mycophenolic acid.pdb\"],\n",
    "          [\"RS_PPCC.pdb\", \"RS-PPCC.pdb\"],\n",
    "          [\"Sanglifehrin_A.pdb\", \"Sanglifehrin A.pdb\"],\n",
    "          [\"H_89.pdb\", \"H-89.pdb\"]]\n",
    "\n",
    "# Iterate over all top-ranked ligand poses\n",
    "for dock in glob.glob(\"{0}/Data/Docked_Ligands/ranked_poses/*_1.pdb\".format(base_dir)):\n",
    "    # Read in ligand PDB convert chain to C\n",
    "    lig_pdb = my.pdb2df(dock)\n",
    "    #lig_pdb[\"Data Type\"] = \"ATOM\"\n",
    "    lig_pdb[\"Chain\"] = \"C\"\n",
    "    \n",
    "    # Identify receptor PDB and read in\n",
    "    prot_f = glob.glob(\"{0}/Data/Undocked_Structures/{1}_*\".format(base_dir, os.path.basename(dock).split(\"_\")[0]))[0]\n",
    "    prot_pdb = my.pdb2df(prot_f)\n",
    "    \n",
    "    # Concatenate the two PDBs\n",
    "    merged_pdb = pd.concat([prot_pdb, lig_pdb])\n",
    "    \n",
    "    # Pull out original connectivity lines from the raw ligand PDB\n",
    "    # (These lines are lost in the extraction process)\n",
    "    orig_f = dock.replace(\"ranked_poses\", \"sub_batches\".replace(\".pdb\", \"_0.pdb\"))\n",
    "    #orig_f = \"{0}/Data/Ligands/{1}.pdb\".format(base_dir, \"_\".join(dock.split(\"/\")[-1].split(\"_\")[1:-1]))\n",
    "    #print orig_f\n",
    "    keep_lines = []\n",
    "    with open(orig_f) as f:\n",
    "        for l in f:\n",
    "            if(not (\"COMPND\" in l or \"AUTHOR\" in l or \"HETATM\" in l or \"REMARK\" in l or \"MODEL\" in l)):\n",
    "                keep_lines.append(l.strip())\n",
    "            if(\"END\" in l):\n",
    "                break\n",
    "    # Write parsed website-ready PDB files\n",
    "    website_f = \"{0}/Data/Docked_Ligands/For_Website/{1}\".format(base_dir, os.path.basename(dock).replace(\"__\", \"_\").replace(\"_1.pdb\", \".pdb\"))\n",
    "    for s1, s2 in rename:\n",
    "        website_f = website_f.replace(s1, s2)\n",
    "    #print website_f\n",
    "    my.df2pdb(website_f, merged_pdb)\n",
    "    with open(website_f, \"a+\") as out:\n",
    "        out.write(\"\\n\".join(keep_lines))"
   ]
  },
  {
   "cell_type": "code",
   "execution_count": 14,
   "metadata": {
    "scrolled": true
   },
   "outputs": [
    {
     "data": {
      "text/plain": [
       "'/home/sdw95/3D_SARS2/Data/Docked_Ligands/ranked_poses/Q99720_PB28_1.pdb'"
      ]
     },
     "execution_count": 14,
     "metadata": {},
     "output_type": "execute_result"
    }
   ],
   "source": [
    "dock"
   ]
  },
  {
   "cell_type": "code",
   "execution_count": 13,
   "metadata": {},
   "outputs": [
    {
     "name": "stdout",
     "output_type": "stream",
     "text": [
      "HETATM   19  N   UNL     1     -31.780  17.819 -20.478  1.00  0.00           N  \r\n",
      "HETATM   20  H   UNL     1     -32.593  18.276 -20.791  1.00  0.00           H  \r\n",
      "HETATM   21  C   UNL     1     -31.330  16.703 -21.225  1.00  0.00           C  \r\n",
      "HETATM   22  C   UNL     1     -30.028  16.214 -21.051  1.00  0.00           C  \r\n",
      "HETATM   23  C   UNL     1     -29.587  15.083 -21.749  1.00  0.00           C  \r\n",
      "HETATM   24  C   UNL     1     -30.453  14.409 -22.608  1.00  0.00           C  \r\n",
      "HETATM   25  C   UNL     1     -31.760  14.864 -22.759  1.00  0.00           C  \r\n",
      "HETATM   26 CL   UNL     1     -32.844  14.021 -23.795  1.00  0.00          Cl  \r\n",
      "HETATM   27  C   UNL     1     -32.199  15.992 -22.067  1.00  0.00           C  \r\n",
      "CONECT    1   16    2    6                                            \r\n",
      "CONECT    2    1    3                                                 \r\n",
      "CONECT    3    2    4                                                 \r\n",
      "CONECT    4    3    5   14                                            \r\n",
      "CONECT    5    4    6    7                                            \r\n",
      "CONECT    6    1    5                                                 \r\n",
      "CONECT    7    5    8                                                 \r\n",
      "CONECT    8    7   19    9                                            \r\n",
      "CONECT    9    8   10   14                                            \r\n",
      "CONECT   10    9   11                                                 \r\n",
      "CONECT   11   10   12                                                 \r\n",
      "CONECT   12   11   13                                                 \r\n",
      "CONECT   13   12   14                                                 \r\n",
      "CONECT   14    4    9   13                                            \r\n",
      "CONECT   15   16                                                      \r\n",
      "CONECT   16   15   17    1                                            \r\n",
      "CONECT   17   16   18                                                 \r\n",
      "CONECT   18   17                                                      \r\n",
      "CONECT   19    8   21   20                                            \r\n",
      "CONECT   20   19                                                      \r\n",
      "CONECT   21   19   22   27                                            \r\n",
      "CONECT   22   21   23                                                 \r\n",
      "CONECT   23   22   24                                                 \r\n",
      "CONECT   24   23   25                                                 \r\n",
      "CONECT   25   24   26   27                                            \r\n",
      "CONECT   26   25                                                      \r\n",
      "CONECT   27   21   25                                                 \r\n",
      "MASTER        0    0    0    0    0    0    0    0   27    0   27    0\r\n",
      "END\r\n",
      "ENDMDL\r\n",
      "MODEL       77\r\n",
      "REMARK minimizedAffinity -7.98092031\r\n",
      "COMPND    UNNAMED\r\n",
      "AUTHOR    GENERATED BY OPEN BABEL 2.3.90\r\n",
      "HETATM    1  C   UNL     1     -11.375  -6.317 -24.802  1.00  0.00           C  \r\n",
      "HETATM    2  C   UNL     1     -12.277  -6.157 -23.754  1.00  0.00           C  \r\n",
      "HETATM    3  C   UNL     1     -12.577  -7.251 -22.937  1.00  0.00           C  \r\n",
      "HETATM    4  C   UNL     1     -11.976  -8.522 -23.144  1.00  0.00           C  \r\n",
      "HETATM    5  C   UNL     1     -11.077  -8.656 -24.217  1.00  0.00           C  \r\n",
      "HETATM    6  C   UNL     1     -10.780  -7.563 -25.014  1.00  0.00           C  \r\n",
      "HETATM    7  N   UNL     1     -10.480  -9.808 -24.523  1.00  0.00           N  \r\n",
      "HETATM    8  C   UNL     1     -10.708 -10.911 -23.782  1.00  0.00           C  \r\n",
      "HETATM    9  C   UNL     1     -11.546 -10.895 -22.652  1.00  0.00           C  \r\n",
      "HETATM   10  C   UNL     1     -11.789 -12.032 -21.849  1.00  0.00           C  \r\n",
      "HETATM   11  C   UNL     1     -12.656 -11.940 -20.777  1.00  0.00           C  \r\n",
      "HETATM   12  N   UNL     1     -13.301 -10.810 -20.448  1.00  0.00           N  \r\n",
      "HETATM   13  C   UNL     1     -13.065  -9.727 -21.227  1.00  0.00           C  \r\n",
      "HETATM   14  C   UNL     1     -12.205  -9.685 -22.340  1.00  0.00           C  \r\n",
      "HETATM   15  O   UNL     1     -10.867  -5.307 -26.891  1.00  0.00           O  \r\n",
      "HETATM   16  C   UNL     1     -10.971  -5.195 -25.683  1.00  0.00           C  \r\n",
      "HETATM   17  O   UNL     1     -10.760  -4.035 -25.027  1.00  0.00           O  \r\n",
      "HETATM   18  H   UNL     1     -10.853  -4.001 -24.095  1.00  0.00           H  \r\n",
      "HETATM   19  N   UNL     1     -10.056 -12.111 -24.168  1.00  0.00           N  \r\n",
      "HETATM   20  H   UNL     1     -10.622 -12.867 -24.445  1.00  0.00           H  \r\n",
      "HETATM   21  C   UNL     1      -8.653 -12.304 -24.185  1.00  0.00           C  \r\n",
      "HETATM   22  C   UNL     1      -8.015 -12.747 -25.351  1.00  0.00           C  \r\n",
      "HETATM   23  C   UNL     1      -6.623 -12.896 -25.394  1.00  0.00           C  \r\n",
      "HETATM   24  C   UNL     1      -5.850 -12.576 -24.280  1.00  0.00           C  \r\n",
      "HETATM   25  C   UNL     1      -6.471 -12.099 -23.130  1.00  0.00           C  \r\n",
      "HETATM   26 CL   UNL     1      -5.521 -11.673 -21.759  1.00  0.00          Cl  \r\n",
      "HETATM   27  C   UNL     1      -7.856 -11.952 -23.084  1.00  0.00           C  \r\n",
      "CONECT    1   16    2    6                                            \r\n",
      "CONECT    2    1    3                                                 \r\n",
      "CONECT    3    2    4                                                 \r\n",
      "CONECT    4    3    5   14                                            \r\n",
      "CONECT    5    4    6    7                                            \r\n",
      "CONECT    6    1    5                                                 \r\n",
      "CONECT    7    5    8                                                 \r\n",
      "CONECT    8    7   19    9                                            \r\n",
      "CONECT    9    8   10   14                                            \r\n",
      "CONECT   10    9   11                                                 \r\n",
      "CONECT   11   10   12                                                 \r\n",
      "CONECT   12   11   13                                                 \r\n",
      "CONECT   13   12   14                                                 \r\n",
      "CONECT   14    4    9   13                                            \r\n",
      "CONECT   15   16                                                      \r\n",
      "CONECT   16   15   17    1                                            \r\n",
      "CONECT   17   16   18                                                 \r\n",
      "CONECT   18   17                                                      \r\n",
      "CONECT   19    8   21   20                                            \r\n",
      "CONECT   20   19                                                      \r\n",
      "CONECT   21   19   22   27                                            \r\n",
      "CONECT   22   21   23                                                 \r\n",
      "CONECT   23   22   24                                                 \r\n",
      "CONECT   24   23   25                                                 \r\n",
      "CONECT   25   24   26   27                                            \r\n",
      "CONECT   26   25                                                      \r\n",
      "CONECT   27   21   25                                                 \r\n",
      "MASTER        0    0    0    0    0    0    0    0   27    0   27    0\r\n",
      "END\r\n",
      "ENDMDL\r\n"
     ]
    }
   ],
   "source": [
    "!tail -n 100 /home/sdw95/3D_SARS2/Data/Docked_Ligands/sub_batches/P19784_Silmitasertib__0.pdb"
   ]
  },
  {
   "cell_type": "code",
   "execution_count": 41,
   "metadata": {},
   "outputs": [],
   "source": []
  },
  {
   "cell_type": "code",
   "execution_count": null,
   "metadata": {},
   "outputs": [],
   "source": []
  },
  {
   "cell_type": "code",
   "execution_count": 44,
   "metadata": {},
   "outputs": [],
   "source": []
  },
  {
   "cell_type": "code",
   "execution_count": 19,
   "metadata": {},
   "outputs": [
    {
     "name": "stdout",
     "output_type": "stream",
     "text": [
      "CONECT   20   19   21                                                 \r\n",
      "CONECT   21   20   16                                                 \r\n",
      "CONECT   22   19   23   27                                            \r\n",
      "CONECT   23   22   24                                                 \r\n",
      "CONECT   24   23   25                                                 \r\n",
      "CONECT   25   24   26                                                 \r\n",
      "CONECT   26   25   27                                                 \r\n",
      "CONECT   27   26   22                                                 \r\n",
      "MASTER        0    0    0    0    0    0    0    0   27    0   27    0\r\n",
      "END\r\n"
     ]
    }
   ],
   "source": [
    "!tail /home/sdw95/3D_SARS2/Data/Ligands/PB28.pdb\n"
   ]
  },
  {
   "cell_type": "code",
   "execution_count": null,
   "metadata": {},
   "outputs": [],
   "source": []
  },
  {
   "cell_type": "code",
   "execution_count": 77,
   "metadata": {},
   "outputs": [
    {
     "data": {
      "application/vnd.jupyter.widget-view+json": {
       "model_id": "8fa99e924c2345fdb325272abcc66b5b",
       "version_major": 2,
       "version_minor": 0
      },
      "text/plain": [
       "HBox(children=(IntProgress(value=0, max=76), HTML(value=u'')))"
      ]
     },
     "metadata": {},
     "output_type": "display_data"
    },
    {
     "name": "stdout",
     "output_type": "stream",
     "text": [
      "\n"
     ]
    }
   ],
   "source": [
    "# Parse Ligand Docking Results\n",
    "#\n",
    "# Read in all scores accross all trials for each drug-target pair\n",
    "#\n",
    "pair2scores = dict()\n",
    "for drug, uni in tqdm_notebook(drug_pairs[~pd.isnull(drug_pairs[\"Human ID\"])][[\"Compound Name\", \"Human ID\"]].values):\n",
    "    # Parse Inputs\n",
    "    drug = drug.replace(\"-\", \"_\").replace(\" \", \"_\").split(\"(\")[0]\n",
    "    drug_f = glob.glob(\"{0}/Data/Ligands/{1}*\".format(base_dir, drug))[0]\n",
    "    \n",
    "    try:\n",
    "        uni_f = glob.glob(\"{0}/Data/Undocked_Structures/{1}*\".format(base_dir, uni))[0]\n",
    "    except IndexError:\n",
    "        continue\n",
    "    \n",
    "    # Load all docking sub-batches\n",
    "    outs = glob.glob(\"{0}/Data/Docked_Ligands/sub_batches/{1}_{2}_*.pdb\".format(base_dir, uni, drug))\n",
    "    \n",
    "    if(len(outs) == 0):\n",
    "        continue\n",
    "    \n",
    "    scores = sorted(my.flatten([[float(x.split()[-1]) for x in my.call(\"grep minimizedAffinity \" + out)] for out in outs]))\n",
    "    \n",
    "    pair2scores[(drug, uni)] = scores"
   ]
  },
  {
   "cell_type": "code",
   "execution_count": null,
   "metadata": {},
   "outputs": [],
   "source": []
  },
  {
   "cell_type": "code",
   "execution_count": null,
   "metadata": {},
   "outputs": [],
   "source": []
  },
  {
   "cell_type": "code",
   "execution_count": 78,
   "metadata": {},
   "outputs": [
    {
     "name": "stdout",
     "output_type": "stream",
     "text": [
      "('Midostaurin', 'Q7KZI7')\n",
      "('Midostaurin', 'P27448')\n"
     ]
    },
    {
     "data": {
      "text/plain": [
       "{u'bodies': [<matplotlib.collections.PolyCollection at 0x2b131c8e95d0>,\n",
       "  <matplotlib.collections.PolyCollection at 0x2b131c8e9990>,\n",
       "  <matplotlib.collections.PolyCollection at 0x2b131c8e9490>],\n",
       " u'cbars': <matplotlib.collections.LineCollection at 0x2b131c4ef610>,\n",
       " u'cmaxes': <matplotlib.collections.LineCollection at 0x2b131c8e9b50>,\n",
       " u'cmins': <matplotlib.collections.LineCollection at 0x2b131d1fef50>}"
      ]
     },
     "execution_count": 78,
     "metadata": {},
     "output_type": "execute_result"
    },
    {
     "data": {
      "image/png": "[encoded data removed]",
      "text/plain": [
       "<Figure size 432x288 with 1 Axes>"
      ]
     },
     "metadata": {
      "needs_background": "light"
     },
     "output_type": "display_data"
    }
   ],
   "source": [
    "# Plot best, worst, and average score distributions\n",
    "# (visual sanity check to make sure that the scores\n",
    "#  are relatively improved for the top-scored pose)\n",
    "\n",
    "best_scores = []\n",
    "worst_scores = []\n",
    "all_scores = []\n",
    "for k in pair2scores:\n",
    "    scores = pair2scores[k]\n",
    "    if(len(scores) == 0):\n",
    "        print k\n",
    "        continue\n",
    "    #plt.plot([x / float(len(scores)) for x in range(len(scores))], scores[::-1])\n",
    "    best_scores.append(scores[0])\n",
    "    worst_scores.append(scores[-1])\n",
    "    all_scores.append(np.mean(scores))\n",
    "plt.violinplot([worst_scores, all_scores, best_scores])"
   ]
  },
  {
   "cell_type": "code",
   "execution_count": 79,
   "metadata": {},
   "outputs": [
    {
     "data": {
      "text/plain": [
       "<matplotlib.axes._subplots.AxesSubplot at 0x2b131c579350>"
      ]
     },
     "execution_count": 79,
     "metadata": {},
     "output_type": "execute_result"
    },
    {
     "data": {
      "image/png": "[encoded data removed]",
      "text/plain": [
       "<Figure size 432x288 with 1 Axes>"
      ]
     },
     "metadata": {
      "needs_background": "light"
     },
     "output_type": "display_data"
    }
   ],
   "source": [
    "sns.violinplot(data=[worst_scores, all_scores, best_scores])"
   ]
  },
  {
   "cell_type": "code",
   "execution_count": null,
   "metadata": {},
   "outputs": [],
   "source": []
  },
  {
   "cell_type": "code",
   "execution_count": 20,
   "metadata": {},
   "outputs": [],
   "source": [
    "proteins = pd.read_csv(\"../Data/Proteins.txt\", sep=\"\\t\")\n",
    "s1 = set(proteins[\"ID\"].values)\n",
    "models = pd.read_csv(\"../Data/Models.txt\", sep=\"\\t\")\n",
    "s2 = models[\"ID\"].values"
   ]
  },
  {
   "cell_type": "code",
   "execution_count": 21,
   "metadata": {},
   "outputs": [
    {
     "name": "stdout",
     "output_type": "stream",
     "text": [
      "set(['Q9Y680', 'COVID19orf3b', 'COVID19orf10', 'Q96HR9', 'COVID19orf9c', 'COVID19M', 'COVID19nsp6', 'COVID19nsp4', 'COVID19nsp2', 'Q99996', 'P49454', 'Q8NCA5', 'COVID19orf6', 'COVID19nsp11'])\n"
     ]
    }
   ],
   "source": [
    "print s1.difference(s2)"
   ]
  },
  {
   "cell_type": "code",
   "execution_count": null,
   "metadata": {},
   "outputs": [],
   "source": []
  }
 ],
 "metadata": {
  "kernelspec": {
   "display_name": "Python 2",
   "language": "python",
   "name": "python2"
  },
  "language_info": {
   "codemirror_mode": {
    "name": "ipython",
    "version": 2
   },
   "file_extension": ".py",
   "mimetype": "text/x-python",
   "name": "python",
   "nbconvert_exporter": "python",
   "pygments_lexer": "ipython2",
   "version": "2.7.15"
  }
 },
 "nbformat": 4,
 "nbformat_minor": 2
}

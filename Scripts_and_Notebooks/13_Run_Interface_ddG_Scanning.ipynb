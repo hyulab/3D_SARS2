{
 "cells": [
  {
   "cell_type": "code",
   "execution_count": 7,
   "metadata": {},
   "outputs": [],
   "source": [
    "# Set the process name to be human readable in htop\n",
    "import setproctitle\n",
    "setproctitle.setproctitle(\"13_Run_Interface_ddG_Scanning\")\n",
    "\n",
    "from config import *\n",
    "\n",
    "import pandas as pd\n",
    "pd.options.display.max_columns = 999\n",
    "\n",
    "import glob\n",
    "import os\n",
    "import time\n",
    "import scipy\n",
    "\n",
    "from tqdm import tqdm, tqdm_notebook\n",
    "from tqdm._tqdm_notebook import tqdm_notebook\n",
    "\n",
    "tqdm.pandas(tqdm_notebook)\n",
    "tqdm_notebook.pandas()\n",
    "\n",
    "from collections import defaultdict"
   ]
  },
  {
   "cell_type": "code",
   "execution_count": 5,
   "metadata": {},
   "outputs": [],
   "source": []
  },
  {
   "cell_type": "code",
   "execution_count": null,
   "metadata": {},
   "outputs": [],
   "source": []
  },
  {
   "cell_type": "markdown",
   "metadata": {},
   "source": [
    "This notebook is a wrapper to that calls a PyRosetta perform interface scanning mutagenesis across all docked interactions to predict the ddG impact of all possible mutations along the interface.\n",
    "\n",
    "\n",
    "- Inputs:\n",
    "  - Docking_Summary.txt\n",
    "  - Pop_Vars.txt\n",
    "  - [P1]\\_[P2] (Interaction Haddock Run Directory created under \"Docking_Runs\")\n",
    "\n",
    "\n",
    "- Outputs:\n",
    "  - [P1]\\_[P2]  (directory and summary logs per interaction created under ddG_Single_Mutants)\n",
    "  - Hotspot_Scored_Mutants.txt\n",
    "\n",
    "\n",
    "- Dependencies:\n",
    "  - Must be run after 05_Fetch_Population_Variants and 07_Run_PPI_Docking\n",
    "  - Calls Ires_ddG_Scanning.py"
   ]
  },
  {
   "cell_type": "code",
   "execution_count": null,
   "metadata": {},
   "outputs": [],
   "source": []
  },
  {
   "cell_type": "markdown",
   "metadata": {},
   "source": [
    "# Run ddG for Interface Scanning"
   ]
  },
  {
   "cell_type": "code",
   "execution_count": 4,
   "metadata": {},
   "outputs": [],
   "source": [
    "# Read in docking summary (we could theoretcally\n",
    "# want to calculate this value on all docking attempts\n",
    "# but for here we will just filter to the top-ranked)\n",
    "ppi_docking = pd.read_csv(\"{0}/Docking_Summary.txt\".format(output_dir), sep=\"\\t\")\n",
    "\n",
    "ppi_docking = ppi_docking[ppi_docking[\"Rank\"] == 1]"
   ]
  },
  {
   "cell_type": "code",
   "execution_count": null,
   "metadata": {},
   "outputs": [],
   "source": []
  },
  {
   "cell_type": "code",
   "execution_count": 9,
   "metadata": {},
   "outputs": [],
   "source": [
    "# Wrapper to call ires scanning script\n",
    "def run_ddg_scanning(p1, p2, pdb, mut, rank, iresA, iresB, trials, interface_cutoff, out_base=out_base):\n",
    "    #os.system(\"rm Data/ddG_Single_Mutants/Raw_Outputs/{0}_{1}/*\".format(p1, p2))\n",
    "    cmd = \"nice python Ires_ddG_Scanning.py --pdb_filename {0} --partners A_B --mutant_aa {1} --trials {2} --output True --trial_output Raw_Outputs/{7}_{8}/ddG_{3}_mut_to_{2} --iresA {4} --iresB {5} --interface_cutoff {6} --out_base {9}\".format(pdb, mut, trials, os.path.basename(pdb.split(\".\")[0]) ,iresA, iresB, interface_cutoff, p1, p2, out_base)\n",
    "    p = sp.Popen(cmd, shell=True)\n",
    "    return {\"p\":p, \"cmd\":cmd, \"start_time\":time.time(), \"end_time\":None, \"in\":(p1, p2, rank)}\n",
    "# FUNCTION END"
   ]
  },
  {
   "cell_type": "code",
   "execution_count": 14,
   "metadata": {},
   "outputs": [],
   "source": [
    "# Wrapper to call ires scanning script\n",
    "def run_ddg_scanning(p1, p2, pdb, mut, rank, iresA, iresB, trials, interface_cutoff, out_base=ddg_singles_dir):\n",
    "    #os.system(\"rm ddG_Single_Mutants/Raw_Outputs/{0}_{1}/*\".format(p1, p2))\n",
    "    cmd = \"nice python {0}/Ires_ddG_Scanning.py --pdb_filename {1} --partners A_B --mutant_aa {2} --trials {3} --output True --trial_output Raw_Outputs/{8}_{9}/ddG_{4}_mut_to_{2} --iresA {5} --iresB {6} --interface_cutoff {7} --out_base {10}\".format(script_dir, pdb, mut, trials, os.path.basename(pdb.split(\".\")[0]) ,iresA, iresB, interface_cutoff, p1, p2, out_base)\n",
    "    p = sp.Popen(cmd, shell=True)\n",
    "    return {\"p\":p, \"cmd\":cmd, \"start_time\":time.time(), \"end_time\":None, \"in\":(p1, p2, rank)}\n",
    "# FUNCTION END"
   ]
  },
  {
   "cell_type": "code",
   "execution_count": null,
   "metadata": {},
   "outputs": [],
   "source": []
  },
  {
   "cell_type": "code",
   "execution_count": 12,
   "metadata": {},
   "outputs": [
    {
     "data": {
      "application/vnd.jupyter.widget-view+json": {
       "model_id": "6beecbc2829e442193042495d40aff12",
       "version_major": 2,
       "version_minor": 0
      },
      "text/plain": [
       "HBox(children=(IntProgress(value=0, max=7), HTML(value=u'')))"
      ]
     },
     "metadata": {},
     "output_type": "display_data"
    },
    {
     "data": {
      "application/vnd.jupyter.widget-view+json": {
       "model_id": "64e0bda117bb4a1f98d0475411efbb6f",
       "version_major": 2,
       "version_minor": 0
      },
      "text/plain": [
       "HBox(children=(IntProgress(value=0, max=20), HTML(value=u'')))"
      ]
     },
     "metadata": {},
     "output_type": "display_data"
    },
    {
     "data": {
      "application/vnd.jupyter.widget-view+json": {
       "model_id": "29c47779ee8548a3a87901e18e3aec61",
       "version_major": 2,
       "version_minor": 0
      },
      "text/plain": [
       "HBox(children=(IntProgress(value=0, max=20), HTML(value=u'')))"
      ]
     },
     "metadata": {},
     "output_type": "display_data"
    },
    {
     "data": {
      "application/vnd.jupyter.widget-view+json": {
       "model_id": "b76d2a9cbd0f4fbeb4fd2def5f646793",
       "version_major": 2,
       "version_minor": 0
      },
      "text/plain": [
       "HBox(children=(IntProgress(value=0, max=20), HTML(value=u'')))"
      ]
     },
     "metadata": {},
     "output_type": "display_data"
    },
    {
     "data": {
      "application/vnd.jupyter.widget-view+json": {
       "model_id": "649d9fc9f3154212ac6f727cfdb89155",
       "version_major": 2,
       "version_minor": 0
      },
      "text/plain": [
       "HBox(children=(IntProgress(value=0, max=20), HTML(value=u'')))"
      ]
     },
     "metadata": {},
     "output_type": "display_data"
    },
    {
     "name": "stdout",
     "output_type": "stream",
     "text": [
      "Finished ddG ('COVID19N', 'Q9NR30', 1) in 1066.42793393\n",
      "Finished ddG ('COVID19N', 'Q9NR30', 1) in 1071.48714495\n",
      "Finished ddG ('COVID19N', 'Q9NR30', 1) in 1076.54881716\n",
      "Finished ddG ('COVID19N', 'Q9NR30', 1) in 1076.54247189\n",
      "Finished ddG ('COVID19N', 'Q9NR30', 1) in 1081.61584306\n",
      "Finished ddG ('COVID19N', 'Q9NR30', 1) in 1081.59877992\n",
      "Finished ddG ('COVID19N', 'Q9NR30', 1) in 1086.64345098\n",
      "Finished ddG ('COVID19N', 'Q9NR30', 1) in 1101.59791088\n",
      "Finished ddG ('COVID19N', 'Q9NR30', 1) in 1111.67959189\n",
      "Finished ddG ('COVID19N', 'Q9NR30', 1) in 1116.71767807\n",
      "Finished ddG ('COVID19N', 'Q9NR30', 1) in 1116.62893891\n",
      "Finished ddG ('COVID19N', 'Q9NR30', 1) in 1126.68233204\n",
      "Finished ddG ('COVID19N', 'Q9NR30', 1) in 1131.71160507\n",
      "Finished ddG ('COVID19N', 'Q9NR30', 1) in 1136.77966022\n",
      "Finished ddG ('COVID19N', 'Q9NR30', 1) in 1146.87349105\n",
      "Finished ddG ('COVID19N', 'Q9NR30', 1) in 1181.91901898\n",
      "Finished ddG ('COVID19N', 'Q9NR30', 1) in 1226.99431109\n",
      "Finished ddG ('COVID19N', 'Q9NR30', 1) in 1236.9277761\n",
      "Finished ddG ('COVID19N', 'Q9NR30', 1) in 1247.03104877\n"
     ]
    },
    {
     "data": {
      "application/vnd.jupyter.widget-view+json": {
       "model_id": "a7bf1f7dda8e468cb9e8e1c72b98e8a2",
       "version_major": 2,
       "version_minor": 0
      },
      "text/plain": [
       "HBox(children=(IntProgress(value=0, max=20), HTML(value=u'')))"
      ]
     },
     "metadata": {},
     "output_type": "display_data"
    },
    {
     "name": "stdout",
     "output_type": "stream",
     "text": [
      "Finished ddG ('COVID19N', 'Q9NR30', 1) in 1252.02229095\n",
      "Finished ddG ('COVID19N', 'P19784', 1) in 1602.55913115\n",
      "Finished ddG ('COVID19N', 'P19784', 1) in 1607.69696188\n",
      "Finished ddG ('COVID19N', 'P19784', 1) in 1607.67146778\n",
      "Finished ddG ('COVID19N', 'P19784', 1) in 1607.66710091\n",
      "Finished ddG ('COVID19N', 'P19784', 1) in 1612.75581717\n",
      "Finished ddG ('COVID19N', 'P19784', 1) in 1617.73885703\n",
      "Finished ddG ('COVID19N', 'P19784', 1) in 1622.79052591\n",
      "Finished ddG ('COVID19N', 'P19784', 1) in 1658.89338183\n",
      "Finished ddG ('COVID19N', 'P19784', 1) in 1668.88255692\n",
      "Finished ddG ('COVID19N', 'P19784', 1) in 1694.01750612\n",
      "Finished ddG ('COVID19N', 'P19784', 1) in 1693.99665904\n",
      "Finished ddG ('COVID19N', 'P19784', 1) in 1839.09440088\n",
      "Finished ddG ('COVID19N', 'P19784', 1) in 1844.22632909\n",
      "Finished ddG ('COVID19N', 'P19784', 1) in 1844.20859408\n",
      "Finished ddG ('COVID19N', 'P19784', 1) in 1854.24301696\n",
      "Finished ddG ('COVID19N', 'P19784', 1) in 1879.2366879\n",
      "Finished ddG ('COVID19N', 'P19784', 1) in 1884.30106807\n",
      "Finished ddG ('COVID19N', 'P19784', 1) in 1899.31153297\n",
      "Finished ddG ('COVID19N', 'P19784', 1) in 1914.47123194\n"
     ]
    },
    {
     "data": {
      "application/vnd.jupyter.widget-view+json": {
       "model_id": "79439ecf3a7447479385f146767c49b0",
       "version_major": 2,
       "version_minor": 0
      },
      "text/plain": [
       "HBox(children=(IntProgress(value=0, max=20), HTML(value=u'')))"
      ]
     },
     "metadata": {},
     "output_type": "display_data"
    },
    {
     "name": "stdout",
     "output_type": "stream",
     "text": [
      "Finished ddG ('COVID19N', 'P19784', 1) in 1924.49358797\n",
      "Finished ddG ('COVID19nsp15', 'P62330', 1) in 1954.07955098\n",
      "Finished ddG ('COVID19nsp7', 'P21964', 1) in 700.804628134\n",
      "Finished ddG ('COVID19nsp7', 'P21964', 1) in 705.806303978\n",
      "Finished ddG ('COVID19nsp15', 'P62330', 1) in 1778.92568707\n",
      "Finished ddG ('COVID19nsp15', 'P62330', 1) in 1763.84014392\n",
      "Finished ddG ('COVID19nsp15', 'P62330', 1) in 1780.58200598\n",
      "Finished ddG ('COVID19nsp15', 'P62330', 1) in 1770.47480893\n",
      "Finished ddG ('COVID19nsp15', 'P62330', 1) in 1816.87423921\n",
      "Finished ddG ('COVID19nsp15', 'P62330', 1) in 1786.80262089\n",
      "Finished ddG ('COVID19nsp15', 'P62330', 1) in 1801.88630486\n",
      "Finished ddG ('COVID19nsp15', 'P62330', 1) in 1766.73682499\n",
      "Finished ddG ('COVID19nsp15', 'P62330', 1) in 1791.80738688\n",
      "Finished ddG ('COVID19nsp15', 'P62330', 1) in 1822.19855404\n",
      "Finished ddG ('COVID19nsp15', 'P62330', 1) in 1807.13781905\n",
      "Finished ddG ('COVID19nsp15', 'P62330', 1) in 1842.26920605\n",
      "Finished ddG ('COVID19nsp15', 'P62330', 1) in 1827.18331099\n",
      "Finished ddG ('COVID19nsp15', 'P62330', 1) in 1807.14197302\n",
      "Finished ddG ('COVID19nsp15', 'P62330', 1) in 1982.59008002\n",
      "Finished ddG ('COVID19nsp15', 'P62330', 1) in 1847.24152589\n"
     ]
    },
    {
     "data": {
      "application/vnd.jupyter.widget-view+json": {
       "model_id": "df2981e3ce724711a4a7f6f638a35709",
       "version_major": 2,
       "version_minor": 0
      },
      "text/plain": [
       "HBox(children=(IntProgress(value=0, max=20), HTML(value=u'')))"
      ]
     },
     "metadata": {},
     "output_type": "display_data"
    },
    {
     "name": "stdout",
     "output_type": "stream",
     "text": [
      "Finished ddG ('COVID19nsp15', 'P62330', 1) in 2027.70244098\n",
      "Finished ddG ('COVID19nsp15', 'P62330', 1) in 2102.859694\n",
      "Finished ddG ('COVID19nsp14', 'P12268', 1) in 3204.31625009\n",
      "Finished ddG ('COVID19nsp14', 'P12268', 1) in 3204.24129891\n",
      "Finished ddG ('COVID19nsp14', 'P12268', 1) in 3249.35791183\n",
      "Finished ddG ('COVID19nsp14', 'P12268', 1) in 3259.3270781\n",
      "Finished ddG ('COVID19nsp14', 'P12268', 1) in 3269.99172997\n",
      "Finished ddG ('COVID19nsp14', 'P12268', 1) in 3269.94251299\n",
      "Finished ddG ('COVID19nsp14', 'P12268', 1) in 3274.96003103\n",
      "Finished ddG ('COVID19nsp14', 'P12268', 1) in 3274.90143704\n",
      "Finished ddG ('COVID19nsp14', 'P12268', 1) in 3279.96993804\n",
      "Finished ddG ('COVID19nsp14', 'P12268', 1) in 3299.96328092\n",
      "Finished ddG ('COVID19nsp14', 'P12268', 1) in 3312.12617016\n",
      "Finished ddG ('COVID19nsp15', 'P62330', 1) in 2080.41544604\n",
      "Finished ddG ('COVID19nsp14', 'P12268', 1) in 3327.25727391\n",
      "Finished ddG ('COVID19nsp14', 'P12268', 1) in 3372.26529479\n",
      "Finished ddG ('COVID19nsp14', 'P12268', 1) in 3377.23893285\n",
      "Finished ddG ('COVID19nsp14', 'P12268', 1) in 3387.27139187\n",
      "Finished ddG ('COVID19nsp7', 'P21964', 1) in 762.353451967\n",
      "Finished ddG ('COVID19nsp7', 'P21964', 1) in 752.405136824\n",
      "\n",
      "Finished ddG ('COVID19nsp14', 'P12268', 1) in 3452.55850291\n",
      "Finished ddG ('COVID19nsp7', 'P21964', 1) in 642.296727896\n",
      "Finished ddG ('COVID19nsp7', 'P21964', 1) in 655.646894932\n",
      "Finished ddG ('COVID19nsp7', 'P21964', 1) in 640.618629932\n",
      "Finished ddG ('COVID19nsp7', 'P21964', 1) in 629.261857986\n",
      "Finished ddG ('COVID19nsp7', 'P21964', 1) in 644.305352926\n",
      "Finished ddG ('COVID19nsp14', 'P12268', 1) in 3562.59443307\n",
      "Finished ddG ('COVID19nsp7', 'P21964', 1) in 669.362221003\n",
      "Finished ddG ('COVID19nsp7', 'P21964', 1) in 644.265956879\n",
      "Finished ddG ('COVID19nsp7', 'P21964', 1) in 725.74050498\n",
      "Finished ddG ('COVID19nsp7', 'P21964', 1) in 684.316113949\n",
      "Finished ddG ('COVID19nsp7', 'P21964', 1) in 633.901084185\n",
      "Finished ddG ('COVID19nsp14', 'P12268', 1) in 3607.7267828\n",
      "Finished ddG ('COVID19nsp14', 'P12268', 1) in 3632.74089098\n",
      "Finished ddG ('COVID19nsp7', 'P21964', 1) in 643.873174906\n",
      "Finished ddG ('COVID19nsp7', 'P21964', 1) in 719.01276803\n",
      "Finished ddG ('COVID19nsp7', 'P21964', 1) in 718.98093605\n",
      "Finished ddG ('COVID19nsp14', 'P12268', 1) in 3707.73555589\n",
      "Finished ddG ('COVID19nsp7', 'P21964', 1) in 618.791349173\n",
      "Finished ddG ('COVID19nsp7', 'P21964', 1) in 653.852313995\n",
      "Finished ddG ('COVID19nsp7', 'P21964', 1) in 713.933935881\n",
      "Finished ddG ('COVID19nsp5', 'Q92769', 1) in 3146.69710588\n",
      "Finished ddG ('COVID19orf9b', 'P27448', 1) in 1314.47628617\n",
      "Finished ddG ('COVID19orf9b', 'P27448', 1) in 1284.35741711\n",
      "Finished ddG ('COVID19orf9b', 'P27448', 1) in 1294.38683701\n",
      "Finished ddG ('COVID19orf9b', 'P27448', 1) in 1279.34238696\n",
      "Finished ddG ('COVID19orf9b', 'P27448', 1) in 1258.712255\n",
      "Finished ddG ('COVID19orf9b', 'P27448', 1) in 1289.33320904\n",
      "Finished ddG ('COVID19orf9b', 'P27448', 1) in 1278.70875406\n",
      "Finished ddG ('COVID19orf9b', 'P27448', 1) in 1384.53686595\n",
      "Finished ddG ('COVID19orf9b', 'P27448', 1) in 1303.77251792\n",
      "Finished ddG ('COVID19orf9b', 'P27448', 1) in 1308.75517082\n",
      "Finished ddG ('COVID19orf9b', 'P27448', 1) in 1303.72888803\n",
      "Finished ddG ('COVID19orf9b', 'P27448', 1) in 1281.59309483\n",
      "Finished ddG ('COVID19orf9b', 'P27448', 1) in 1276.55636597\n",
      "Finished ddG ('COVID19orf9b', 'P27448', 1) in 1301.59523511\n",
      "Finished ddG ('COVID19orf9b', 'P27448', 1) in 1318.74161696\n",
      "Finished ddG ('COVID19nsp5', 'Q92769', 1) in 3021.50497293\n",
      "Finished ddG ('COVID19nsp5', 'Q92769', 1) in 3021.48889494\n",
      "Finished ddG ('COVID19nsp5', 'Q92769', 1) in 3056.51363993\n",
      "Finished ddG ('COVID19orf9b', 'P27448', 1) in 1291.56139183\n",
      "Finished ddG ('COVID19orf9b', 'P27448', 1) in 1286.5340302\n",
      "Finished ddG ('COVID19nsp5', 'Q92769', 1) in 3061.50414395\n",
      "Finished ddG ('COVID19orf9b', 'P27448', 1) in 1266.40437698\n",
      "Finished ddG ('COVID19nsp5', 'Q92769', 1) in 3076.49880791\n",
      "Finished ddG ('COVID19nsp5', 'Q92769', 1) in 3025.30436778\n",
      "Finished ddG ('COVID19orf9b', 'P27448', 1) in 1306.5431211\n",
      "Finished ddG ('COVID19orf9b', 'P27448', 1) in 1311.53159118\n",
      "Finished ddG ('COVID19nsp5', 'Q92769', 1) in 3131.70865011\n",
      "Finished ddG ('COVID19nsp5', 'Q92769', 1) in 3151.56634808\n",
      "Finished ddG ('COVID19nsp5', 'Q92769', 1) in 3115.44858694\n",
      "Finished ddG ('COVID19nsp5', 'Q92769', 1) in 2980.19125295\n",
      "Finished ddG ('COVID19nsp5', 'Q92769', 1) in 2975.15977311\n",
      "Finished ddG ('COVID19nsp5', 'Q92769', 1) in 3000.24164486\n",
      "Finished ddG ('COVID19nsp5', 'Q92769', 1) in 3150.4186039\n",
      "Finished ddG ('COVID19nsp5', 'Q92769', 1) in 3170.45136595\n",
      "Finished ddG ('COVID19nsp5', 'Q92769', 1) in 3030.1399231\n",
      "Finished ddG ('COVID19nsp5', 'Q92769', 1) in 3130.360677\n",
      "Finished ddG ('COVID19nsp5', 'Q92769', 1) in 3075.08030415\n",
      "Finished ddG ('COVID19nsp5', 'Q92769', 1) in 3160.33821106\n",
      "Finished ddG ('COVID19nsp5', 'Q92769', 1) in 3165.30304098\n"
     ]
    }
   ],
   "source": [
    "import subprocess as sp\n",
    "# Run Ligand Docking in Loop\n",
    "i_num = 1\n",
    "finished_processes = []\n",
    "processes = []\n",
    "\n",
    "max_processes = 60\n",
    "\n",
    "trials = 10\n",
    "interface_cutoff = 8.0\n",
    "# Iterate over all Docking Inputs\n",
    "for p1, p2, pdb, rank, ires1, ires2, attempt in tqdm_notebook(ppi_docking[ppi_docking[\"Rank\"] == 1].sort_values([\"Rank\", \"P1\", \"P2\"], ascending=[True, True, True])[[\"P1\", \"P2\", \"File\", \"Rank\", \"P1_Ires\", \"P2_Ires\", \"Attempt\"]].values):\n",
    "    #if(attempt < 39):\n",
    "    #    continue\n",
    "    for mut in tqdm_notebook(\"ARNDCEQGHILKMFPSTWYV\"):\n",
    "        # If expected output from job already exists, skip\n",
    "        if(len(glob.glob(\"{0}Raw_Outputs/{1}_{2}/*_to_{3}*\".format(ddg_singles_dir, p1, p2, mut))) == 10):\n",
    "            continue\n",
    "        #break\n",
    "        \n",
    "        # Block new jobs if too many running already\n",
    "        while(True):\n",
    "            if(len(processes) <= max_processes):\n",
    "                p = run_ddg_scanning(p1, p2, pdb, mut, rank, ires1, ires2, trials, interface_cutoff)\n",
    "                processes.append(p)\n",
    "                break\n",
    "            else:\n",
    "                new_processes = []\n",
    "                for p in processes:\n",
    "                    if(p[\"p\"].poll() is None):\n",
    "                        new_processes.append(p)\n",
    "                    elif(p[\"p\"].poll() != 0):\n",
    "                        p[\"end_time\"] = time.time()\n",
    "                        print \"Error\", p[\"p\"].poll()\n",
    "                        print \"cmd:\", p[\"cmd\"]\n",
    "                        print \"RunTime:\", (p[\"end_time\"] - p[\"start_time\"])\n",
    "                        print\n",
    "                        finished_processes.append(p)\n",
    "                    else:\n",
    "                        p[\"end_time\"] = time.time()\n",
    "                        print \"Finished ddG\", p[\"in\"], \"in\", (p[\"end_time\"] - p[\"start_time\"])\n",
    "                        finished_processes.append(p)\n",
    "                processes = new_processes\n",
    "                time.sleep(5)\n",
    "        #break\n",
    "    #break\n",
    "# Wait to completion\n",
    "while(True):\n",
    "    if(len(processes) == 0):\n",
    "        break\n",
    "    else:\n",
    "        new_processes = []\n",
    "        for p in processes:\n",
    "            if(p[\"p\"].poll() is None):\n",
    "                new_processes.append(p)\n",
    "            elif(p[\"p\"].poll() != 0):\n",
    "                p[\"end_time\"] = time.time()\n",
    "                print \"Error\", p[\"p\"].poll()\n",
    "                print \"cmd:\", p[\"cmd\"]\n",
    "                print \"RunTime:\", (p[\"end_time\"] - p[\"start_time\"])\n",
    "                print\n",
    "                finished_processes.append(p)\n",
    "            else:\n",
    "                p[\"end_time\"] = time.time()\n",
    "                print \"Finished ddG\", p[\"in\"], \"in\", (p[\"end_time\"] - p[\"start_time\"])\n",
    "                finished_processes.append(p)\n",
    "        processes = new_processes\n",
    "        time.sleep(5)"
   ]
  },
  {
   "cell_type": "code",
   "execution_count": null,
   "metadata": {},
   "outputs": [],
   "source": []
  },
  {
   "cell_type": "code",
   "execution_count": 16,
   "metadata": {},
   "outputs": [
    {
     "data": {
      "application/vnd.jupyter.widget-view+json": {
       "model_id": "7f563f9c61c74fc691b3473efcede92f",
       "version_major": 2,
       "version_minor": 0
      },
      "text/plain": [
       "HBox(children=(IntProgress(value=0, max=7), HTML(value=u'')))"
      ]
     },
     "metadata": {},
     "output_type": "display_data"
    },
    {
     "data": {
      "application/vnd.jupyter.widget-view+json": {
       "model_id": "e61b2ba6102842bc994df3afb578dc58",
       "version_major": 2,
       "version_minor": 0
      },
      "text/plain": [
       "HBox(children=(IntProgress(value=0, max=20), HTML(value=u'')))"
      ]
     },
     "metadata": {},
     "output_type": "display_data"
    },
    {
     "name": "stdout",
     "output_type": "stream",
     "text": [
      "\n"
     ]
    }
   ],
   "source": [
    "import subprocess as sp\n",
    "# Run Ligand Docking in Loop\n",
    "i_num = 1\n",
    "finished_processes = []\n",
    "processes = []\n",
    "\n",
    "max_processes = 60\n",
    "\n",
    "trials = 10\n",
    "interface_cutoff = 8.0\n",
    "# Iterate over all Docking Inputs\n",
    "for p1, p2, pdb, rank, ires1, ires2, attempt in tqdm_notebook(ppi_docking[ppi_docking[\"Rank\"] == 1].sort_values([\"Rank\", \"P1\", \"P2\"], ascending=[True, True, True])[[\"P1\", \"P2\", \"File\", \"Rank\", \"P1_Ires\", \"P2_Ires\", \"Attempt\"]].values):\n",
    "    #if(attempt < 39):\n",
    "    #    continue\n",
    "    for mut in tqdm_notebook(\"ARNDCEQGHILKMFPSTWYV\"):\n",
    "        # If expected output from job already exists, skip\n",
    "        if(len(glob.glob(\"{0}Raw_Outputs/{1}_{2}/*_to_{3}*\".format(ddg_singles_dir, p1, p2, mut))) == 10):\n",
    "            continue\n",
    "        #break\n",
    "        \n",
    "        # Block new jobs if too many running already\n",
    "        while(True):\n",
    "            if(len(processes) <= max_processes):\n",
    "                p = run_ddg_scanning(p1, p2, pdb, mut, rank, ires1, ires2, trials, interface_cutoff)\n",
    "                processes.append(p)\n",
    "                break\n",
    "        break\n",
    "    break"
   ]
  },
  {
   "cell_type": "code",
   "execution_count": 29,
   "metadata": {},
   "outputs": [
    {
     "data": {
      "application/vnd.jupyter.widget-view+json": {
       "model_id": "08b853452a694d6780166f86bbcaecc1",
       "version_major": 2,
       "version_minor": 0
      },
      "text/plain": [
       "HBox(children=(IntProgress(value=0, max=7), HTML(value=u'')))"
      ]
     },
     "metadata": {},
     "output_type": "display_data"
    },
    {
     "name": "stdout",
     "output_type": "stream",
     "text": [
      "0\n",
      "0\n",
      "0\n",
      "0\n",
      "0\n",
      "0\n",
      "0\n",
      "0\n",
      "0\n",
      "0\n",
      "0\n",
      "0\n",
      "0\n",
      "0\n",
      "0\n",
      "0\n",
      "0\n",
      "0\n",
      "0\n",
      "0\n",
      "0\n",
      "\n"
     ]
    }
   ],
   "source": [
    "for p1, p2 in tqdm_notebook(ppi_docking[ppi_docking[\"Rank\"] == 1].sort_values([\"Rank\", \"P1\", \"P2\"], ascending=[True, True, True])[[\"P1\", \"P2\"]].drop_duplicates().values):\n",
    "    orig = \"/home/sdw95/3D_SARS2/Data/ddG_Single_Mutants/Raw_Outputs/{0}_{1}/\".format(p1, p2)\n",
    "    dest = \"/home/sdw95/3D_SARS2/git_hub/3D_SARS2/Output/ddG_Single_Mutants/Raw_Outputs/{0}_{1}/\".format(p1, p2)\n",
    "    \n",
    "    print os.system(\"cp {0} {1} -r\".format(orig, dest))\n",
    "    \n",
    "    \n",
    "    orig = \"/home/sdw95/3D_SARS2/Data/ddG_Single_Mutants/Structures/{0}_{1}/\".format(p1, p2)\n",
    "    dest = \"/home/sdw95/3D_SARS2/git_hub/3D_SARS2/Output/ddG_Single_Mutants/Structures/{0}_{1}/\".format(p1, p2)\n",
    "    \n",
    "    print os.system(\"cp {0} {1} -r\".format(orig, dest))\n",
    "    \n",
    "    \n",
    "    orig = \"/home/sdw95/3D_SARS2/Data/ddG_Single_Mutants/Summaries/{0}_{1}_1*\".format(p1, p2)\n",
    "    dest = \"/home/sdw95/3D_SARS2/git_hub/3D_SARS2/Output/ddG_Single_Mutants/Summaries/\".format(p1, p2)\n",
    "    \n",
    "    print os.system(\"cp {0} {1}\".format(orig, dest))"
   ]
  },
  {
   "cell_type": "code",
   "execution_count": 22,
   "metadata": {},
   "outputs": [
    {
     "data": {
      "text/plain": [
       "array([['COVID19N', 'P19784'],\n",
       "       ['COVID19N', 'Q9NR30'],\n",
       "       ['COVID19nsp14', 'P12268'],\n",
       "       ['COVID19nsp15', 'P62330'],\n",
       "       ['COVID19nsp5', 'Q92769'],\n",
       "       ['COVID19nsp7', 'P21964'],\n",
       "       ['COVID19orf9b', 'P27448']], dtype=object)"
      ]
     },
     "execution_count": 22,
     "metadata": {},
     "output_type": "execute_result"
    }
   ],
   "source": []
  },
  {
   "cell_type": "code",
   "execution_count": null,
   "metadata": {},
   "outputs": [],
   "source": []
  },
  {
   "cell_type": "markdown",
   "metadata": {},
   "source": [
    "# Parse Interface Scanning ddG Results"
   ]
  },
  {
   "cell_type": "code",
   "execution_count": 13,
   "metadata": {},
   "outputs": [
    {
     "data": {
      "application/vnd.jupyter.widget-view+json": {
       "model_id": "86e0be3cbe3a4ee993eb608aa203cde5",
       "version_major": 2,
       "version_minor": 0
      },
      "text/plain": [
       "HBox(children=(IntProgress(value=0, max=7), HTML(value=u'')))"
      ]
     },
     "metadata": {},
     "output_type": "display_data"
    },
    {
     "name": "stdout",
     "output_type": "stream",
     "text": [
      "COVID19N P19784 1 3 10\n",
      "ERROR: COVID19N P19784 1\n",
      "COVID19N Q9NR30 1 53 10\n",
      "ERROR: COVID19N Q9NR30 1\n",
      "COVID19nsp14 P12268 1 2 10\n",
      "ERROR: COVID19nsp14 P12268 1\n",
      "COVID19nsp15 P62330 1 4 10\n",
      "ERROR: COVID19nsp15 P62330 1\n",
      "COVID19nsp5 Q92769 1 10 10\n",
      "ERROR: COVID19nsp5 Q92769 1\n",
      "COVID19nsp7 P21964 1 5 10\n",
      "ERROR: COVID19nsp7 P21964 1\n",
      "COVID19orf9b P27448 1 31 10\n",
      "ERROR: COVID19orf9b P27448 1\n",
      "\n"
     ]
    }
   ],
   "source": [
    "inter2ddG = defaultdict()\n",
    "fail = set()\n",
    "\n",
    "# Iterate over all docks\n",
    "for p1, p2, pdb, rank, ires1, ires2, attempt in tqdm_notebook(ppi_docking[ppi_docking[\"Rank\"] == 1].sort_values([\"Rank\", \"P1\", \"P2\"])[[\"P1\", \"P2\", \"File\", \"Rank\", \"P1_Ires\", \"P2_Ires\", \"Attempt\"]].values):\n",
    "    #if(os.path.exists(\"ddG_Single_Mutants/Summaries/{0}_{1}_{2}_Mean.txt\".format(p1, p2, rank))):\n",
    "    #    print \"Exists\"\n",
    "    #    continue\n",
    "    \n",
    "    # Grab all of the Raw Outputs\n",
    "    # These should be 20 mut_X cases describing all posible mutagenesis\n",
    "    # each with 10 trials (to account for noise in the side chain optimization)\n",
    "    fs = glob.glob(\"{0}Raw_Outputs/{1}_{2}/*\".format(ddg_singles_dir, p1, p2))\n",
    "    fs = [x for x in fs if int(os.path.basename(x).split(\"_\")[3][:-1]) == attempt]\n",
    "    \n",
    "    # We expect 200 output files, if we don't see this many then\n",
    "    # something is wrong\n",
    "    # NOTE: This number subject to change if ddG trial number changed\n",
    "    if(len(fs) != 200):\n",
    "        print p1, p2, rank, attempt, len(fs)\n",
    "        #os.system(\"rm ddG_Single_Mutants/Summaries/{0}_{1}_{2}_*\".format(p1, p2, rank))\n",
    "        fail.add((p1, p2))\n",
    "    \n",
    "    # If there are no output files something went really wrong\n",
    "    if(len(fs) == 0):\n",
    "        print \"ERROR\", p1, p2\n",
    "        continue\n",
    "    \n",
    "    # Create a dictionary to store all of the results per mutation type\n",
    "    m2tmp = defaultdict(lambda: None)\n",
    "    for f in sorted(fs, key=lambda x: int(x.split(\"_\")[-1].split(\".\")[0])):\n",
    "        # Which AA mutation does this scanning mutageneis include\n",
    "        m = f.split(\"to_\")[1].split(\"_\")[0]\n",
    "        \n",
    "        # Replicate number (1-10)\n",
    "        r = int(f.split(\"_\")[-1].split(\".\")[0])\n",
    "        \n",
    "        # Read in the Data as a DataFrame (name ddG column based\n",
    "        # on mutation / replicate)\n",
    "        data = pd.read_csv(f, sep=\"\\t\", names=[\"Mut\", \"ddG_{0}_{1}\".format(m, r)])\n",
    "        \n",
    "        # Parse out  reference and position from mutation name\n",
    "        data[\"Ref\"] = data[\"Mut\"].map(lambda x: x[0])\n",
    "        data[\"Pos\"] = data[\"Mut\"].map(lambda x: int(x[1:-1]))\n",
    "        \n",
    "        # Assign the protein identifier (A or B for Viral / Human respectively)\n",
    "        # The results are always listed in order with all A mutants followed by all\n",
    "        # B mutants, but are not specifically labeled.\n",
    "        #\n",
    "        # We know which interface residues are considered in the mutageneis, so we\n",
    "        # can work out how many rows should be A / B based on the number of interface\n",
    "        # residues on each chain\n",
    "        data[\"Chain\"] = [\"A\"]*len(ires1.split(\",\")) + [\"B\"]*len(ires2.split(\",\"))\n",
    "        \n",
    "        # Subset columns (i.e. Drop the Mut Column)\n",
    "        data = data[[\"Chain\", \"Ref\", \"Pos\", \"ddG_{0}_{1}\".format(m, r)]]\n",
    "        \n",
    "        # If there is no information saved for this mutation type yet,\n",
    "        # then just store this data\n",
    "        if(m2tmp[m] is None):\n",
    "            m2tmp[m] = data\n",
    "        # Otherwise, join the data for this replicate with the previously\n",
    "        # saved data\n",
    "        else:\n",
    "            m2tmp[m] = m2tmp[m].join(data.set_index([\"Ref\", \"Pos\", \"Chain\"]), on=[\"Ref\", \"Pos\", \"Chain\"])\n",
    "    \n",
    "    # Combine all results into one final dataset describing\n",
    "    # scanning mutagenesis attempts for all AA mutations on\n",
    "    # this interaction\n",
    "    data = None\n",
    "    \n",
    "    # We should have 20 entries here corresponding to 20 AA mutant\n",
    "    # options\n",
    "    if(len(m2tmp) != 20):\n",
    "        print \"ERROR:\", p1, p2, len(m2tmp)\n",
    "    \n",
    "    # Iterate over each AA mutant and join the results together\n",
    "    for m in m2tmp:\n",
    "        if(data is None):\n",
    "            data = m2tmp[m]\n",
    "        else:\n",
    "            data = data.join(m2tmp[m].set_index([\"Chain\", \"Ref\", \"Pos\"]), on=[\"Chain\", \"Ref\", \"Pos\"])\n",
    "    \n",
    "    # Store the raw summary containing data for each indicitual replicate\n",
    "    data.to_csv(\"{0}Summaries/{1}_{2}_{3}_Full.txt\".format(ddg_singles_dir, p1, p2, rank), sep=\"\\t\", index=None)\n",
    "    \n",
    "    # Compile replicate per AA mutant into an average\n",
    "    for res in set([x.split(\"_\")[1] for x in data if \"ddG_\" in x]):\n",
    "        # Subset data with only the columns for the 10 replicates for\n",
    "        # this AA residue\n",
    "        tmp = data[[x for x in data if \"_{0}_\".format(res) in x]]\n",
    "        \n",
    "        # Calculate Average / Std accross the 10 replicates\n",
    "        data[\"ddG_{0}_avg\".format(res)] = tmp.mean(axis=1)\n",
    "        data[\"ddG_{0}_std\".format(res)] = tmp.std(axis=1)\n",
    "        \n",
    "        # Calculate the Z-score relative to all other same AA mutations\n",
    "        # accross the entire interface\n",
    "        data[\"ddG_{0}_z\".format(res)] = (tmp.mean(axis=1) - tmp.mean(axis=1).mean()) / tmp.mean(axis=1).std()\n",
    "    \n",
    "    # Select only the averaged columns and save\n",
    "    data = data[list(data)[:3] + [x for x in data if \"_avg\" in x or \"_std\" in x or \"_z\" in x]]\n",
    "    data.to_csv(\"{0}Summaries/{1}_{2}_{3}_Mean.txt\".format(ddg_singles_dir, p1, p2, rank), sep=\"\\t\", index=None)"
   ]
  },
  {
   "cell_type": "code",
   "execution_count": null,
   "metadata": {},
   "outputs": [],
   "source": []
  },
  {
   "cell_type": "code",
   "execution_count": 30,
   "metadata": {},
   "outputs": [],
   "source": []
  },
  {
   "cell_type": "code",
   "execution_count": null,
   "metadata": {},
   "outputs": [],
   "source": []
  },
  {
   "cell_type": "code",
   "execution_count": 31,
   "metadata": {},
   "outputs": [
    {
     "data": {
      "application/vnd.jupyter.widget-view+json": {
       "model_id": "56cc74abd801401bbade3aa0057bc3d5",
       "version_major": 2,
       "version_minor": 0
      },
      "text/plain": [
       "HBox(children=(IntProgress(value=0, max=138), HTML(value=u'')))"
      ]
     },
     "metadata": {},
     "output_type": "display_data"
    },
    {
     "name": "stderr",
     "output_type": "stream",
     "text": [
      "/home/sdw95/.conda/envs/jp/lib/python2.7/site-packages/ipykernel/__main__.py:7: DeprecationWarning: \n",
      ".ix is deprecated. Please use\n",
      ".loc for label based indexing or\n",
      ".iloc for positional indexing\n",
      "\n",
      "See the documentation here:\n",
      "http://pandas.pydata.org/pandas-docs/stable/indexing.html#ix-indexer-is-deprecated\n",
      "/home/sdw95/.conda/envs/jp/lib/python2.7/site-packages/ipykernel/__main__.py:24: DeprecationWarning: \n",
      ".ix is deprecated. Please use\n",
      ".loc for label based indexing or\n",
      ".iloc for positional indexing\n",
      "\n",
      "See the documentation here:\n",
      "http://pandas.pydata.org/pandas-docs/stable/indexing.html#ix-indexer-is-deprecated\n",
      "/home/sdw95/.conda/envs/jp/lib/python2.7/site-packages/ipykernel/__main__.py:29: DeprecationWarning: \n",
      ".ix is deprecated. Please use\n",
      ".loc for label based indexing or\n",
      ".iloc for positional indexing\n",
      "\n",
      "See the documentation here:\n",
      "http://pandas.pydata.org/pandas-docs/stable/indexing.html#ix-indexer-is-deprecated\n"
     ]
    },
    {
     "name": "stdout",
     "output_type": "stream",
     "text": [
      "\n"
     ]
    }
   ],
   "source": [
    "# Reformat as simple table of muts (1 row = 1 mut)\n",
    "ddg_singles = []\n",
    "\n",
    "# Iterate over all the interaction summaries\n",
    "for f in tqdm_notebook(glob.glob(\"{0}/Summaries/*Mean*\".format(ddg_singles_dir))):\n",
    "    # Read in Data for this interaction\n",
    "    tmp = pd.read_csv(f, sep=\"\\t\")\n",
    "    \n",
    "    # Identify P1, P2\n",
    "    p1, p2 = os.path.basename(f).split(\"_\")[:2]\n",
    "    \n",
    "    # Create tmp table where each mut is one row\n",
    "    tmp2 = []\n",
    "    # Iterate over each row\n",
    "    for i in range(len(tmp)):\n",
    "        row = tmp.ix[i]\n",
    "        # Iterate over all muts\n",
    "        for mut in \"ACEDGFIHKMLNQPSRTWVY\":\n",
    "            # Pull out the columns we care about / add in Alt column\n",
    "            tmp2.append([p1, p2] + list(row[[\"Chain\", \"Ref\", \"Pos\"]]) + [mut, row[\"ddG_{0}_avg\".format(mut)], row[\"ddG_{0}_std\".format(mut)]])\n",
    "    # Merge into one DataFrame\n",
    "    tmp2 = pd.DataFrame(tmp2, columns=[\"P1\", \"P2\", \"Chain\", \"Ref\", \"Pos\", \"Alt\", \"ddG\", \"std\"])\n",
    "    \n",
    "    # Calculate p-values for if the single mutant ddG value\n",
    "    # is significantly non-zero over the 10 trials\n",
    "    def do(ddg, std):\n",
    "        try:\n",
    "            p = scipy.stats.norm.sf(abs(ddg / std))\n",
    "        except ZeroDivisionError:\n",
    "            p = 1\n",
    "        return p\n",
    "    # FUNCTION END\n",
    "    tmp2[\"p-value\"] = tmp2[[\"ddG\", \"std\"]].apply(lambda x: do(*x), axis=1)\n",
    "    \n",
    "    # Iterate over each chain serparately to normalize the z-scores\n",
    "    # NOTE: This is not the way I did this for the previous compilation\n",
    "    #       I should probably go back and change the previous block's\n",
    "    #       calculation for z-score, but I don't think those z-scores\n",
    "    #       are used in any downstream work.\n",
    "    for chain in [\"A\", \"B\"]:\n",
    "        # Calculate Z-score of all mutations relative to all mutants\n",
    "        ddg = tmp2[tmp2[\"Chain\"] == chain][\"ddG\"].mean()\n",
    "        std = tmp2[tmp2[\"Chain\"] == chain][\"ddG\"].std()\n",
    "        tmp2.ix[tmp2[\"Chain\"] == chain, \"z-score\"] = tmp2[tmp2[\"Chain\"] == chain][\"ddG\"].map(lambda x: (x - ddg) / std)\n",
    "        \n",
    "        # Calculate Z-score of all mutations relative only to same\n",
    "        # AA mutations\n",
    "        # NOTE: Might also be worth calulating Z-score relative to all other\n",
    "        #       mutations at that position\n",
    "        for mut in \"ACEDGFIHKMLNQPSRTWVY\":\n",
    "            ddg = tmp2[(tmp2[\"Chain\"] == chain)&(tmp2[\"Alt\"] == mut)][\"ddG\"].mean()\n",
    "            std = tmp2[(tmp2[\"Chain\"] == chain)&(tmp2[\"Alt\"] == mut)][\"ddG\"].std()\n",
    "            tmp2.ix[(tmp2[\"Chain\"] == chain)&(tmp2[\"Alt\"] == mut), \"z-score (same AA)\"] = tmp2[(tmp2[\"Chain\"] == chain)&(tmp2[\"Alt\"] == mut)][\"ddG\"].map(lambda x: (x - ddg) / std)\n",
    "    \n",
    "    ddg_singles.append(tmp2)"
   ]
  },
  {
   "cell_type": "code",
   "execution_count": 33,
   "metadata": {},
   "outputs": [],
   "source": [
    "# Concatenate all the results\n",
    "ddg_singles = pd.concat(ddg_singles)"
   ]
  },
  {
   "cell_type": "code",
   "execution_count": null,
   "metadata": {},
   "outputs": [],
   "source": []
  },
  {
   "cell_type": "code",
   "execution_count": 34,
   "metadata": {},
   "outputs": [
    {
     "name": "stderr",
     "output_type": "stream",
     "text": [
      "/home/sdw95/.conda/envs/jp/lib/python2.7/site-packages/IPython/core/interactiveshell.py:2714: DtypeWarning: Columns (3) have mixed types. Specify dtype option on import or set low_memory=False.\n",
      "  interactivity=interactivity, compiler=compiler, result=result)\n"
     ]
    }
   ],
   "source": [
    "# Read in Popvar Data to label which mutants are real population variants\n",
    "pop_vars = pd.read_csv(\"{0}/Pop_Vars.txt\".format(output_dir), sep=\"\\t\")\n",
    "pop_vars = set(pop_vars[[\"UniProt\", \"AA_Ref\", \"AA_Pos\", \"AA_Alt\"]].apply(tuple, axis=1).values)"
   ]
  },
  {
   "cell_type": "code",
   "execution_count": 35,
   "metadata": {},
   "outputs": [],
   "source": [
    "# Label which mutations are population variants\n",
    "# NOTE: Unsure why I didn't also add a column to label SARS1-SARS2 deviations\n",
    "ddg_singles[\"is_pop_var\"] = ddg_singles[[\"Chain\", \"P2\", \"Ref\", \"Pos\", \"Alt\"]].apply(lambda x: x[0] == \"B\" and tuple(x[1:]) in pop_vars, axis=1)"
   ]
  },
  {
   "cell_type": "code",
   "execution_count": 37,
   "metadata": {},
   "outputs": [
    {
     "data": {
      "text/plain": [
       "2023"
      ]
     },
     "execution_count": 37,
     "metadata": {},
     "output_type": "execute_result"
    }
   ],
   "source": [
    "ddg_singles[\"is_pop_var\"].sum()"
   ]
  },
  {
   "cell_type": "code",
   "execution_count": null,
   "metadata": {},
   "outputs": [],
   "source": []
  },
  {
   "cell_type": "code",
   "execution_count": 38,
   "metadata": {},
   "outputs": [
    {
     "name": "stdout",
     "output_type": "stream",
     "text": [
      "               Case  Non-Case\n",
      "Exposed       170.0   18350.0\n",
      "Non-Exposed  1853.0  162427.0\n"
     ]
    },
    {
     "name": "stderr",
     "output_type": "stream",
     "text": [
      "/home/sdw95/.conda/envs/jp/lib/python2.7/site-packages/pandas/core/computation/expressions.py:183: UserWarning: evaluating in Python space because the '*' operator is not supported by numexpr for the bool dtype, use '&' instead\n",
      "  .format(op=op_str, alt_op=unsupported[op_str]))\n"
     ]
    },
    {
     "data": {
      "text/plain": [
       "(-0.30031672855009905,\n",
       " -0.072649974086963567,\n",
       " -0.5279834830132345,\n",
       " 0.0097265655690781383)"
      ]
     },
     "execution_count": 38,
     "metadata": {},
     "output_type": "execute_result"
    }
   ],
   "source": [
    "# Check if there is any enrichment for significant z-score difference\n",
    "# mutants to be population variants\n",
    "exposure_mask = ddg_singles[\"z-score (same AA)\"].abs() >= 1\n",
    "case_mask = ddg_singles[\"is_pop_var\"] == True\n",
    "\n",
    "odds_ratio(exposure_mask, case_mask, log_odds=True, verbose=True)"
   ]
  },
  {
   "cell_type": "code",
   "execution_count": null,
   "metadata": {},
   "outputs": [],
   "source": []
  },
  {
   "cell_type": "code",
   "execution_count": 41,
   "metadata": {},
   "outputs": [],
   "source": [
    "# Save summary of single mutant normalized ddG values\n",
    "ddg_singles.to_csv(\"{0}Hotspot_Scored_Mutants.txt\".format(ddg_singles_dir), sep=\"\\t\", index=None)"
   ]
  },
  {
   "cell_type": "code",
   "execution_count": null,
   "metadata": {},
   "outputs": [],
   "source": []
  },
  {
   "cell_type": "code",
   "execution_count": null,
   "metadata": {},
   "outputs": [],
   "source": []
  },
  {
   "cell_type": "code",
   "execution_count": null,
   "metadata": {},
   "outputs": [],
   "source": []
  }
 ],
 "metadata": {
  "kernelspec": {
   "display_name": "Python 2",
   "language": "python",
   "name": "python2"
  },
  "language_info": {
   "codemirror_mode": {
    "name": "ipython",
    "version": 2
   },
   "file_extension": ".py",
   "mimetype": "text/x-python",
   "name": "python",
   "nbconvert_exporter": "python",
   "pygments_lexer": "ipython2",
   "version": "2.7.15"
  }
 },
 "nbformat": 4,
 "nbformat_minor": 2
}

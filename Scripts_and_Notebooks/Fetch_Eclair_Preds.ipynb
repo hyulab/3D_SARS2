{
 "cells": [
  {
   "cell_type": "code",
   "execution_count": 9,
   "metadata": {},
   "outputs": [],
   "source": [
    "# Set the process name to be human readable in htop\n",
    "import setproctitle\n",
    "setproctitle.setproctitle(\"Fetch_Eclair_Preds\")\n",
    "\n",
    "from tqdm import tqdm, tqdm_notebook\n",
    "from tqdm._tqdm_notebook import tqdm_notebook\n",
    "\n",
    "tqdm.pandas(tqdm_notebook)\n",
    "tqdm_notebook.pandas()\n",
    "\n",
    "%matplotlib inline\n",
    "import matplotlib\n",
    "import matplotlib.pyplot as plt\n",
    "\n",
    "import pandas as pd\n",
    "import glob"
   ]
  },
  {
   "cell_type": "code",
   "execution_count": null,
   "metadata": {},
   "outputs": [],
   "source": []
  },
  {
   "cell_type": "code",
   "execution_count": null,
   "metadata": {},
   "outputs": [],
   "source": []
  },
  {
   "cell_type": "markdown",
   "metadata": {},
   "source": [
    "# Paramaters for file locations"
   ]
  },
  {
   "cell_type": "code",
   "execution_count": 10,
   "metadata": {},
   "outputs": [],
   "source": [
    "# Base directory for whole project\n",
    "base_dir = \"/home/sdw95/3D_SARS2\"\n",
    "\n",
    "# Original ECLAIR Prediction Output Location\n",
    "orig_dir = \"/home/sdw95/Collaborators/Eclair_Runs/2021_01_17_COVID19_Human_Interactome_Use_PDB_Structures/Predictions\"\n",
    "\n",
    "# Destination directory to store ECLAIR predictions locally\n",
    "dest_dir = \"{0}/Data/Eclair_Predictions\".format(base_dir)"
   ]
  },
  {
   "cell_type": "code",
   "execution_count": null,
   "metadata": {},
   "outputs": [],
   "source": []
  },
  {
   "cell_type": "markdown",
   "metadata": {},
   "source": [
    "# Collect / Parse all Raw Eclair Predictions"
   ]
  },
  {
   "cell_type": "code",
   "execution_count": 11,
   "metadata": {},
   "outputs": [
    {
     "data": {
      "application/vnd.jupyter.widget-view+json": {
       "model_id": "9338d3531a5c47ba97680728875da228",
       "version_major": 2,
       "version_minor": 0
      },
      "text/plain": [
       "HBox(children=(IntProgress(value=0, max=332), HTML(value=u'')))"
      ]
     },
     "metadata": {},
     "output_type": "display_data"
    },
    {
     "name": "stdout",
     "output_type": "stream",
     "text": [
      "\n"
     ]
    }
   ],
   "source": [
    "# Store ires summary\n",
    "summary = []\n",
    "\n",
    "# Iterate over all predictions in the input directory\n",
    "for f in tqdm_notebook(glob.glob(orig_dir + \"/*.pkl\")):\n",
    "    # Read ECLAIR Predictions\n",
    "    preds = pd.read_pickle(f)\n",
    "    \n",
    "    # Label by confidence tier\n",
    "    def label_tier(p):\n",
    "        if(p < 0.12):\n",
    "            return \"Very Low\"\n",
    "        elif(p < 0.24):\n",
    "            return \"Low\"\n",
    "        elif(p < 0.36):\n",
    "            return \"Medium\"\n",
    "        elif(p < 0.48):\n",
    "            return \"High\"\n",
    "        else:\n",
    "            return \"Very High\"\n",
    "    # FUNCTION END\n",
    "    preds[\"Tier\"] = preds[\"Pred\"].map(label_tier)\n",
    "    \n",
    "    # Reorder so COVID protein is P1 (for consistency with other naming)\n",
    "    p1, p2 = preds[[\"P1\", \"P2\"]].values[0]\n",
    "    if(not \"COVID\" in p1):\n",
    "        preds[\"P1\"] = p2\n",
    "        preds[\"P2\"] = p1\n",
    "        p1, p2 = p2, p1\n",
    "        preds[\"Prot\"] = 1 - preds[\"Prot\"]\n",
    "        preds = preds.sort_values([\"Prot\", \"Pos\"])\n",
    "    \n",
    "    # Save Preds to dest folder\n",
    "    preds.to_csv(\"{0}/{1}_{2}.txt\".format(dest_dir, p1, p2), sep=\"\\t\", index=None)\n",
    "    \n",
    "    # Store High / Very High Ires for Compiled Summary\n",
    "    p1_ires = sorted(preds[(preds[\"Pred\"] >= 0.36)&(preds[\"Prot\"] == 0)][\"Pos\"].to_list())\n",
    "    p2_ires = sorted(preds[(preds[\"Pred\"] >= 0.36)&(preds[\"Prot\"] == 1)][\"Pos\"].to_list())\n",
    "    \n",
    "    summary.append([p1, p2, \"ECLAIR\", sum(preds[\"Prot\"] == 0), len(p1_ires), \",\".join([str(x) for x in p1_ires]), sum(preds[\"Prot\"] == 1), len(p2_ires), \",\".join([str(x) for x in p2_ires])])\n",
    "\n",
    "# Create final DF\n",
    "summary = pd.DataFrame(summary, columns=[\"P1\", \"P2\", \"Source\", \"P1_Len\", \"P1_N_Ires\", \"P1_Ires\", \"P2_Len\", \"P2_N_Ires\", \"P2_Ires\"])"
   ]
  },
  {
   "cell_type": "code",
   "execution_count": 12,
   "metadata": {},
   "outputs": [
    {
     "data": {
      "text/html": [
       "<div>\n",
       "<style scoped>\n",
       "    .dataframe tbody tr th:only-of-type {\n",
       "        vertical-align: middle;\n",
       "    }\n",
       "\n",
       "    .dataframe tbody tr th {\n",
       "        vertical-align: top;\n",
       "    }\n",
       "\n",
       "    .dataframe thead th {\n",
       "        text-align: right;\n",
       "    }\n",
       "</style>\n",
       "<table border=\"1\" class=\"dataframe\">\n",
       "  <thead>\n",
       "    <tr style=\"text-align: right;\">\n",
       "      <th></th>\n",
       "      <th>P1</th>\n",
       "      <th>P2</th>\n",
       "      <th>Source</th>\n",
       "      <th>P1_Len</th>\n",
       "      <th>P1_N_Ires</th>\n",
       "      <th>P1_Ires</th>\n",
       "      <th>P2_Len</th>\n",
       "      <th>P2_N_Ires</th>\n",
       "      <th>P2_Ires</th>\n",
       "    </tr>\n",
       "  </thead>\n",
       "  <tbody>\n",
       "    <tr>\n",
       "      <th>0</th>\n",
       "      <td>COVID19nsp7</td>\n",
       "      <td>P11233</td>\n",
       "      <td>ECLAIR</td>\n",
       "      <td>83</td>\n",
       "      <td>14</td>\n",
       "      <td>7,8,9,11,12,15,16,25,26,27,34,37,49,60</td>\n",
       "      <td>206</td>\n",
       "      <td>11</td>\n",
       "      <td>37,43,56,159,160,161,162,163,165,169,173</td>\n",
       "    </tr>\n",
       "    <tr>\n",
       "      <th>1</th>\n",
       "      <td>COVID19nsp4</td>\n",
       "      <td>P62072</td>\n",
       "      <td>ECLAIR</td>\n",
       "      <td>500</td>\n",
       "      <td>87</td>\n",
       "      <td>43,44,46,49,54,55,56,60,61,63,64,65,66,67,68,6...</td>\n",
       "      <td>90</td>\n",
       "      <td>45</td>\n",
       "      <td>9,12,13,14,15,16,17,18,19,20,22,23,24,31,32,37...</td>\n",
       "    </tr>\n",
       "    <tr>\n",
       "      <th>2</th>\n",
       "      <td>COVID19orf9b</td>\n",
       "      <td>Q7KZI7</td>\n",
       "      <td>ECLAIR</td>\n",
       "      <td>97</td>\n",
       "      <td>20</td>\n",
       "      <td>44,45,46,48,49,50,52,53,56,57,59,60,61,64,65,6...</td>\n",
       "      <td>788</td>\n",
       "      <td>70</td>\n",
       "      <td>51,57,61,63,87,88,90,95,98,99,102,135,138,139,...</td>\n",
       "    </tr>\n",
       "    <tr>\n",
       "      <th>3</th>\n",
       "      <td>COVID19orf9c</td>\n",
       "      <td>O43292</td>\n",
       "      <td>ECLAIR</td>\n",
       "      <td>73</td>\n",
       "      <td>25</td>\n",
       "      <td>6,9,13,27,28,30,31,33,34,35,43,49,50,53,54,55,...</td>\n",
       "      <td>621</td>\n",
       "      <td>0</td>\n",
       "      <td></td>\n",
       "    </tr>\n",
       "    <tr>\n",
       "      <th>4</th>\n",
       "      <td>COVID19orf8</td>\n",
       "      <td>P29122</td>\n",
       "      <td>ECLAIR</td>\n",
       "      <td>121</td>\n",
       "      <td>8</td>\n",
       "      <td>39,40,42,76,81,104,105,111</td>\n",
       "      <td>969</td>\n",
       "      <td>21</td>\n",
       "      <td>222,232,237,279,282,283,284,286,298,316,320,32...</td>\n",
       "    </tr>\n",
       "  </tbody>\n",
       "</table>\n",
       "</div>"
      ],
      "text/plain": [
       "             P1      P2  Source  P1_Len  P1_N_Ires  \\\n",
       "0   COVID19nsp7  P11233  ECLAIR      83         14   \n",
       "1   COVID19nsp4  P62072  ECLAIR     500         87   \n",
       "2  COVID19orf9b  Q7KZI7  ECLAIR      97         20   \n",
       "3  COVID19orf9c  O43292  ECLAIR      73         25   \n",
       "4   COVID19orf8  P29122  ECLAIR     121          8   \n",
       "\n",
       "                                             P1_Ires  P2_Len  P2_N_Ires  \\\n",
       "0             7,8,9,11,12,15,16,25,26,27,34,37,49,60     206         11   \n",
       "1  43,44,46,49,54,55,56,60,61,63,64,65,66,67,68,6...      90         45   \n",
       "2  44,45,46,48,49,50,52,53,56,57,59,60,61,64,65,6...     788         70   \n",
       "3  6,9,13,27,28,30,31,33,34,35,43,49,50,53,54,55,...     621          0   \n",
       "4                         39,40,42,76,81,104,105,111     969         21   \n",
       "\n",
       "                                             P2_Ires  \n",
       "0           37,43,56,159,160,161,162,163,165,169,173  \n",
       "1  9,12,13,14,15,16,17,18,19,20,22,23,24,31,32,37...  \n",
       "2  51,57,61,63,87,88,90,95,98,99,102,135,138,139,...  \n",
       "3                                                     \n",
       "4  222,232,237,279,282,283,284,286,298,316,320,32...  "
      ]
     },
     "execution_count": 12,
     "metadata": {},
     "output_type": "execute_result"
    }
   ],
   "source": [
    "summary.head()"
   ]
  },
  {
   "cell_type": "code",
   "execution_count": null,
   "metadata": {},
   "outputs": [],
   "source": []
  },
  {
   "cell_type": "code",
   "execution_count": 13,
   "metadata": {},
   "outputs": [],
   "source": [
    "# Save summary file\n",
    "summary.to_csv(\"{0}/Data/Interface_Summary.txt\".format(base_dir), sep=\"\\t\", index=None)"
   ]
  },
  {
   "cell_type": "code",
   "execution_count": null,
   "metadata": {},
   "outputs": [],
   "source": []
  },
  {
   "cell_type": "code",
   "execution_count": null,
   "metadata": {},
   "outputs": [],
   "source": []
  }
 ],
 "metadata": {
  "kernelspec": {
   "display_name": "Python 2",
   "language": "python",
   "name": "python2"
  },
  "language_info": {
   "codemirror_mode": {
    "name": "ipython",
    "version": 2
   },
   "file_extension": ".py",
   "mimetype": "text/x-python",
   "name": "python",
   "nbconvert_exporter": "python",
   "pygments_lexer": "ipython2",
   "version": "2.7.15"
  }
 },
 "nbformat": 4,
 "nbformat_minor": 2
}

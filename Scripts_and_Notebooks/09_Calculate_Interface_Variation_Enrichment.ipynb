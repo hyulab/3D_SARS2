{
 "cells": [
  {
   "cell_type": "code",
   "execution_count": 3,
   "metadata": {},
   "outputs": [],
   "source": [
    "# Set the process name to be human readable in htop\n",
    "import setproctitle\n",
    "setproctitle.setproctitle(\"09_Calculate_Interface_Variation_Enrichment\")\n",
    "\n",
    "from config import *\n",
    "from helper_functions import pdb2df, odds_ratio, zip_res_range, unzip_res_range\n",
    "\n",
    "import pandas as pd\n",
    "pd.options.display.max_columns = 999\n",
    "\n",
    "import numpy as np\n",
    "\n",
    "import glob\n",
    "\n",
    "from tqdm import tqdm, tqdm_notebook\n",
    "from tqdm._tqdm_notebook import tqdm_notebook\n",
    "\n",
    "tqdm.pandas(tqdm_notebook)\n",
    "tqdm_notebook.pandas()"
   ]
  },
  {
   "cell_type": "code",
   "execution_count": null,
   "metadata": {},
   "outputs": [],
   "source": []
  },
  {
   "cell_type": "markdown",
   "metadata": {},
   "source": [
    "This notebook calculates the Log Odds enrichment for occurence of human population variants or SASR-CoV-1 to SARS-CoV-2 sequence divergences along the ECLAIR-predicted or docked interfaces. Output is summarized in Pop_Var_Enrichments.txt and Viral_Mut_Enrichments.txt.\n",
    "\n",
    "- Inputs:\n",
    "  - Interface_Summary.txt\n",
    "  - Pop_Vars.txt\n",
    "  - Viral_Muts.txt\n",
    "  - Proteins.txt\n",
    "\n",
    "\n",
    "- Static Resource Dependencies:\n",
    "  - H_sapiens_interfacesAll.txt\n",
    "  - pdbresiduemapping.txt\n",
    "  - ires_perpdb_alltax.txt\n",
    "\n",
    "\n",
    "- Outputs:\n",
    "  - Pop_Var_Enrichments.txt\n",
    "  - Viral_Mut_Enrichments.txt\n",
    "\n",
    "\n",
    "- Dependencies:\n",
    "  - Must be run after 05_Fetch_Population_Variants, 06_Compile_Viral_Mutations, and 08_Fetch_Top_Docks"
   ]
  },
  {
   "cell_type": "code",
   "execution_count": null,
   "metadata": {},
   "outputs": [],
   "source": []
  },
  {
   "cell_type": "markdown",
   "metadata": {},
   "source": [
    "# Calculate Enrichment on Human Population Variants"
   ]
  },
  {
   "cell_type": "code",
   "execution_count": 4,
   "metadata": {},
   "outputs": [],
   "source": [
    "# Read in IRES Info Summary\n",
    "ires_df = pd.read_csv(\"{0}/Interface_Summary.txt\".format(output_dir), sep=\"\\t\")\n",
    "ires_df = ires_df.sort_values([\"P1\", \"P2\", \"Source\"]).drop_duplicates([\"P1\", \"P2\"])\n",
    "#ires_df = ires_df[ires_df[\"Source\"] == \"ECLAIR\"]\n",
    "#ires_df = ires_df[ires_df[\"Source\"] == \"Docking\"]\n",
    "\n",
    "# Read in Human Pop Var Summary\n",
    "pop_var_df = pd.read_csv(\"{0}/Pop_Vars.txt\".format(output_dir), sep=\"\\t\")"
   ]
  },
  {
   "cell_type": "code",
   "execution_count": 5,
   "metadata": {},
   "outputs": [],
   "source": [
    "pop_var_df[\"gnomAD_AF\"] = pop_var_df[\"gnomAD_AF\"].map(lambda x: float(x if not x == \"-\" else np.nan))"
   ]
  },
  {
   "cell_type": "code",
   "execution_count": null,
   "metadata": {},
   "outputs": [],
   "source": []
  },
  {
   "cell_type": "code",
   "execution_count": 6,
   "metadata": {
    "scrolled": true
   },
   "outputs": [
    {
     "data": {
      "application/vnd.jupyter.widget-view+json": {
       "model_id": "b858b9c6227e40e7b40ca4c7d2364976",
       "version_major": 2,
       "version_minor": 0
      },
      "text/plain": [
       "HBox(children=(IntProgress(value=0, max=19), HTML(value=u'')))"
      ]
     },
     "metadata": {},
     "output_type": "display_data"
    },
    {
     "name": "stderr",
     "output_type": "stream",
     "text": [
      "helper_functions.py:203: UserWarning: Pandas doesn't allow columns to be created via a new attribute name - see https://pandas.pydata.org/pandas-docs/stable/indexing.html#attribute-access\n",
      "  df.header = header\n",
      "helper_functions.py:204: UserWarning: Pandas doesn't allow columns to be created via a new attribute name - see https://pandas.pydata.org/pandas-docs/stable/indexing.html#attribute-access\n",
      "  df.tailer = tailer\n"
     ]
    },
    {
     "name": "stdout",
     "output_type": "stream",
     "text": [
      "\n"
     ]
    }
   ],
   "source": [
    "# Generate Coverage Masks (only applied to docked interface predictions)\n",
    "#\n",
    "# NOTE: Assumes only one structure used for each interaction. This is currently\n",
    "#       a safe assumption because the viral proteins only have one structure selected\n",
    "#       and each of the human proteins only interact with one viral protein.\n",
    "# NOTE: The COVID19 N protein technically had two structures with distinct coverage\n",
    "#       considered, but only one of them was used for docking. So we still haven't\n",
    "#       violated the assumption.\n",
    "#\n",
    "uni2seq = pd.read_csv(\"{0}/Proteins.txt\".format(output_dir), sep=\"\\t\").set_index(\"ID\")[\"Sequence\"].to_dict()\n",
    "uni2coverage_mask = dict()\n",
    "for uni in tqdm_notebook(uni2seq):\n",
    "    uni2coverage_mask[uni] = np.zeros(len(uni2seq[uni]))\n",
    "    \n",
    "    # Grab the structure used in docking where available\n",
    "    #\n",
    "    # These structures are renamed with these formats...\n",
    "    #\n",
    "    # ProtID_PDBID_ChainID.pdb   - For PDB Structures\n",
    "    #\n",
    "    # or\n",
    "    #\n",
    "    # ProtID_ModbaseID.pdb       - For ModBase Homology Models for Human Proteins\n",
    "    #\n",
    "    # or\n",
    "    #\n",
    "    # ProtID.pdb                 - For COVID19 Homology Models (only applies to nsp14 currently)\n",
    "    #\n",
    "    # In the current setup only one structure is used per protein.\n",
    "    try:\n",
    "        # Pull out all structure matches for this Uniprot\n",
    "        uni_f = glob.glob(\"{0}/Undocked_Structures/{1}[_\\.]*\".format(output_dir, uni))\n",
    "        \n",
    "        # Make sure there are no cases with more than 1 option\n",
    "        if(len(uni_f) > 1):\n",
    "            print uni, uni_f\n",
    "            \n",
    "            # Special case where two PDB options with distinct coverage were available\n",
    "            # However, only one structure was used in docking, so we only just manually\n",
    "            # make sure the right one get used\n",
    "            if(uni == \"COVID19N\"):\n",
    "                uni_f = [x for x in uni_f if \"6WZQ\" in x]\n",
    "            \n",
    "            # If this happens our assumptions have been violated / code needs to be re-worked for\n",
    "            # interaciton-level coverage (e.g. inter2coverage_mask instead of uni2coverage_mask)\n",
    "            else:\n",
    "                raise\n",
    "        uni_f = uni_f[0]\n",
    "        #if(not \"COVID19\" in uni):\n",
    "        #    uni_f = glob.glob(\"{0}/Undocked_Structures/COVID19*_{1}_B.pdb\".format(output_dir, uni))[0]\n",
    "        #else:\n",
    "        #    uni_f = glob.glob(\"{0}/Undocked_Structures/{1}_*_A.pdb\".format(output_dir, uni))[0]\n",
    "    except IndexError:\n",
    "        continue\n",
    "    \n",
    "    # Read PDB to identified Residue IDs (and correct for 1-index to 0-index offset)\n",
    "    pdb_df = pdb2df(uni_f)\n",
    "    resis = list(pdb_df[\"Residue ID\"].unique() - 1)\n",
    "    resis = [x for x in resis if x >= 0]\n",
    "    \n",
    "    # Update coverage mask accordingly\n",
    "    uni2coverage_mask[uni][resis] = 1"
   ]
  },
  {
   "cell_type": "code",
   "execution_count": null,
   "metadata": {},
   "outputs": [],
   "source": []
  },
  {
   "cell_type": "code",
   "execution_count": 6,
   "metadata": {},
   "outputs": [],
   "source": [
    "# Calculate Odds Ratios\n",
    "summary = []\n",
    "uni2iresmask = dict()\n",
    "uni2popmask = dict()\n",
    "\n",
    "# Iterate over all interactions\n",
    "for p1, p2, uni_len, ires, source in ires_df[[\"P1\", \"P2\", \"P2_Len\", \"P2_Ires\", \"Source\"]].values:\n",
    "    # Parse Ires\n",
    "    if(pd.isnull(ires)):\n",
    "        ires = []\n",
    "    else:\n",
    "        ires = [int(x)-1 for x in ires.split(\",\")]\n",
    "    \n",
    "    # Create mask describing Ires Locations\n",
    "    ires_mask = np.zeros(uni_len)\n",
    "    ires_mask[ires] = 1\n",
    "    \n",
    "    # Fetch locations of population variants on this gene\n",
    "    # No gnomAD AF Filter applied (but filter condition left in so this can\n",
    "    # easily be re-run with an AF filter)\n",
    "    AF_thresh = -0.001 # Set negative for no filtering\n",
    "    pop_vars = [x-1 for x in pop_var_df[(pop_var_df[\"UniProt\"] == p2)&(pop_var_df[\"gnomAD_AF\"] >= AF_thresh)][\"AA_Pos\"].unique()]\n",
    "    \n",
    "    # Create mask describing Pop Var locations\n",
    "    pop_mask = np.zeros(uni_len)\n",
    "    pop_mask[pop_vars] = 1\n",
    "    \n",
    "    # Apply coverage mask if working with interface from Docked predictions\n",
    "    # (Need to adjust the log odds ratio to only consider the portion of the protein\n",
    "    # covered. The rest of the protein is \"non-interface\" by default)\n",
    "    if(source == \"Docking\"):\n",
    "        coverage_mask = uni2coverage_mask[p2]\n",
    "        ires_mask = ires_mask[coverage_mask == True]\n",
    "        pop_mask = pop_mask[coverage_mask == True]\n",
    "    \n",
    "    # Calculate Odds Ratio for Enrichment\n",
    "    OR, up, low, p = odds_ratio(ires_mask, pop_mask, error=\"CI\", two_sided=False)\n",
    "    OR, up, low = np.log2([OR, up, low])\n",
    "    \n",
    "    # Store these masks for access later\n",
    "    if(not p2 in uni2iresmask.keys()):\n",
    "        uni2iresmask[p2] = ires_mask\n",
    "        uni2popmask[p2] = pop_mask\n",
    "    # This case should never happen (retained from similarly structured code for viral side)\n",
    "    # Also provides a secondary check to flag cases where one human protein interacts\n",
    "    # with two viral proteins\n",
    "    else:\n",
    "        print \"HERE\"\n",
    "        uni2iresmask[p2] = uni2iresmask[p2] | ires_mask\n",
    "        uni2popmask[p2] = uni2popmask[p2] | pop_mask\n",
    "    \n",
    "    summary.append([p1, p2, OR, low, up, p, sum(ires_mask*(1-pop_mask)), sum(ires_mask*pop_mask), sum((1-ires_mask)*pop_mask), sum((1-ires_mask)*(1-pop_mask))])\n",
    "summary = pd.DataFrame(summary, columns=[\"P1\", \"P2\", \"LogOdds\", \"CI_Low\", \"CI_Up\", \"P-value\", \"Ires_NoVar\", \"Ires_Var\", \"NoIres_Var\", \"NoIres_NoVar\"])"
   ]
  },
  {
   "cell_type": "code",
   "execution_count": 7,
   "metadata": {},
   "outputs": [],
   "source": [
    "# Save results\n",
    "summary.to_csv(\"{0}/Pop_Var_Enrichments.txt\".format(output_dir), sep=\"\\t\", index=None)"
   ]
  },
  {
   "cell_type": "code",
   "execution_count": 8,
   "metadata": {},
   "outputs": [],
   "source": [
    "# Re-read results (Can continue from this point without re-running the initial enrichment calculations)\n",
    "summary = pd.read_csv(\"{0}/Pop_Var_Enrichments.txt\".format(output_dir), sep=\"\\t\")"
   ]
  },
  {
   "cell_type": "code",
   "execution_count": 10,
   "metadata": {},
   "outputs": [
    {
     "name": "stdout",
     "output_type": "stream",
     "text": [
      "               Case  Non-Case\n",
      "Exposed        52.0     175.0\n",
      "Non-Exposed  1531.0    2927.0\n",
      "-0.815822930782 -0.583464501098 -1.04818136047 0.000223167089529\n"
     ]
    }
   ],
   "source": [
    "# Overall Enrichment Across all Genes\n",
    "ires_mask = np.concatenate([uni2iresmask[uni] for uni in uni2iresmask.keys()])\n",
    "pop_mask = np.concatenate([uni2popmask[uni] for uni in uni2iresmask.keys()])\n",
    "\n",
    "OR, up, low, p = odds_ratio(ires_mask, pop_mask, error=\"SE\", two_sided=False, verbose=True)\n",
    "OR, up, low = np.log2([OR, up, low])\n",
    "    \n",
    "print OR, up, low, p"
   ]
  },
  {
   "cell_type": "code",
   "execution_count": null,
   "metadata": {},
   "outputs": [],
   "source": []
  },
  {
   "cell_type": "code",
   "execution_count": null,
   "metadata": {},
   "outputs": [],
   "source": []
  },
  {
   "cell_type": "code",
   "execution_count": null,
   "metadata": {},
   "outputs": [],
   "source": []
  },
  {
   "cell_type": "code",
   "execution_count": 12,
   "metadata": {},
   "outputs": [],
   "source": [
    "# Compare against IRES Pop-var enrichment for human-human interfaces (on the same human protein set)"
   ]
  },
  {
   "cell_type": "code",
   "execution_count": 13,
   "metadata": {},
   "outputs": [],
   "source": [
    "# OPTION 1: Use PDB interface reisudes and consider ALL positions in the enrichment\n",
    "#\n",
    "# NOTE: This approach is consistent with what I did for ECLAIR predicted viral-human interfaces.\n",
    "#       since the ECLAIR predictions don't inherently limit the score to one structure, there's no reason\n",
    "#       not to use the full length protein sequence in the enrichment calculation.\n",
    "#       \n",
    "#       We don't specifically expect there to be any bias in the true co-crystal structure\n",
    "#       so we could argue the coverage restriction is not necessary here?"
   ]
  },
  {
   "cell_type": "code",
   "execution_count": 14,
   "metadata": {},
   "outputs": [],
   "source": [
    "# This file available for download here...\n",
    "# http://interactomeinsider.yulab.org/downloads.html\n",
    "# http://interactomeinsider.yulab.org/downloads/interfacesALL/H_sapiens_interfacesALL.txt\n",
    "eclair = pd.read_csv(\"{0}/H_sapiens_interfacesALL.txt\".format(resource_dir), sep=\"\\t\")\n",
    "eclair = eclair[eclair[\"Source\"] == \"PDB\"]"
   ]
  },
  {
   "cell_type": "code",
   "execution_count": 15,
   "metadata": {},
   "outputs": [],
   "source": [
    "from mjm_tools import unzip_res_range"
   ]
  },
  {
   "cell_type": "code",
   "execution_count": 16,
   "metadata": {},
   "outputs": [],
   "source": [
    "uni2realiresmask = dict()\n",
    "uni2popmask = dict()\n",
    "for p1, p2, source, ires1, ires2 in eclair[eclair[\"P1\"].isin(uni2seq.keys()) | eclair[\"P2\"].isin(uni2seq.keys())].values:\n",
    "    if(p1 in uni2seq.keys()):\n",
    "        ires_mask = np.zeros(len(uni2seq[p1]))\n",
    "        ires = [int(x)-1 for x in unzip_res_range(ires1)]\n",
    "        ires_mask[ires] = 1\n",
    "        \n",
    "        pop_vars = [x-1 for x in pop_var_df[(pop_var_df[\"UniProt\"] == p1)&(pop_var_df[\"gnomAD_AF\"] >= -0.001)][\"AA_Pos\"].unique()]\n",
    "        \n",
    "        pop_mask = np.zeros(len(uni2seq[p1]))\n",
    "        pop_mask[pop_vars] = 1\n",
    "        \n",
    "        if(not p1 in uni2realiresmask.keys()):\n",
    "            uni2realiresmask[p1] = ires_mask\n",
    "            uni2popmask[p1] = pop_mask\n",
    "        else:\n",
    "            uni2realiresmask[p1] = uni2realiresmask[p1] + ires_mask\n",
    "    \n",
    "    if(p2 in uni2seq.keys()):\n",
    "        ires_mask = np.zeros(len(uni2seq[p2]))\n",
    "        ires = [int(x)-1 for x in unzip_res_range(ires2)]\n",
    "        ires_mask[ires] = 1\n",
    "        \n",
    "        pop_vars = [x-1 for x in pop_var_df[(pop_var_df[\"UniProt\"] == p2)&(pop_var_df[\"gnomAD_AF\"] >= -0.001)][\"AA_Pos\"].unique()]\n",
    "        \n",
    "        pop_mask = np.zeros(len(uni2seq[p2]))\n",
    "        pop_mask[pop_vars] = 1\n",
    "        \n",
    "        if(not p2 in uni2realiresmask.keys()):\n",
    "            uni2realiresmask[p2] = ires_mask\n",
    "            uni2popmask[p2] = pop_mask\n",
    "        else:\n",
    "            uni2realiresmask[p2] = uni2realiresmask[p2] + ires_mask"
   ]
  },
  {
   "cell_type": "code",
   "execution_count": 18,
   "metadata": {},
   "outputs": [
    {
     "name": "stdout",
     "output_type": "stream",
     "text": [
      "              Case  Non-Case\n",
      "Exposed       41.0     179.0\n",
      "Non-Exposed  623.0    1358.0\n",
      "-1.00208436143 -0.742726673558 -1.26144204929 5.58376029796e-05\n"
     ]
    }
   ],
   "source": [
    "# Overall Enrichment Across all Genes\n",
    "ires_mask = np.concatenate([uni2realiresmask[uni] for uni in uni2realiresmask.keys()]) >= 1\n",
    "pop_mask = np.concatenate([uni2popmask[uni] for uni in uni2realiresmask.keys()]) >= 1\n",
    "\n",
    "OR, up, low, p = odds_ratio(ires_mask, pop_mask, error=\"SE\", two_sided=False, verbose=True)\n",
    "OR, up, low = np.log2([OR, up, low])\n",
    "    \n",
    "print OR, up, low, p"
   ]
  },
  {
   "cell_type": "code",
   "execution_count": null,
   "metadata": {},
   "outputs": [],
   "source": []
  },
  {
   "cell_type": "code",
   "execution_count": null,
   "metadata": {},
   "outputs": [],
   "source": []
  },
  {
   "cell_type": "code",
   "execution_count": 19,
   "metadata": {},
   "outputs": [],
   "source": [
    "# Option 2: Use PDB interface residues, but ONLY consider positions that are covered in the source PBD structures\n",
    "# \n",
    "# NOTE: This is consistent with the calculation I do for docked human-viral interfaces.\n",
    "#       I also tend to believe this is the more fair approach because we can't\n",
    "#       definitively label anything outside the co-crystal structure as either interface\n",
    "#       or non-interface, so it's best to leave un-covered residues out of the calculation.\n",
    "#       \n",
    "#       On average the residues excluded from a co-crystal structure are probably less likely\n",
    "#       to be interface residues, but there could always be edge cases (e.g. only two interacting\n",
    "#       domains could be crystalized, but there are other interacting regions)"
   ]
  },
  {
   "cell_type": "code",
   "execution_count": 20,
   "metadata": {},
   "outputs": [],
   "source": [
    "# Read sifts data / filter to only relevant UniProts\n",
    "#\n",
    "# NOTE: SIFTS data originally downloaded and parsed from SIFTS\n",
    "#       based on code originally written by Michael Meyer\n",
    "#       \n",
    "#       This version of the SIFTS file is subsetted to only include\n",
    "#       human interactors of SARS-CoV-2\n",
    "#       \n",
    "#       Unparsed data can be downloaded here...\n",
    "#       \n",
    "#       ftp://ftp.ebi.ac.uk/pub/databases/msd/sifts/split_xml\n",
    "sifts = pd.read_csv(\"{0}/sifts/pdbresiduemapping.txt\".format(resource_dir), sep=\"\\t\")\n",
    "sifts = sifts[sifts[\"UniProt\"].isin(uni2seq.keys())]\n",
    "\n",
    "# Generate (PDB, Chain) --> Covered Resis dictionary\n",
    "pdb2pos = sifts.set_index([\"PDB\", \"Chain\"])[\"MappableResInPDBChainOnUniprotBasis\"].map(lambda x: [int(x)-1 for x in unzip_res_range(x)]).to_dict()\n",
    "\n",
    "# Read in interface data from whole PDB\n",
    "ires_df = pd.read_csv(\"{0}/ires/ires_perpdb_alltax.txt\".format(resource_dir), sep=\"\\t\")"
   ]
  },
  {
   "cell_type": "code",
   "execution_count": 21,
   "metadata": {},
   "outputs": [],
   "source": [
    "uni2realiresmask = dict()\n",
    "uni2popmask = dict()\n",
    "uni2coveragemask = dict()\n",
    "for p1, p2, pdb, chain1, chain2, ires1, ires2 in ires_df[ires_df[\"UniProtA\"].isin(uni2seq.keys()) | ires_df[\"UniProtB\"].isin(uni2seq.keys())][[\"UniProtA\", \"UniProtB\", \"PDB\", \"ChainA\", \"ChainB\", \"UniProtIresA\", \"UniProtIresB\"]].values:\n",
    "    if(p1 in uni2seq.keys()):\n",
    "        ires_mask = np.zeros(len(uni2seq[p1]))\n",
    "        ires = [int(x)-1 for x in unzip_res_range(ires1)]\n",
    "        ires_mask[ires] = 1\n",
    "        \n",
    "        pop_vars = [x-1 for x in pop_var_df[(pop_var_df[\"UniProt\"] == p1)&(pop_var_df[\"gnomAD_AF\"] >= -0.001)][\"AA_Pos\"].unique()]\n",
    "        \n",
    "        pop_mask = np.zeros(len(uni2seq[p1]))\n",
    "        pop_mask[pop_vars] = 1\n",
    "        \n",
    "        coverage_mask = np.zeros(len(uni2seq[p1]))\n",
    "        coverage_mask[pdb2pos[(pdb, chain1)]] = 1\n",
    "        \n",
    "        if(not p1 in uni2realiresmask.keys()):\n",
    "            uni2realiresmask[p1] = ires_mask\n",
    "            uni2popmask[p1] = pop_mask\n",
    "            uni2coveragemask[p1] = coverage_mask\n",
    "        # Update the Ires and Coverage Masks to consider the aggregate from\n",
    "        # all interactions involving these proteins\n",
    "        else:\n",
    "            uni2realiresmask[p1] = uni2realiresmask[p1] + ires_mask\n",
    "            uni2coveragemask[p1] = uni2coveragemask[p1] + coverage_mask\n",
    "    \n",
    "    if(p2 in uni2seq.keys()):\n",
    "        ires_mask = np.zeros(len(uni2seq[p2]))\n",
    "        ires = [int(x)-1 for x in unzip_res_range(ires2)]\n",
    "        ires_mask[ires] = 1\n",
    "        \n",
    "        pop_vars = [x-1 for x in pop_var_df[(pop_var_df[\"UniProt\"] == p2)&(pop_var_df[\"gnomAD_AF\"] >= -0.001)][\"AA_Pos\"].unique()]\n",
    "        \n",
    "        pop_mask = np.zeros(len(uni2seq[p2]))\n",
    "        pop_mask[pop_vars] = 1\n",
    "        \n",
    "        coverage_mask = np.zeros(len(uni2seq[p2]))\n",
    "        coverage_mask[pdb2pos[(pdb, chain2)]] = 1\n",
    "        \n",
    "        if(not p2 in uni2realiresmask.keys()):\n",
    "            uni2realiresmask[p2] = ires_mask\n",
    "            uni2popmask[p2] = pop_mask\n",
    "            uni2coveragemask[p2] = coverage_mask\n",
    "        # Update the Ires and Coverage Masks to consider the aggregate from\n",
    "        # all interactions involving these proteins\n",
    "        else:\n",
    "            uni2realiresmask[p2] = uni2realiresmask[p2] + ires_mask\n",
    "            uni2coveragemask[p2] = uni2coveragemask[p2] + coverage_mask"
   ]
  },
  {
   "cell_type": "code",
   "execution_count": 22,
   "metadata": {},
   "outputs": [
    {
     "name": "stdout",
     "output_type": "stream",
     "text": [
      "              Case  Non-Case\n",
      "Exposed      117.0     420.0\n",
      "Non-Exposed  453.0    1287.0\n",
      "-0.337451699908 -0.167284200871 -0.507619198946 0.0236805807921\n"
     ]
    }
   ],
   "source": [
    "# Overall Enrichment Across all Genes\n",
    "ires_mask = np.concatenate([uni2realiresmask[uni][uni2coveragemask[uni] >= 1] for uni in uni2realiresmask.keys()]) >= 1\n",
    "pop_mask = np.concatenate([uni2popmask[uni][uni2coveragemask[uni] >= 1] for uni in uni2realiresmask.keys()]) >= 1\n",
    "\n",
    "OR, up, low, p = odds_ratio(ires_mask, pop_mask, error=\"SE\", two_sided=False, verbose=True)\n",
    "OR, up, low = np.log2([OR, up, low])\n",
    "    \n",
    "print OR, up, low, p"
   ]
  },
  {
   "cell_type": "code",
   "execution_count": null,
   "metadata": {},
   "outputs": [],
   "source": []
  },
  {
   "cell_type": "code",
   "execution_count": 23,
   "metadata": {},
   "outputs": [
    {
     "data": {
      "text/html": [
       "<div>\n",
       "<style scoped>\n",
       "    .dataframe tbody tr th:only-of-type {\n",
       "        vertical-align: middle;\n",
       "    }\n",
       "\n",
       "    .dataframe tbody tr th {\n",
       "        vertical-align: top;\n",
       "    }\n",
       "\n",
       "    .dataframe thead th {\n",
       "        text-align: right;\n",
       "    }\n",
       "</style>\n",
       "<table border=\"1\" class=\"dataframe\">\n",
       "  <thead>\n",
       "    <tr style=\"text-align: right;\">\n",
       "      <th></th>\n",
       "      <th>P1</th>\n",
       "      <th>P2</th>\n",
       "      <th>LogOdds</th>\n",
       "      <th>CI_Low</th>\n",
       "      <th>CI_Up</th>\n",
       "      <th>P-value</th>\n",
       "      <th>Ires_NoVar</th>\n",
       "      <th>Ires_Var</th>\n",
       "      <th>NoIres_Var</th>\n",
       "      <th>NoIres_NoVar</th>\n",
       "    </tr>\n",
       "  </thead>\n",
       "  <tbody>\n",
       "  </tbody>\n",
       "</table>\n",
       "</div>"
      ],
      "text/plain": [
       "Empty DataFrame\n",
       "Columns: [P1, P2, LogOdds, CI_Low, CI_Up, P-value, Ires_NoVar, Ires_Var, NoIres_Var, NoIres_NoVar]\n",
       "Index: []"
      ]
     },
     "execution_count": 23,
     "metadata": {},
     "output_type": "execute_result"
    }
   ],
   "source": [
    "# Look at significantly enriched interfaces in order\n",
    "summary[(summary[\"P-value\"] <= 0.05)].sort_values(\"P-value\")"
   ]
  },
  {
   "cell_type": "code",
   "execution_count": 25,
   "metadata": {},
   "outputs": [
    {
     "data": {
      "text/html": [
       "<div>\n",
       "<style scoped>\n",
       "    .dataframe tbody tr th:only-of-type {\n",
       "        vertical-align: middle;\n",
       "    }\n",
       "\n",
       "    .dataframe tbody tr th {\n",
       "        vertical-align: top;\n",
       "    }\n",
       "\n",
       "    .dataframe thead th {\n",
       "        text-align: right;\n",
       "    }\n",
       "</style>\n",
       "<table border=\"1\" class=\"dataframe\">\n",
       "  <thead>\n",
       "    <tr style=\"text-align: right;\">\n",
       "      <th></th>\n",
       "      <th>P1</th>\n",
       "      <th>P2</th>\n",
       "      <th>LogOdds</th>\n",
       "      <th>CI_Low</th>\n",
       "      <th>CI_Up</th>\n",
       "      <th>P-value</th>\n",
       "      <th>Ires_NoVar</th>\n",
       "      <th>Ires_Var</th>\n",
       "      <th>NoIres_Var</th>\n",
       "      <th>NoIres_NoVar</th>\n",
       "    </tr>\n",
       "  </thead>\n",
       "  <tbody>\n",
       "  </tbody>\n",
       "</table>\n",
       "</div>"
      ],
      "text/plain": [
       "Empty DataFrame\n",
       "Columns: [P1, P2, LogOdds, CI_Low, CI_Up, P-value, Ires_NoVar, Ires_Var, NoIres_Var, NoIres_NoVar]\n",
       "Index: []"
      ]
     },
     "execution_count": 25,
     "metadata": {},
     "output_type": "execute_result"
    }
   ],
   "source": [
    "# Check for perfectly enriched or perfectly depleted interfaces (i.e. every interface residue\n",
    "# has or does not have a variant)\n",
    "# (a proper log ratio cannot be calculated in these cases, but if they occur they\n",
    "#  would be of interest)\n",
    "summary[((summary[\"Ires_NoVar\"] + summary[\"Ires_Var\"]) > 0)&(pd.isnull(summary[\"LogOdds\"]))].drop_duplicates(\"P2\")"
   ]
  },
  {
   "cell_type": "code",
   "execution_count": null,
   "metadata": {},
   "outputs": [],
   "source": []
  },
  {
   "cell_type": "code",
   "execution_count": null,
   "metadata": {},
   "outputs": [],
   "source": []
  },
  {
   "cell_type": "code",
   "execution_count": null,
   "metadata": {},
   "outputs": [],
   "source": []
  },
  {
   "cell_type": "markdown",
   "metadata": {},
   "source": [
    "# Calculate Enrichment on Viral Mutations"
   ]
  },
  {
   "cell_type": "code",
   "execution_count": 26,
   "metadata": {},
   "outputs": [],
   "source": [
    "# Read in IRES Info Summary\n",
    "ires_df = pd.read_csv(\"{0}/Interface_Summary.txt\".format(output_dir), sep=\"\\t\")\n",
    "ires_df = ires_df.sort_values([\"P1\", \"P2\", \"Source\"]).drop_duplicates([\"P1\", \"P2\"])\n",
    "#ires_df = ires_df[ires_df[\"Source\"] == \"ECLAIR\"]\n",
    "#ires_df = ires_df[ires_df[\"Source\"] == \"Docking\"]\n",
    "\n",
    "# Read in Viral Mutations Summary\n",
    "viral_mut_df = pd.read_csv(\"{0}/Viral_Muts.txt\".format(output_dir), sep=\"\\t\")"
   ]
  },
  {
   "cell_type": "code",
   "execution_count": 27,
   "metadata": {},
   "outputs": [
    {
     "data": {
      "application/vnd.jupyter.widget-view+json": {
       "model_id": "a80c85b4a1e641ae9cfe0e4d3f8bce45",
       "version_major": 2,
       "version_minor": 0
      },
      "text/plain": [
       "HBox(children=(IntProgress(value=0, max=19), HTML(value=u'')))"
      ]
     },
     "metadata": {},
     "output_type": "display_data"
    },
    {
     "name": "stdout",
     "output_type": "stream",
     "text": [
      "COVID19nsp15\n",
      "COVID19nsp14\n",
      "\n"
     ]
    }
   ],
   "source": [
    "# Generate Coverage Masks\n",
    "uni2seq = pd.read_csv(\"{0}/Proteins.txt\".format(output_dir), sep=\"\\t\").set_index(\"ID\")[\"Sequence\"].to_dict()\n",
    "uni2coverage_mask = dict()\n",
    "for uni in tqdm_notebook(uni2seq):\n",
    "    uni2coverage_mask[uni] = np.zeros(len(uni2seq[uni]))\n",
    "    try:\n",
    "        # Pull out all structure matches for this Uniprot\n",
    "        uni_f = glob.glob(\"{0}/Undocked_Structures/{1}[_\\.]*\".format(output_dir, uni))\n",
    "        \n",
    "        # Make sure there are no cases with more than 1 option\n",
    "        if(len(uni_f) > 1):\n",
    "            print uni, uni_f\n",
    "            \n",
    "            # Special case where two PDB options with distinct coverage were available\n",
    "            # However, only one structure was used in docking, so we only just manually\n",
    "            # make sure the right one get used\n",
    "            if(uni == \"COVID19N\"):\n",
    "                uni_f = [x for x in uni_f if \"6WZQ\" in x]\n",
    "            \n",
    "            # If this happens our assumptions have been violated / code needs to be re-worked for\n",
    "            # interaciton-level coverage (e.g. inter2coverage_mask instead of uni2coverage_mask)\n",
    "            else:\n",
    "                raise\n",
    "        uni_f = uni_f[0]\n",
    "    except IndexError:\n",
    "        #print uni\n",
    "        continue\n",
    "    \n",
    "    pdb_df = pdb2df(uni_f)\n",
    "    resis = list(pdb_df[\"Residue ID\"].unique() - 1)\n",
    "    resis = [x for x in resis if x >= 0]\n",
    "    \n",
    "    uni2coverage_mask[uni][resis] = 1\n",
    "    \n",
    "    if(sum(uni2coverage_mask[uni][resis]) == len(uni2seq[uni]) - 1):\n",
    "        print uni\n",
    "        uni2coverage_mask[uni][:] = 1"
   ]
  },
  {
   "cell_type": "code",
   "execution_count": null,
   "metadata": {},
   "outputs": [],
   "source": []
  },
  {
   "cell_type": "code",
   "execution_count": null,
   "metadata": {},
   "outputs": [],
   "source": []
  },
  {
   "cell_type": "code",
   "execution_count": 28,
   "metadata": {},
   "outputs": [],
   "source": [
    "# Calculate Odds Ratios\n",
    "summary = []\n",
    "uni2iresmask = dict()\n",
    "uni2mutmask = dict()\n",
    "for p1, p2, uni_len, ires, source in ires_df[[\"P1\", \"P2\", \"P1_Len\", \"P1_Ires\", \"Source\"]].values:\n",
    "    if(not p1 in viral_mut_df[\"COVID_ID\"].unique()):\n",
    "        print p1, \"Has no detectable muts\"\n",
    "        summary.append([p1, p2, np.nan, np.nan, np.nan, np.nan, np.nan, np.nan, np.nan, np.nan])\n",
    "        continue\n",
    "    if(pd.isnull(ires)):\n",
    "        ires = []\n",
    "    else:\n",
    "        ires = [int(x)-1 for x in ires.split(\",\")]\n",
    "    \n",
    "    ires_mask = np.zeros(uni_len)\n",
    "    ires_mask[ires] = 1\n",
    "    \n",
    "    muts = [x-1 for x in viral_mut_df[(viral_mut_df[\"COVID_ID\"] == p1)][\"COVID_Pos\"].unique()]\n",
    "    \n",
    "    mutmask = np.zeros(uni_len)\n",
    "    mutmask[muts] = 1\n",
    "    \n",
    "    if(source == \"Docking\"):\n",
    "        coverage_mask = uni2coverage_mask[p1]\n",
    "        ires_mask = ires_mask[coverage_mask == True]\n",
    "        mutmask = mutmask[coverage_mask == True]\n",
    "    \n",
    "    OR, up, low, p = odds_ratio(ires_mask, mutmask, error=\"CI\", two_sided=False)\n",
    "    OR, up, low = np.log2([OR, up, low])\n",
    "    \n",
    "    if(not source == \"Docking\" and any(ires_df[ires_df[\"P1\"] == p1][\"Source\"] == \"Docking\")):\n",
    "        coverage_mask = uni2coverage_mask[p1]\n",
    "        ires_mask = ires_mask[coverage_mask == True]\n",
    "        mutmask = mutmask[coverage_mask == True]\n",
    "    \n",
    "    \n",
    "    if(not p1 in uni2iresmask.keys()):\n",
    "        uni2iresmask[p1] = ires_mask\n",
    "        uni2mutmask[p1] = mutmask\n",
    "    else:\n",
    "        #print \"HERE\"\n",
    "        uni2iresmask[p1] = uni2iresmask[p1] + ires_mask\n",
    "        uni2mutmask[p1] = uni2mutmask[p1] + mutmask\n",
    "    \n",
    "    summary.append([p1, p2, OR, low, up, p, sum(ires_mask*(1-mutmask)), sum(ires_mask*mutmask), sum((1-ires_mask)*mutmask), sum((1-ires_mask)*(1-mutmask))])\n",
    "summary = pd.DataFrame(summary, columns=[\"P1\", \"P2\", \"LogOdds\", \"CI_Low\", \"CI_Up\", \"P-value\", \"Ires_NoVar\", \"Ires_Var\", \"NoIres_Var\", \"NoIres_NoVar\"])"
   ]
  },
  {
   "cell_type": "code",
   "execution_count": 29,
   "metadata": {},
   "outputs": [],
   "source": [
    "summary.to_csv(\"{0}/Viral_Mut_Enrichments.txt\".format(output_dir), sep=\"\\t\", index=None)"
   ]
  },
  {
   "cell_type": "code",
   "execution_count": 30,
   "metadata": {},
   "outputs": [],
   "source": [
    "summary = pd.read_csv(\"{0}/Viral_Mut_Enrichments.txt\".format(output_dir), sep=\"\\t\")"
   ]
  },
  {
   "cell_type": "code",
   "execution_count": null,
   "metadata": {},
   "outputs": [],
   "source": []
  },
  {
   "cell_type": "code",
   "execution_count": 31,
   "metadata": {},
   "outputs": [
    {
     "name": "stdout",
     "output_type": "stream",
     "text": [
      "              Case  Non-Case\n",
      "Exposed       42.0     276.0\n",
      "Non-Exposed  273.0    1584.0\n",
      "-0.17960755484 0.0773664789461 -0.436581588625 0.242297045824\n"
     ]
    }
   ],
   "source": [
    "# Overall Enrichment Across all Genes\n",
    "ires_mask = np.concatenate([uni2iresmask[uni]>0 for uni in uni2iresmask.keys()])\n",
    "pop_mask = np.concatenate([uni2mutmask[uni]>0 for uni in uni2iresmask.keys()])\n",
    "\n",
    "OR, up, low, p = odds_ratio(ires_mask, pop_mask, error=\"SE\", two_sided=False, verbose=True)\n",
    "OR, up, low = np.log2([OR, up, low])\n",
    "    \n",
    "print OR, up, low, p"
   ]
  },
  {
   "cell_type": "code",
   "execution_count": null,
   "metadata": {},
   "outputs": [],
   "source": []
  },
  {
   "cell_type": "code",
   "execution_count": null,
   "metadata": {},
   "outputs": [],
   "source": []
  },
  {
   "cell_type": "code",
   "execution_count": 32,
   "metadata": {},
   "outputs": [
    {
     "data": {
      "text/html": [
       "<div>\n",
       "<style scoped>\n",
       "    .dataframe tbody tr th:only-of-type {\n",
       "        vertical-align: middle;\n",
       "    }\n",
       "\n",
       "    .dataframe tbody tr th {\n",
       "        vertical-align: top;\n",
       "    }\n",
       "\n",
       "    .dataframe thead th {\n",
       "        text-align: right;\n",
       "    }\n",
       "</style>\n",
       "<table border=\"1\" class=\"dataframe\">\n",
       "  <thead>\n",
       "    <tr style=\"text-align: right;\">\n",
       "      <th></th>\n",
       "      <th>P1</th>\n",
       "      <th>P2</th>\n",
       "      <th>LogOdds</th>\n",
       "      <th>CI_Low</th>\n",
       "      <th>CI_Up</th>\n",
       "      <th>P-value</th>\n",
       "      <th>Ires_NoVar</th>\n",
       "      <th>Ires_Var</th>\n",
       "      <th>NoIres_Var</th>\n",
       "      <th>NoIres_NoVar</th>\n",
       "    </tr>\n",
       "  </thead>\n",
       "  <tbody>\n",
       "    <tr>\n",
       "      <th>4</th>\n",
       "      <td>COVID19nsp15</td>\n",
       "      <td>P62330</td>\n",
       "      <td>1.671989</td>\n",
       "      <td>0.599505</td>\n",
       "      <td>2.744473</td>\n",
       "      <td>0.005169</td>\n",
       "      <td>23.0</td>\n",
       "      <td>8.0</td>\n",
       "      <td>31.0</td>\n",
       "      <td>284.0</td>\n",
       "    </tr>\n",
       "    <tr>\n",
       "      <th>5</th>\n",
       "      <td>COVID19nsp2</td>\n",
       "      <td>O14975</td>\n",
       "      <td>-0.834897</td>\n",
       "      <td>-1.537902</td>\n",
       "      <td>-0.131893</td>\n",
       "      <td>0.025383</td>\n",
       "      <td>58.0</td>\n",
       "      <td>16.0</td>\n",
       "      <td>186.0</td>\n",
       "      <td>378.0</td>\n",
       "    </tr>\n",
       "  </tbody>\n",
       "</table>\n",
       "</div>"
      ],
      "text/plain": [
       "             P1      P2   LogOdds    CI_Low     CI_Up   P-value  Ires_NoVar  \\\n",
       "4  COVID19nsp15  P62330  1.671989  0.599505  2.744473  0.005169        23.0   \n",
       "5   COVID19nsp2  O14975 -0.834897 -1.537902 -0.131893  0.025383        58.0   \n",
       "\n",
       "   Ires_Var  NoIres_Var  NoIres_NoVar  \n",
       "4       8.0        31.0         284.0  \n",
       "5      16.0       186.0         378.0  "
      ]
     },
     "execution_count": 32,
     "metadata": {},
     "output_type": "execute_result"
    }
   ],
   "source": [
    "# Look at significantly enriched interfaces in order\n",
    "summary[(summary[\"P-value\"] <= 0.05)].sort_values(\"P-value\")"
   ]
  },
  {
   "cell_type": "code",
   "execution_count": 33,
   "metadata": {},
   "outputs": [
    {
     "data": {
      "text/html": [
       "<div>\n",
       "<style scoped>\n",
       "    .dataframe tbody tr th:only-of-type {\n",
       "        vertical-align: middle;\n",
       "    }\n",
       "\n",
       "    .dataframe tbody tr th {\n",
       "        vertical-align: top;\n",
       "    }\n",
       "\n",
       "    .dataframe thead th {\n",
       "        text-align: right;\n",
       "    }\n",
       "</style>\n",
       "<table border=\"1\" class=\"dataframe\">\n",
       "  <thead>\n",
       "    <tr style=\"text-align: right;\">\n",
       "      <th></th>\n",
       "      <th>P1</th>\n",
       "      <th>P2</th>\n",
       "      <th>LogOdds</th>\n",
       "      <th>CI_Low</th>\n",
       "      <th>CI_Up</th>\n",
       "      <th>P-value</th>\n",
       "      <th>Ires_NoVar</th>\n",
       "      <th>Ires_Var</th>\n",
       "      <th>NoIres_Var</th>\n",
       "      <th>NoIres_NoVar</th>\n",
       "    </tr>\n",
       "  </thead>\n",
       "  <tbody>\n",
       "    <tr>\n",
       "      <th>7</th>\n",
       "      <td>COVID19nsp7</td>\n",
       "      <td>P21964</td>\n",
       "      <td>NaN</td>\n",
       "      <td>NaN</td>\n",
       "      <td>NaN</td>\n",
       "      <td>NaN</td>\n",
       "      <td>17.0</td>\n",
       "      <td>0.0</td>\n",
       "      <td>0.0</td>\n",
       "      <td>46.0</td>\n",
       "    </tr>\n",
       "  </tbody>\n",
       "</table>\n",
       "</div>"
      ],
      "text/plain": [
       "            P1      P2  LogOdds  CI_Low  CI_Up  P-value  Ires_NoVar  Ires_Var  \\\n",
       "7  COVID19nsp7  P21964      NaN     NaN    NaN      NaN        17.0       0.0   \n",
       "\n",
       "   NoIres_Var  NoIres_NoVar  \n",
       "7         0.0          46.0  "
      ]
     },
     "execution_count": 33,
     "metadata": {},
     "output_type": "execute_result"
    }
   ],
   "source": [
    "# Check for perfectly enriched or perfectly depleted interfaces (i.e. every interface residue\n",
    "# has or does not have a variant)\n",
    "# (a proper log ratio cannot be calculated in these cases, but if they occur they\n",
    "#  would be of interest)\n",
    "summary[((summary[\"Ires_NoVar\"] + summary[\"Ires_Var\"]) > 0)&(pd.isnull(summary[\"LogOdds\"]))].drop_duplicates(\"P2\")"
   ]
  },
  {
   "cell_type": "code",
   "execution_count": null,
   "metadata": {},
   "outputs": [],
   "source": []
  }
 ],
 "metadata": {
  "kernelspec": {
   "display_name": "Python 2",
   "language": "python",
   "name": "python2"
  },
  "language_info": {
   "codemirror_mode": {
    "name": "ipython",
    "version": 2
   },
   "file_extension": ".py",
   "mimetype": "text/x-python",
   "name": "python",
   "nbconvert_exporter": "python",
   "pygments_lexer": "ipython2",
   "version": "2.7.15"
  }
 },
 "nbformat": 4,
 "nbformat_minor": 2
}

{
 "cells": [
  {
   "cell_type": "code",
   "execution_count": 1,
   "metadata": {},
   "outputs": [],
   "source": [
    "# Set the process name to be human readable in htop\n",
    "import setproctitle\n",
    "setproctitle.setproctitle(\"Calculate_Interface_Similarity\")\n",
    "\n",
    "from config import *\n",
    "from helper_functions import zip_res_range, unzip_res_range, fetch_uniprot\n",
    "\n",
    "import pandas as pd\n",
    "pd.options.display.max_columns = 999\n",
    "\n",
    "import numpy as np\n",
    "\n",
    "from tqdm import tqdm, tqdm_notebook\n",
    "from tqdm._tqdm_notebook import tqdm_notebook\n",
    "\n",
    "tqdm.pandas(tqdm_notebook)\n",
    "tqdm_notebook.pandas()\n",
    "\n",
    "from collections import defaultdict\n",
    "\n",
    "from scipy.cluster import hierarchy\n",
    "from scipy.spatial import distance\n",
    "\n",
    "import networkx as nx\n",
    "\n",
    "%matplotlib inline\n",
    "import matplotlib\n",
    "import matplotlib.pyplot as plt\n",
    "\n",
    "import seaborn as sns"
   ]
  },
  {
   "cell_type": "code",
   "execution_count": null,
   "metadata": {},
   "outputs": [],
   "source": []
  },
  {
   "cell_type": "markdown",
   "metadata": {},
   "source": [
    "This notebook calculates the similarity (Jaccard index) between interface annotations on different interactions involving the same protein. Interface similarities in viral proteins are calculated relative to the interfaces predicted for other human interactors of the same viral protein and are summarized in Viral_Interface_Similarities.txt (minimally applicable in the example set selected for this demo). Interface similarities in human proteins are calculated relative to known and predicted interfaces for other human-human interactions involving the same human protein and are summarized in Human_Interface_Similarities.txt.\n",
    "\n",
    "The primary purpose of these similairites are for ordering and displaying similarity to other interfaces on our web site (ordering selected based on Ordered_Ires_Comparisons.txt). No further analysis was done based on similarity between interfaces.\n",
    "\n",
    "- Inputs:\n",
    "  - Interface_Summary.txt\n",
    "  - Proteins.txt\n",
    "\n",
    "\n",
    "- Static Resource Dependencies:\n",
    "  - H_sapiens_interfacesHQ.txt\n",
    "\n",
    "\n",
    "- Outputs:\n",
    "  - Viral_Interface_Similarities.txt\n",
    "  - Human_Interface_Similarities.txt\n",
    "  - Ordered_Ires_Comparisons.txt\n",
    "\n",
    "\n",
    "- Dependencies:\n",
    "  - Must be run after 08_Fetch_Top_Docks"
   ]
  },
  {
   "cell_type": "code",
   "execution_count": null,
   "metadata": {},
   "outputs": [],
   "source": []
  },
  {
   "cell_type": "markdown",
   "metadata": {},
   "source": [
    "# Calculate Interface Similarity (Viral)"
   ]
  },
  {
   "cell_type": "code",
   "execution_count": 2,
   "metadata": {},
   "outputs": [],
   "source": [
    "# Read in IRES Info Summary\n",
    "ires_df = pd.read_csv(\"{0}/Interface_Summary.txt\".format(output_dir), sep=\"\\t\")\n",
    "ires_df = ires_df.sort_values([\"P1\", \"P2\", \"Source\"]).drop_duplicates([\"P1\", \"P2\"])\n",
    "#ires_df = ires_df[ires_df[\"Source\"] == \"ECLAIR\"]\n",
    "#ires_df = ires_df[ires_df[\"Source\"] == \"Docking\"]"
   ]
  },
  {
   "cell_type": "code",
   "execution_count": null,
   "metadata": {},
   "outputs": [],
   "source": []
  },
  {
   "cell_type": "code",
   "execution_count": 3,
   "metadata": {},
   "outputs": [
    {
     "data": {
      "application/vnd.jupyter.widget-view+json": {
       "model_id": "677d24ee62234f7b8e4674e0d56a0964",
       "version_major": 2,
       "version_minor": 0
      },
      "text/plain": [
       "HBox(children=(IntProgress(value=0, max=10), HTML(value=u'')))"
      ]
     },
     "metadata": {},
     "output_type": "display_data"
    },
    {
     "name": "stdout",
     "output_type": "stream",
     "text": [
      "\n"
     ]
    }
   ],
   "source": [
    "ires_similarities = []\n",
    "names = []\n",
    "\n",
    "# Distance Matrix to store pairwise interface similarity comparisons\n",
    "dm = np.zeros((len(ires_df), len(ires_df)))\n",
    "\n",
    "# Iterate over all interfaces\n",
    "for i in tqdm_notebook(range(len(ires_df))):\n",
    "    # Pull out interaction identifiers / viral interface\n",
    "    p1A, p2A, iresA = ires_df[[\"P1\", \"P2\", \"P1_Ires\"]].values[i]\n",
    "    \n",
    "    # Parse Set of interface residues for first interaction\n",
    "    if(not pd.isnull(iresA)):\n",
    "        iresA = set([int(x) for x in iresA.split(\",\")])\n",
    "    else:\n",
    "        iresA = set()\n",
    "    \n",
    "    # Iterate over all subsequence interfaces\n",
    "    for j in range(i, len(ires_df)):\n",
    "        # Pull out interaction identifiers / viral interface\n",
    "        p1B, p2B, iresB = ires_df[[\"P1\", \"P2\", \"P1_Ires\"]].values[j]\n",
    "        \n",
    "        # Any interfaces on different viral proteins share no similarity\n",
    "        # (arbitrarilly set to -1 to clearly differentiate)\n",
    "        if(p1A != p1B):\n",
    "            ires_similarities.append([p1A, p2A, p1B, p2B, -1])\n",
    "        # Any identival interactions are completely identical (similarity = 1)\n",
    "        elif(p2A == p2B):\n",
    "            ires_similarities.append([p1A, p2A, p1B, p2B, 1])\n",
    "        # Otherwise calculate Jaccard Similarity for pair of interfaces\n",
    "        else:\n",
    "            # Parse Set of interface residues for second interaction\n",
    "            if(not pd.isnull(iresB)):\n",
    "                iresB = set([int(x) for x in iresB.split(\",\")])\n",
    "            else:\n",
    "                iresB = set()\n",
    "            \n",
    "            # If no interface predicted for either, this is perfect similarity\n",
    "            if(len(iresA) + len(iresB) == 0):\n",
    "                ires_similarities.append([p1A, p2A, p1B, p2B, 1])\n",
    "            # Otherwise if only one has no interface, its no similarity\n",
    "            # NOTE: These are just catch alls for divide by zero errors\n",
    "            elif(len(iresA) == 0 or len(iresB) == 0):\n",
    "                ires_similarities.append([p1A, p2A, p1B, p2B, 0])\n",
    "            # Otherwise calculate the Jaccard\n",
    "            else:\n",
    "                jaccard = len(iresA.intersection(iresB)) / float(len(iresA.union(iresB)))\n",
    "                ires_similarities.append([p1A, p2A, p1B, p2B, jaccard])\n",
    "        \n",
    "        # Store similarity in the distance matrix\n",
    "        dm[i,j] = ires_similarities[-1][-1]\n",
    "        dm[j,i] = ires_similarities[-1][-1]\n",
    "    \n",
    "    # Store name for each interaction in order (for plotting)\n",
    "    names.append(\"_\".join([p1A.replace(\"COVID19\", \"\"), p2A]))\n",
    "    #print i, i, i, i\n",
    "# Compile final similarity DataFrame\n",
    "ires_similarities = pd.DataFrame(ires_similarities, columns=[\"P1A\", \"P2A\", \"P1B\", \"P2B\", \"Jaccard\"])"
   ]
  },
  {
   "cell_type": "code",
   "execution_count": null,
   "metadata": {},
   "outputs": [],
   "source": []
  },
  {
   "cell_type": "code",
   "execution_count": 4,
   "metadata": {},
   "outputs": [],
   "source": [
    "# Save interface similarities for comparisons within the same Viral Protein\n",
    "ires_similarities[ires_similarities[\"P1A\"] == ires_similarities[\"P1B\"]].to_csv(\"{0}/Viral_Interface_Similarities.txt\".format(output_dir), sep=\"\\t\", index=None)"
   ]
  },
  {
   "cell_type": "code",
   "execution_count": null,
   "metadata": {},
   "outputs": [],
   "source": []
  },
  {
   "cell_type": "code",
   "execution_count": null,
   "metadata": {},
   "outputs": [],
   "source": []
  },
  {
   "cell_type": "markdown",
   "metadata": {},
   "source": [
    "# Plot Viral Interface Similarity / Prepare Comparison Order"
   ]
  },
  {
   "cell_type": "code",
   "execution_count": 5,
   "metadata": {},
   "outputs": [
    {
     "data": {
      "image/png": "[encoded data removed]",
      "text/plain": [
       "<Figure size 1440x1440 with 4 Axes>"
      ]
     },
     "metadata": {},
     "output_type": "display_data"
    }
   ],
   "source": [
    "# Can theoretically plot similarity between all interfaces\n",
    "# Not applicable in this demo (only two comparable interfaces are incldued)\n",
    "\n",
    "sns.set(font=\"monospace\")\n",
    "\n",
    "# Reformat distance matrix to include interaction name as index / columns\n",
    "dm_df = pd.DataFrame(1-dm, columns=names, index=names)\n",
    "\n",
    "# Generate linkage from distance matrix\n",
    "linkage = hierarchy.linkage(distance.squareform(dm_df), method=\"complete\")\n",
    "\n",
    "# Generate cluster map\n",
    "m = sns.clustermap(dm_df, row_linkage=linkage, col_linkage=linkage, figsize=(20, 20), vmin=0, center=0.5, vmax=1, cmap=\"RdYlGn_r\")"
   ]
  },
  {
   "cell_type": "code",
   "execution_count": null,
   "metadata": {},
   "outputs": [],
   "source": []
  },
  {
   "cell_type": "code",
   "execution_count": 6,
   "metadata": {},
   "outputs": [
    {
     "name": "stderr",
     "output_type": "stream",
     "text": [
      "/home/sdw95/.conda/envs/jp/lib/python2.7/site-packages/ipykernel/__main__.py:48: DeprecationWarning: \n",
      ".ix is deprecated. Please use\n",
      ".loc for label based indexing or\n",
      ".iloc for positional indexing\n",
      "\n",
      "See the documentation here:\n",
      "http://pandas.pydata.org/pandas-docs/stable/indexing.html#ix-indexer-is-deprecated\n"
     ]
    }
   ],
   "source": [
    "# Compile Ordering for Interface Residue Comparisons\n",
    "# (When showing interface similarit on the website\n",
    "#  we want to be able to list the most similar interfaces\n",
    "#  first and the least similar interfaces last while also\n",
    "#  following the clustering from this heatmap)\n",
    "\n",
    "# NOTE: This data will be merged with the data for the human\n",
    "#       interface similarity info and both saved together.\n",
    "\n",
    "# Reformat Linkages\n",
    "i = 0\n",
    "new_linkage = []\n",
    "cluster2height = defaultdict(int)\n",
    "for c1, c2, d, n in linkage:\n",
    "    c1, c2 = int(c1), int(c2)\n",
    "    if(c1) < len(dm_df):\n",
    "        c1 = list(dm_df)[c1]\n",
    "    if(c2) < len(dm_df):\n",
    "        c2 = list(dm_df)[c2]\n",
    "    new_linkage.append([c1, c2, d, n, len(dm_df) + i])\n",
    "    cluster2height[len(dm_df) + i] = d\n",
    "    i += 1\n",
    "\n",
    "\n",
    "# Convert Linkages into graph\n",
    "g = nx.Graph()\n",
    "for child1, child2, dist, n, node in new_linkage[::-1]:\n",
    "    g.add_edge(node, child1, weight=cluster2height[node] - cluster2height[child1])\n",
    "    g.add_edge(node, child2, weight=cluster2height[node] - cluster2height[child2])\n",
    "\n",
    "# Store distance between all nodes from same protein\n",
    "data = []\n",
    "for n1 in list(dm_df):\n",
    "    p1A, p2A = n1.split(\"_\")\n",
    "    p1A = \"COVID19\" + p1A\n",
    "    for n2 in list(dm_df):\n",
    "        p1B, p2B = n2.split(\"_\")\n",
    "        p1B = \"COVID19\" + p1B\n",
    "        if(p1A != p1B):\n",
    "            continue\n",
    "        data.append([p1A, p2A, 0, p2B, (nx.shortest_path_length(g, n1, n2, weight=\"weight\"), nx.shortest_path_length(g, n1, n2))])\n",
    "ires_orders = pd.DataFrame(data, columns=[\"P1\", \"P2\", \"Prot\", \"Interactor\", \"Dist\"]).sort_values([\"P1\", \"P2\", \"Dist\"])\n",
    "\n",
    "# Reformat / Assign Order\n",
    "ires_orders[\"Order\"] = 0\n",
    "keys = ires_orders[[\"P1\", \"P2\"]].apply(lambda x: tuple(x), axis=1)\n",
    "for inter, g_df in ires_orders.groupby([\"P1\", \"P2\"]):\n",
    "    ires_orders.ix[keys == inter, \"Order\"] = range(len(g_df))\n",
    "\n",
    "ires_orders = ires_orders.drop(\"Dist\", axis=1)\n",
    "\n",
    "# Set Ires\n",
    "inter2ires = ires_df.set_index([\"P1\", \"P2\"])[[\"P1_Ires\", \"P2_Ires\"]].to_dict(orient=\"index\")\n",
    "inter2similarity = ires_similarities.set_index([\"P1A\", \"P2A\", \"P1B\", \"P2B\"])[\"Jaccard\"].to_dict()\n",
    "for k, v in list(inter2similarity.iteritems()):\n",
    "    inter2similarity[k[0], k[3], k[2], k[1]] = v\n",
    "ires_orders[\"Similarity\"] = ires_orders[[\"P1\", \"P2\", \"Interactor\"]].apply(lambda x: inter2similarity[(x[0], x[1], x[0], x[2])], axis=1)\n",
    "ires_orders[\"Ires\"] = ires_orders[[\"P1\", \"Interactor\"]].apply(lambda x: inter2ires[tuple(x)][\"P1_Ires\"], axis=1)"
   ]
  },
  {
   "cell_type": "code",
   "execution_count": null,
   "metadata": {},
   "outputs": [],
   "source": []
  },
  {
   "cell_type": "code",
   "execution_count": null,
   "metadata": {},
   "outputs": [],
   "source": []
  },
  {
   "cell_type": "code",
   "execution_count": null,
   "metadata": {},
   "outputs": [],
   "source": []
  },
  {
   "cell_type": "markdown",
   "metadata": {},
   "source": [
    "# Calculate Interface Similarity (Human)"
   ]
  },
  {
   "cell_type": "code",
   "execution_count": 7,
   "metadata": {},
   "outputs": [],
   "source": [
    "# Read in IRES Info Summary\n",
    "ires_df = pd.read_csv(\"{0}/Interface_Summary.txt\".format(output_dir), sep=\"\\t\")\n",
    "ires_df = ires_df.sort_values([\"P1\", \"P2\", \"Source\"]).drop_duplicates([\"P1\", \"P2\"])\n",
    "#ires_df = ires_df[ires_df[\"Source\"] == \"ECLAIR\"]\n",
    "#ires_df = ires_df[ires_df[\"Source\"] == \"Docking\"]"
   ]
  },
  {
   "cell_type": "code",
   "execution_count": null,
   "metadata": {},
   "outputs": [],
   "source": []
  },
  {
   "cell_type": "code",
   "execution_count": 8,
   "metadata": {},
   "outputs": [],
   "source": [
    "# Read in Known / Predicted Human-Human Interactions from INSIDER\n",
    "insider = pd.read_csv(\"{0}/H_sapiens_interfacesHQ.txt\".format(resource_dir), sep=\"\\t\")\n",
    "\n",
    "# Get list of Human UniProts Invovled in SARS2-Human Network\n",
    "human_unis = set(ires_df[\"P2\"].unique())\n",
    "\n",
    "# Subset INSIDER to only interactions involving these protiens\n",
    "# Reformat so that the relevant protein is always P1\n",
    "tmp1 = insider[(insider[\"P1\"].map(lambda x: x in human_unis))]\n",
    "tmp2 = insider[(insider[\"P2\"].map(lambda x: x in human_unis))&~(insider[\"P1\"] == insider[\"P2\"])]\n",
    "tmp2.columns = [\"P2\", \"P1\", \"Source\", \"P2_IRES\", \"P1_IRES\"]\n",
    "tmp2 = tmp2[list(tmp1)]\n",
    "\n",
    "insider = pd.concat([tmp1, tmp2])"
   ]
  },
  {
   "cell_type": "code",
   "execution_count": null,
   "metadata": {},
   "outputs": [],
   "source": []
  },
  {
   "cell_type": "code",
   "execution_count": 9,
   "metadata": {},
   "outputs": [],
   "source": [
    "# Reformat Ires columns as lists of positions\n",
    "insider[\"P1_IRES\"] = insider[\"P1_IRES\"].map(lambda x: \",\".join(unzip_res_range(x)) if not x == \"[]\" else np.nan)\n",
    "insider[\"P2_IRES\"] = insider[\"P2_IRES\"].map(lambda x: \",\".join(unzip_res_range(x)) if not x == \"[]\" else np.nan)"
   ]
  },
  {
   "cell_type": "code",
   "execution_count": null,
   "metadata": {},
   "outputs": [],
   "source": []
  },
  {
   "cell_type": "code",
   "execution_count": null,
   "metadata": {},
   "outputs": [],
   "source": []
  },
  {
   "cell_type": "code",
   "execution_count": 10,
   "metadata": {},
   "outputs": [
    {
     "data": {
      "application/vnd.jupyter.widget-view+json": {
       "model_id": "fc412fdc646848cfad02fee26e0a5c25",
       "version_major": 2,
       "version_minor": 0
      },
      "text/plain": [
       "HBox(children=(IntProgress(value=0, max=10), HTML(value=u'')))"
      ]
     },
     "metadata": {},
     "output_type": "display_data"
    },
    {
     "name": "stdout",
     "output_type": "stream",
     "text": [
      "\n"
     ]
    }
   ],
   "source": [
    "# Store summary of interface similarities\n",
    "ires_similarities = []\n",
    "\n",
    "# Store distance matrices comparing interface similarities per human protein\n",
    "human2dm = dict()\n",
    "\n",
    "# Iterate over each SARS2-Human interaction\n",
    "for human, covid, ires in tqdm_notebook(ires_df[[\"P2\", \"P1\", \"P2_Ires\"]].values):\n",
    "    # Create interface data sub-set containing the predicted human-viral\n",
    "    # interface and all other known / predicted human-human interfaces involving\n",
    "    # the same human interactor\n",
    "    tmp = pd.DataFrame([[human, covid, ires]], columns=[\"P1\", \"P2\", \"P1_IRES\"])\n",
    "    tmp = pd.concat([tmp, insider[insider[\"P1\"] == human][[\"P1\", \"P2\", \"P1_IRES\"]]])\n",
    "    \n",
    "    # Create empty distance matrix / list of names for this human interactor\n",
    "    names = []\n",
    "    dm = np.zeros((len(tmp), len(tmp)))\n",
    "    i = 0\n",
    "    \n",
    "    # Iterate over all interactions for this human protein\n",
    "    for i in range(len(tmp)):\n",
    "        # Fetch info for interaction 1\n",
    "        p1A, p2A, iresA = tmp[[\"P1\", \"P2\", \"P1_IRES\"]].values[i]\n",
    "        \n",
    "        # Parse Interface as set of residue positions\n",
    "        if(not pd.isnull(iresA)):\n",
    "            iresA = set([int(x) for x in iresA.split(\",\")])\n",
    "        else:\n",
    "            iresA = set()\n",
    "        \n",
    "        # Iterate over all subsequence interactions\n",
    "        for j in range(i, len(tmp)):\n",
    "            # Fetch info for interaction 2\n",
    "            p1B, p2B, iresB = tmp[[\"P1\", \"P2\", \"P1_IRES\"]].values[j]\n",
    "            \n",
    "            # Handle case for different proteins (should not happen)\n",
    "            if(p1A != p1B):\n",
    "                ires_similarities.append([p1A, p2A, p1B, p2B, -1])\n",
    "            # When comparing same interaction against itself similarity = 1\n",
    "            elif(p2A == p2B):\n",
    "                ires_similarities.append([p1A, p2A, p1B, p2B, 1])\n",
    "            # Otherwise calculate Jaccard Similarity\n",
    "            else:\n",
    "                # Parse Interface as set of residue positions\n",
    "                if(not pd.isnull(iresB)):\n",
    "                    iresB = set([int(x) for x in iresB.split(\",\")])\n",
    "                else:\n",
    "                    iresB = set()\n",
    "                \n",
    "                # If no interface predicted for either, this is perfect similarity\n",
    "                if(len(iresA) + len(iresB) == 0):\n",
    "                    ires_similarities.append([p1A, p2A, p1B, p2B, 1])\n",
    "                # Otherwise if only one has no interface, its no similarity\n",
    "                # NOTE: These are just catch alls for divide by zero errors\n",
    "                elif(len(iresA) == 0 or len(iresB) == 0):\n",
    "                    ires_similarities.append([p1A, p2A, p1B, p2B, 0])\n",
    "                # Otherwise calculate the Jaccard\n",
    "                else:\n",
    "                    jaccard = len(iresA.intersection(iresB)) / float(len(iresA.union(iresB)))\n",
    "                    ires_similarities.append([p1A, p2A, p1B, p2B, jaccard])\n",
    "            \n",
    "            # Update Distance Matrix\n",
    "            dm[i,j] = ires_similarities[-1][-1]\n",
    "            dm[j,i] = ires_similarities[-1][-1]\n",
    "            j += 1\n",
    "        i += 1\n",
    "        \n",
    "        # Store interaction labels\n",
    "        names.append(\"_\".join([p1A, p2A]).replace(\"COVID19\", \"\"))\n",
    "        #print i, i, i, i\n",
    "    # Store the distance matrix\n",
    "    human2dm[human] = (dm, names)\n",
    "# Compile final similarity DataFrame\n",
    "ires_similarities = pd.DataFrame(ires_similarities, columns=[\"P1A\", \"P2A\", \"P1B\", \"P2B\", \"Jaccard\"])"
   ]
  },
  {
   "cell_type": "code",
   "execution_count": null,
   "metadata": {},
   "outputs": [],
   "source": []
  },
  {
   "cell_type": "code",
   "execution_count": 11,
   "metadata": {},
   "outputs": [],
   "source": [
    "# Save interface similarities for Human Proteins\n",
    "ires_similarities.to_csv(\"{0}/Human_Interface_Similarities.txt\".format(output_dir), sep=\"\\t\", index=None)"
   ]
  },
  {
   "cell_type": "code",
   "execution_count": null,
   "metadata": {},
   "outputs": [],
   "source": []
  },
  {
   "cell_type": "code",
   "execution_count": null,
   "metadata": {},
   "outputs": [],
   "source": []
  },
  {
   "cell_type": "markdown",
   "metadata": {},
   "source": [
    "# Plot Human Interface Similarity / Prepare Comparison Orders"
   ]
  },
  {
   "cell_type": "code",
   "execution_count": 14,
   "metadata": {
    "scrolled": false
   },
   "outputs": [
    {
     "data": {
      "application/vnd.jupyter.widget-view+json": {
       "model_id": "6a90858a7fc84601babc96aa59f4d73a",
       "version_major": 2,
       "version_minor": 0
      },
      "text/plain": [
       "HBox(children=(IntProgress(value=0, max=10), HTML(value=u'')))"
      ]
     },
     "metadata": {},
     "output_type": "display_data"
    },
    {
     "data": {
      "image/png": "[encoded data removed]",
      "text/plain": [
       "<Figure size 1440x1440 with 4 Axes>"
      ]
     },
     "metadata": {},
     "output_type": "display_data"
    },
    {
     "name": "stdout",
     "output_type": "stream",
     "text": [
      "\n"
     ]
    }
   ],
   "source": [
    "# Store statistics on the size of interface clusters\n",
    "# containing the viral interactor vs. those for only\n",
    "# human-human interactions\n",
    "cluster_sizes = []\n",
    "cluster_fractions = []\n",
    "viral_sizes = []\n",
    "viral_fractions = []\n",
    "\n",
    "# Iterate over all human interactors\n",
    "for human in tqdm_notebook(human2dm.keys()):\n",
    "    # Fetch Distance Matrix / List of Interaction Labels\n",
    "    dm, names = human2dm[human]\n",
    "    \n",
    "    # Skip cases where no other interactions available\n",
    "    if(dm.shape[0] == 1):\n",
    "        continue\n",
    "    \n",
    "    sns.set(font=\"monospace\")\n",
    "    \n",
    "    # Reformat distance matrix to include interaction name\n",
    "    dm_df = pd.DataFrame(1-dm, columns=names, index=names)\n",
    "\n",
    "    # Generate linkage from distance matrix\n",
    "    linkage = hierarchy.linkage(distance.squareform(dm_df), method=\"complete\")\n",
    "    \n",
    "    clusters = hierarchy.cut_tree(linkage, height=0.8)\n",
    "    vcs = pd.DataFrame(clusters)[0].value_counts()\n",
    "    viral_cluster = clusters[0]\n",
    "    \n",
    "    if(len(vcs) == 1):\n",
    "        continue\n",
    "    \n",
    "    cluster_sizes += list(vcs.values)\n",
    "    cluster_fractions += list([x / float(len(clusters)) for x in vcs.values])\n",
    "    viral_sizes.append(int(vcs[viral_cluster]))\n",
    "    viral_fractions.append(int(vcs[viral_cluster]) / float(len(clusters)))\n",
    "    \n",
    "    # Recommend Skipping actual heatmap plotting unless specifically interested\n",
    "    # Even then, probably best to only plot a couple rather than the full ~300\n",
    "    #\n",
    "    # Here just the first heatmap is plotted as an example\n",
    "    if(human != human2dm.keys()[0]):\n",
    "        continue\n",
    "    \n",
    "    # Generate cluster map\n",
    "    sns.clustermap(dm_df, row_linkage=linkage, col_linkage=linkage, figsize=(20, 20), vmin=0, center=0.5, vmax=1, cmap=\"RdYlGn_r\")\n",
    "    \n",
    "    plt.title(human)\n",
    "    \n",
    "    plt.show()\n",
    "    \n",
    "    #break"
   ]
  },
  {
   "cell_type": "code",
   "execution_count": null,
   "metadata": {},
   "outputs": [],
   "source": []
  },
  {
   "cell_type": "code",
   "execution_count": null,
   "metadata": {},
   "outputs": [],
   "source": []
  },
  {
   "cell_type": "code",
   "execution_count": null,
   "metadata": {},
   "outputs": [],
   "source": []
  },
  {
   "cell_type": "code",
   "execution_count": 16,
   "metadata": {},
   "outputs": [
    {
     "data": {
      "application/vnd.jupyter.widget-view+json": {
       "model_id": "9fb7dc200b704a518d3bcd3a73e546d6",
       "version_major": 2,
       "version_minor": 0
      },
      "text/plain": [
       "HBox(children=(IntProgress(value=0, max=10), HTML(value=u'')))"
      ]
     },
     "metadata": {},
     "output_type": "display_data"
    },
    {
     "name": "stderr",
     "output_type": "stream",
     "text": [
      "/home/sdw95/.conda/envs/jp/lib/python2.7/site-packages/ipykernel/__main__.py:67: DeprecationWarning: \n",
      ".ix is deprecated. Please use\n",
      ".loc for label based indexing or\n",
      ".iloc for positional indexing\n",
      "\n",
      "See the documentation here:\n",
      "http://pandas.pydata.org/pandas-docs/stable/indexing.html#ix-indexer-is-deprecated\n"
     ]
    },
    {
     "name": "stdout",
     "output_type": "stream",
     "text": [
      "\n"
     ]
    }
   ],
   "source": [
    "# Determine Order for Similarity Comparisons for all human side\n",
    "ires_orders2 = []\n",
    "for human in tqdm_notebook(human2dm.keys()):\n",
    "    dm, names = human2dm[human]\n",
    "    \n",
    "    if(dm.shape[0] == 1):\n",
    "        p2, p1 = names[0].split(\"_\")\n",
    "        p1 = \"COVID19\" + p1\n",
    "        ires = inter2ires[(p1, p2)][\"P2_Ires\"]\n",
    "        ires_orders2.append(pd.DataFrame([[p1, p2, 1, p1, 0, 1, ires]], columns=list(ires_orders)))\n",
    "        continue\n",
    "    #print dm.shape, names[0]\n",
    "    #continue\n",
    "    \n",
    "    # Reformat distance matrix to include kmer name\n",
    "    dm_df = pd.DataFrame(1-dm, columns=names, index=names)\n",
    "\n",
    "    # Generate linkage from distance matrix\n",
    "    linkage = hierarchy.linkage(distance.squareform(dm_df), method=\"complete\")\n",
    "    \n",
    "    \n",
    "    # Compile Ordering for Interface Residue Comparisons\n",
    "    from collections import defaultdict\n",
    "\n",
    "    # Reformat Linkages\n",
    "    i = 0\n",
    "    new_linkage = []\n",
    "    cluster2height = defaultdict(int)\n",
    "    for c1, c2, d, n in linkage:\n",
    "        c1, c2 = int(c1), int(c2)\n",
    "        if(c1) < len(dm_df):\n",
    "            c1 = list(dm_df)[c1]\n",
    "        if(c2) < len(dm_df):\n",
    "            c2 = list(dm_df)[c2]\n",
    "        new_linkage.append([c1, c2, d, n, len(dm_df) + i])\n",
    "        cluster2height[len(dm_df) + i] = d\n",
    "        i += 1\n",
    "    \n",
    "    # Convert Linkages into graph\n",
    "    g = nx.Graph()\n",
    "    for child1, child2, dist, n, node in new_linkage[::-1]:\n",
    "        g.add_edge(node, child1, weight=cluster2height[node] - cluster2height[child1])\n",
    "        g.add_edge(node, child2, weight=cluster2height[node] - cluster2height[child2])\n",
    "\n",
    "    # Store distance between all nodes from same protein\n",
    "    data = []\n",
    "    for n1 in list(dm_df):\n",
    "        p2A, p1A = n1.split(\"_\")\n",
    "        if((not p1A.upper() == p1A) or len(p1A) == 1):\n",
    "            p1A = \"COVID19\" + p1A\n",
    "        else:\n",
    "            continue\n",
    "        for n2 in list(dm_df):\n",
    "            p2B, p1B = n2.split(\"_\")\n",
    "            if((not p1B.upper() == p1B) or len(p1B) == 1):\n",
    "                p1B = \"COVID19\" + p1B\n",
    "            if(p2A != p2B):\n",
    "                continue\n",
    "            \n",
    "            data.append([p1A, p2A, 1, p1B, (nx.shortest_path_length(g, n1, n2, weight=\"weight\"), nx.shortest_path_length(g, n1, n2))])\n",
    "    ires_orders_tmp = pd.DataFrame(data, columns=[\"P1\", \"P2\", \"Prot\", \"Interactor\", \"Dist\"]).sort_values([\"P1\", \"P2\", \"Dist\"])\n",
    "\n",
    "    # Reformat / Assign Order\n",
    "    ires_orders_tmp[\"Order\"] = 0\n",
    "    keys = ires_orders_tmp[[\"P1\", \"P2\"]].apply(lambda x: tuple(x), axis=1)\n",
    "    for inter, g_df in ires_orders_tmp.groupby([\"P1\", \"P2\"]):\n",
    "        ires_orders_tmp.ix[keys == inter, \"Order\"] = range(len(g_df))\n",
    "\n",
    "    ires_orders_tmp = ires_orders_tmp.drop(\"Dist\", axis=1)\n",
    "    \n",
    "    # Set Ires\n",
    "    inter2ires = ires_df.set_index([\"P1\", \"P2\"])[[\"P1_Ires\", \"P2_Ires\"]].to_dict(orient=\"index\")\n",
    "    inter2similarity = ires_similarities.set_index([\"P1A\", \"P2A\", \"P1B\", \"P2B\"])[\"Jaccard\"].to_dict()\n",
    "    for k, v in list(inter2similarity.iteritems()):\n",
    "        inter2similarity[k[0], k[3], k[2], k[1]] = v\n",
    "    ires_orders_tmp[\"Similarity\"] = ires_orders_tmp[[\"P1\", \"P2\", \"Interactor\"]].apply(lambda x: inter2similarity[(x[1], x[0], x[1], x[2])], axis=1)\n",
    "    \n",
    "    tmp = insider[(insider[\"P1\"] == p2A)|(insider[\"P2\"] == p2A)]\n",
    "    def do(p1, p2):\n",
    "        if(\"COVID\" in p1):\n",
    "            return inter2ires[(p1, p2)][\"P2_Ires\"]\n",
    "        else:\n",
    "            try:\n",
    "                return tmp[tmp[\"P1\"] == p1][\"P2_IRES\"].values[0]\n",
    "            except:\n",
    "                try:\n",
    "                    return tmp[tmp[\"P2\"] == p1][\"P1_IRES\"].values[0]\n",
    "                except:\n",
    "                    print p1, p2\n",
    "                    raise\n",
    "    ires_orders_tmp[\"Ires\"] = ires_orders_tmp[[\"Interactor\", \"P2\"]].apply(lambda x: do(*x), axis=1)\n",
    "    \n",
    "    ires_orders2.append(ires_orders_tmp)"
   ]
  },
  {
   "cell_type": "code",
   "execution_count": 17,
   "metadata": {},
   "outputs": [],
   "source": [
    "# Concatenate results per gene into one table\n",
    "ires_orders2 = pd.concat(ires_orders2)"
   ]
  },
  {
   "cell_type": "code",
   "execution_count": 18,
   "metadata": {},
   "outputs": [
    {
     "data": {
      "text/plain": [
       "315"
      ]
     },
     "execution_count": 18,
     "metadata": {},
     "output_type": "execute_result"
    }
   ],
   "source": [
    "len(ires_orders2)"
   ]
  },
  {
   "cell_type": "code",
   "execution_count": null,
   "metadata": {},
   "outputs": [],
   "source": []
  },
  {
   "cell_type": "code",
   "execution_count": null,
   "metadata": {},
   "outputs": [],
   "source": []
  },
  {
   "cell_type": "code",
   "execution_count": null,
   "metadata": {},
   "outputs": [],
   "source": []
  },
  {
   "cell_type": "markdown",
   "metadata": {},
   "source": [
    "# Prepare Final Combined Ordering"
   ]
  },
  {
   "cell_type": "code",
   "execution_count": 19,
   "metadata": {},
   "outputs": [],
   "source": [
    "# Combine interface comparisons from viral / human interfaces together\n",
    "ires_orders_final = pd.concat([ires_orders, ires_orders2])"
   ]
  },
  {
   "cell_type": "code",
   "execution_count": 20,
   "metadata": {},
   "outputs": [],
   "source": [
    "# Read in Protein Summary to map protein to sequence\n",
    "proteins = pd.read_csv(\"{0}/Proteins.txt\".format(output_dir), sep=\"\\t\")\n",
    "uni2seq = proteins.set_index(\"ID\")[\"Sequence\"].to_dict()\n",
    "\n",
    "# Generate interface residue mask indicating positions\n",
    "# of all interface residues\n",
    "# (for interface visualization on website)\n",
    "def do(p1, p2, prot, ires):\n",
    "    mask = np.zeros(len(uni2seq[[p1, p2][prot]]))\n",
    "    if(pd.isnull(ires)):\n",
    "        return \";\".join([str(int(x)) for x in mask])\n",
    "    \n",
    "    mask[[int(x)-1 for x in ires.split(\",\")]] = 1\n",
    "    return \";\".join([str(int(x)) for x in mask])\n",
    "# FUNCTION END\n",
    "ires_orders_final[\"Ires_Mask\"] = ires_orders_final[[\"P1\", \"P2\", \"Prot\", \"Ires\"]].apply(lambda x: do(*x), axis=1)"
   ]
  },
  {
   "cell_type": "code",
   "execution_count": null,
   "metadata": {},
   "outputs": [],
   "source": []
  },
  {
   "cell_type": "code",
   "execution_count": 21,
   "metadata": {},
   "outputs": [],
   "source": [
    "# Save\n",
    "ires_orders_final.sort_values([\"P1\", \"P2\", \"Prot\"]).to_csv(\"{0}/Ordered_Ires_Comparisons.txt\".format(output_dir), sep=\"\\t\", index=None)"
   ]
  },
  {
   "cell_type": "code",
   "execution_count": null,
   "metadata": {},
   "outputs": [],
   "source": []
  },
  {
   "cell_type": "code",
   "execution_count": null,
   "metadata": {},
   "outputs": [],
   "source": []
  },
  {
   "cell_type": "code",
   "execution_count": 22,
   "metadata": {},
   "outputs": [],
   "source": [
    "# Obtain set of Unique UniProts\n",
    "all_uni = [x for x in set(ires_orders_final[\"P1\"].to_list() + ires_orders_final[\"P2\"].to_list() + ires_orders_final[\"Interactor\"].to_list()) if not \"COVID19\" in x]\n",
    "to_map = all_uni"
   ]
  },
  {
   "cell_type": "code",
   "execution_count": 23,
   "metadata": {},
   "outputs": [],
   "source": [
    "# Generate UniProt --> GeneName Mapping from batch UniProt Query\n",
    "uni2gene = dict()"
   ]
  },
  {
   "cell_type": "code",
   "execution_count": null,
   "metadata": {},
   "outputs": [],
   "source": []
  },
  {
   "cell_type": "code",
   "execution_count": 24,
   "metadata": {},
   "outputs": [
    {
     "data": {
      "application/vnd.jupyter.widget-view+json": {
       "model_id": "6f0fedc9f2d84704941b86c02b9a56d7",
       "version_major": 2,
       "version_minor": 0
      },
      "text/plain": [
       "HBox(children=(IntProgress(value=0, max=6), HTML(value=u'')))"
      ]
     },
     "metadata": {},
     "output_type": "display_data"
    },
    {
     "name": "stdout",
     "output_type": "stream",
     "text": [
      "\n",
      "10\n"
     ]
    }
   ],
   "source": [
    "# UniProt API is finicky and fails randomly sometimes\n",
    "# so we update in batches and store any that failed.\n",
    "batch_size = 50\n",
    "missing = []\n",
    "for i in tqdm_notebook(range(0, len(to_map), batch_size)):\n",
    "    try:\n",
    "        uni2gene.update({k:v[\"genes\"].split()[0] for k, v in fetch_uniprot(to_map[i:i+batch_size], [\"genes\"]).iteritems()})\n",
    "    except Exception as e:\n",
    "        print e\n",
    "        missing += to_map[i:i+batch_size]\n",
    "        print i\n",
    "# Update to_map set to all the ones that failed previously\n",
    "# Then just keep running this cell until nothing is left\n",
    "# NOTE: Could set this up in a while loop to keep retrying\n",
    "#       automatically until all genes are mapped. However,\n",
    "#       some of these legitimately have no gene symbol associated\n",
    "#       with them, so we just have to stop eventually. As long\n",
    "#       as none of the fetch_uniprot requests encounter an error\n",
    "#       we've probably got all of the possible uni --> gene mappings\n",
    "print len(set(all_uni).difference(uni2gene))\n",
    "to_map = list(set(all_uni).difference(uni2gene))"
   ]
  },
  {
   "cell_type": "code",
   "execution_count": null,
   "metadata": {},
   "outputs": [],
   "source": []
  },
  {
   "cell_type": "code",
   "execution_count": 25,
   "metadata": {},
   "outputs": [],
   "source": [
    "# Add columns with Gene Name for all UniProt IDs\n",
    "mapped = set(uni2gene.keys())\n",
    "ires_orders_final[\"P1 (Gene)\"] = ires_orders_final[\"P1\"].map(lambda x: uni2gene[x] if x in mapped else \"\")\n",
    "ires_orders_final[\"P2 (Gene)\"] = ires_orders_final[\"P2\"].map(lambda x: uni2gene[x] if x in mapped else \"\")\n",
    "ires_orders_final[\"Interactor (Gene)\"] = ires_orders_final[\"Interactor\"].map(lambda x: uni2gene[x] if x in mapped else \"\")"
   ]
  },
  {
   "cell_type": "code",
   "execution_count": null,
   "metadata": {},
   "outputs": [],
   "source": []
  },
  {
   "cell_type": "code",
   "execution_count": 26,
   "metadata": {},
   "outputs": [],
   "source": [
    "# Save final output\n",
    "ires_orders_final[[\"P1\", \"P1 (Gene)\", \"P2\", \"P2 (Gene)\", \"Prot\", \"Interactor\", \"Interactor (Gene)\", \"Order\", \"Similarity\", \"Ires\", \"Ires_Mask\"]].to_csv(\"{0}/Ordered_Ires_Comparisons.txt\".format(output_dir), sep=\"\\t\", index=None)"
   ]
  },
  {
   "cell_type": "code",
   "execution_count": null,
   "metadata": {},
   "outputs": [],
   "source": []
  },
  {
   "cell_type": "code",
   "execution_count": null,
   "metadata": {},
   "outputs": [],
   "source": []
  },
  {
   "cell_type": "code",
   "execution_count": null,
   "metadata": {},
   "outputs": [],
   "source": []
  }
 ],
 "metadata": {
  "kernelspec": {
   "display_name": "Python 2",
   "language": "python",
   "name": "python2"
  },
  "language_info": {
   "codemirror_mode": {
    "name": "ipython",
    "version": 2
   },
   "file_extension": ".py",
   "mimetype": "text/x-python",
   "name": "python",
   "nbconvert_exporter": "python",
   "pygments_lexer": "ipython2",
   "version": "2.7.15"
  }
 },
 "nbformat": 4,
 "nbformat_minor": 2
}

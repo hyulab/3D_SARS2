{
 "cells": [
  {
   "cell_type": "code",
   "execution_count": 4,
   "metadata": {},
   "outputs": [],
   "source": [
    "# Set the process name to be human readable in htop\n",
    "import setproctitle\n",
    "setproctitle.setproctitle(\"15_Calculate_Drug_Interfaces\")\n",
    "\n",
    "from config import *\n",
    "from helper_functions import pdb2df, odds_ratio\n",
    "\n",
    "import pandas as pd\n",
    "pd.options.display.max_columns = 999\n",
    "\n",
    "import numpy as np\n",
    "\n",
    "import glob\n",
    "import os\n",
    "\n",
    "from tqdm import tqdm, tqdm_notebook\n",
    "from tqdm._tqdm_notebook import tqdm_notebook\n",
    "\n",
    "tqdm.pandas(tqdm_notebook)\n",
    "tqdm_notebook.pandas()\n",
    "\n",
    "import subprocess as sp"
   ]
  },
  {
   "cell_type": "code",
   "execution_count": null,
   "metadata": {},
   "outputs": [],
   "source": []
  },
  {
   "cell_type": "markdown",
   "metadata": {},
   "source": [
    "This notebook calculates the interface residues from all drug-protein docked outputs (summarized in Drug_Docking_Ires_Summary.txt). It then calculates the log odds enrichment for co-occurence of ligand binding site residues for the drug-protein pair with interface residues for the human-viral protein-protein interaction (summarized in Drug_Interface_Enrichment.txt).\n",
    "\n",
    "\n",
    "- Inputs:\n",
    "  - Krogan_Drug_Candidates.txt\n",
    "  - [P1]\\_[Drug].pdb (top ranked drug docking for each protein-drug pair)\n",
    "  - [Prot]\\_[Source].pdb (Undocked Structures)\n",
    "  - Proteins.txt\n",
    "\n",
    "\n",
    "- Outputs:\n",
    "  - Drug_Docking_Ires_Summary.txt\n",
    "  - Drug_Interface_Enrichment.txt\n",
    "\n",
    "\n",
    "- Dependencies:\n",
    "  - Must be run after 14_Run_Drug_Docking\n",
    "  - Calls irescalc_ligand.py\n",
    "    - **NOTE:** irescalc_ligand.py *may not* be currently properly extraced from the Yu Lab's server and may not run successfully in this repository. The raw code is provided, but it itself calls several separate dependencies, and I have not been able to thoroughly confirm there are no specifics to our machine still linked to it.\n",
    "    - I *believe* it should be functional, but if any end user encounters errors runngin irescalc_ligand.py from this repository please contact the authors.\n",
    "    - Requires NACCESS installed locally"
   ]
  },
  {
   "cell_type": "code",
   "execution_count": null,
   "metadata": {},
   "outputs": [],
   "source": []
  },
  {
   "cell_type": "markdown",
   "metadata": {},
   "source": [
    "# Calculate Ligand Interface Residues"
   ]
  },
  {
   "cell_type": "code",
   "execution_count": 2,
   "metadata": {},
   "outputs": [],
   "source": [
    "drug_pairs = pd.read_csv(\"{0}/Krogan_Drug_Candidates.txt\".format(output_dir), sep=\"\\t\")"
   ]
  },
  {
   "cell_type": "code",
   "execution_count": 5,
   "metadata": {},
   "outputs": [
    {
     "data": {
      "application/vnd.jupyter.widget-view+json": {
       "model_id": "c6ceae74b0274c54aefb965576dc611d",
       "version_major": 2,
       "version_minor": 0
      },
      "text/plain": [
       "HBox(children=(IntProgress(value=0, max=1034), HTML(value=u'')))"
      ]
     },
     "metadata": {},
     "output_type": "display_data"
    },
    {
     "data": {
      "application/vnd.jupyter.widget-view+json": {
       "model_id": "afa8484bbcf14d0596cbccd68308cec7",
       "version_major": 2,
       "version_minor": 0
      },
      "text/plain": [
       "HBox(children=(IntProgress(value=0, max=12), HTML(value=u'')))"
      ]
     },
     "metadata": {},
     "output_type": "display_data"
    },
    {
     "name": "stdout",
     "output_type": "stream",
     "text": [
      "\n"
     ]
    }
   ],
   "source": [
    "summary = []\n",
    "pbar = tqdm_notebook(total=len(glob.glob(\"{0}/Docked_Ligands/ranked_poses/*\".format(output_dir))))\n",
    "for drug, uni in tqdm_notebook(drug_pairs[~pd.isnull(drug_pairs[\"Human ID\"])][[\"Compound Name\", \"Human ID\"]].values):\n",
    "    # Parse Inputs\n",
    "    drug_orig = drug\n",
    "    drug = drug.replace(\"-\", \"_\").replace(\" \", \"_\").split(\"(\")[0]\n",
    "    drug_f = glob.glob(\"{0}/Ligands/{1}*\".format(output_dir, drug))[0]\n",
    "    \n",
    "    try:\n",
    "        uni_f = glob.glob(\"{0}/Undocked_Structures/{1}*\".format(output_dir, uni))[0]\n",
    "    except IndexError:\n",
    "        continue\n",
    "    \n",
    "    # Load all ranked docking poses\n",
    "    outs = glob.glob(\"{0}/Docked_Ligands/ranked_poses/{1}_{2}_*.pdb\".format(output_dir, uni, drug))\n",
    "    \n",
    "    for f in outs:\n",
    "        rank = int(f.split(\"_\")[-1].split(\".\")[0])\n",
    "        #print drug, uni, rank\n",
    "        #continue\n",
    "        if(not rank <= 10):\n",
    "            continue\n",
    "        score = float(open(f, \"r\").readlines()[1].split()[-1])\n",
    "        ires = sp.check_output(\"python irescalc_ligand.py {0} {1}\".format(uni_f, f), shell=True).strip()\n",
    "        \n",
    "        summary.append([uni, drug_orig, rank, score, ires])\n",
    "        pbar.update()\n",
    "summary = pd.DataFrame(summary, columns=[\"Human_Protein\", \"Compound_Name\", \"Rank\", \"Score\", \"Ires\"])"
   ]
  },
  {
   "cell_type": "code",
   "execution_count": 15,
   "metadata": {},
   "outputs": [],
   "source": [
    "# Sort Summary By Drug Target Pair / Rank\n",
    "summary = summary.sort_values([\"Human_Protein\", \"Compound_Name\", \"Rank\"])"
   ]
  },
  {
   "cell_type": "code",
   "execution_count": null,
   "metadata": {},
   "outputs": [],
   "source": []
  },
  {
   "cell_type": "code",
   "execution_count": 22,
   "metadata": {},
   "outputs": [],
   "source": [
    "# Save Summary\n",
    "summary.to_csv(\"{0}/Drug_Docking_Ires_Summary.txt\".format(output_dir), sep=\"\\t\", index=None)"
   ]
  },
  {
   "cell_type": "code",
   "execution_count": 23,
   "metadata": {},
   "outputs": [],
   "source": [
    "summary = pd.read_csv(\"{0}/Drug_Docking_Ires_Summary.txt\".format(output_dir), sep=\"\\t\")"
   ]
  },
  {
   "cell_type": "code",
   "execution_count": null,
   "metadata": {},
   "outputs": [],
   "source": []
  },
  {
   "cell_type": "code",
   "execution_count": null,
   "metadata": {},
   "outputs": [],
   "source": []
  },
  {
   "cell_type": "markdown",
   "metadata": {},
   "source": [
    "# Calculate Enrichment For Protein / Ligand IRES Overlap"
   ]
  },
  {
   "cell_type": "code",
   "execution_count": 24,
   "metadata": {},
   "outputs": [],
   "source": [
    "# Read in Protein Interfaces (from docked results)\n",
    "p_ires = pd.read_csv(\"{0}/Interface_Summary.txt\".format(output_dir), sep=\"\\t\")\n",
    "p_ires = p_ires[p_ires[\"Source\"] == \"Docking\"]\n",
    "\n",
    "# Read in Ligand Interfaces\n",
    "l_ires = pd.read_csv(\"{0}/Drug_Docking_Ires_Summary.txt\".format(output_dir), sep=\"\\t\")"
   ]
  },
  {
   "cell_type": "code",
   "execution_count": null,
   "metadata": {},
   "outputs": [],
   "source": []
  },
  {
   "cell_type": "code",
   "execution_count": 25,
   "metadata": {},
   "outputs": [],
   "source": [
    "# Merge the data (use left join to retain all ligand docks performed)\n",
    "merged = l_ires.join(p_ires[[\"P1\", \"P2\", \"Source\", \"P2_Ires\"]].set_index(\"P2\"), on=\"Human_Protein\", how=\"left\")"
   ]
  },
  {
   "cell_type": "code",
   "execution_count": null,
   "metadata": {},
   "outputs": [],
   "source": []
  },
  {
   "cell_type": "code",
   "execution_count": 26,
   "metadata": {},
   "outputs": [],
   "source": [
    "# Read in Protein --> Sequence Map\n",
    "uni2seq = pd.read_csv(\"{0}/Proteins.txt\".format(output_dir), sep=\"\\t\").set_index(\"ID\")[\"Sequence\"].to_dict()"
   ]
  },
  {
   "cell_type": "code",
   "execution_count": null,
   "metadata": {},
   "outputs": [],
   "source": []
  },
  {
   "cell_type": "code",
   "execution_count": null,
   "metadata": {},
   "outputs": [],
   "source": []
  },
  {
   "cell_type": "code",
   "execution_count": 27,
   "metadata": {},
   "outputs": [],
   "source": [
    "# Calculate Binding Site Similarity and Recall\n",
    "# Recall is the fraction of docked PPI interfaces\n",
    "# that also appear in the docked drug binding site\n",
    "def do(x):\n",
    "    iresA, iresB = x\n",
    "    if(pd.isnull(iresA)):\n",
    "        iresA = set()\n",
    "    else:\n",
    "        iresA = set([int(x)-1 for x in iresA.split(\",\")])\n",
    "    if(pd.isnull(iresB)):\n",
    "        iresB = set()\n",
    "    else:\n",
    "        iresB = set([int(x)-1 for x in iresB.split(\",\")])\n",
    "    \n",
    "    return len(iresA.intersection(iresB)) / float(len(iresA.union(iresB))), len(iresA.intersection(iresB)) / float(len(iresA))\n",
    "# FUNCTION END\n",
    "tmp = merged[[\"Ires\", \"P2_Ires\"]].apply(do, axis=1)\n",
    "\n",
    "merged[\"Jaccard\"] = [x[0] for x in tmp]\n",
    "merged[\"Ligand Recall\"] = [x[1] for x in tmp]"
   ]
  },
  {
   "cell_type": "code",
   "execution_count": null,
   "metadata": {},
   "outputs": [],
   "source": []
  },
  {
   "cell_type": "code",
   "execution_count": 29,
   "metadata": {},
   "outputs": [],
   "source": [
    "# Construct Coverage Masks for all of the\n",
    "# human structures used in the docking\n",
    "uni2coverage_mask = dict()\n",
    "for uni in uni2seq:\n",
    "    uni2coverage_mask[uni] = np.zeros(len(uni2seq[uni]))\n",
    "    try:\n",
    "        uni_f = glob.glob(\"{0}/Undocked_Structures/{1}_*\".format(output_dir, uni))[0]\n",
    "    except IndexError:\n",
    "        continue\n",
    "    \n",
    "    pdb_df = pdb2df(uni_f)\n",
    "    resis = list(pdb_df[\"Residue ID\"].unique() - 1)\n",
    "    resis = [x for x in resis if x >= 0]\n",
    "    \n",
    "    uni2coverage_mask[uni][resis] = 1"
   ]
  },
  {
   "cell_type": "code",
   "execution_count": null,
   "metadata": {},
   "outputs": [],
   "source": []
  },
  {
   "cell_type": "code",
   "execution_count": null,
   "metadata": {},
   "outputs": [],
   "source": []
  },
  {
   "cell_type": "code",
   "execution_count": null,
   "metadata": {},
   "outputs": [],
   "source": []
  },
  {
   "cell_type": "code",
   "execution_count": 30,
   "metadata": {},
   "outputs": [
    {
     "data": {
      "application/vnd.jupyter.widget-view+json": {
       "model_id": "b5bda656e00f4600a7860dc175561178",
       "version_major": 2,
       "version_minor": 0
      },
      "text/plain": [
       "HBox(children=(IntProgress(value=0, max=4), HTML(value=u'')))"
      ]
     },
     "metadata": {},
     "output_type": "display_data"
    },
    {
     "name": "stdout",
     "output_type": "stream",
     "text": [
      "HERE\n",
      "HERE\n",
      "HERE\n",
      "HERE\n",
      "HERE\n",
      "HERE\n"
     ]
    }
   ],
   "source": [
    "# Calculate Log Odds Enrichment for Overlap between\n",
    "# Drug / Protein Interfaces\n",
    "uni2piresmask = dict()\n",
    "uni2liresmask = dict()\n",
    "def do(x):\n",
    "    uni, iresA, iresB, rank = x\n",
    "    mask1 = np.zeros(len(uni2seq[uni]))\n",
    "    mask2 = np.zeros(len(uni2seq[uni]))\n",
    "    \n",
    "    if(pd.isnull(iresA)):\n",
    "        iresA = set()\n",
    "    else:\n",
    "        iresA = set([int(x)-1 for x in iresA.split(\",\")])\n",
    "    if(pd.isnull(iresB)):\n",
    "        iresB = set()\n",
    "    else:\n",
    "        iresB = set([int(x)-1 for x in iresB.split(\",\")])\n",
    "    \n",
    "    mask1[sorted(iresA)] = 1\n",
    "    mask2[sorted(iresB)] = 1\n",
    "    \n",
    "    coverage_mask = uni2coverage_mask[uni] == 1\n",
    "    \n",
    "    #print mask1[coverage_mask]\n",
    "    #print type(mask1[coverage_mask])\n",
    "    #print set(mask1[coverage_mask])\n",
    "    #print set(mask2[coverage_mask])\n",
    "    #1/0\n",
    "    \n",
    "    OR, up, low, p = odds_ratio(mask1[coverage_mask], mask2[coverage_mask], two_sided=False, error=\"CI\")\n",
    "    OR, up, low = np.log2([OR, up, low])\n",
    "    \n",
    "    if(rank == 1 and sum(mask2) != 0):\n",
    "        if(not uni in uni2piresmask.keys()):\n",
    "            uni2piresmask[uni] = mask1[coverage_mask] == 1\n",
    "            uni2liresmask[uni] = mask2[coverage_mask] == 1\n",
    "        else:\n",
    "            print \"HERE\"\n",
    "            uni2piresmask[uni] = uni2piresmask[uni] | (mask1[coverage_mask] == 1)\n",
    "            uni2liresmask[uni] = uni2liresmask[uni] | (mask2[coverage_mask] == 1)\n",
    "    elif(rank == 1):\n",
    "        print uni\n",
    "    return OR, up, low, p\n",
    "# FUNCTION END\n",
    "tmp = merged[[\"Human_Protein\", \"Ires\", \"P2_Ires\", \"Rank\"]].progress_apply(do, axis=1)\n",
    "merged[\"Log2 Odds Ratio\"] = [x[0] for x in tmp]\n",
    "merged[\"Lower CI\"] = [x[2] for x in tmp]\n",
    "merged[\"Upper CI\"] = [x[1] for x in tmp]\n",
    "merged[\"p-value\"] = [x[3] for x in tmp]"
   ]
  },
  {
   "cell_type": "code",
   "execution_count": 32,
   "metadata": {},
   "outputs": [
    {
     "name": "stdout",
     "output_type": "stream",
     "text": [
      "2.16682159602 2.50534147082 1.82830172121 7.72472086297e-11\n"
     ]
    }
   ],
   "source": [
    "# Overall Enrichment Across all Genes\n",
    "pires_mask = np.concatenate([uni2piresmask[uni] for uni in uni2piresmask.keys()])\n",
    "lires_mask = np.concatenate([uni2liresmask[uni] for uni in uni2piresmask.keys()])\n",
    "\n",
    "OR, up, low, p = odds_ratio(pires_mask, lires_mask, two_sided=False, error=\"SE\")\n",
    "OR, up, low = np.log2([OR, up, low])\n",
    "    \n",
    "print OR, up, low, p"
   ]
  },
  {
   "cell_type": "code",
   "execution_count": null,
   "metadata": {},
   "outputs": [],
   "source": []
  },
  {
   "cell_type": "code",
   "execution_count": null,
   "metadata": {},
   "outputs": [],
   "source": []
  },
  {
   "cell_type": "code",
   "execution_count": null,
   "metadata": {},
   "outputs": [],
   "source": []
  },
  {
   "cell_type": "code",
   "execution_count": 33,
   "metadata": {},
   "outputs": [
    {
     "name": "stderr",
     "output_type": "stream",
     "text": [
      "/home/sdw95/.conda/envs/jp/lib/python2.7/site-packages/pandas/core/computation/expressions.py:183: UserWarning: evaluating in Python space because the '*' operator is not supported by numexpr for the bool dtype, use '&' instead\n",
      "  .format(op=op_str, alt_op=unsupported[op_str]))\n"
     ]
    },
    {
     "data": {
      "text/html": [
       "<div>\n",
       "<style scoped>\n",
       "    .dataframe tbody tr th:only-of-type {\n",
       "        vertical-align: middle;\n",
       "    }\n",
       "\n",
       "    .dataframe tbody tr th {\n",
       "        vertical-align: top;\n",
       "    }\n",
       "\n",
       "    .dataframe thead th {\n",
       "        text-align: right;\n",
       "    }\n",
       "</style>\n",
       "<table border=\"1\" class=\"dataframe\">\n",
       "  <thead>\n",
       "    <tr style=\"text-align: right;\">\n",
       "      <th></th>\n",
       "      <th>Human_Protein</th>\n",
       "      <th>Compound_Name</th>\n",
       "      <th>Rank</th>\n",
       "      <th>Score</th>\n",
       "      <th>Ires</th>\n",
       "      <th>P1</th>\n",
       "      <th>Source</th>\n",
       "      <th>P2_Ires</th>\n",
       "      <th>Jaccard</th>\n",
       "      <th>Ligand Recall</th>\n",
       "      <th>Log2 Odds Ratio</th>\n",
       "      <th>Lower CI</th>\n",
       "      <th>Upper CI</th>\n",
       "      <th>p-value</th>\n",
       "    </tr>\n",
       "  </thead>\n",
       "  <tbody>\n",
       "    <tr>\n",
       "      <th>63</th>\n",
       "      <td>P21964</td>\n",
       "      <td>Entacapone</td>\n",
       "      <td>4</td>\n",
       "      <td>-6.258568</td>\n",
       "      <td>88,90,191,193,194,223,224</td>\n",
       "      <td>COVID19nsp7</td>\n",
       "      <td>Docking</td>\n",
       "      <td>55,56,58,84,85,86,87,88,90,191,193,194,223,224...</td>\n",
       "      <td>0.411765</td>\n",
       "      <td>1.0</td>\n",
       "      <td>NaN</td>\n",
       "      <td>NaN</td>\n",
       "      <td>NaN</td>\n",
       "      <td>NaN</td>\n",
       "    </tr>\n",
       "  </tbody>\n",
       "</table>\n",
       "</div>"
      ],
      "text/plain": [
       "   Human_Protein Compound_Name  Rank     Score                       Ires  \\\n",
       "63        P21964    Entacapone     4 -6.258568  88,90,191,193,194,223,224   \n",
       "\n",
       "             P1   Source                                            P2_Ires  \\\n",
       "63  COVID19nsp7  Docking  55,56,58,84,85,86,87,88,90,191,193,194,223,224...   \n",
       "\n",
       "     Jaccard  Ligand Recall  Log2 Odds Ratio  Lower CI  Upper CI  p-value  \n",
       "63  0.411765            1.0              NaN       NaN       NaN      NaN  "
      ]
     },
     "execution_count": 33,
     "metadata": {},
     "output_type": "execute_result"
    }
   ],
   "source": [
    "# Check for cases with perfect overlap at the interface\n",
    "merged[(pd.isnull(merged[\"Log2 Odds Ratio\"]))*(merged[\"Ligand Recall\"] != 0)]"
   ]
  },
  {
   "cell_type": "code",
   "execution_count": null,
   "metadata": {},
   "outputs": [],
   "source": []
  },
  {
   "cell_type": "code",
   "execution_count": 34,
   "metadata": {},
   "outputs": [],
   "source": [
    "# Reformat / Save\n",
    "to_save = merged.copy()\n",
    "to_save.columns = [\"Human_Protein\", \"Compound_Name\", \"Docking_Rank\", \"Score\", \"Drug_Ires\", \"Viral_Interactor\", \"Source\", \"Protein_Ires\", \"Jaccard_Similarity\", \"Drug_Ires_Coverage\", \"Log2OR\", \"LowerCI\", \"UpperCI\", \"p-value\"]\n",
    "to_save = to_save[[\"Human_Protein\", \"Compound_Name\", \"Viral_Interactor\", \"Docking_Rank\", \"Score\", \"Drug_Ires\", \"Protein_Ires\", \"Source\", \"Jaccard_Similarity\", \"Drug_Ires_Coverage\", \"Log2OR\", \"LowerCI\", \"UpperCI\", \"p-value\"]]\n",
    "\n",
    "to_save.to_csv(\"{0}/Drug_Interface_Enrichment.txt\".format(output_dir), sep=\"\\t\", index=None)"
   ]
  },
  {
   "cell_type": "code",
   "execution_count": 35,
   "metadata": {},
   "outputs": [
    {
     "data": {
      "text/html": [
       "<div>\n",
       "<style scoped>\n",
       "    .dataframe tbody tr th:only-of-type {\n",
       "        vertical-align: middle;\n",
       "    }\n",
       "\n",
       "    .dataframe tbody tr th {\n",
       "        vertical-align: top;\n",
       "    }\n",
       "\n",
       "    .dataframe thead th {\n",
       "        text-align: right;\n",
       "    }\n",
       "</style>\n",
       "<table border=\"1\" class=\"dataframe\">\n",
       "  <thead>\n",
       "    <tr style=\"text-align: right;\">\n",
       "      <th></th>\n",
       "      <th>Human_Protein</th>\n",
       "      <th>Compound_Name</th>\n",
       "      <th>Viral_Interactor</th>\n",
       "      <th>Docking_Rank</th>\n",
       "      <th>Score</th>\n",
       "      <th>Drug_Ires</th>\n",
       "      <th>Protein_Ires</th>\n",
       "      <th>Source</th>\n",
       "      <th>Jaccard_Similarity</th>\n",
       "      <th>Drug_Ires_Coverage</th>\n",
       "      <th>Log2OR</th>\n",
       "      <th>LowerCI</th>\n",
       "      <th>UpperCI</th>\n",
       "      <th>p-value</th>\n",
       "    </tr>\n",
       "  </thead>\n",
       "  <tbody>\n",
       "    <tr>\n",
       "      <th>0</th>\n",
       "      <td>P12268</td>\n",
       "      <td>Merimepodib</td>\n",
       "      <td>COVID19nsp14</td>\n",
       "      <td>1</td>\n",
       "      <td>-7.910938</td>\n",
       "      <td>70,71,93,94,95,251,255,274,275,276,325,326,327...</td>\n",
       "      <td>36,37,38,39,40,41,42,45,238,242,371,392,394,39...</td>\n",
       "      <td>Docking</td>\n",
       "      <td>0.000000</td>\n",
       "      <td>0.000000</td>\n",
       "      <td>NaN</td>\n",
       "      <td>NaN</td>\n",
       "      <td>NaN</td>\n",
       "      <td>NaN</td>\n",
       "    </tr>\n",
       "    <tr>\n",
       "      <th>10</th>\n",
       "      <td>P12268</td>\n",
       "      <td>Mycophenolic acid</td>\n",
       "      <td>COVID19nsp14</td>\n",
       "      <td>1</td>\n",
       "      <td>-7.458368</td>\n",
       "      <td>70,274,275,276,325,326,327,365,366,387,388</td>\n",
       "      <td>36,37,38,39,40,41,42,45,238,242,371,392,394,39...</td>\n",
       "      <td>Docking</td>\n",
       "      <td>0.000000</td>\n",
       "      <td>0.000000</td>\n",
       "      <td>NaN</td>\n",
       "      <td>NaN</td>\n",
       "      <td>NaN</td>\n",
       "      <td>NaN</td>\n",
       "    </tr>\n",
       "    <tr>\n",
       "      <th>20</th>\n",
       "      <td>P12268</td>\n",
       "      <td>Ribavirin</td>\n",
       "      <td>COVID19nsp14</td>\n",
       "      <td>1</td>\n",
       "      <td>-6.812905</td>\n",
       "      <td>52,54,355,358,380,382,477,484</td>\n",
       "      <td>36,37,38,39,40,41,42,45,238,242,371,392,394,39...</td>\n",
       "      <td>Docking</td>\n",
       "      <td>0.000000</td>\n",
       "      <td>0.000000</td>\n",
       "      <td>NaN</td>\n",
       "      <td>NaN</td>\n",
       "      <td>NaN</td>\n",
       "      <td>NaN</td>\n",
       "    </tr>\n",
       "    <tr>\n",
       "      <th>30</th>\n",
       "      <td>P12268</td>\n",
       "      <td>Sanglifehrin A</td>\n",
       "      <td>COVID19nsp14</td>\n",
       "      <td>1</td>\n",
       "      <td>-11.206060</td>\n",
       "      <td>52,57,58,60,62,236,238,239,240,241,242,243,264...</td>\n",
       "      <td>36,37,38,39,40,41,42,45,238,242,371,392,394,39...</td>\n",
       "      <td>Docking</td>\n",
       "      <td>0.036364</td>\n",
       "      <td>0.100000</td>\n",
       "      <td>0.462343</td>\n",
       "      <td>-1.354888</td>\n",
       "      <td>2.279575</td>\n",
       "      <td>3.377957e-01</td>\n",
       "    </tr>\n",
       "    <tr>\n",
       "      <th>40</th>\n",
       "      <td>P19784</td>\n",
       "      <td>Silmitasertib</td>\n",
       "      <td>COVID19N</td>\n",
       "      <td>1</td>\n",
       "      <td>-10.969420</td>\n",
       "      <td>46,47,48,49,51,52,54,67,115,159,161,176</td>\n",
       "      <td>47,48,49,50,51,121,123,124,127,159,161,176,179...</td>\n",
       "      <td>Docking</td>\n",
       "      <td>0.194444</td>\n",
       "      <td>0.583333</td>\n",
       "      <td>4.119633</td>\n",
       "      <td>2.641715</td>\n",
       "      <td>5.597550</td>\n",
       "      <td>2.270367e-06</td>\n",
       "    </tr>\n",
       "    <tr>\n",
       "      <th>50</th>\n",
       "      <td>P19784</td>\n",
       "      <td>TMCB</td>\n",
       "      <td>COVID19N</td>\n",
       "      <td>1</td>\n",
       "      <td>-7.318310</td>\n",
       "      <td>46,47,48,49,52,54,67,115,116,119,159,161,176</td>\n",
       "      <td>47,48,49,50,51,121,123,124,127,159,161,176,179...</td>\n",
       "      <td>Docking</td>\n",
       "      <td>0.157895</td>\n",
       "      <td>0.461538</td>\n",
       "      <td>3.343205</td>\n",
       "      <td>1.933497</td>\n",
       "      <td>4.752912</td>\n",
       "      <td>4.792419e-05</td>\n",
       "    </tr>\n",
       "    <tr>\n",
       "      <th>60</th>\n",
       "      <td>P21964</td>\n",
       "      <td>Entacapone</td>\n",
       "      <td>COVID19nsp7</td>\n",
       "      <td>1</td>\n",
       "      <td>-7.196985</td>\n",
       "      <td>73,77,81,84,94,95,247,250,251,252</td>\n",
       "      <td>55,56,58,84,85,86,87,88,90,191,193,194,223,224...</td>\n",
       "      <td>Docking</td>\n",
       "      <td>0.125000</td>\n",
       "      <td>0.300000</td>\n",
       "      <td>2.562710</td>\n",
       "      <td>0.798355</td>\n",
       "      <td>4.327065</td>\n",
       "      <td>8.444046e-03</td>\n",
       "    </tr>\n",
       "    <tr>\n",
       "      <th>70</th>\n",
       "      <td>P27448</td>\n",
       "      <td>Ruxolitinib</td>\n",
       "      <td>COVID19orf9b</td>\n",
       "      <td>1</td>\n",
       "      <td>-6.998371</td>\n",
       "      <td>170,171,173,175,232,233,293,296,297,299</td>\n",
       "      <td>60,61,62,63,64,65,70,81,134,135,136,137,138,13...</td>\n",
       "      <td>Docking</td>\n",
       "      <td>0.000000</td>\n",
       "      <td>0.000000</td>\n",
       "      <td>NaN</td>\n",
       "      <td>NaN</td>\n",
       "      <td>NaN</td>\n",
       "      <td>NaN</td>\n",
       "    </tr>\n",
       "    <tr>\n",
       "      <th>80</th>\n",
       "      <td>P27448</td>\n",
       "      <td>ZINC95559591</td>\n",
       "      <td>COVID19orf9b</td>\n",
       "      <td>1</td>\n",
       "      <td>-7.280588</td>\n",
       "      <td>60,61,62,63,70,85,134,135,136,138,139,182,195,...</td>\n",
       "      <td>60,61,62,63,64,65,70,81,134,135,136,137,138,13...</td>\n",
       "      <td>Docking</td>\n",
       "      <td>0.279070</td>\n",
       "      <td>0.800000</td>\n",
       "      <td>5.290677</td>\n",
       "      <td>3.688174</td>\n",
       "      <td>6.893180</td>\n",
       "      <td>2.809835e-08</td>\n",
       "    </tr>\n",
       "    <tr>\n",
       "      <th>90</th>\n",
       "      <td>Q92769</td>\n",
       "      <td>Apicidin</td>\n",
       "      <td>COVID19nsp5</td>\n",
       "      <td>1</td>\n",
       "      <td>-7.705235</td>\n",
       "      <td>28,99,100,150,151,205,206,271,272,302</td>\n",
       "      <td>24,26,27,28,30,32,82,85,86,89,90,92,93,94,96,9...</td>\n",
       "      <td>Docking</td>\n",
       "      <td>0.133333</td>\n",
       "      <td>0.600000</td>\n",
       "      <td>3.791070</td>\n",
       "      <td>2.202148</td>\n",
       "      <td>5.379992</td>\n",
       "      <td>4.345170e-05</td>\n",
       "    </tr>\n",
       "    <tr>\n",
       "      <th>100</th>\n",
       "      <td>Q92769</td>\n",
       "      <td>Valproic Acid</td>\n",
       "      <td>COVID19nsp5</td>\n",
       "      <td>1</td>\n",
       "      <td>-4.996406</td>\n",
       "      <td>100,150,151,205,206,272,302</td>\n",
       "      <td>24,26,27,28,30,32,82,85,86,89,90,92,93,94,96,9...</td>\n",
       "      <td>Docking</td>\n",
       "      <td>0.066667</td>\n",
       "      <td>0.428571</td>\n",
       "      <td>2.672425</td>\n",
       "      <td>0.814870</td>\n",
       "      <td>4.529981</td>\n",
       "      <td>8.980621e-03</td>\n",
       "    </tr>\n",
       "  </tbody>\n",
       "</table>\n",
       "</div>"
      ],
      "text/plain": [
       "    Human_Protein      Compound_Name Viral_Interactor  Docking_Rank  \\\n",
       "0          P12268        Merimepodib     COVID19nsp14             1   \n",
       "10         P12268  Mycophenolic acid     COVID19nsp14             1   \n",
       "20         P12268          Ribavirin     COVID19nsp14             1   \n",
       "30         P12268     Sanglifehrin A     COVID19nsp14             1   \n",
       "40         P19784     Silmitasertib          COVID19N             1   \n",
       "50         P19784               TMCB         COVID19N             1   \n",
       "60         P21964         Entacapone      COVID19nsp7             1   \n",
       "70         P27448        Ruxolitinib     COVID19orf9b             1   \n",
       "80         P27448       ZINC95559591     COVID19orf9b             1   \n",
       "90         Q92769           Apicidin      COVID19nsp5             1   \n",
       "100        Q92769      Valproic Acid      COVID19nsp5             1   \n",
       "\n",
       "         Score                                          Drug_Ires  \\\n",
       "0    -7.910938  70,71,93,94,95,251,255,274,275,276,325,326,327...   \n",
       "10   -7.458368         70,274,275,276,325,326,327,365,366,387,388   \n",
       "20   -6.812905                      52,54,355,358,380,382,477,484   \n",
       "30  -11.206060  52,57,58,60,62,236,238,239,240,241,242,243,264...   \n",
       "40  -10.969420            46,47,48,49,51,52,54,67,115,159,161,176   \n",
       "50   -7.318310       46,47,48,49,52,54,67,115,116,119,159,161,176   \n",
       "60   -7.196985                  73,77,81,84,94,95,247,250,251,252   \n",
       "70   -6.998371            170,171,173,175,232,233,293,296,297,299   \n",
       "80   -7.280588  60,61,62,63,70,85,134,135,136,138,139,182,195,...   \n",
       "90   -7.705235              28,99,100,150,151,205,206,271,272,302   \n",
       "100  -4.996406                        100,150,151,205,206,272,302   \n",
       "\n",
       "                                          Protein_Ires   Source  \\\n",
       "0    36,37,38,39,40,41,42,45,238,242,371,392,394,39...  Docking   \n",
       "10   36,37,38,39,40,41,42,45,238,242,371,392,394,39...  Docking   \n",
       "20   36,37,38,39,40,41,42,45,238,242,371,392,394,39...  Docking   \n",
       "30   36,37,38,39,40,41,42,45,238,242,371,392,394,39...  Docking   \n",
       "40   47,48,49,50,51,121,123,124,127,159,161,176,179...  Docking   \n",
       "50   47,48,49,50,51,121,123,124,127,159,161,176,179...  Docking   \n",
       "60   55,56,58,84,85,86,87,88,90,191,193,194,223,224...  Docking   \n",
       "70   60,61,62,63,64,65,70,81,134,135,136,137,138,13...  Docking   \n",
       "80   60,61,62,63,64,65,70,81,134,135,136,137,138,13...  Docking   \n",
       "90   24,26,27,28,30,32,82,85,86,89,90,92,93,94,96,9...  Docking   \n",
       "100  24,26,27,28,30,32,82,85,86,89,90,92,93,94,96,9...  Docking   \n",
       "\n",
       "     Jaccard_Similarity  Drug_Ires_Coverage    Log2OR   LowerCI   UpperCI  \\\n",
       "0              0.000000            0.000000       NaN       NaN       NaN   \n",
       "10             0.000000            0.000000       NaN       NaN       NaN   \n",
       "20             0.000000            0.000000       NaN       NaN       NaN   \n",
       "30             0.036364            0.100000  0.462343 -1.354888  2.279575   \n",
       "40             0.194444            0.583333  4.119633  2.641715  5.597550   \n",
       "50             0.157895            0.461538  3.343205  1.933497  4.752912   \n",
       "60             0.125000            0.300000  2.562710  0.798355  4.327065   \n",
       "70             0.000000            0.000000       NaN       NaN       NaN   \n",
       "80             0.279070            0.800000  5.290677  3.688174  6.893180   \n",
       "90             0.133333            0.600000  3.791070  2.202148  5.379992   \n",
       "100            0.066667            0.428571  2.672425  0.814870  4.529981   \n",
       "\n",
       "          p-value  \n",
       "0             NaN  \n",
       "10            NaN  \n",
       "20            NaN  \n",
       "30   3.377957e-01  \n",
       "40   2.270367e-06  \n",
       "50   4.792419e-05  \n",
       "60   8.444046e-03  \n",
       "70            NaN  \n",
       "80   2.809835e-08  \n",
       "90   4.345170e-05  \n",
       "100  8.980621e-03  "
      ]
     },
     "execution_count": 35,
     "metadata": {},
     "output_type": "execute_result"
    }
   ],
   "source": [
    "a = pd.read_csv(\"{0}/Drug_Interface_Enrichment.txt\".format(output_dir), sep=\"\\t\")\n",
    "a[a[\"Docking_Rank\"] == 1]"
   ]
  },
  {
   "cell_type": "code",
   "execution_count": null,
   "metadata": {},
   "outputs": [],
   "source": []
  },
  {
   "cell_type": "code",
   "execution_count": null,
   "metadata": {},
   "outputs": [],
   "source": []
  },
  {
   "cell_type": "code",
   "execution_count": null,
   "metadata": {},
   "outputs": [],
   "source": []
  }
 ],
 "metadata": {
  "kernelspec": {
   "display_name": "Python 2",
   "language": "python",
   "name": "python2"
  },
  "language_info": {
   "codemirror_mode": {
    "name": "ipython",
    "version": 2
   },
   "file_extension": ".py",
   "mimetype": "text/x-python",
   "name": "python",
   "nbconvert_exporter": "python",
   "pygments_lexer": "ipython2",
   "version": "2.7.15"
  }
 },
 "nbformat": 4,
 "nbformat_minor": 2
}

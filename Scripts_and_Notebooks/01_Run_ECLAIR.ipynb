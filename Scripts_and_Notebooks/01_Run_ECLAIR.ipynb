{
 "cells": [
  {
   "cell_type": "code",
   "execution_count": 1,
   "metadata": {},
   "outputs": [],
   "source": [
    "# Set the process name to be human readable in htop\n",
    "import setproctitle\n",
    "setproctitle.setproctitle(\"01_Run_ECLAIR\")\n",
    "\n",
    "from config import *"
   ]
  },
  {
   "cell_type": "code",
   "execution_count": null,
   "metadata": {},
   "outputs": [],
   "source": []
  },
  {
   "cell_type": "markdown",
   "metadata": {},
   "source": [
    "This notebook contains the command that WOULD run the ECLAIR pipeline on the provided set of interactions. The full ECLIAR pipeline is not currently provided as a standalone piece of software. For demonstrative purposes, the raw ECLAIR prediciton outputs for a handful of interactions are provided (so that the rest of the pipeline is here is runnable in some form).\n",
    "\n",
    "- Inputs:\n",
    "  - Interactions.txt\n",
    "\n",
    "\n",
    "- Outputs:\n",
    "  - [P1]\\_[P2]\\_[prot].pkl (Raw Eclair Prediction outputs)\n",
    "  - Updates several feature files some of which are used downstream and are provided as static copies. Specifically...\n",
    "    - uniprot_info.txt\n",
    "    - pfam_domains.txt\n",
    "\n",
    "\n",
    "- Dependencies:\n",
    "  - Should be run AFTER all interacitons have been fed through ECLAIR pipeline for interface prediction\n",
    "    - **NOTE:** The ECLAIR pipeline is not incluuded in this repository, and treats any output from this pipeline as a static result that is already available"
   ]
  },
  {
   "cell_type": "code",
   "execution_count": null,
   "metadata": {},
   "outputs": [],
   "source": []
  },
  {
   "cell_type": "code",
   "execution_count": 2,
   "metadata": {},
   "outputs": [
    {
     "name": "stdout",
     "output_type": "stream",
     "text": [
      "eclair -f /home/sdw95/3D_SARS2/git_hub/3D_SARS2/inputs/Interactions.txt -nc 10 -predpath /home/sdw95/3D_SARS2/git_hub/3D_SARS2/static_resources/Precomputed_ECLAIR_Predictions\n"
     ]
    }
   ],
   "source": [
    "# Theoretically run this in the command line or below using Jupyter Magic (pipeline not provided, not currently re-runnable)\n",
    "print \"eclair -f {0}/Interactions.txt -nc 10 -predpath {1}\".format(input_dir, raw_eclair_dir)"
   ]
  },
  {
   "cell_type": "code",
   "execution_count": null,
   "metadata": {},
   "outputs": [],
   "source": []
  },
  {
   "cell_type": "code",
   "execution_count": null,
   "metadata": {},
   "outputs": [],
   "source": [
    "!eclair -f /home/sdw95/3D_SARS2/git_hub/3D_SARS2/inputs/Interactions.txt -nc 10 -predpath /home/sdw95/3D_SARS2/git_hub/3D_SARS2/static_resources/Precomputed_ECLAIR_Predictions"
   ]
  },
  {
   "cell_type": "code",
   "execution_count": null,
   "metadata": {},
   "outputs": [],
   "source": []
  },
  {
   "cell_type": "code",
   "execution_count": null,
   "metadata": {},
   "outputs": [],
   "source": []
  }
 ],
 "metadata": {
  "kernelspec": {
   "display_name": "Python 2",
   "language": "python",
   "name": "python2"
  },
  "language_info": {
   "codemirror_mode": {
    "name": "ipython",
    "version": 2
   },
   "file_extension": ".py",
   "mimetype": "text/x-python",
   "name": "python",
   "nbconvert_exporter": "python",
   "pygments_lexer": "ipython2",
   "version": "2.7.15"
  }
 },
 "nbformat": 4,
 "nbformat_minor": 2
}

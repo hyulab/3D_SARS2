{
 "cells": [
  {
   "cell_type": "code",
   "execution_count": 2,
   "metadata": {},
   "outputs": [],
   "source": [
    "# Set the process name to be human readable in htop\n",
    "import setproctitle\n",
    "setproctitle.setproctitle(\"07_Run_Docking\")\n",
    "\n",
    "from config import *\n",
    "\n",
    "import pandas as pd\n",
    "pd.options.display.max_columns = 999\n",
    "\n",
    "import glob\n",
    "import os\n",
    "\n",
    "from tqdm import tqdm, tqdm_notebook\n",
    "from tqdm._tqdm_notebook import tqdm_notebook\n",
    "\n",
    "tqdm.pandas(tqdm_notebook)\n",
    "tqdm_notebook.pandas()"
   ]
  },
  {
   "cell_type": "code",
   "execution_count": null,
   "metadata": {},
   "outputs": [],
   "source": []
  },
  {
   "cell_type": "markdown",
   "metadata": {},
   "source": [
    "This notebook is a wrapper to call the HADDOCK protein-protein interaction docking protocol for all interactions.\n",
    "\n",
    "- Inputs:\n",
    "  - Interactions.txt\n",
    "  - [P1]\\_[P2]\\_[Chain].pdb (Oriented Structures)\n",
    "  - [P1]\\_[P2].txt (Parsed ECLAIR Predictions)\n",
    "\n",
    "- Outputs:\n",
    "  - [P1]\\_[P2] (Interaction Haddock Run Directory created under \"Docking_Runs\")\n",
    "\n",
    "\n",
    "- Dependencies:\n",
    "  - Must be run after 02_Fetch_Eclair_Preds and 04_Select_Models\n",
    "  - Must have HADDOCK installed locally\n",
    "  - Calls run_haddock.py\n",
    "    - Which itself calls srescalc.py\n",
    "      - **NOTE:** srescalc.py *may not* be currently properly extraced from the Yu Lab's server and may not run successfully in this repository. The raw code is provided, but it itself calls several separate dependencies and I have not been able to thoroughly confirm there are no specifics to our machine still linked to it.\n",
    "      - If any end user encounters errors runngin srescalc.py from this repository please contact the authors."
   ]
  },
  {
   "cell_type": "code",
   "execution_count": null,
   "metadata": {},
   "outputs": [],
   "source": []
  },
  {
   "cell_type": "markdown",
   "metadata": {},
   "source": [
    "# Run Protein-Protein Interaction Docking"
   ]
  },
  {
   "cell_type": "code",
   "execution_count": 3,
   "metadata": {},
   "outputs": [],
   "source": [
    "# Read in interactions\n",
    "interactions = pd.read_csv(\"{0}/Interactions.txt\".format(input_dir), sep=\"\\t\")"
   ]
  },
  {
   "cell_type": "code",
   "execution_count": 6,
   "metadata": {},
   "outputs": [],
   "source": [
    "# Read ECLAIR Preds\n",
    "inter2preds = glob.glob(\"{0}/Eclair_Predictions/*\".format(output_dir))\n",
    "inter2preds = {os.path.basename(x).split(\".\")[0]:pd.read_csv(x, sep=\"\\t\") for x in inter2preds}"
   ]
  },
  {
   "cell_type": "code",
   "execution_count": 108,
   "metadata": {},
   "outputs": [],
   "source": []
  },
  {
   "cell_type": "code",
   "execution_count": 5,
   "metadata": {},
   "outputs": [
    {
     "data": {
      "application/vnd.jupyter.widget-view+json": {
       "model_id": "1cab92fe4e3e4ad4853c688f081e58ee",
       "version_major": 2,
       "version_minor": 0
      },
      "text/plain": [
       "HBox(children=(IntProgress(value=0, max=10), HTML(value=u'')))"
      ]
     },
     "metadata": {},
     "output_type": "display_data"
    },
    {
     "name": "stdout",
     "output_type": "stream",
     "text": [
      "B\n",
      "A\n",
      "A\n",
      "A\n",
      "A\n",
      "B\n",
      "A\n",
      "A\n",
      "A\n",
      "B\n",
      "\n"
     ]
    }
   ],
   "source": [
    "work = 0\n",
    "for uniA, uniB in tqdm_notebook(interactions[[\"P1\", \"P2\"]].values):\n",
    "    name = \"_\".join([uniA, uniB])\n",
    "    \n",
    "    # Try to grab structures for docking this interaction from the Oriented Structures\n",
    "    # NOTE: This could be replaced with the Undocked_Structures (the initial orientation should\n",
    "    # not matter for HADDOCK)\n",
    "    try:\n",
    "        pdb1 = glob.glob(\"{0}/Oriented_Structures/{1}*{2}*_A.pdb\".format(output_dir, uniA, uniB))[0]\n",
    "        pdb2 = glob.glob(\"{0}/Oriented_Structures/{1}*{2}*_B.pdb\".format(output_dir, uniA, uniB))[0]\n",
    "    except IndexError:\n",
    "        print \"B\"\n",
    "        continue\n",
    "    \n",
    "    # May need to manually add \"END\" line to PDB structures (necessary for HADDOCK)\n",
    "    try:\n",
    "        lines = open(pdb1, \"r\").read()\n",
    "    except:\n",
    "        print \"Missing File\", pdb1\n",
    "        continue\n",
    "    if(not lines[-4:] == \"END\\n\"):\n",
    "        #print \"ADDING END\", pdb1\n",
    "        lines += \"END\\n\"\n",
    "    out = open(pdb1, \"w\")\n",
    "    out.write(lines)\n",
    "    out.close()\n",
    "    \n",
    "    # May need to manually add \"END\" line to PDB structures (necessary for HADDOCK)\n",
    "    try:\n",
    "        lines = open(pdb2, \"r\").read()\n",
    "    except:\n",
    "        print \"Missing File\", pdb2\n",
    "        continue\n",
    "    if(not lines[-4:] == \"END\\n\"):\n",
    "        #print \"ADDING END\", pdb2\n",
    "        lines += \"END\\n\"\n",
    "    out = open(pdb2, \"w\")\n",
    "    out.write(lines)\n",
    "    out.close()\n",
    "    \n",
    "    try:\n",
    "        preds = inter2preds[\"_\".join(sorted([uniA, uniB]))]\n",
    "        ires1 = \",\".join(preds[(preds[\"Prot\"] == 0)&(preds[\"Pred\"] >= 0.24)][\"Pos\"].map(lambda x: str(x)).to_list())\n",
    "        ires2 = \",\".join(preds[(preds[\"Prot\"] == 1)&(preds[\"Pred\"] >= 0.24)][\"Pos\"].map(lambda x: str(x)).to_list())\n",
    "        \n",
    "        passives1 = \"None\"\n",
    "        passives2 = \"None\"\n",
    "        work += 1\n",
    "    except IOError:\n",
    "        continue\n",
    "    \n",
    "    if(len(ires1) == 0 or len(ires2) == 0):\n",
    "        print uniA, uniB\n",
    "    \n",
    "    sp.call(\"python run_haddock.py {0} {1} {2} {3} {4} {5} {6}\".format(name, os.path.realpath(pdb1), os.path.realpath(pdb2), ires1, ires2, passives1, passives2), shell=True)"
   ]
  },
  {
   "cell_type": "code",
   "execution_count": 118,
   "metadata": {},
   "outputs": [
    {
     "data": {
      "text/plain": [
       "0"
      ]
     },
     "execution_count": 118,
     "metadata": {},
     "output_type": "execute_result"
    }
   ],
   "source": [
    "0"
   ]
  },
  {
   "cell_type": "code",
   "execution_count": null,
   "metadata": {},
   "outputs": [],
   "source": []
  },
  {
   "cell_type": "code",
   "execution_count": null,
   "metadata": {},
   "outputs": [],
   "source": []
  },
  {
   "cell_type": "code",
   "execution_count": null,
   "metadata": {},
   "outputs": [],
   "source": []
  },
  {
   "cell_type": "code",
   "execution_count": null,
   "metadata": {},
   "outputs": [],
   "source": []
  }
 ],
 "metadata": {
  "kernelspec": {
   "display_name": "Python 2",
   "language": "python",
   "name": "python2"
  },
  "language_info": {
   "codemirror_mode": {
    "name": "ipython",
    "version": 2
   },
   "file_extension": ".py",
   "mimetype": "text/x-python",
   "name": "python",
   "nbconvert_exporter": "python",
   "pygments_lexer": "ipython2",
   "version": "2.7.15"
  },
  "widgets": {
   "application/vnd.jupyter.widget-state+json": {
    "state": {},
    "version_major": 2,
    "version_minor": 0
   }
  }
 },
 "nbformat": 4,
 "nbformat_minor": 2
}

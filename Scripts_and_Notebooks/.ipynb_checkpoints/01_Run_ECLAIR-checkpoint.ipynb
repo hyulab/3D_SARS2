{
 "cells": [
  {
   "cell_type": "code",
   "execution_count": 1,
   "metadata": {},
   "outputs": [],
   "source": [
    "# Set the process name to be human readable in htop\n",
    "import setproctitle\n",
    "setproctitle.setproctitle(\"01_Run_ECLAIR\")\n",
    "\n",
    "from config import *"
   ]
  },
  {
   "cell_type": "code",
   "execution_count": null,
   "metadata": {},
   "outputs": [],
   "source": []
  },
  {
   "cell_type": "markdown",
   "metadata": {},
   "source": [
    "This notebook contains the command that WOULD run the ECLAIR pipeline on the provided set of interactions. The full ECLIAR pipeline is not currently provided as a standalone piece of software. For demonstrative purposes, the raw ECLAIR prediciton outputs for a handful of \n",
    "\n",
    "Raw ECLAIR outputs are saved as .pkl objects and separated out as [P1]\\_[P2]\\_0.pkl and [P1]\\_[P2]\\_1.pkl (for the interface predictions on the P1-P2 interaction for P1 and P2 respectively). The parsing done here merges the two files into one and additionally adds a confidence tier interpretation to the raw prediciton values (only High and Very High) predictions are\n",
    "retained in the binary interface prediction output.\n",
    "\n",
    "- Inputs:\n",
    "  - [P1]\\_[P1]\\_[prot].pkl (Raw Eclair Prediction outputs)\n",
    "\n",
    "\n",
    "- Outputs:\n",
    "  - [P1]\\_[P1].txt (Parsed Eclair Prediciton outputs)\n",
    "  - Interface_Summary.txt\n",
    "\n",
    "\n",
    "- Dependencies:\n",
    "  - Should be run AFTER all interacitons have been fed through ECLAIR pipeline for interface prediction\n",
    "    - **NOTE:** The ECLAIR pipeline is not incluuded in this repository, and treats any output from this pipeline as a static result that is already available"
   ]
  },
  {
   "cell_type": "code",
   "execution_count": null,
   "metadata": {},
   "outputs": [],
   "source": []
  },
  {
   "cell_type": "markdown",
   "metadata": {},
   "source": [
    "# Collect / Parse all Raw Eclair Predictions"
   ]
  },
  {
   "cell_type": "code",
   "execution_count": 3,
   "metadata": {},
   "outputs": [
    {
     "data": {
      "application/vnd.jupyter.widget-view+json": {
       "model_id": "49a6445e0ec34d6397d7af12a93dbdbb",
       "version_major": 2,
       "version_minor": 0
      },
      "text/plain": [
       "HBox(children=(IntProgress(value=0, max=10), HTML(value=u'')))"
      ]
     },
     "metadata": {},
     "output_type": "display_data"
    },
    {
     "name": "stdout",
     "output_type": "stream",
     "text": [
      "\n"
     ]
    }
   ],
   "source": [
    "# Store ires summary\n",
    "summary = []\n",
    "\n",
    "# Iterate over all predictions in the input directory\n",
    "for f in tqdm_notebook(glob.glob(raw_eclair_dir + \"/*.pkl\")):\n",
    "    # Read ECLAIR Predictions\n",
    "    preds = pd.read_pickle(f)\n",
    "    \n",
    "    # Label by confidence tier\n",
    "    def label_tier(p):\n",
    "        if(p < 0.12):\n",
    "            return \"Very Low\"\n",
    "        elif(p < 0.24):\n",
    "            return \"Low\"\n",
    "        elif(p < 0.36):\n",
    "            return \"Medium\"\n",
    "        elif(p < 0.48):\n",
    "            return \"High\"\n",
    "        else:\n",
    "            return \"Very High\"\n",
    "    # FUNCTION END\n",
    "    preds[\"Tier\"] = preds[\"Pred\"].map(label_tier)\n",
    "    \n",
    "    # Reorder so COVID protein is P1 (for consistency with other naming)\n",
    "    p1, p2 = preds[[\"P1\", \"P2\"]].values[0]\n",
    "    if(not \"COVID\" in p1):\n",
    "        preds[\"P1\"] = p2\n",
    "        preds[\"P2\"] = p1\n",
    "        p1, p2 = p2, p1\n",
    "        preds[\"Prot\"] = 1 - preds[\"Prot\"]\n",
    "        preds = preds.sort_values([\"Prot\", \"Pos\"])\n",
    "    \n",
    "    # Save Preds to dest folder\n",
    "    preds.to_csv(\"{0}/{1}_{2}.txt\".format(eclair_dir, p1, p2), sep=\"\\t\", index=None)\n",
    "    \n",
    "    # Store High / Very High Ires for Compiled Summary\n",
    "    p1_ires = sorted(preds[(preds[\"Pred\"] >= 0.36)&(preds[\"Prot\"] == 0)][\"Pos\"].to_list())\n",
    "    p2_ires = sorted(preds[(preds[\"Pred\"] >= 0.36)&(preds[\"Prot\"] == 1)][\"Pos\"].to_list())\n",
    "    \n",
    "    summary.append([p1, p2, \"ECLAIR\", sum(preds[\"Prot\"] == 0), len(p1_ires), \",\".join([str(x) for x in p1_ires]), sum(preds[\"Prot\"] == 1), len(p2_ires), \",\".join([str(x) for x in p2_ires])])\n",
    "\n",
    "# Create final DF\n",
    "summary = pd.DataFrame(summary, columns=[\"P1\", \"P2\", \"Source\", \"P1_Len\", \"P1_N_Ires\", \"P1_Ires\", \"P2_Len\", \"P2_N_Ires\", \"P2_Ires\"])"
   ]
  },
  {
   "cell_type": "code",
   "execution_count": 4,
   "metadata": {},
   "outputs": [
    {
     "data": {
      "text/html": [
       "<div>\n",
       "<style scoped>\n",
       "    .dataframe tbody tr th:only-of-type {\n",
       "        vertical-align: middle;\n",
       "    }\n",
       "\n",
       "    .dataframe tbody tr th {\n",
       "        vertical-align: top;\n",
       "    }\n",
       "\n",
       "    .dataframe thead th {\n",
       "        text-align: right;\n",
       "    }\n",
       "</style>\n",
       "<table border=\"1\" class=\"dataframe\">\n",
       "  <thead>\n",
       "    <tr style=\"text-align: right;\">\n",
       "      <th></th>\n",
       "      <th>P1</th>\n",
       "      <th>P2</th>\n",
       "      <th>Source</th>\n",
       "      <th>P1_Len</th>\n",
       "      <th>P1_N_Ires</th>\n",
       "      <th>P1_Ires</th>\n",
       "      <th>P2_Len</th>\n",
       "      <th>P2_N_Ires</th>\n",
       "      <th>P2_Ires</th>\n",
       "    </tr>\n",
       "  </thead>\n",
       "  <tbody>\n",
       "    <tr>\n",
       "      <th>0</th>\n",
       "      <td>COVID19nsp5</td>\n",
       "      <td>Q92769</td>\n",
       "      <td>ECLAIR</td>\n",
       "      <td>306</td>\n",
       "      <td>7</td>\n",
       "      <td>139,141,142,169,189,218,278</td>\n",
       "      <td>488</td>\n",
       "      <td>40</td>\n",
       "      <td>24,71,105,145,166,167,186,190,191,202,203,213,...</td>\n",
       "    </tr>\n",
       "    <tr>\n",
       "      <th>1</th>\n",
       "      <td>COVID19nsp15</td>\n",
       "      <td>P62330</td>\n",
       "      <td>ECLAIR</td>\n",
       "      <td>346</td>\n",
       "      <td>13</td>\n",
       "      <td>10,23,26,50,103,104,290,291,312,314,315,317,332</td>\n",
       "      <td>175</td>\n",
       "      <td>49</td>\n",
       "      <td>15,23,27,31,34,37,38,39,40,41,42,43,45,46,47,4...</td>\n",
       "    </tr>\n",
       "    <tr>\n",
       "      <th>2</th>\n",
       "      <td>COVID19E</td>\n",
       "      <td>Q8IWA5</td>\n",
       "      <td>ECLAIR</td>\n",
       "      <td>75</td>\n",
       "      <td>0</td>\n",
       "      <td></td>\n",
       "      <td>706</td>\n",
       "      <td>0</td>\n",
       "      <td></td>\n",
       "    </tr>\n",
       "    <tr>\n",
       "      <th>3</th>\n",
       "      <td>COVID19nsp14</td>\n",
       "      <td>P12268</td>\n",
       "      <td>ECLAIR</td>\n",
       "      <td>527</td>\n",
       "      <td>28</td>\n",
       "      <td>8,9,114,142,144,145,146,147,148,165,168,245,24...</td>\n",
       "      <td>514</td>\n",
       "      <td>70</td>\n",
       "      <td>36,41,94,117,120,139,140,141,142,144,161,165,2...</td>\n",
       "    </tr>\n",
       "    <tr>\n",
       "      <th>4</th>\n",
       "      <td>COVID19nsp2</td>\n",
       "      <td>O14975</td>\n",
       "      <td>ECLAIR</td>\n",
       "      <td>638</td>\n",
       "      <td>74</td>\n",
       "      <td>6,8,10,11,12,13,14,15,57,58,60,61,64,65,66,71,...</td>\n",
       "      <td>620</td>\n",
       "      <td>33</td>\n",
       "      <td>145,226,227,228,229,230,231,292,295,318,353,37...</td>\n",
       "    </tr>\n",
       "  </tbody>\n",
       "</table>\n",
       "</div>"
      ],
      "text/plain": [
       "             P1      P2  Source  P1_Len  P1_N_Ires  \\\n",
       "0   COVID19nsp5  Q92769  ECLAIR     306          7   \n",
       "1  COVID19nsp15  P62330  ECLAIR     346         13   \n",
       "2      COVID19E  Q8IWA5  ECLAIR      75          0   \n",
       "3  COVID19nsp14  P12268  ECLAIR     527         28   \n",
       "4   COVID19nsp2  O14975  ECLAIR     638         74   \n",
       "\n",
       "                                             P1_Ires  P2_Len  P2_N_Ires  \\\n",
       "0                        139,141,142,169,189,218,278     488         40   \n",
       "1    10,23,26,50,103,104,290,291,312,314,315,317,332     175         49   \n",
       "2                                                        706          0   \n",
       "3  8,9,114,142,144,145,146,147,148,165,168,245,24...     514         70   \n",
       "4  6,8,10,11,12,13,14,15,57,58,60,61,64,65,66,71,...     620         33   \n",
       "\n",
       "                                             P2_Ires  \n",
       "0  24,71,105,145,166,167,186,190,191,202,203,213,...  \n",
       "1  15,23,27,31,34,37,38,39,40,41,42,43,45,46,47,4...  \n",
       "2                                                     \n",
       "3  36,41,94,117,120,139,140,141,142,144,161,165,2...  \n",
       "4  145,226,227,228,229,230,231,292,295,318,353,37...  "
      ]
     },
     "execution_count": 4,
     "metadata": {},
     "output_type": "execute_result"
    }
   ],
   "source": [
    "summary.head()"
   ]
  },
  {
   "cell_type": "code",
   "execution_count": null,
   "metadata": {},
   "outputs": [],
   "source": []
  },
  {
   "cell_type": "code",
   "execution_count": 6,
   "metadata": {},
   "outputs": [],
   "source": [
    "# Save summary file\n",
    "summary.to_csv(\"{0}/Interface_Summary.txt\".format(output_dir), sep=\"\\t\", index=None)"
   ]
  },
  {
   "cell_type": "code",
   "execution_count": null,
   "metadata": {},
   "outputs": [],
   "source": []
  },
  {
   "cell_type": "code",
   "execution_count": null,
   "metadata": {},
   "outputs": [],
   "source": []
  }
 ],
 "metadata": {
  "kernelspec": {
   "display_name": "Python 2",
   "language": "python",
   "name": "python2"
  },
  "language_info": {
   "codemirror_mode": {
    "name": "ipython",
    "version": 2
   },
   "file_extension": ".py",
   "mimetype": "text/x-python",
   "name": "python",
   "nbconvert_exporter": "python",
   "pygments_lexer": "ipython2",
   "version": "2.7.15"
  }
 },
 "nbformat": 4,
 "nbformat_minor": 2
}

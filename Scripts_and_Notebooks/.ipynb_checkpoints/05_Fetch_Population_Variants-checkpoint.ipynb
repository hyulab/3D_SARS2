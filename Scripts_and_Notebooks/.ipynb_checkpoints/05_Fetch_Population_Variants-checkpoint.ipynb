{
 "cells": [
  {
   "cell_type": "code",
   "execution_count": 1,
   "metadata": {},
   "outputs": [],
   "source": [
    "# Set the process name to be human readable in htop\n",
    "import setproctitle\n",
    "setproctitle.setproctitle(\"05_Fetch_Population_Variants\")\n",
    "\n",
    "import requests\n",
    "import pandas as pd\n",
    "pd.options.display.max_columns = 999\n",
    "\n",
    "import numpy as np\n",
    "import helper as my\n",
    "\n",
    "from tqdm import tqdm, tqdm_notebook\n",
    "from tqdm._tqdm_notebook import tqdm_notebook\n",
    "\n",
    "tqdm.pandas(tqdm_notebook)\n",
    "tqdm_notebook.pandas()\n",
    "\n",
    "\n",
    "%matplotlib inline\n",
    "import matplotlib\n",
    "import matplotlib.pyplot as plt\n",
    "\n",
    "import seaborn as sns\n",
    "\n",
    "from mjm_tools import zip_res_range, unzip_res_range\n",
    "\n",
    "from collections import defaultdict"
   ]
  },
  {
   "cell_type": "code",
   "execution_count": null,
   "metadata": {},
   "outputs": [],
   "source": []
  },
  {
   "cell_type": "code",
   "execution_count": null,
   "metadata": {},
   "outputs": [],
   "source": []
  },
  {
   "cell_type": "markdown",
   "metadata": {},
   "source": [
    "# Paramaters for file locations"
   ]
  },
  {
   "cell_type": "code",
   "execution_count": 2,
   "metadata": {},
   "outputs": [],
   "source": [
    "# Base directory for whole project\n",
    "base_dir = \"/home/sdw95/3D_SARS2\""
   ]
  },
  {
   "cell_type": "code",
   "execution_count": null,
   "metadata": {},
   "outputs": [],
   "source": []
  },
  {
   "cell_type": "markdown",
   "metadata": {},
   "source": [
    "# Query GnomAD for Population Variants"
   ]
  },
  {
   "cell_type": "code",
   "execution_count": 58,
   "metadata": {},
   "outputs": [],
   "source": [
    "# Borrowed From https://gist.github.com/ressy/6fd7f6ee6401ac8e703dc2709399869e\n",
    "# See also Docs at (https://gnomad.broadinstitute.org/api)\n",
    "def fetch_gnomAD(jsondata, url=\"https://gnomad.broadinstitute.org/api\"):\n",
    "    # The server gives a generic error message if the content type isn't\n",
    "    # explicitly set\n",
    "    headers = {\"Content-Type\": \"application/json\"}\n",
    "    response = requests.post(url, json=jsondata, headers=headers)\n",
    "    json = response.json()\n",
    "    if \"errors\" in json:\n",
    "        raise Exception(str(json[\"errors\"]))\n",
    "    return json\n",
    "# FUNCTION END\n",
    "\n",
    "# Borrowed From https://gist.github.com/ressy/6fd7f6ee6401ac8e703dc2709399869e\n",
    "# See also Docs at (https://gnomad.broadinstitute.org/api)\n",
    "def queryGnomadByGene(gene_name, dataset=\"gnomad_r2_1\", fields=[\"gene_id\", \"gene_symbol\", \"chrom\", \"pos\", \"ref\", \"alt\", \"consequence\", \"rsid\", \"variantId\", \"hgvsp\"]):\n",
    "    # Note that this is GraphQL, not JSON.\n",
    "    fmt_graphql = \"\"\"\n",
    "    {\n",
    "        gene(gene_symbol: \"%s\", reference_genome:GRCh38) {\n",
    "          variants(dataset: %s) {\n",
    "          %s\n",
    "        }\n",
    "      }\n",
    "    }\n",
    "    \"\"\"\n",
    "    # This part will be JSON encoded, but with the GraphQL part left as a\n",
    "    # glob of text.\n",
    "    req_variantlist = {\n",
    "        \"query\": fmt_graphql % (gene_name, dataset, \"\\n\".join(fields)),\n",
    "        \"variables\": {}\n",
    "        }\n",
    "    response = fetch_gnomAD(req_variantlist)\n",
    "    return pd.DataFrame(response[\"data\"][\"gene\"][\"variants\"])[fields]\n",
    "# FUNCTION END"
   ]
  },
  {
   "cell_type": "code",
   "execution_count": 147,
   "metadata": {},
   "outputs": [
    {
     "data": {
      "text/html": [
       "<div>\n",
       "<style scoped>\n",
       "    .dataframe tbody tr th:only-of-type {\n",
       "        vertical-align: middle;\n",
       "    }\n",
       "\n",
       "    .dataframe tbody tr th {\n",
       "        vertical-align: top;\n",
       "    }\n",
       "\n",
       "    .dataframe thead th {\n",
       "        text-align: right;\n",
       "    }\n",
       "</style>\n",
       "<table border=\"1\" class=\"dataframe\">\n",
       "  <thead>\n",
       "    <tr style=\"text-align: right;\">\n",
       "      <th></th>\n",
       "      <th>gene_id</th>\n",
       "      <th>gene_symbol</th>\n",
       "      <th>chrom</th>\n",
       "      <th>pos</th>\n",
       "      <th>ref</th>\n",
       "      <th>alt</th>\n",
       "      <th>consequence</th>\n",
       "      <th>rsid</th>\n",
       "      <th>variantId</th>\n",
       "      <th>hgvsp</th>\n",
       "    </tr>\n",
       "  </thead>\n",
       "  <tbody>\n",
       "    <tr>\n",
       "      <th>0</th>\n",
       "      <td>ENSG00000146143</td>\n",
       "      <td>PRIM2</td>\n",
       "      <td>6</td>\n",
       "      <td>57183182</td>\n",
       "      <td>T</td>\n",
       "      <td>C</td>\n",
       "      <td>intron_variant</td>\n",
       "      <td>rs1045869235</td>\n",
       "      <td>6-57183182-T-C</td>\n",
       "      <td>None</td>\n",
       "    </tr>\n",
       "    <tr>\n",
       "      <th>1</th>\n",
       "      <td>ENSG00000146143</td>\n",
       "      <td>PRIM2</td>\n",
       "      <td>6</td>\n",
       "      <td>57183182</td>\n",
       "      <td>T</td>\n",
       "      <td>TC</td>\n",
       "      <td>intron_variant</td>\n",
       "      <td>rs1045869235</td>\n",
       "      <td>6-57183182-T-TC</td>\n",
       "      <td>None</td>\n",
       "    </tr>\n",
       "    <tr>\n",
       "      <th>2</th>\n",
       "      <td>ENSG00000146143</td>\n",
       "      <td>PRIM2</td>\n",
       "      <td>6</td>\n",
       "      <td>57183182</td>\n",
       "      <td>TC</td>\n",
       "      <td>T</td>\n",
       "      <td>intron_variant</td>\n",
       "      <td>rs1045869235</td>\n",
       "      <td>6-57183182-TC-T</td>\n",
       "      <td>None</td>\n",
       "    </tr>\n",
       "    <tr>\n",
       "      <th>3</th>\n",
       "      <td>ENSG00000146143</td>\n",
       "      <td>PRIM2</td>\n",
       "      <td>6</td>\n",
       "      <td>57183190</td>\n",
       "      <td>C</td>\n",
       "      <td>A</td>\n",
       "      <td>intron_variant</td>\n",
       "      <td>rs990388135</td>\n",
       "      <td>6-57183190-C-A</td>\n",
       "      <td>None</td>\n",
       "    </tr>\n",
       "    <tr>\n",
       "      <th>4</th>\n",
       "      <td>ENSG00000146143</td>\n",
       "      <td>PRIM2</td>\n",
       "      <td>6</td>\n",
       "      <td>57183195</td>\n",
       "      <td>T</td>\n",
       "      <td>C</td>\n",
       "      <td>intron_variant</td>\n",
       "      <td>rs763067344</td>\n",
       "      <td>6-57183195-T-C</td>\n",
       "      <td>None</td>\n",
       "    </tr>\n",
       "    <tr>\n",
       "      <th>5</th>\n",
       "      <td>ENSG00000146143</td>\n",
       "      <td>PRIM2</td>\n",
       "      <td>6</td>\n",
       "      <td>57183201</td>\n",
       "      <td>A</td>\n",
       "      <td>G</td>\n",
       "      <td>intron_variant</td>\n",
       "      <td>rs1250384194</td>\n",
       "      <td>6-57183201-A-G</td>\n",
       "      <td>None</td>\n",
       "    </tr>\n",
       "    <tr>\n",
       "      <th>6</th>\n",
       "      <td>ENSG00000146143</td>\n",
       "      <td>PRIM2</td>\n",
       "      <td>6</td>\n",
       "      <td>57183204</td>\n",
       "      <td>A</td>\n",
       "      <td>G</td>\n",
       "      <td>intron_variant</td>\n",
       "      <td>rs766506262</td>\n",
       "      <td>6-57183204-A-G</td>\n",
       "      <td>None</td>\n",
       "    </tr>\n",
       "    <tr>\n",
       "      <th>7</th>\n",
       "      <td>ENSG00000146143</td>\n",
       "      <td>PRIM2</td>\n",
       "      <td>6</td>\n",
       "      <td>57183205</td>\n",
       "      <td>T</td>\n",
       "      <td>C</td>\n",
       "      <td>intron_variant</td>\n",
       "      <td>rs1364833733</td>\n",
       "      <td>6-57183205-T-C</td>\n",
       "      <td>None</td>\n",
       "    </tr>\n",
       "    <tr>\n",
       "      <th>8</th>\n",
       "      <td>ENSG00000146143</td>\n",
       "      <td>PRIM2</td>\n",
       "      <td>6</td>\n",
       "      <td>57183210</td>\n",
       "      <td>C</td>\n",
       "      <td>T</td>\n",
       "      <td>intron_variant</td>\n",
       "      <td>rs369094479</td>\n",
       "      <td>6-57183210-C-T</td>\n",
       "      <td>None</td>\n",
       "    </tr>\n",
       "    <tr>\n",
       "      <th>9</th>\n",
       "      <td>ENSG00000146143</td>\n",
       "      <td>PRIM2</td>\n",
       "      <td>6</td>\n",
       "      <td>57183211</td>\n",
       "      <td>G</td>\n",
       "      <td>A</td>\n",
       "      <td>intron_variant</td>\n",
       "      <td>rs749727827</td>\n",
       "      <td>6-57183211-G-A</td>\n",
       "      <td>None</td>\n",
       "    </tr>\n",
       "    <tr>\n",
       "      <th>10</th>\n",
       "      <td>ENSG00000146143</td>\n",
       "      <td>PRIM2</td>\n",
       "      <td>6</td>\n",
       "      <td>57183220</td>\n",
       "      <td>G</td>\n",
       "      <td>C</td>\n",
       "      <td>intron_variant</td>\n",
       "      <td>rs530852393</td>\n",
       "      <td>6-57183220-G-C</td>\n",
       "      <td>None</td>\n",
       "    </tr>\n",
       "    <tr>\n",
       "      <th>11</th>\n",
       "      <td>ENSG00000146143</td>\n",
       "      <td>PRIM2</td>\n",
       "      <td>6</td>\n",
       "      <td>57183223</td>\n",
       "      <td>C</td>\n",
       "      <td>T</td>\n",
       "      <td>intron_variant</td>\n",
       "      <td>rs558224198</td>\n",
       "      <td>6-57183223-C-T</td>\n",
       "      <td>None</td>\n",
       "    </tr>\n",
       "    <tr>\n",
       "      <th>12</th>\n",
       "      <td>ENSG00000146143</td>\n",
       "      <td>PRIM2</td>\n",
       "      <td>6</td>\n",
       "      <td>57183227</td>\n",
       "      <td>CTTCT</td>\n",
       "      <td>C</td>\n",
       "      <td>splice_region_variant</td>\n",
       "      <td>rs762467299</td>\n",
       "      <td>6-57183227-CTTCT-C</td>\n",
       "      <td>None</td>\n",
       "    </tr>\n",
       "    <tr>\n",
       "      <th>13</th>\n",
       "      <td>ENSG00000146143</td>\n",
       "      <td>PRIM2</td>\n",
       "      <td>6</td>\n",
       "      <td>57183231</td>\n",
       "      <td>T</td>\n",
       "      <td>C</td>\n",
       "      <td>splice_region_variant</td>\n",
       "      <td>rs756565450</td>\n",
       "      <td>6-57183231-T-C</td>\n",
       "      <td>None</td>\n",
       "    </tr>\n",
       "    <tr>\n",
       "      <th>14</th>\n",
       "      <td>ENSG00000146143</td>\n",
       "      <td>PRIM2</td>\n",
       "      <td>6</td>\n",
       "      <td>57183236</td>\n",
       "      <td>T</td>\n",
       "      <td>G</td>\n",
       "      <td>splice_region_variant</td>\n",
       "      <td>rs923381110</td>\n",
       "      <td>6-57183236-T-G</td>\n",
       "      <td>None</td>\n",
       "    </tr>\n",
       "    <tr>\n",
       "      <th>15</th>\n",
       "      <td>ENSG00000146143</td>\n",
       "      <td>PRIM2</td>\n",
       "      <td>6</td>\n",
       "      <td>57183238</td>\n",
       "      <td>A</td>\n",
       "      <td>T</td>\n",
       "      <td>5_prime_UTR_variant</td>\n",
       "      <td>rs1323818285</td>\n",
       "      <td>6-57183238-A-T</td>\n",
       "      <td>None</td>\n",
       "    </tr>\n",
       "    <tr>\n",
       "      <th>16</th>\n",
       "      <td>ENSG00000146143</td>\n",
       "      <td>PRIM2</td>\n",
       "      <td>6</td>\n",
       "      <td>57183241</td>\n",
       "      <td>A</td>\n",
       "      <td>C</td>\n",
       "      <td>5_prime_UTR_variant</td>\n",
       "      <td>rs1346950612</td>\n",
       "      <td>6-57183241-A-C</td>\n",
       "      <td>None</td>\n",
       "    </tr>\n",
       "    <tr>\n",
       "      <th>17</th>\n",
       "      <td>ENSG00000146143</td>\n",
       "      <td>PRIM2</td>\n",
       "      <td>6</td>\n",
       "      <td>57183243</td>\n",
       "      <td>G</td>\n",
       "      <td>C</td>\n",
       "      <td>5_prime_UTR_variant</td>\n",
       "      <td>rs764330737</td>\n",
       "      <td>6-57183243-G-C</td>\n",
       "      <td>None</td>\n",
       "    </tr>\n",
       "    <tr>\n",
       "      <th>18</th>\n",
       "      <td>ENSG00000146143</td>\n",
       "      <td>PRIM2</td>\n",
       "      <td>6</td>\n",
       "      <td>57183244</td>\n",
       "      <td>A</td>\n",
       "      <td>G</td>\n",
       "      <td>start_lost</td>\n",
       "      <td>rs1288402063</td>\n",
       "      <td>6-57183244-A-G</td>\n",
       "      <td>p.Met1?</td>\n",
       "    </tr>\n",
       "    <tr>\n",
       "      <th>19</th>\n",
       "      <td>ENSG00000146143</td>\n",
       "      <td>PRIM2</td>\n",
       "      <td>6</td>\n",
       "      <td>57183247</td>\n",
       "      <td>G</td>\n",
       "      <td>A</td>\n",
       "      <td>missense_variant</td>\n",
       "      <td>rs1359928367</td>\n",
       "      <td>6-57183247-G-A</td>\n",
       "      <td>p.Glu2Lys</td>\n",
       "    </tr>\n",
       "    <tr>\n",
       "      <th>20</th>\n",
       "      <td>ENSG00000146143</td>\n",
       "      <td>PRIM2</td>\n",
       "      <td>6</td>\n",
       "      <td>57183254</td>\n",
       "      <td>C</td>\n",
       "      <td>T</td>\n",
       "      <td>missense_variant</td>\n",
       "      <td>rs1230262234</td>\n",
       "      <td>6-57183254-C-T</td>\n",
       "      <td>p.Ser4Phe</td>\n",
       "    </tr>\n",
       "    <tr>\n",
       "      <th>21</th>\n",
       "      <td>ENSG00000146143</td>\n",
       "      <td>PRIM2</td>\n",
       "      <td>6</td>\n",
       "      <td>57183260</td>\n",
       "      <td>G</td>\n",
       "      <td>A</td>\n",
       "      <td>missense_variant</td>\n",
       "      <td>rs750138475</td>\n",
       "      <td>6-57183260-G-A</td>\n",
       "      <td>p.Arg6Lys</td>\n",
       "    </tr>\n",
       "    <tr>\n",
       "      <th>22</th>\n",
       "      <td>ENSG00000146143</td>\n",
       "      <td>PRIM2</td>\n",
       "      <td>6</td>\n",
       "      <td>57183272</td>\n",
       "      <td>A</td>\n",
       "      <td>T</td>\n",
       "      <td>missense_variant</td>\n",
       "      <td>rs1334613832</td>\n",
       "      <td>6-57183272-A-T</td>\n",
       "      <td>p.Lys10Met</td>\n",
       "    </tr>\n",
       "    <tr>\n",
       "      <th>23</th>\n",
       "      <td>ENSG00000146143</td>\n",
       "      <td>PRIM2</td>\n",
       "      <td>6</td>\n",
       "      <td>57183274</td>\n",
       "      <td>C</td>\n",
       "      <td>T</td>\n",
       "      <td>synonymous_variant</td>\n",
       "      <td>rs1330911078</td>\n",
       "      <td>6-57183274-C-T</td>\n",
       "      <td>p.Leu11Leu</td>\n",
       "    </tr>\n",
       "    <tr>\n",
       "      <th>24</th>\n",
       "      <td>ENSG00000146143</td>\n",
       "      <td>PRIM2</td>\n",
       "      <td>6</td>\n",
       "      <td>57183278</td>\n",
       "      <td>G</td>\n",
       "      <td>A</td>\n",
       "      <td>missense_variant</td>\n",
       "      <td>rs1231909884</td>\n",
       "      <td>6-57183278-G-A</td>\n",
       "      <td>p.Arg12Lys</td>\n",
       "    </tr>\n",
       "    <tr>\n",
       "      <th>25</th>\n",
       "      <td>ENSG00000146143</td>\n",
       "      <td>PRIM2</td>\n",
       "      <td>6</td>\n",
       "      <td>57183279</td>\n",
       "      <td>G</td>\n",
       "      <td>GT</td>\n",
       "      <td>frameshift_variant</td>\n",
       "      <td>rs757938591</td>\n",
       "      <td>6-57183279-G-GT</td>\n",
       "      <td>p.Leu13PhefsTer4</td>\n",
       "    </tr>\n",
       "    <tr>\n",
       "      <th>26</th>\n",
       "      <td>ENSG00000146143</td>\n",
       "      <td>PRIM2</td>\n",
       "      <td>6</td>\n",
       "      <td>57183279</td>\n",
       "      <td>G</td>\n",
       "      <td>T</td>\n",
       "      <td>missense_variant</td>\n",
       "      <td>rs757938591</td>\n",
       "      <td>6-57183279-G-T</td>\n",
       "      <td>p.Arg12Ser</td>\n",
       "    </tr>\n",
       "    <tr>\n",
       "      <th>27</th>\n",
       "      <td>ENSG00000146143</td>\n",
       "      <td>PRIM2</td>\n",
       "      <td>6</td>\n",
       "      <td>57183283</td>\n",
       "      <td>G</td>\n",
       "      <td>T</td>\n",
       "      <td>missense_variant</td>\n",
       "      <td>rs1270411704</td>\n",
       "      <td>6-57183283-G-T</td>\n",
       "      <td>p.Ala14Ser</td>\n",
       "    </tr>\n",
       "    <tr>\n",
       "      <th>28</th>\n",
       "      <td>ENSG00000146143</td>\n",
       "      <td>PRIM2</td>\n",
       "      <td>6</td>\n",
       "      <td>57183285</td>\n",
       "      <td>A</td>\n",
       "      <td>T</td>\n",
       "      <td>synonymous_variant</td>\n",
       "      <td>rs779741028</td>\n",
       "      <td>6-57183285-A-T</td>\n",
       "      <td>p.Ala14Ala</td>\n",
       "    </tr>\n",
       "    <tr>\n",
       "      <th>29</th>\n",
       "      <td>ENSG00000146143</td>\n",
       "      <td>PRIM2</td>\n",
       "      <td>6</td>\n",
       "      <td>57183287</td>\n",
       "      <td>G</td>\n",
       "      <td>A</td>\n",
       "      <td>missense_variant</td>\n",
       "      <td>rs746450660</td>\n",
       "      <td>6-57183287-G-A</td>\n",
       "      <td>p.Gly15Asp</td>\n",
       "    </tr>\n",
       "    <tr>\n",
       "      <th>...</th>\n",
       "      <td>...</td>\n",
       "      <td>...</td>\n",
       "      <td>...</td>\n",
       "      <td>...</td>\n",
       "      <td>...</td>\n",
       "      <td>...</td>\n",
       "      <td>...</td>\n",
       "      <td>...</td>\n",
       "      <td>...</td>\n",
       "      <td>...</td>\n",
       "    </tr>\n",
       "    <tr>\n",
       "      <th>911</th>\n",
       "      <td>ENSG00000146143</td>\n",
       "      <td>PRIM2</td>\n",
       "      <td>6</td>\n",
       "      <td>57467132</td>\n",
       "      <td>A</td>\n",
       "      <td>G</td>\n",
       "      <td>3_prime_UTR_variant</td>\n",
       "      <td>rs745457998</td>\n",
       "      <td>6-57467132-A-G</td>\n",
       "      <td>None</td>\n",
       "    </tr>\n",
       "    <tr>\n",
       "      <th>912</th>\n",
       "      <td>ENSG00000146143</td>\n",
       "      <td>PRIM2</td>\n",
       "      <td>6</td>\n",
       "      <td>57467133</td>\n",
       "      <td>G</td>\n",
       "      <td>A</td>\n",
       "      <td>3_prime_UTR_variant</td>\n",
       "      <td>rs771598226</td>\n",
       "      <td>6-57467133-G-A</td>\n",
       "      <td>None</td>\n",
       "    </tr>\n",
       "    <tr>\n",
       "      <th>913</th>\n",
       "      <td>ENSG00000146143</td>\n",
       "      <td>PRIM2</td>\n",
       "      <td>6</td>\n",
       "      <td>57467134</td>\n",
       "      <td>A</td>\n",
       "      <td>AG</td>\n",
       "      <td>3_prime_UTR_variant</td>\n",
       "      <td>rs1259034420</td>\n",
       "      <td>6-57467134-A-AG</td>\n",
       "      <td>None</td>\n",
       "    </tr>\n",
       "    <tr>\n",
       "      <th>914</th>\n",
       "      <td>ENSG00000146143</td>\n",
       "      <td>PRIM2</td>\n",
       "      <td>6</td>\n",
       "      <td>57467135</td>\n",
       "      <td>G</td>\n",
       "      <td>C</td>\n",
       "      <td>3_prime_UTR_variant</td>\n",
       "      <td>rs1223263342</td>\n",
       "      <td>6-57467135-G-C</td>\n",
       "      <td>None</td>\n",
       "    </tr>\n",
       "    <tr>\n",
       "      <th>915</th>\n",
       "      <td>ENSG00000146143</td>\n",
       "      <td>PRIM2</td>\n",
       "      <td>6</td>\n",
       "      <td>57467139</td>\n",
       "      <td>A</td>\n",
       "      <td>G</td>\n",
       "      <td>3_prime_UTR_variant</td>\n",
       "      <td>rs774917451</td>\n",
       "      <td>6-57467139-A-G</td>\n",
       "      <td>None</td>\n",
       "    </tr>\n",
       "    <tr>\n",
       "      <th>916</th>\n",
       "      <td>ENSG00000146143</td>\n",
       "      <td>PRIM2</td>\n",
       "      <td>6</td>\n",
       "      <td>57467140</td>\n",
       "      <td>G</td>\n",
       "      <td>C</td>\n",
       "      <td>3_prime_UTR_variant</td>\n",
       "      <td>rs760623157</td>\n",
       "      <td>6-57467140-G-C</td>\n",
       "      <td>None</td>\n",
       "    </tr>\n",
       "    <tr>\n",
       "      <th>917</th>\n",
       "      <td>ENSG00000146143</td>\n",
       "      <td>PRIM2</td>\n",
       "      <td>6</td>\n",
       "      <td>57467141</td>\n",
       "      <td>A</td>\n",
       "      <td>G</td>\n",
       "      <td>3_prime_UTR_variant</td>\n",
       "      <td>rs768640354</td>\n",
       "      <td>6-57467141-A-G</td>\n",
       "      <td>None</td>\n",
       "    </tr>\n",
       "    <tr>\n",
       "      <th>918</th>\n",
       "      <td>ENSG00000146143</td>\n",
       "      <td>PRIM2</td>\n",
       "      <td>6</td>\n",
       "      <td>57467142</td>\n",
       "      <td>C</td>\n",
       "      <td>G</td>\n",
       "      <td>3_prime_UTR_variant</td>\n",
       "      <td>rs760752690</td>\n",
       "      <td>6-57467142-C-G</td>\n",
       "      <td>None</td>\n",
       "    </tr>\n",
       "    <tr>\n",
       "      <th>919</th>\n",
       "      <td>ENSG00000146143</td>\n",
       "      <td>PRIM2</td>\n",
       "      <td>6</td>\n",
       "      <td>57467142</td>\n",
       "      <td>CTA</td>\n",
       "      <td>C</td>\n",
       "      <td>3_prime_UTR_variant</td>\n",
       "      <td>rs760752690</td>\n",
       "      <td>6-57467142-CTA-C</td>\n",
       "      <td>None</td>\n",
       "    </tr>\n",
       "    <tr>\n",
       "      <th>920</th>\n",
       "      <td>ENSG00000146143</td>\n",
       "      <td>PRIM2</td>\n",
       "      <td>6</td>\n",
       "      <td>57467142</td>\n",
       "      <td>C</td>\n",
       "      <td>CTA</td>\n",
       "      <td>3_prime_UTR_variant</td>\n",
       "      <td>rs760752690</td>\n",
       "      <td>6-57467142-C-CTA</td>\n",
       "      <td>None</td>\n",
       "    </tr>\n",
       "    <tr>\n",
       "      <th>921</th>\n",
       "      <td>ENSG00000146143</td>\n",
       "      <td>PRIM2</td>\n",
       "      <td>6</td>\n",
       "      <td>57467144</td>\n",
       "      <td>A</td>\n",
       "      <td>G</td>\n",
       "      <td>3_prime_UTR_variant</td>\n",
       "      <td>rs776430992</td>\n",
       "      <td>6-57467144-A-G</td>\n",
       "      <td>None</td>\n",
       "    </tr>\n",
       "    <tr>\n",
       "      <th>922</th>\n",
       "      <td>ENSG00000146143</td>\n",
       "      <td>PRIM2</td>\n",
       "      <td>6</td>\n",
       "      <td>57467145</td>\n",
       "      <td>T</td>\n",
       "      <td>C</td>\n",
       "      <td>3_prime_UTR_variant</td>\n",
       "      <td>rs761709055</td>\n",
       "      <td>6-57467145-T-C</td>\n",
       "      <td>None</td>\n",
       "    </tr>\n",
       "    <tr>\n",
       "      <th>923</th>\n",
       "      <td>ENSG00000146143</td>\n",
       "      <td>PRIM2</td>\n",
       "      <td>6</td>\n",
       "      <td>57467146</td>\n",
       "      <td>AC</td>\n",
       "      <td>A</td>\n",
       "      <td>3_prime_UTR_variant</td>\n",
       "      <td>rs1303022357</td>\n",
       "      <td>6-57467146-AC-A</td>\n",
       "      <td>None</td>\n",
       "    </tr>\n",
       "    <tr>\n",
       "      <th>924</th>\n",
       "      <td>ENSG00000146143</td>\n",
       "      <td>PRIM2</td>\n",
       "      <td>6</td>\n",
       "      <td>57467148</td>\n",
       "      <td>A</td>\n",
       "      <td>G</td>\n",
       "      <td>3_prime_UTR_variant</td>\n",
       "      <td>rs1193653108</td>\n",
       "      <td>6-57467148-A-G</td>\n",
       "      <td>None</td>\n",
       "    </tr>\n",
       "    <tr>\n",
       "      <th>925</th>\n",
       "      <td>ENSG00000146143</td>\n",
       "      <td>PRIM2</td>\n",
       "      <td>6</td>\n",
       "      <td>57467149</td>\n",
       "      <td>C</td>\n",
       "      <td>T</td>\n",
       "      <td>3_prime_UTR_variant</td>\n",
       "      <td>rs1466940046</td>\n",
       "      <td>6-57467149-C-T</td>\n",
       "      <td>None</td>\n",
       "    </tr>\n",
       "    <tr>\n",
       "      <th>926</th>\n",
       "      <td>ENSG00000146143</td>\n",
       "      <td>PRIM2</td>\n",
       "      <td>6</td>\n",
       "      <td>57467150</td>\n",
       "      <td>C</td>\n",
       "      <td>T</td>\n",
       "      <td>3_prime_UTR_variant</td>\n",
       "      <td>rs1270797360</td>\n",
       "      <td>6-57467150-C-T</td>\n",
       "      <td>None</td>\n",
       "    </tr>\n",
       "    <tr>\n",
       "      <th>927</th>\n",
       "      <td>ENSG00000146143</td>\n",
       "      <td>PRIM2</td>\n",
       "      <td>6</td>\n",
       "      <td>57467152</td>\n",
       "      <td>T</td>\n",
       "      <td>C</td>\n",
       "      <td>3_prime_UTR_variant</td>\n",
       "      <td>rs764920971</td>\n",
       "      <td>6-57467152-T-C</td>\n",
       "      <td>None</td>\n",
       "    </tr>\n",
       "    <tr>\n",
       "      <th>928</th>\n",
       "      <td>ENSG00000146143</td>\n",
       "      <td>PRIM2</td>\n",
       "      <td>6</td>\n",
       "      <td>57467153</td>\n",
       "      <td>T</td>\n",
       "      <td>A</td>\n",
       "      <td>3_prime_UTR_variant</td>\n",
       "      <td>rs750680601</td>\n",
       "      <td>6-57467153-T-A</td>\n",
       "      <td>None</td>\n",
       "    </tr>\n",
       "    <tr>\n",
       "      <th>929</th>\n",
       "      <td>ENSG00000146143</td>\n",
       "      <td>PRIM2</td>\n",
       "      <td>6</td>\n",
       "      <td>57467155</td>\n",
       "      <td>A</td>\n",
       "      <td>G</td>\n",
       "      <td>3_prime_UTR_variant</td>\n",
       "      <td>rs763046675</td>\n",
       "      <td>6-57467155-A-G</td>\n",
       "      <td>None</td>\n",
       "    </tr>\n",
       "    <tr>\n",
       "      <th>930</th>\n",
       "      <td>ENSG00000146143</td>\n",
       "      <td>PRIM2</td>\n",
       "      <td>6</td>\n",
       "      <td>57467156</td>\n",
       "      <td>G</td>\n",
       "      <td>T</td>\n",
       "      <td>3_prime_UTR_variant</td>\n",
       "      <td>rs766578460</td>\n",
       "      <td>6-57467156-G-T</td>\n",
       "      <td>None</td>\n",
       "    </tr>\n",
       "    <tr>\n",
       "      <th>931</th>\n",
       "      <td>ENSG00000146143</td>\n",
       "      <td>PRIM2</td>\n",
       "      <td>6</td>\n",
       "      <td>57467157</td>\n",
       "      <td>T</td>\n",
       "      <td>A</td>\n",
       "      <td>3_prime_UTR_variant</td>\n",
       "      <td>rs751747354</td>\n",
       "      <td>6-57467157-T-A</td>\n",
       "      <td>None</td>\n",
       "    </tr>\n",
       "    <tr>\n",
       "      <th>932</th>\n",
       "      <td>ENSG00000146143</td>\n",
       "      <td>PRIM2</td>\n",
       "      <td>6</td>\n",
       "      <td>57467159</td>\n",
       "      <td>G</td>\n",
       "      <td>T</td>\n",
       "      <td>3_prime_UTR_variant</td>\n",
       "      <td>rs755102256</td>\n",
       "      <td>6-57467159-G-T</td>\n",
       "      <td>None</td>\n",
       "    </tr>\n",
       "    <tr>\n",
       "      <th>933</th>\n",
       "      <td>ENSG00000146143</td>\n",
       "      <td>PRIM2</td>\n",
       "      <td>6</td>\n",
       "      <td>57467159</td>\n",
       "      <td>G</td>\n",
       "      <td>A</td>\n",
       "      <td>3_prime_UTR_variant</td>\n",
       "      <td>rs755102256</td>\n",
       "      <td>6-57467159-G-A</td>\n",
       "      <td>None</td>\n",
       "    </tr>\n",
       "    <tr>\n",
       "      <th>934</th>\n",
       "      <td>ENSG00000146143</td>\n",
       "      <td>PRIM2</td>\n",
       "      <td>6</td>\n",
       "      <td>57467161</td>\n",
       "      <td>C</td>\n",
       "      <td>G</td>\n",
       "      <td>3_prime_UTR_variant</td>\n",
       "      <td>rs369374324</td>\n",
       "      <td>6-57467161-C-G</td>\n",
       "      <td>None</td>\n",
       "    </tr>\n",
       "    <tr>\n",
       "      <th>935</th>\n",
       "      <td>ENSG00000146143</td>\n",
       "      <td>PRIM2</td>\n",
       "      <td>6</td>\n",
       "      <td>57467162</td>\n",
       "      <td>TGAA</td>\n",
       "      <td>T</td>\n",
       "      <td>3_prime_UTR_variant</td>\n",
       "      <td>rs1425715832</td>\n",
       "      <td>6-57467162-TGAA-T</td>\n",
       "      <td>None</td>\n",
       "    </tr>\n",
       "    <tr>\n",
       "      <th>936</th>\n",
       "      <td>ENSG00000146143</td>\n",
       "      <td>PRIM2</td>\n",
       "      <td>6</td>\n",
       "      <td>57467163</td>\n",
       "      <td>G</td>\n",
       "      <td>A</td>\n",
       "      <td>3_prime_UTR_variant</td>\n",
       "      <td>rs753120813</td>\n",
       "      <td>6-57467163-G-A</td>\n",
       "      <td>None</td>\n",
       "    </tr>\n",
       "    <tr>\n",
       "      <th>937</th>\n",
       "      <td>ENSG00000146143</td>\n",
       "      <td>PRIM2</td>\n",
       "      <td>6</td>\n",
       "      <td>57467166</td>\n",
       "      <td>G</td>\n",
       "      <td>A</td>\n",
       "      <td>3_prime_UTR_variant</td>\n",
       "      <td>rs756518922</td>\n",
       "      <td>6-57467166-G-A</td>\n",
       "      <td>None</td>\n",
       "    </tr>\n",
       "    <tr>\n",
       "      <th>938</th>\n",
       "      <td>ENSG00000146143</td>\n",
       "      <td>PRIM2</td>\n",
       "      <td>6</td>\n",
       "      <td>57467167</td>\n",
       "      <td>A</td>\n",
       "      <td>C</td>\n",
       "      <td>3_prime_UTR_variant</td>\n",
       "      <td>rs777955841</td>\n",
       "      <td>6-57467167-A-C</td>\n",
       "      <td>None</td>\n",
       "    </tr>\n",
       "    <tr>\n",
       "      <th>939</th>\n",
       "      <td>ENSG00000146143</td>\n",
       "      <td>PRIM2</td>\n",
       "      <td>6</td>\n",
       "      <td>57467167</td>\n",
       "      <td>A</td>\n",
       "      <td>G</td>\n",
       "      <td>3_prime_UTR_variant</td>\n",
       "      <td>rs777955841</td>\n",
       "      <td>6-57467167-A-G</td>\n",
       "      <td>None</td>\n",
       "    </tr>\n",
       "    <tr>\n",
       "      <th>940</th>\n",
       "      <td>ENSG00000146143</td>\n",
       "      <td>PRIM2</td>\n",
       "      <td>6</td>\n",
       "      <td>57467169</td>\n",
       "      <td>T</td>\n",
       "      <td>C</td>\n",
       "      <td>3_prime_UTR_variant</td>\n",
       "      <td>rs757992800</td>\n",
       "      <td>6-57467169-T-C</td>\n",
       "      <td>None</td>\n",
       "    </tr>\n",
       "  </tbody>\n",
       "</table>\n",
       "<p>941 rows × 10 columns</p>\n",
       "</div>"
      ],
      "text/plain": [
       "             gene_id gene_symbol chrom       pos    ref  alt  \\\n",
       "0    ENSG00000146143       PRIM2     6  57183182      T    C   \n",
       "1    ENSG00000146143       PRIM2     6  57183182      T   TC   \n",
       "2    ENSG00000146143       PRIM2     6  57183182     TC    T   \n",
       "3    ENSG00000146143       PRIM2     6  57183190      C    A   \n",
       "4    ENSG00000146143       PRIM2     6  57183195      T    C   \n",
       "5    ENSG00000146143       PRIM2     6  57183201      A    G   \n",
       "6    ENSG00000146143       PRIM2     6  57183204      A    G   \n",
       "7    ENSG00000146143       PRIM2     6  57183205      T    C   \n",
       "8    ENSG00000146143       PRIM2     6  57183210      C    T   \n",
       "9    ENSG00000146143       PRIM2     6  57183211      G    A   \n",
       "10   ENSG00000146143       PRIM2     6  57183220      G    C   \n",
       "11   ENSG00000146143       PRIM2     6  57183223      C    T   \n",
       "12   ENSG00000146143       PRIM2     6  57183227  CTTCT    C   \n",
       "13   ENSG00000146143       PRIM2     6  57183231      T    C   \n",
       "14   ENSG00000146143       PRIM2     6  57183236      T    G   \n",
       "15   ENSG00000146143       PRIM2     6  57183238      A    T   \n",
       "16   ENSG00000146143       PRIM2     6  57183241      A    C   \n",
       "17   ENSG00000146143       PRIM2     6  57183243      G    C   \n",
       "18   ENSG00000146143       PRIM2     6  57183244      A    G   \n",
       "19   ENSG00000146143       PRIM2     6  57183247      G    A   \n",
       "20   ENSG00000146143       PRIM2     6  57183254      C    T   \n",
       "21   ENSG00000146143       PRIM2     6  57183260      G    A   \n",
       "22   ENSG00000146143       PRIM2     6  57183272      A    T   \n",
       "23   ENSG00000146143       PRIM2     6  57183274      C    T   \n",
       "24   ENSG00000146143       PRIM2     6  57183278      G    A   \n",
       "25   ENSG00000146143       PRIM2     6  57183279      G   GT   \n",
       "26   ENSG00000146143       PRIM2     6  57183279      G    T   \n",
       "27   ENSG00000146143       PRIM2     6  57183283      G    T   \n",
       "28   ENSG00000146143       PRIM2     6  57183285      A    T   \n",
       "29   ENSG00000146143       PRIM2     6  57183287      G    A   \n",
       "..               ...         ...   ...       ...    ...  ...   \n",
       "911  ENSG00000146143       PRIM2     6  57467132      A    G   \n",
       "912  ENSG00000146143       PRIM2     6  57467133      G    A   \n",
       "913  ENSG00000146143       PRIM2     6  57467134      A   AG   \n",
       "914  ENSG00000146143       PRIM2     6  57467135      G    C   \n",
       "915  ENSG00000146143       PRIM2     6  57467139      A    G   \n",
       "916  ENSG00000146143       PRIM2     6  57467140      G    C   \n",
       "917  ENSG00000146143       PRIM2     6  57467141      A    G   \n",
       "918  ENSG00000146143       PRIM2     6  57467142      C    G   \n",
       "919  ENSG00000146143       PRIM2     6  57467142    CTA    C   \n",
       "920  ENSG00000146143       PRIM2     6  57467142      C  CTA   \n",
       "921  ENSG00000146143       PRIM2     6  57467144      A    G   \n",
       "922  ENSG00000146143       PRIM2     6  57467145      T    C   \n",
       "923  ENSG00000146143       PRIM2     6  57467146     AC    A   \n",
       "924  ENSG00000146143       PRIM2     6  57467148      A    G   \n",
       "925  ENSG00000146143       PRIM2     6  57467149      C    T   \n",
       "926  ENSG00000146143       PRIM2     6  57467150      C    T   \n",
       "927  ENSG00000146143       PRIM2     6  57467152      T    C   \n",
       "928  ENSG00000146143       PRIM2     6  57467153      T    A   \n",
       "929  ENSG00000146143       PRIM2     6  57467155      A    G   \n",
       "930  ENSG00000146143       PRIM2     6  57467156      G    T   \n",
       "931  ENSG00000146143       PRIM2     6  57467157      T    A   \n",
       "932  ENSG00000146143       PRIM2     6  57467159      G    T   \n",
       "933  ENSG00000146143       PRIM2     6  57467159      G    A   \n",
       "934  ENSG00000146143       PRIM2     6  57467161      C    G   \n",
       "935  ENSG00000146143       PRIM2     6  57467162   TGAA    T   \n",
       "936  ENSG00000146143       PRIM2     6  57467163      G    A   \n",
       "937  ENSG00000146143       PRIM2     6  57467166      G    A   \n",
       "938  ENSG00000146143       PRIM2     6  57467167      A    C   \n",
       "939  ENSG00000146143       PRIM2     6  57467167      A    G   \n",
       "940  ENSG00000146143       PRIM2     6  57467169      T    C   \n",
       "\n",
       "               consequence          rsid           variantId             hgvsp  \n",
       "0           intron_variant  rs1045869235      6-57183182-T-C              None  \n",
       "1           intron_variant  rs1045869235     6-57183182-T-TC              None  \n",
       "2           intron_variant  rs1045869235     6-57183182-TC-T              None  \n",
       "3           intron_variant   rs990388135      6-57183190-C-A              None  \n",
       "4           intron_variant   rs763067344      6-57183195-T-C              None  \n",
       "5           intron_variant  rs1250384194      6-57183201-A-G              None  \n",
       "6           intron_variant   rs766506262      6-57183204-A-G              None  \n",
       "7           intron_variant  rs1364833733      6-57183205-T-C              None  \n",
       "8           intron_variant   rs369094479      6-57183210-C-T              None  \n",
       "9           intron_variant   rs749727827      6-57183211-G-A              None  \n",
       "10          intron_variant   rs530852393      6-57183220-G-C              None  \n",
       "11          intron_variant   rs558224198      6-57183223-C-T              None  \n",
       "12   splice_region_variant   rs762467299  6-57183227-CTTCT-C              None  \n",
       "13   splice_region_variant   rs756565450      6-57183231-T-C              None  \n",
       "14   splice_region_variant   rs923381110      6-57183236-T-G              None  \n",
       "15     5_prime_UTR_variant  rs1323818285      6-57183238-A-T              None  \n",
       "16     5_prime_UTR_variant  rs1346950612      6-57183241-A-C              None  \n",
       "17     5_prime_UTR_variant   rs764330737      6-57183243-G-C              None  \n",
       "18              start_lost  rs1288402063      6-57183244-A-G           p.Met1?  \n",
       "19        missense_variant  rs1359928367      6-57183247-G-A         p.Glu2Lys  \n",
       "20        missense_variant  rs1230262234      6-57183254-C-T         p.Ser4Phe  \n",
       "21        missense_variant   rs750138475      6-57183260-G-A         p.Arg6Lys  \n",
       "22        missense_variant  rs1334613832      6-57183272-A-T        p.Lys10Met  \n",
       "23      synonymous_variant  rs1330911078      6-57183274-C-T        p.Leu11Leu  \n",
       "24        missense_variant  rs1231909884      6-57183278-G-A        p.Arg12Lys  \n",
       "25      frameshift_variant   rs757938591     6-57183279-G-GT  p.Leu13PhefsTer4  \n",
       "26        missense_variant   rs757938591      6-57183279-G-T        p.Arg12Ser  \n",
       "27        missense_variant  rs1270411704      6-57183283-G-T        p.Ala14Ser  \n",
       "28      synonymous_variant   rs779741028      6-57183285-A-T        p.Ala14Ala  \n",
       "29        missense_variant   rs746450660      6-57183287-G-A        p.Gly15Asp  \n",
       "..                     ...           ...                 ...               ...  \n",
       "911    3_prime_UTR_variant   rs745457998      6-57467132-A-G              None  \n",
       "912    3_prime_UTR_variant   rs771598226      6-57467133-G-A              None  \n",
       "913    3_prime_UTR_variant  rs1259034420     6-57467134-A-AG              None  \n",
       "914    3_prime_UTR_variant  rs1223263342      6-57467135-G-C              None  \n",
       "915    3_prime_UTR_variant   rs774917451      6-57467139-A-G              None  \n",
       "916    3_prime_UTR_variant   rs760623157      6-57467140-G-C              None  \n",
       "917    3_prime_UTR_variant   rs768640354      6-57467141-A-G              None  \n",
       "918    3_prime_UTR_variant   rs760752690      6-57467142-C-G              None  \n",
       "919    3_prime_UTR_variant   rs760752690    6-57467142-CTA-C              None  \n",
       "920    3_prime_UTR_variant   rs760752690    6-57467142-C-CTA              None  \n",
       "921    3_prime_UTR_variant   rs776430992      6-57467144-A-G              None  \n",
       "922    3_prime_UTR_variant   rs761709055      6-57467145-T-C              None  \n",
       "923    3_prime_UTR_variant  rs1303022357     6-57467146-AC-A              None  \n",
       "924    3_prime_UTR_variant  rs1193653108      6-57467148-A-G              None  \n",
       "925    3_prime_UTR_variant  rs1466940046      6-57467149-C-T              None  \n",
       "926    3_prime_UTR_variant  rs1270797360      6-57467150-C-T              None  \n",
       "927    3_prime_UTR_variant   rs764920971      6-57467152-T-C              None  \n",
       "928    3_prime_UTR_variant   rs750680601      6-57467153-T-A              None  \n",
       "929    3_prime_UTR_variant   rs763046675      6-57467155-A-G              None  \n",
       "930    3_prime_UTR_variant   rs766578460      6-57467156-G-T              None  \n",
       "931    3_prime_UTR_variant   rs751747354      6-57467157-T-A              None  \n",
       "932    3_prime_UTR_variant   rs755102256      6-57467159-G-T              None  \n",
       "933    3_prime_UTR_variant   rs755102256      6-57467159-G-A              None  \n",
       "934    3_prime_UTR_variant   rs369374324      6-57467161-C-G              None  \n",
       "935    3_prime_UTR_variant  rs1425715832   6-57467162-TGAA-T              None  \n",
       "936    3_prime_UTR_variant   rs753120813      6-57467163-G-A              None  \n",
       "937    3_prime_UTR_variant   rs756518922      6-57467166-G-A              None  \n",
       "938    3_prime_UTR_variant   rs777955841      6-57467167-A-C              None  \n",
       "939    3_prime_UTR_variant   rs777955841      6-57467167-A-G              None  \n",
       "940    3_prime_UTR_variant   rs757992800      6-57467169-T-C              None  \n",
       "\n",
       "[941 rows x 10 columns]"
      ]
     },
     "execution_count": 147,
     "metadata": {},
     "output_type": "execute_result"
    }
   ],
   "source": [
    "queryGnomadByGene(\"PRIM2\")"
   ]
  },
  {
   "cell_type": "code",
   "execution_count": 52,
   "metadata": {},
   "outputs": [],
   "source": [
    "# Read in all Human Proteins Involved in Interactome\n",
    "all_proteins = pd.read_csv(\"{0}/Data/Proteins.txt\".format(base_dir), sep=\"\\t\")\n",
    "human_genes = all_proteins[all_proteins[\"Is_Viral\"] == False][\"Gene_Name\"].to_list()"
   ]
  },
  {
   "cell_type": "code",
   "execution_count": 59,
   "metadata": {},
   "outputs": [],
   "source": []
  },
  {
   "cell_type": "code",
   "execution_count": 69,
   "metadata": {},
   "outputs": [
    {
     "name": "stdout",
     "output_type": "stream",
     "text": [
      "Starting Attempt 1 with 332 Genes Parsed\n",
      "Starting Attempt 1 with 332 Genes Parsed\n"
     ]
    },
    {
     "data": {
      "application/vnd.jupyter.widget-view+json": {
       "model_id": "f5e83ba9657441f480df8fa2f8505ff5",
       "version_major": 2,
       "version_minor": 0
      },
      "text/plain": [
       "HBox(children=(IntProgress(value=0, max=334), HTML(value=u'')))"
      ]
     },
     "metadata": {},
     "output_type": "display_data"
    },
    {
     "data": {
      "application/vnd.jupyter.widget-view+json": {
       "model_id": "f5e83ba9657441f480df8fa2f8505ff5",
       "version_major": 2,
       "version_minor": 0
      },
      "text/plain": [
       "HBox(children=(IntProgress(value=0, max=334), HTML(value=u'')))"
      ]
     },
     "metadata": {},
     "output_type": "display_data"
    },
    {
     "name": "stdout",
     "output_type": "stream",
     "text": [
      "Skipped AATF\n",
      "Skipped AATF\n",
      "Skipped CISD3\n",
      "\n",
      "Finished Attempt 1 with 332 Genes Parsed ( 0  New)\n",
      "\n",
      "Skipped CISD3\n",
      "\n",
      "Finished Attempt 1 with 332 Genes Parsed ( 0  New)\n",
      "\n",
      "Starting Attempt 2 with 332 Genes Parsed\n",
      "Starting Attempt 2 with 332 Genes Parsed\n"
     ]
    },
    {
     "data": {
      "application/vnd.jupyter.widget-view+json": {
       "model_id": "332dd6c2b6854d35a43a8d1f78cf89b6",
       "version_major": 2,
       "version_minor": 0
      },
      "text/plain": [
       "HBox(children=(IntProgress(value=0, max=334), HTML(value=u'')))"
      ]
     },
     "metadata": {},
     "output_type": "display_data"
    },
    {
     "data": {
      "application/vnd.jupyter.widget-view+json": {
       "model_id": "332dd6c2b6854d35a43a8d1f78cf89b6",
       "version_major": 2,
       "version_minor": 0
      },
      "text/plain": [
       "HBox(children=(IntProgress(value=0, max=334), HTML(value=u'')))"
      ]
     },
     "metadata": {},
     "output_type": "display_data"
    },
    {
     "name": "stdout",
     "output_type": "stream",
     "text": [
      "Skipped AATF\n",
      "Skipped AATF\n",
      "Skipped CISD3\n",
      "\n",
      "Finished Attempt 2 with 332 Genes Parsed ( 0  New)\n",
      "\n",
      "Skipped CISD3\n",
      "\n",
      "Finished Attempt 2 with 332 Genes Parsed ( 0  New)\n",
      "\n",
      "Starting Attempt 3 with 332 Genes Parsed\n"
     ]
    },
    {
     "data": {
      "application/vnd.jupyter.widget-view+json": {
       "model_id": "734c2fb390be4c558ee284b613315944",
       "version_major": 2,
       "version_minor": 0
      },
      "text/plain": [
       "HBox(children=(IntProgress(value=0, max=334), HTML(value=u'')))"
      ]
     },
     "metadata": {},
     "output_type": "display_data"
    },
    {
     "name": "stdout",
     "output_type": "stream",
     "text": [
      "Starting Attempt 3 with 332 Genes Parsed\n"
     ]
    },
    {
     "data": {
      "application/vnd.jupyter.widget-view+json": {
       "model_id": "734c2fb390be4c558ee284b613315944",
       "version_major": 2,
       "version_minor": 0
      },
      "text/plain": [
       "HBox(children=(IntProgress(value=0, max=334), HTML(value=u'')))"
      ]
     },
     "metadata": {},
     "output_type": "display_data"
    },
    {
     "name": "stdout",
     "output_type": "stream",
     "text": [
      "Skipped AATF\n",
      "Skipped AATF\n",
      "Skipped CISD3\n",
      "\n",
      "Finished Attempt 3 with 332 Genes Parsed ( 0  New)\n",
      "\n",
      "Skipped CISD3\n",
      "\n",
      "Finished Attempt 3 with 332 Genes Parsed ( 0  New)\n",
      "\n",
      "Starting Attempt 4 with 332 Genes Parsed\n"
     ]
    },
    {
     "data": {
      "application/vnd.jupyter.widget-view+json": {
       "model_id": "c3f95b5f723645b6bd5598f75b6be79f",
       "version_major": 2,
       "version_minor": 0
      },
      "text/plain": [
       "HBox(children=(IntProgress(value=0, max=334), HTML(value=u'')))"
      ]
     },
     "metadata": {},
     "output_type": "display_data"
    },
    {
     "name": "stdout",
     "output_type": "stream",
     "text": [
      "Starting Attempt 4 with 332 Genes Parsed\n"
     ]
    },
    {
     "data": {
      "application/vnd.jupyter.widget-view+json": {
       "model_id": "c3f95b5f723645b6bd5598f75b6be79f",
       "version_major": 2,
       "version_minor": 0
      },
      "text/plain": [
       "HBox(children=(IntProgress(value=0, max=334), HTML(value=u'')))"
      ]
     },
     "metadata": {},
     "output_type": "display_data"
    },
    {
     "name": "stdout",
     "output_type": "stream",
     "text": [
      "Skipped AATF\n",
      "Skipped AATF\n",
      "Skipped CISD3\n",
      "\n",
      "Finished Attempt 4 with 332 Genes Parsed ( 0  New)\n",
      "\n",
      "Skipped CISD3\n",
      "\n",
      "Finished Attempt 4 with 332 Genes Parsed ( 0  New)\n",
      "\n",
      "Starting Attempt 5 with 332 Genes Parsed\n"
     ]
    },
    {
     "data": {
      "application/vnd.jupyter.widget-view+json": {
       "model_id": "adb2c15b3eec484dbae09270a1127576",
       "version_major": 2,
       "version_minor": 0
      },
      "text/plain": [
       "HBox(children=(IntProgress(value=0, max=334), HTML(value=u'')))"
      ]
     },
     "metadata": {},
     "output_type": "display_data"
    },
    {
     "name": "stdout",
     "output_type": "stream",
     "text": [
      "Starting Attempt 5 with 332 Genes Parsed\n"
     ]
    },
    {
     "data": {
      "application/vnd.jupyter.widget-view+json": {
       "model_id": "adb2c15b3eec484dbae09270a1127576",
       "version_major": 2,
       "version_minor": 0
      },
      "text/plain": [
       "HBox(children=(IntProgress(value=0, max=334), HTML(value=u'')))"
      ]
     },
     "metadata": {},
     "output_type": "display_data"
    },
    {
     "name": "stdout",
     "output_type": "stream",
     "text": [
      "Skipped AATF\n",
      "Skipped AATF\n",
      "Skipped CISD3\n",
      "\n",
      "Finished Attempt 5 with 332 Genes Parsed ( 0  New)\n",
      "\n",
      "Skipped CISD3\n",
      "\n",
      "Finished Attempt 5 with 332 Genes Parsed ( 0  New)\n",
      "\n",
      "Starting Attempt 6 with 332 Genes Parsed\n"
     ]
    },
    {
     "data": {
      "application/vnd.jupyter.widget-view+json": {
       "model_id": "37e8d917f1644e47861fe92254975d71",
       "version_major": 2,
       "version_minor": 0
      },
      "text/plain": [
       "HBox(children=(IntProgress(value=0, max=334), HTML(value=u'')))"
      ]
     },
     "metadata": {},
     "output_type": "display_data"
    },
    {
     "name": "stdout",
     "output_type": "stream",
     "text": [
      "Starting Attempt 6 with 332 Genes Parsed\n"
     ]
    },
    {
     "data": {
      "application/vnd.jupyter.widget-view+json": {
       "model_id": "37e8d917f1644e47861fe92254975d71",
       "version_major": 2,
       "version_minor": 0
      },
      "text/plain": [
       "HBox(children=(IntProgress(value=0, max=334), HTML(value=u'')))"
      ]
     },
     "metadata": {},
     "output_type": "display_data"
    },
    {
     "name": "stdout",
     "output_type": "stream",
     "text": [
      "Skipped AATF\n",
      "Skipped AATF\n",
      "Skipped CISD3\n",
      "\n",
      "Finished Attempt 6 with 332 Genes Parsed ( 0  New)\n",
      "\n",
      "Skipped CISD3\n",
      "\n",
      "Finished Attempt 6 with 332 Genes Parsed ( 0  New)\n",
      "\n",
      "Starting Attempt 7 with 332 Genes Parsed\n",
      "Starting Attempt 7 with 332 Genes Parsed\n"
     ]
    },
    {
     "data": {
      "application/vnd.jupyter.widget-view+json": {
       "model_id": "f3637daab0cf42f7a533aa1bd21baabb",
       "version_major": 2,
       "version_minor": 0
      },
      "text/plain": [
       "HBox(children=(IntProgress(value=0, max=334), HTML(value=u'')))"
      ]
     },
     "metadata": {},
     "output_type": "display_data"
    },
    {
     "data": {
      "application/vnd.jupyter.widget-view+json": {
       "model_id": "f3637daab0cf42f7a533aa1bd21baabb",
       "version_major": 2,
       "version_minor": 0
      },
      "text/plain": [
       "HBox(children=(IntProgress(value=0, max=334), HTML(value=u'')))"
      ]
     },
     "metadata": {},
     "output_type": "display_data"
    },
    {
     "name": "stdout",
     "output_type": "stream",
     "text": [
      "Skipped AATF\n",
      "Skipped AATF\n",
      "Skipped CISD3\n",
      "\n",
      "Finished Attempt 7 with 332 Genes Parsed ( 0  New)\n",
      "\n",
      "Skipped CISD3\n",
      "\n",
      "Finished Attempt 7 with 332 Genes Parsed ( 0  New)\n",
      "\n",
      "Starting Attempt 8 with 332 Genes Parsed\n"
     ]
    },
    {
     "data": {
      "application/vnd.jupyter.widget-view+json": {
       "model_id": "b4f7870935704bd082c2d6de689d0572",
       "version_major": 2,
       "version_minor": 0
      },
      "text/plain": [
       "HBox(children=(IntProgress(value=0, max=334), HTML(value=u'')))"
      ]
     },
     "metadata": {},
     "output_type": "display_data"
    },
    {
     "name": "stdout",
     "output_type": "stream",
     "text": [
      "Starting Attempt 8 with 332 Genes Parsed\n"
     ]
    },
    {
     "data": {
      "application/vnd.jupyter.widget-view+json": {
       "model_id": "b4f7870935704bd082c2d6de689d0572",
       "version_major": 2,
       "version_minor": 0
      },
      "text/plain": [
       "HBox(children=(IntProgress(value=0, max=334), HTML(value=u'')))"
      ]
     },
     "metadata": {},
     "output_type": "display_data"
    },
    {
     "name": "stdout",
     "output_type": "stream",
     "text": [
      "Skipped AATF\n",
      "Skipped AATF\n",
      "Skipped CISD3\n",
      "\n",
      "Finished Attempt 8 with 332 Genes Parsed ( 0  New)\n",
      "\n",
      "Skipped CISD3\n",
      "\n",
      "Finished Attempt 8 with 332 Genes Parsed ( 0  New)\n",
      "\n",
      "Starting Attempt 9 with 332 Genes Parsed\n",
      "Starting Attempt 9 with 332 Genes Parsed\n"
     ]
    },
    {
     "data": {
      "application/vnd.jupyter.widget-view+json": {
       "model_id": "c7455809f4aa4df7ba6674009a6542af",
       "version_major": 2,
       "version_minor": 0
      },
      "text/plain": [
       "HBox(children=(IntProgress(value=0, max=334), HTML(value=u'')))"
      ]
     },
     "metadata": {},
     "output_type": "display_data"
    },
    {
     "data": {
      "application/vnd.jupyter.widget-view+json": {
       "model_id": "c7455809f4aa4df7ba6674009a6542af",
       "version_major": 2,
       "version_minor": 0
      },
      "text/plain": [
       "HBox(children=(IntProgress(value=0, max=334), HTML(value=u'')))"
      ]
     },
     "metadata": {},
     "output_type": "display_data"
    },
    {
     "name": "stdout",
     "output_type": "stream",
     "text": [
      "Skipped AATF\n",
      "Skipped AATF\n",
      "Skipped CISD3\n",
      "\n",
      "Finished Attempt 9 with 332 Genes Parsed ( 0  New)\n",
      "\n",
      "Skipped CISD3\n",
      "\n",
      "Finished Attempt 9 with 332 Genes Parsed ( 0  New)\n",
      "\n",
      "Starting Attempt 10 with 332 Genes Parsed\n",
      "Starting Attempt 10 with 332 Genes Parsed\n"
     ]
    },
    {
     "data": {
      "application/vnd.jupyter.widget-view+json": {
       "model_id": "f060629afa0847dabcc3d0d6692abeef",
       "version_major": 2,
       "version_minor": 0
      },
      "text/plain": [
       "HBox(children=(IntProgress(value=0, max=334), HTML(value=u'')))"
      ]
     },
     "metadata": {},
     "output_type": "display_data"
    },
    {
     "data": {
      "application/vnd.jupyter.widget-view+json": {
       "model_id": "f060629afa0847dabcc3d0d6692abeef",
       "version_major": 2,
       "version_minor": 0
      },
      "text/plain": [
       "HBox(children=(IntProgress(value=0, max=334), HTML(value=u'')))"
      ]
     },
     "metadata": {},
     "output_type": "display_data"
    },
    {
     "name": "stdout",
     "output_type": "stream",
     "text": [
      "Skipped AATF\n",
      "Skipped AATF\n",
      "Skipped CISD3\n",
      "\n",
      "Finished Attempt 10 with 332 Genes Parsed ( 0  New)\n",
      "\n",
      "Skipped CISD3\n",
      "\n",
      "Finished Attempt 10 with 332 Genes Parsed ( 0  New)\n",
      "\n",
      "Starting Attempt 11 with 332 Genes Parsed\n",
      "Starting Attempt 11 with 332 Genes Parsed\n"
     ]
    },
    {
     "data": {
      "application/vnd.jupyter.widget-view+json": {
       "model_id": "9d00289ab60f40b785abf6e9a5e10c8a",
       "version_major": 2,
       "version_minor": 0
      },
      "text/plain": [
       "HBox(children=(IntProgress(value=0, max=334), HTML(value=u'')))"
      ]
     },
     "metadata": {},
     "output_type": "display_data"
    },
    {
     "data": {
      "application/vnd.jupyter.widget-view+json": {
       "model_id": "9d00289ab60f40b785abf6e9a5e10c8a",
       "version_major": 2,
       "version_minor": 0
      },
      "text/plain": [
       "HBox(children=(IntProgress(value=0, max=334), HTML(value=u'')))"
      ]
     },
     "metadata": {},
     "output_type": "display_data"
    },
    {
     "name": "stdout",
     "output_type": "stream",
     "text": [
      "Skipped AATF\n",
      "Skipped AATF\n",
      "Skipped CISD3\n",
      "\n",
      "Finished Attempt 11 with 332 Genes Parsed ( 0  New)\n",
      "\n",
      "Skipped CISD3\n",
      "\n",
      "Finished Attempt 11 with 332 Genes Parsed ( 0  New)\n",
      "\n",
      "Starting Attempt 12 with 332 Genes Parsed\n"
     ]
    },
    {
     "data": {
      "application/vnd.jupyter.widget-view+json": {
       "model_id": "965374382c7849dfb438647a0016e8ef",
       "version_major": 2,
       "version_minor": 0
      },
      "text/plain": [
       "HBox(children=(IntProgress(value=0, max=334), HTML(value=u'')))"
      ]
     },
     "metadata": {},
     "output_type": "display_data"
    },
    {
     "name": "stdout",
     "output_type": "stream",
     "text": [
      "Starting Attempt 12 with 332 Genes Parsed\n"
     ]
    },
    {
     "data": {
      "application/vnd.jupyter.widget-view+json": {
       "model_id": "965374382c7849dfb438647a0016e8ef",
       "version_major": 2,
       "version_minor": 0
      },
      "text/plain": [
       "HBox(children=(IntProgress(value=0, max=334), HTML(value=u'')))"
      ]
     },
     "metadata": {},
     "output_type": "display_data"
    },
    {
     "name": "stdout",
     "output_type": "stream",
     "text": [
      "Skipped AATF\n",
      "Skipped AATF\n",
      "Skipped CISD3\n",
      "\n",
      "Finished Attempt 12 with 332 Genes Parsed ( 0  New)\n",
      "\n",
      "Skipped CISD3\n",
      "\n",
      "Finished Attempt 12 with 332 Genes Parsed ( 0  New)\n",
      "\n",
      "Starting Attempt 13 with 332 Genes Parsed\n",
      "Starting Attempt 13 with 332 Genes Parsed\n"
     ]
    },
    {
     "data": {
      "application/vnd.jupyter.widget-view+json": {
       "model_id": "217432237bc14b9e87ac3d3f10f56649",
       "version_major": 2,
       "version_minor": 0
      },
      "text/plain": [
       "HBox(children=(IntProgress(value=0, max=334), HTML(value=u'')))"
      ]
     },
     "metadata": {},
     "output_type": "display_data"
    },
    {
     "data": {
      "application/vnd.jupyter.widget-view+json": {
       "model_id": "217432237bc14b9e87ac3d3f10f56649",
       "version_major": 2,
       "version_minor": 0
      },
      "text/plain": [
       "HBox(children=(IntProgress(value=0, max=334), HTML(value=u'')))"
      ]
     },
     "metadata": {},
     "output_type": "display_data"
    },
    {
     "name": "stdout",
     "output_type": "stream",
     "text": [
      "Skipped AATF\n",
      "Skipped AATF\n",
      "Skipped CISD3\n",
      "\n",
      "Finished Attempt 13 with 332 Genes Parsed ( 0  New)\n",
      "\n",
      "Skipped CISD3\n",
      "\n",
      "Finished Attempt 13 with 332 Genes Parsed ( 0  New)\n",
      "\n",
      "Starting Attempt 14 with 332 Genes Parsed\n"
     ]
    },
    {
     "data": {
      "application/vnd.jupyter.widget-view+json": {
       "model_id": "db22f499676a41fe8b4316554e258a00",
       "version_major": 2,
       "version_minor": 0
      },
      "text/plain": [
       "HBox(children=(IntProgress(value=0, max=334), HTML(value=u'')))"
      ]
     },
     "metadata": {},
     "output_type": "display_data"
    },
    {
     "name": "stdout",
     "output_type": "stream",
     "text": [
      "Starting Attempt 14 with 332 Genes Parsed\n"
     ]
    },
    {
     "data": {
      "application/vnd.jupyter.widget-view+json": {
       "model_id": "db22f499676a41fe8b4316554e258a00",
       "version_major": 2,
       "version_minor": 0
      },
      "text/plain": [
       "HBox(children=(IntProgress(value=0, max=334), HTML(value=u'')))"
      ]
     },
     "metadata": {},
     "output_type": "display_data"
    },
    {
     "name": "stdout",
     "output_type": "stream",
     "text": [
      "Skipped AATF\n",
      "Skipped AATF\n",
      "Skipped CISD3\n",
      "\n",
      "Finished Attempt 14 with 332 Genes Parsed ( 0  New)\n",
      "\n",
      "Skipped CISD3\n",
      "\n",
      "Finished Attempt 14 with 332 Genes Parsed ( 0  New)\n",
      "\n",
      "Starting Attempt 15 with 332 Genes Parsed\n"
     ]
    },
    {
     "data": {
      "application/vnd.jupyter.widget-view+json": {
       "model_id": "8ef7fe71d0c0465b835ae445fcbf5aeb",
       "version_major": 2,
       "version_minor": 0
      },
      "text/plain": [
       "HBox(children=(IntProgress(value=0, max=334), HTML(value=u'')))"
      ]
     },
     "metadata": {},
     "output_type": "display_data"
    },
    {
     "name": "stdout",
     "output_type": "stream",
     "text": [
      "Starting Attempt 15 with 332 Genes Parsed\n"
     ]
    },
    {
     "data": {
      "application/vnd.jupyter.widget-view+json": {
       "model_id": "8ef7fe71d0c0465b835ae445fcbf5aeb",
       "version_major": 2,
       "version_minor": 0
      },
      "text/plain": [
       "HBox(children=(IntProgress(value=0, max=334), HTML(value=u'')))"
      ]
     },
     "metadata": {},
     "output_type": "display_data"
    },
    {
     "name": "stdout",
     "output_type": "stream",
     "text": [
      "Skipped AATF\n",
      "Skipped AATF\n",
      "Skipped CISD3\n",
      "\n",
      "Finished Attempt 15 with 332 Genes Parsed ( 0  New)\n",
      "\n",
      "Skipped CISD3\n",
      "\n",
      "Finished Attempt 15 with 332 Genes Parsed ( 0  New)\n",
      "\n",
      "Starting Attempt 16 with 332 Genes Parsed\n",
      "Starting Attempt 16 with 332 Genes Parsed\n"
     ]
    },
    {
     "data": {
      "application/vnd.jupyter.widget-view+json": {
       "model_id": "49821434b59547dd8057af052386d0ae",
       "version_major": 2,
       "version_minor": 0
      },
      "text/plain": [
       "HBox(children=(IntProgress(value=0, max=334), HTML(value=u'')))"
      ]
     },
     "metadata": {},
     "output_type": "display_data"
    },
    {
     "data": {
      "application/vnd.jupyter.widget-view+json": {
       "model_id": "49821434b59547dd8057af052386d0ae",
       "version_major": 2,
       "version_minor": 0
      },
      "text/plain": [
       "HBox(children=(IntProgress(value=0, max=334), HTML(value=u'')))"
      ]
     },
     "metadata": {},
     "output_type": "display_data"
    },
    {
     "name": "stdout",
     "output_type": "stream",
     "text": [
      "Skipped AATF\n",
      "Skipped AATF\n",
      "Skipped CISD3\n",
      "\n",
      "Finished Attempt 16 with 332 Genes Parsed ( 0  New)\n",
      "\n",
      "Skipped CISD3\n",
      "\n",
      "Finished Attempt 16 with 332 Genes Parsed ( 0  New)\n",
      "\n",
      "Starting Attempt 17 with 332 Genes Parsed\n",
      "Starting Attempt 17 with 332 Genes Parsed\n"
     ]
    },
    {
     "data": {
      "application/vnd.jupyter.widget-view+json": {
       "model_id": "df28407c86514e62b9b4f8e7026db7cb",
       "version_major": 2,
       "version_minor": 0
      },
      "text/plain": [
       "HBox(children=(IntProgress(value=0, max=334), HTML(value=u'')))"
      ]
     },
     "metadata": {},
     "output_type": "display_data"
    },
    {
     "data": {
      "application/vnd.jupyter.widget-view+json": {
       "model_id": "df28407c86514e62b9b4f8e7026db7cb",
       "version_major": 2,
       "version_minor": 0
      },
      "text/plain": [
       "HBox(children=(IntProgress(value=0, max=334), HTML(value=u'')))"
      ]
     },
     "metadata": {},
     "output_type": "display_data"
    },
    {
     "name": "stdout",
     "output_type": "stream",
     "text": [
      "Skipped AATF\n",
      "Skipped AATF\n",
      "Skipped CISD3\n",
      "\n",
      "Finished Attempt 17 with 332 Genes Parsed ( 0  New)\n",
      "\n",
      "Skipped CISD3\n",
      "\n",
      "Finished Attempt 17 with 332 Genes Parsed ( 0  New)\n",
      "\n",
      "Starting Attempt 18 with 332 Genes Parsed\n"
     ]
    },
    {
     "data": {
      "application/vnd.jupyter.widget-view+json": {
       "model_id": "a8b63d66b92448f09d0d8d4bfd5f9221",
       "version_major": 2,
       "version_minor": 0
      },
      "text/plain": [
       "HBox(children=(IntProgress(value=0, max=334), HTML(value=u'')))"
      ]
     },
     "metadata": {},
     "output_type": "display_data"
    },
    {
     "name": "stdout",
     "output_type": "stream",
     "text": [
      "Starting Attempt 18 with 332 Genes Parsed\n"
     ]
    },
    {
     "data": {
      "application/vnd.jupyter.widget-view+json": {
       "model_id": "a8b63d66b92448f09d0d8d4bfd5f9221",
       "version_major": 2,
       "version_minor": 0
      },
      "text/plain": [
       "HBox(children=(IntProgress(value=0, max=334), HTML(value=u'')))"
      ]
     },
     "metadata": {},
     "output_type": "display_data"
    },
    {
     "name": "stdout",
     "output_type": "stream",
     "text": [
      "Skipped AATF\n",
      "Skipped AATF\n",
      "Skipped CISD3\n",
      "\n",
      "Finished Attempt 18 with 332 Genes Parsed ( 0  New)\n",
      "\n",
      "Skipped CISD3\n",
      "\n",
      "Finished Attempt 18 with 332 Genes Parsed ( 0  New)\n",
      "\n",
      "Starting Attempt 19 with 332 Genes Parsed\n"
     ]
    },
    {
     "data": {
      "application/vnd.jupyter.widget-view+json": {
       "model_id": "b089549a86a043808b9a366d5a41df39",
       "version_major": 2,
       "version_minor": 0
      },
      "text/plain": [
       "HBox(children=(IntProgress(value=0, max=334), HTML(value=u'')))"
      ]
     },
     "metadata": {},
     "output_type": "display_data"
    },
    {
     "name": "stdout",
     "output_type": "stream",
     "text": [
      "Starting Attempt 19 with 332 Genes Parsed\n"
     ]
    },
    {
     "data": {
      "application/vnd.jupyter.widget-view+json": {
       "model_id": "b089549a86a043808b9a366d5a41df39",
       "version_major": 2,
       "version_minor": 0
      },
      "text/plain": [
       "HBox(children=(IntProgress(value=0, max=334), HTML(value=u'')))"
      ]
     },
     "metadata": {},
     "output_type": "display_data"
    },
    {
     "name": "stdout",
     "output_type": "stream",
     "text": [
      "Skipped AATF\n",
      "Skipped AATF\n",
      "Skipped CISD3\n",
      "\n",
      "Finished Attempt 19 with 332 Genes Parsed ( 0  New)\n",
      "\n",
      "Skipped CISD3\n",
      "\n",
      "Finished Attempt 19 with 332 Genes Parsed ( 0  New)\n",
      "\n",
      "Starting Attempt 20 with 332 Genes Parsed\n",
      "Starting Attempt 20 with 332 Genes Parsed\n"
     ]
    },
    {
     "data": {
      "application/vnd.jupyter.widget-view+json": {
       "model_id": "e46ec21d2566414bb487bbf30474eee9",
       "version_major": 2,
       "version_minor": 0
      },
      "text/plain": [
       "HBox(children=(IntProgress(value=0, max=334), HTML(value=u'')))"
      ]
     },
     "metadata": {},
     "output_type": "display_data"
    },
    {
     "data": {
      "application/vnd.jupyter.widget-view+json": {
       "model_id": "e46ec21d2566414bb487bbf30474eee9",
       "version_major": 2,
       "version_minor": 0
      },
      "text/plain": [
       "HBox(children=(IntProgress(value=0, max=334), HTML(value=u'')))"
      ]
     },
     "metadata": {},
     "output_type": "display_data"
    },
    {
     "name": "stdout",
     "output_type": "stream",
     "text": [
      "Skipped AATF\n",
      "Skipped AATF\n",
      "Skipped CISD3\n",
      "\n",
      "Finished Attempt 20 with 332 Genes Parsed ( 0  New)\n",
      "\n",
      "Skipped CISD3\n",
      "\n",
      "Finished Attempt 20 with 332 Genes Parsed ( 0  New)\n",
      "\n",
      "Starting Attempt 21 with 332 Genes Parsed\n"
     ]
    },
    {
     "data": {
      "application/vnd.jupyter.widget-view+json": {
       "model_id": "91de3558747c414885c078d4931a26a3",
       "version_major": 2,
       "version_minor": 0
      },
      "text/plain": [
       "HBox(children=(IntProgress(value=0, max=334), HTML(value=u'')))"
      ]
     },
     "metadata": {},
     "output_type": "display_data"
    },
    {
     "name": "stdout",
     "output_type": "stream",
     "text": [
      "Starting Attempt 21 with 332 Genes Parsed\n"
     ]
    },
    {
     "data": {
      "application/vnd.jupyter.widget-view+json": {
       "model_id": "91de3558747c414885c078d4931a26a3",
       "version_major": 2,
       "version_minor": 0
      },
      "text/plain": [
       "HBox(children=(IntProgress(value=0, max=334), HTML(value=u'')))"
      ]
     },
     "metadata": {},
     "output_type": "display_data"
    },
    {
     "name": "stdout",
     "output_type": "stream",
     "text": [
      "Skipped AATF\n",
      "Skipped AATF\n",
      "Skipped CISD3\n",
      "\n",
      "Finished Attempt 21 with 332 Genes Parsed ( 0  New)\n",
      "\n",
      "Skipped CISD3\n",
      "\n",
      "Finished Attempt 21 with 332 Genes Parsed ( 0  New)\n",
      "\n",
      "Starting Attempt 22 with 332 Genes Parsed\n",
      "Starting Attempt 22 with 332 Genes Parsed\n"
     ]
    },
    {
     "data": {
      "application/vnd.jupyter.widget-view+json": {
       "model_id": "59ac441d3ef94bcfb03bbd91417f6c23",
       "version_major": 2,
       "version_minor": 0
      },
      "text/plain": [
       "HBox(children=(IntProgress(value=0, max=334), HTML(value=u'')))"
      ]
     },
     "metadata": {},
     "output_type": "display_data"
    },
    {
     "data": {
      "application/vnd.jupyter.widget-view+json": {
       "model_id": "59ac441d3ef94bcfb03bbd91417f6c23",
       "version_major": 2,
       "version_minor": 0
      },
      "text/plain": [
       "HBox(children=(IntProgress(value=0, max=334), HTML(value=u'')))"
      ]
     },
     "metadata": {},
     "output_type": "display_data"
    },
    {
     "name": "stdout",
     "output_type": "stream",
     "text": [
      "Skipped AATF\n",
      "Skipped AATF\n",
      "Skipped CISD3\n",
      "\n",
      "Finished Attempt 22 with 332 Genes Parsed ( 0  New)\n",
      "\n",
      "Skipped CISD3\n",
      "\n",
      "Finished Attempt 22 with 332 Genes Parsed ( 0  New)\n",
      "\n",
      "Starting Attempt 23 with 332 Genes Parsed\n",
      "Starting Attempt 23 with 332 Genes Parsed\n"
     ]
    },
    {
     "data": {
      "application/vnd.jupyter.widget-view+json": {
       "model_id": "543cba0ec8214217969fc02263f638c6",
       "version_major": 2,
       "version_minor": 0
      },
      "text/plain": [
       "HBox(children=(IntProgress(value=0, max=334), HTML(value=u'')))"
      ]
     },
     "metadata": {},
     "output_type": "display_data"
    },
    {
     "data": {
      "application/vnd.jupyter.widget-view+json": {
       "model_id": "543cba0ec8214217969fc02263f638c6",
       "version_major": 2,
       "version_minor": 0
      },
      "text/plain": [
       "HBox(children=(IntProgress(value=0, max=334), HTML(value=u'')))"
      ]
     },
     "metadata": {},
     "output_type": "display_data"
    },
    {
     "name": "stdout",
     "output_type": "stream",
     "text": [
      "Skipped AATF\n",
      "Skipped AATF\n",
      "Skipped CISD3\n",
      "\n",
      "Finished Attempt 23 with 332 Genes Parsed ( 0  New)\n",
      "\n",
      "Skipped CISD3\n",
      "\n",
      "Finished Attempt 23 with 332 Genes Parsed ( 0  New)\n",
      "\n",
      "Starting Attempt 24 with 332 Genes Parsed\n",
      "Starting Attempt 24 with 332 Genes Parsed\n"
     ]
    },
    {
     "data": {
      "application/vnd.jupyter.widget-view+json": {
       "model_id": "acc568f230234def89c3c5d429f1aec2",
       "version_major": 2,
       "version_minor": 0
      },
      "text/plain": [
       "HBox(children=(IntProgress(value=0, max=334), HTML(value=u'')))"
      ]
     },
     "metadata": {},
     "output_type": "display_data"
    },
    {
     "data": {
      "application/vnd.jupyter.widget-view+json": {
       "model_id": "acc568f230234def89c3c5d429f1aec2",
       "version_major": 2,
       "version_minor": 0
      },
      "text/plain": [
       "HBox(children=(IntProgress(value=0, max=334), HTML(value=u'')))"
      ]
     },
     "metadata": {},
     "output_type": "display_data"
    },
    {
     "name": "stdout",
     "output_type": "stream",
     "text": [
      "Skipped AATF\n",
      "Skipped AATF\n",
      "Skipped CISD3\n",
      "\n",
      "Finished Attempt 24 with 332 Genes Parsed ( 0  New)\n",
      "\n",
      "Skipped CISD3\n",
      "\n",
      "Finished Attempt 24 with 332 Genes Parsed ( 0  New)\n",
      "\n",
      "Starting Attempt 25 with 332 Genes Parsed\n",
      "Starting Attempt 25 with 332 Genes Parsed\n"
     ]
    },
    {
     "data": {
      "application/vnd.jupyter.widget-view+json": {
       "model_id": "007adda41eec4e8699c8a7a6a417d4e9",
       "version_major": 2,
       "version_minor": 0
      },
      "text/plain": [
       "HBox(children=(IntProgress(value=0, max=334), HTML(value=u'')))"
      ]
     },
     "metadata": {},
     "output_type": "display_data"
    },
    {
     "data": {
      "application/vnd.jupyter.widget-view+json": {
       "model_id": "007adda41eec4e8699c8a7a6a417d4e9",
       "version_major": 2,
       "version_minor": 0
      },
      "text/plain": [
       "HBox(children=(IntProgress(value=0, max=334), HTML(value=u'')))"
      ]
     },
     "metadata": {},
     "output_type": "display_data"
    },
    {
     "name": "stdout",
     "output_type": "stream",
     "text": [
      "Skipped AATF\n",
      "Skipped AATF\n",
      "Skipped CISD3\n",
      "\n",
      "Finished Attempt 25 with 332 Genes Parsed ( 0  New)\n",
      "\n",
      "Skipped CISD3\n",
      "\n",
      "Finished Attempt 25 with 332 Genes Parsed ( 0  New)\n",
      "\n",
      "Starting Attempt 26 with 332 Genes Parsed\n"
     ]
    },
    {
     "data": {
      "application/vnd.jupyter.widget-view+json": {
       "model_id": "c69b60ce428d4e7a87bcebce792c2b2a",
       "version_major": 2,
       "version_minor": 0
      },
      "text/plain": [
       "HBox(children=(IntProgress(value=0, max=334), HTML(value=u'')))"
      ]
     },
     "metadata": {},
     "output_type": "display_data"
    },
    {
     "name": "stdout",
     "output_type": "stream",
     "text": [
      "Starting Attempt 26 with 332 Genes Parsed\n"
     ]
    },
    {
     "data": {
      "application/vnd.jupyter.widget-view+json": {
       "model_id": "c69b60ce428d4e7a87bcebce792c2b2a",
       "version_major": 2,
       "version_minor": 0
      },
      "text/plain": [
       "HBox(children=(IntProgress(value=0, max=334), HTML(value=u'')))"
      ]
     },
     "metadata": {},
     "output_type": "display_data"
    },
    {
     "name": "stdout",
     "output_type": "stream",
     "text": [
      "Skipped AATF\n",
      "Skipped AATF\n",
      "Skipped CISD3\n",
      "\n",
      "Finished Attempt 26 with 332 Genes Parsed ( 0  New)\n",
      "\n",
      "Skipped CISD3\n",
      "\n",
      "Finished Attempt 26 with 332 Genes Parsed ( 0  New)\n",
      "\n",
      "Starting Attempt 27 with 332 Genes Parsed\n"
     ]
    },
    {
     "data": {
      "application/vnd.jupyter.widget-view+json": {
       "model_id": "b6e2683e36244626bbe0d8c864a387e9",
       "version_major": 2,
       "version_minor": 0
      },
      "text/plain": [
       "HBox(children=(IntProgress(value=0, max=334), HTML(value=u'')))"
      ]
     },
     "metadata": {},
     "output_type": "display_data"
    },
    {
     "name": "stdout",
     "output_type": "stream",
     "text": [
      "Starting Attempt 27 with 332 Genes Parsed\n"
     ]
    },
    {
     "data": {
      "application/vnd.jupyter.widget-view+json": {
       "model_id": "b6e2683e36244626bbe0d8c864a387e9",
       "version_major": 2,
       "version_minor": 0
      },
      "text/plain": [
       "HBox(children=(IntProgress(value=0, max=334), HTML(value=u'')))"
      ]
     },
     "metadata": {},
     "output_type": "display_data"
    },
    {
     "name": "stdout",
     "output_type": "stream",
     "text": [
      "Skipped AATF\n",
      "Skipped AATF\n",
      "Skipped CISD3\n",
      "\n",
      "Finished Attempt 27 with 332 Genes Parsed ( 0  New)\n",
      "\n",
      "Skipped CISD3\n",
      "\n",
      "Finished Attempt 27 with 332 Genes Parsed ( 0  New)\n",
      "\n",
      "Starting Attempt 28 with 332 Genes Parsed\n",
      "Starting Attempt 28 with 332 Genes Parsed\n"
     ]
    },
    {
     "data": {
      "application/vnd.jupyter.widget-view+json": {
       "model_id": "a587ac35e423452484be1e501689c141",
       "version_major": 2,
       "version_minor": 0
      },
      "text/plain": [
       "HBox(children=(IntProgress(value=0, max=334), HTML(value=u'')))"
      ]
     },
     "metadata": {},
     "output_type": "display_data"
    },
    {
     "data": {
      "application/vnd.jupyter.widget-view+json": {
       "model_id": "a587ac35e423452484be1e501689c141",
       "version_major": 2,
       "version_minor": 0
      },
      "text/plain": [
       "HBox(children=(IntProgress(value=0, max=334), HTML(value=u'')))"
      ]
     },
     "metadata": {},
     "output_type": "display_data"
    },
    {
     "name": "stdout",
     "output_type": "stream",
     "text": [
      "Skipped AATF\n",
      "Skipped AATF\n",
      "Skipped CISD3\n",
      "\n",
      "Finished Attempt 28 with 332 Genes Parsed ( 0  New)\n",
      "\n",
      "Skipped CISD3\n",
      "\n",
      "Finished Attempt 28 with 332 Genes Parsed ( 0  New)\n",
      "\n",
      "Starting Attempt 29 with 332 Genes Parsed\n"
     ]
    },
    {
     "data": {
      "application/vnd.jupyter.widget-view+json": {
       "model_id": "292e742199444025a47c3b462c7d7448",
       "version_major": 2,
       "version_minor": 0
      },
      "text/plain": [
       "HBox(children=(IntProgress(value=0, max=334), HTML(value=u'')))"
      ]
     },
     "metadata": {},
     "output_type": "display_data"
    },
    {
     "name": "stdout",
     "output_type": "stream",
     "text": [
      "Starting Attempt 29 with 332 Genes Parsed\n"
     ]
    },
    {
     "data": {
      "application/vnd.jupyter.widget-view+json": {
       "model_id": "292e742199444025a47c3b462c7d7448",
       "version_major": 2,
       "version_minor": 0
      },
      "text/plain": [
       "HBox(children=(IntProgress(value=0, max=334), HTML(value=u'')))"
      ]
     },
     "metadata": {},
     "output_type": "display_data"
    },
    {
     "name": "stdout",
     "output_type": "stream",
     "text": [
      "Skipped AATF\n",
      "Skipped AATF\n",
      "Skipped CISD3\n",
      "\n",
      "Finished Attempt 29 with 332 Genes Parsed ( 0  New)\n",
      "\n",
      "Skipped CISD3\n",
      "\n",
      "Finished Attempt 29 with 332 Genes Parsed ( 0  New)\n",
      "\n",
      "Starting Attempt 30 with 332 Genes Parsed\n"
     ]
    },
    {
     "data": {
      "application/vnd.jupyter.widget-view+json": {
       "model_id": "41ac107e246e4a1aabcce34bf7625f5f",
       "version_major": 2,
       "version_minor": 0
      },
      "text/plain": [
       "HBox(children=(IntProgress(value=0, max=334), HTML(value=u'')))"
      ]
     },
     "metadata": {},
     "output_type": "display_data"
    },
    {
     "name": "stdout",
     "output_type": "stream",
     "text": [
      "Starting Attempt 30 with 332 Genes Parsed\n"
     ]
    },
    {
     "data": {
      "application/vnd.jupyter.widget-view+json": {
       "model_id": "41ac107e246e4a1aabcce34bf7625f5f",
       "version_major": 2,
       "version_minor": 0
      },
      "text/plain": [
       "HBox(children=(IntProgress(value=0, max=334), HTML(value=u'')))"
      ]
     },
     "metadata": {},
     "output_type": "display_data"
    },
    {
     "name": "stdout",
     "output_type": "stream",
     "text": [
      "Skipped AATF\n",
      "Skipped AATF\n",
      "Skipped CISD3\n",
      "\n",
      "Finished Attempt 30 with 332 Genes Parsed ( 0  New)\n",
      "\n",
      "Skipped CISD3\n",
      "\n",
      "Finished Attempt 30 with 332 Genes Parsed ( 0  New)\n",
      "\n",
      "Starting Attempt 31 with 332 Genes Parsed\n"
     ]
    },
    {
     "data": {
      "application/vnd.jupyter.widget-view+json": {
       "model_id": "dad43b90a4454ddf83f63f088505b85a",
       "version_major": 2,
       "version_minor": 0
      },
      "text/plain": [
       "HBox(children=(IntProgress(value=0, max=334), HTML(value=u'')))"
      ]
     },
     "metadata": {},
     "output_type": "display_data"
    },
    {
     "name": "stdout",
     "output_type": "stream",
     "text": [
      "Starting Attempt 31 with 332 Genes Parsed\n"
     ]
    },
    {
     "data": {
      "application/vnd.jupyter.widget-view+json": {
       "model_id": "dad43b90a4454ddf83f63f088505b85a",
       "version_major": 2,
       "version_minor": 0
      },
      "text/plain": [
       "HBox(children=(IntProgress(value=0, max=334), HTML(value=u'')))"
      ]
     },
     "metadata": {},
     "output_type": "display_data"
    },
    {
     "name": "stdout",
     "output_type": "stream",
     "text": [
      "Skipped AATF\n",
      "Skipped AATF\n",
      "Skipped CISD3\n",
      "\n",
      "Finished Attempt 31 with 332 Genes Parsed ( 0  New)\n",
      "\n",
      "Skipped CISD3\n",
      "\n",
      "Finished Attempt 31 with 332 Genes Parsed ( 0  New)\n",
      "\n",
      "Starting Attempt 32 with 332 Genes Parsed\n",
      "Starting Attempt 32 with 332 Genes Parsed\n"
     ]
    },
    {
     "data": {
      "application/vnd.jupyter.widget-view+json": {
       "model_id": "81bc377d309446dca8e2c5ff7da187bd",
       "version_major": 2,
       "version_minor": 0
      },
      "text/plain": [
       "HBox(children=(IntProgress(value=0, max=334), HTML(value=u'')))"
      ]
     },
     "metadata": {},
     "output_type": "display_data"
    },
    {
     "data": {
      "application/vnd.jupyter.widget-view+json": {
       "model_id": "81bc377d309446dca8e2c5ff7da187bd",
       "version_major": 2,
       "version_minor": 0
      },
      "text/plain": [
       "HBox(children=(IntProgress(value=0, max=334), HTML(value=u'')))"
      ]
     },
     "metadata": {},
     "output_type": "display_data"
    },
    {
     "name": "stdout",
     "output_type": "stream",
     "text": [
      "Skipped AATF\n",
      "Skipped AATF\n",
      "Skipped CISD3\n",
      "\n",
      "Finished Attempt 32 with 332 Genes Parsed ( 0  New)\n",
      "\n",
      "Skipped CISD3\n",
      "\n",
      "Finished Attempt 32 with 332 Genes Parsed ( 0  New)\n",
      "\n",
      "Starting Attempt 33 with 332 Genes Parsed\n",
      "Starting Attempt 33 with 332 Genes Parsed\n"
     ]
    },
    {
     "data": {
      "application/vnd.jupyter.widget-view+json": {
       "model_id": "ef6000bfa3ec4955968ea00fd6a0cf7f",
       "version_major": 2,
       "version_minor": 0
      },
      "text/plain": [
       "HBox(children=(IntProgress(value=0, max=334), HTML(value=u'')))"
      ]
     },
     "metadata": {},
     "output_type": "display_data"
    },
    {
     "data": {
      "application/vnd.jupyter.widget-view+json": {
       "model_id": "ef6000bfa3ec4955968ea00fd6a0cf7f",
       "version_major": 2,
       "version_minor": 0
      },
      "text/plain": [
       "HBox(children=(IntProgress(value=0, max=334), HTML(value=u'')))"
      ]
     },
     "metadata": {},
     "output_type": "display_data"
    },
    {
     "name": "stdout",
     "output_type": "stream",
     "text": [
      "Skipped AATF\n",
      "Skipped AATF\n",
      "Skipped CISD3\n",
      "\n",
      "Finished Attempt 33 with 332 Genes Parsed ( 0  New)\n",
      "\n",
      "Skipped CISD3\n",
      "\n",
      "Finished Attempt 33 with 332 Genes Parsed ( 0  New)\n",
      "\n",
      "Starting Attempt 34 with 332 Genes Parsed\n"
     ]
    },
    {
     "data": {
      "application/vnd.jupyter.widget-view+json": {
       "model_id": "ab677173df6b4bc8bf7815cbeae09b79",
       "version_major": 2,
       "version_minor": 0
      },
      "text/plain": [
       "HBox(children=(IntProgress(value=0, max=334), HTML(value=u'')))"
      ]
     },
     "metadata": {},
     "output_type": "display_data"
    },
    {
     "name": "stdout",
     "output_type": "stream",
     "text": [
      "Starting Attempt 34 with 332 Genes Parsed\n"
     ]
    },
    {
     "data": {
      "application/vnd.jupyter.widget-view+json": {
       "model_id": "ab677173df6b4bc8bf7815cbeae09b79",
       "version_major": 2,
       "version_minor": 0
      },
      "text/plain": [
       "HBox(children=(IntProgress(value=0, max=334), HTML(value=u'')))"
      ]
     },
     "metadata": {},
     "output_type": "display_data"
    },
    {
     "name": "stdout",
     "output_type": "stream",
     "text": [
      "Skipped AATF\n",
      "Skipped AATF\n",
      "Skipped CISD3\n",
      "\n",
      "Finished Attempt 34 with 332 Genes Parsed ( 0  New)\n",
      "\n",
      "Skipped CISD3\n",
      "\n",
      "Finished Attempt 34 with 332 Genes Parsed ( 0  New)\n",
      "\n",
      "Starting Attempt 35 with 332 Genes Parsed\n",
      "Starting Attempt 35 with 332 Genes Parsed\n"
     ]
    },
    {
     "data": {
      "application/vnd.jupyter.widget-view+json": {
       "model_id": "5fdbd49ecc0946b0933d9b946b6f666a",
       "version_major": 2,
       "version_minor": 0
      },
      "text/plain": [
       "HBox(children=(IntProgress(value=0, max=334), HTML(value=u'')))"
      ]
     },
     "metadata": {},
     "output_type": "display_data"
    },
    {
     "data": {
      "application/vnd.jupyter.widget-view+json": {
       "model_id": "5fdbd49ecc0946b0933d9b946b6f666a",
       "version_major": 2,
       "version_minor": 0
      },
      "text/plain": [
       "HBox(children=(IntProgress(value=0, max=334), HTML(value=u'')))"
      ]
     },
     "metadata": {},
     "output_type": "display_data"
    },
    {
     "name": "stdout",
     "output_type": "stream",
     "text": [
      "Skipped AATF\n",
      "Skipped AATF\n",
      "Skipped CISD3\n",
      "\n",
      "Finished Attempt 35 with 332 Genes Parsed ( 0  New)\n",
      "\n",
      "Skipped CISD3\n",
      "\n",
      "Finished Attempt 35 with 332 Genes Parsed ( 0  New)\n",
      "\n",
      "Starting Attempt 36 with 332 Genes Parsed\n"
     ]
    },
    {
     "data": {
      "application/vnd.jupyter.widget-view+json": {
       "model_id": "aa4cefd7261b49cd8129b9802ecc2d3d",
       "version_major": 2,
       "version_minor": 0
      },
      "text/plain": [
       "HBox(children=(IntProgress(value=0, max=334), HTML(value=u'')))"
      ]
     },
     "metadata": {},
     "output_type": "display_data"
    },
    {
     "name": "stdout",
     "output_type": "stream",
     "text": [
      "Starting Attempt 36 with 332 Genes Parsed\n"
     ]
    },
    {
     "data": {
      "application/vnd.jupyter.widget-view+json": {
       "model_id": "aa4cefd7261b49cd8129b9802ecc2d3d",
       "version_major": 2,
       "version_minor": 0
      },
      "text/plain": [
       "HBox(children=(IntProgress(value=0, max=334), HTML(value=u'')))"
      ]
     },
     "metadata": {},
     "output_type": "display_data"
    },
    {
     "name": "stdout",
     "output_type": "stream",
     "text": [
      "Skipped AATF\n",
      "Skipped AATF\n",
      "Skipped CISD3\n",
      "\n",
      "Finished Attempt 36 with 332 Genes Parsed ( 0  New)\n",
      "\n",
      "Skipped CISD3\n",
      "\n",
      "Finished Attempt 36 with 332 Genes Parsed ( 0  New)\n",
      "\n",
      "Starting Attempt 37 with 332 Genes Parsed\n"
     ]
    },
    {
     "data": {
      "application/vnd.jupyter.widget-view+json": {
       "model_id": "56f79c76836c439ea574db8b1c3d15ac",
       "version_major": 2,
       "version_minor": 0
      },
      "text/plain": [
       "HBox(children=(IntProgress(value=0, max=334), HTML(value=u'')))"
      ]
     },
     "metadata": {},
     "output_type": "display_data"
    },
    {
     "name": "stdout",
     "output_type": "stream",
     "text": [
      "Starting Attempt 37 with 332 Genes Parsed\n"
     ]
    },
    {
     "data": {
      "application/vnd.jupyter.widget-view+json": {
       "model_id": "56f79c76836c439ea574db8b1c3d15ac",
       "version_major": 2,
       "version_minor": 0
      },
      "text/plain": [
       "HBox(children=(IntProgress(value=0, max=334), HTML(value=u'')))"
      ]
     },
     "metadata": {},
     "output_type": "display_data"
    },
    {
     "name": "stdout",
     "output_type": "stream",
     "text": [
      "Skipped AATF\n",
      "Skipped AATF\n",
      "Skipped CISD3\n",
      "\n",
      "Finished Attempt 37 with 332 Genes Parsed ( 0  New)\n",
      "\n",
      "Skipped CISD3\n",
      "\n",
      "Finished Attempt 37 with 332 Genes Parsed ( 0  New)\n",
      "\n",
      "Starting Attempt 38 with 332 Genes Parsed\n"
     ]
    },
    {
     "data": {
      "application/vnd.jupyter.widget-view+json": {
       "model_id": "234ee4abec664155861bbcc836d4164f",
       "version_major": 2,
       "version_minor": 0
      },
      "text/plain": [
       "HBox(children=(IntProgress(value=0, max=334), HTML(value=u'')))"
      ]
     },
     "metadata": {},
     "output_type": "display_data"
    },
    {
     "name": "stdout",
     "output_type": "stream",
     "text": [
      "Starting Attempt 38 with 332 Genes Parsed\n"
     ]
    },
    {
     "data": {
      "application/vnd.jupyter.widget-view+json": {
       "model_id": "234ee4abec664155861bbcc836d4164f",
       "version_major": 2,
       "version_minor": 0
      },
      "text/plain": [
       "HBox(children=(IntProgress(value=0, max=334), HTML(value=u'')))"
      ]
     },
     "metadata": {},
     "output_type": "display_data"
    },
    {
     "name": "stdout",
     "output_type": "stream",
     "text": [
      "Skipped AATF\n",
      "Skipped AATF\n",
      "Skipped CISD3\n",
      "\n",
      "Finished Attempt 38 with 332 Genes Parsed ( 0  New)\n",
      "\n",
      "Skipped CISD3\n",
      "\n",
      "Finished Attempt 38 with 332 Genes Parsed ( 0  New)\n",
      "\n",
      "Starting Attempt 39 with 332 Genes Parsed\n",
      "Starting Attempt 39 with 332 Genes Parsed\n"
     ]
    },
    {
     "data": {
      "application/vnd.jupyter.widget-view+json": {
       "model_id": "84d662762cd14fb3bab5922bf363e3c4",
       "version_major": 2,
       "version_minor": 0
      },
      "text/plain": [
       "HBox(children=(IntProgress(value=0, max=334), HTML(value=u'')))"
      ]
     },
     "metadata": {},
     "output_type": "display_data"
    },
    {
     "data": {
      "application/vnd.jupyter.widget-view+json": {
       "model_id": "84d662762cd14fb3bab5922bf363e3c4",
       "version_major": 2,
       "version_minor": 0
      },
      "text/plain": [
       "HBox(children=(IntProgress(value=0, max=334), HTML(value=u'')))"
      ]
     },
     "metadata": {},
     "output_type": "display_data"
    },
    {
     "name": "stdout",
     "output_type": "stream",
     "text": [
      "Skipped AATF\n",
      "Skipped AATF\n",
      "Skipped CISD3\n",
      "\n",
      "Finished Attempt 39 with 332 Genes Parsed ( 0  New)\n",
      "\n",
      "Skipped CISD3\n",
      "\n",
      "Finished Attempt 39 with 332 Genes Parsed ( 0  New)\n",
      "\n",
      "Starting Attempt 40 with 332 Genes Parsed\n",
      "Starting Attempt 40 with 332 Genes Parsed\n"
     ]
    },
    {
     "data": {
      "application/vnd.jupyter.widget-view+json": {
       "model_id": "44a974b0f96442979eed01cbe775657a",
       "version_major": 2,
       "version_minor": 0
      },
      "text/plain": [
       "HBox(children=(IntProgress(value=0, max=334), HTML(value=u'')))"
      ]
     },
     "metadata": {},
     "output_type": "display_data"
    },
    {
     "data": {
      "application/vnd.jupyter.widget-view+json": {
       "model_id": "44a974b0f96442979eed01cbe775657a",
       "version_major": 2,
       "version_minor": 0
      },
      "text/plain": [
       "HBox(children=(IntProgress(value=0, max=334), HTML(value=u'')))"
      ]
     },
     "metadata": {},
     "output_type": "display_data"
    },
    {
     "name": "stdout",
     "output_type": "stream",
     "text": [
      "Skipped AATF\n",
      "Skipped AATF\n",
      "Skipped CISD3\n",
      "\n",
      "Finished Attempt 40 with 332 Genes Parsed ( 0  New)\n",
      "\n",
      "Skipped CISD3\n",
      "\n",
      "Finished Attempt 40 with 332 Genes Parsed ( 0  New)\n",
      "\n",
      "Starting Attempt 41 with 332 Genes Parsed\n"
     ]
    },
    {
     "data": {
      "application/vnd.jupyter.widget-view+json": {
       "model_id": "853edd07418d41a0b736b9e586926b0e",
       "version_major": 2,
       "version_minor": 0
      },
      "text/plain": [
       "HBox(children=(IntProgress(value=0, max=334), HTML(value=u'')))"
      ]
     },
     "metadata": {},
     "output_type": "display_data"
    },
    {
     "name": "stdout",
     "output_type": "stream",
     "text": [
      "Starting Attempt 41 with 332 Genes Parsed\n"
     ]
    },
    {
     "data": {
      "application/vnd.jupyter.widget-view+json": {
       "model_id": "853edd07418d41a0b736b9e586926b0e",
       "version_major": 2,
       "version_minor": 0
      },
      "text/plain": [
       "HBox(children=(IntProgress(value=0, max=334), HTML(value=u'')))"
      ]
     },
     "metadata": {},
     "output_type": "display_data"
    },
    {
     "name": "stdout",
     "output_type": "stream",
     "text": [
      "Skipped AATF\n",
      "Skipped AATF\n",
      "Skipped CISD3\n",
      "\n",
      "Finished Attempt 41 with 332 Genes Parsed ( 0  New)\n",
      "\n",
      "Skipped CISD3\n",
      "\n",
      "Finished Attempt 41 with 332 Genes Parsed ( 0  New)\n",
      "\n",
      "Starting Attempt 42 with 332 Genes Parsed\n"
     ]
    },
    {
     "data": {
      "application/vnd.jupyter.widget-view+json": {
       "model_id": "b58fef922bab496a9bc52c0591ea70c6",
       "version_major": 2,
       "version_minor": 0
      },
      "text/plain": [
       "HBox(children=(IntProgress(value=0, max=334), HTML(value=u'')))"
      ]
     },
     "metadata": {},
     "output_type": "display_data"
    },
    {
     "name": "stdout",
     "output_type": "stream",
     "text": [
      "Starting Attempt 42 with 332 Genes Parsed\n"
     ]
    },
    {
     "data": {
      "application/vnd.jupyter.widget-view+json": {
       "model_id": "b58fef922bab496a9bc52c0591ea70c6",
       "version_major": 2,
       "version_minor": 0
      },
      "text/plain": [
       "HBox(children=(IntProgress(value=0, max=334), HTML(value=u'')))"
      ]
     },
     "metadata": {},
     "output_type": "display_data"
    },
    {
     "name": "stdout",
     "output_type": "stream",
     "text": [
      "Skipped AATF\n",
      "Skipped AATF\n",
      "Skipped CISD3\n",
      "\n",
      "Finished Attempt 42 with 332 Genes Parsed ( 0  New)\n",
      "\n",
      "Skipped CISD3\n",
      "\n",
      "Finished Attempt 42 with 332 Genes Parsed ( 0  New)\n",
      "\n",
      "Starting Attempt 43 with 332 Genes Parsed\n",
      "Starting Attempt 43 with 332 Genes Parsed\n"
     ]
    },
    {
     "data": {
      "application/vnd.jupyter.widget-view+json": {
       "model_id": "3725634331674f6791715bc745a423d2",
       "version_major": 2,
       "version_minor": 0
      },
      "text/plain": [
       "HBox(children=(IntProgress(value=0, max=334), HTML(value=u'')))"
      ]
     },
     "metadata": {},
     "output_type": "display_data"
    },
    {
     "data": {
      "application/vnd.jupyter.widget-view+json": {
       "model_id": "3725634331674f6791715bc745a423d2",
       "version_major": 2,
       "version_minor": 0
      },
      "text/plain": [
       "HBox(children=(IntProgress(value=0, max=334), HTML(value=u'')))"
      ]
     },
     "metadata": {},
     "output_type": "display_data"
    },
    {
     "name": "stdout",
     "output_type": "stream",
     "text": [
      "Skipped AATF\n",
      "Skipped AATF\n",
      "Skipped CISD3\n",
      "\n",
      "Finished Attempt 43 with 332 Genes Parsed ( 0  New)\n",
      "\n",
      "Skipped CISD3\n",
      "\n",
      "Finished Attempt 43 with 332 Genes Parsed ( 0  New)\n",
      "\n",
      "Starting Attempt 44 with 332 Genes Parsed\n"
     ]
    },
    {
     "data": {
      "application/vnd.jupyter.widget-view+json": {
       "model_id": "1ccea6c0f72f48e794e03c8cfe21e64d",
       "version_major": 2,
       "version_minor": 0
      },
      "text/plain": [
       "HBox(children=(IntProgress(value=0, max=334), HTML(value=u'')))"
      ]
     },
     "metadata": {},
     "output_type": "display_data"
    },
    {
     "name": "stdout",
     "output_type": "stream",
     "text": [
      "Starting Attempt 44 with 332 Genes Parsed\n"
     ]
    },
    {
     "data": {
      "application/vnd.jupyter.widget-view+json": {
       "model_id": "1ccea6c0f72f48e794e03c8cfe21e64d",
       "version_major": 2,
       "version_minor": 0
      },
      "text/plain": [
       "HBox(children=(IntProgress(value=0, max=334), HTML(value=u'')))"
      ]
     },
     "metadata": {},
     "output_type": "display_data"
    },
    {
     "name": "stdout",
     "output_type": "stream",
     "text": [
      "Skipped AATF\n",
      "Skipped AATF\n",
      "Skipped CISD3\n",
      "\n",
      "Finished Attempt 44 with 332 Genes Parsed ( 0  New)\n",
      "\n",
      "Skipped CISD3\n",
      "\n",
      "Finished Attempt 44 with 332 Genes Parsed ( 0  New)\n",
      "\n",
      "Starting Attempt 45 with 332 Genes Parsed\n"
     ]
    },
    {
     "data": {
      "application/vnd.jupyter.widget-view+json": {
       "model_id": "cbb930fbb1194ac499d54ce7c0224f47",
       "version_major": 2,
       "version_minor": 0
      },
      "text/plain": [
       "HBox(children=(IntProgress(value=0, max=334), HTML(value=u'')))"
      ]
     },
     "metadata": {},
     "output_type": "display_data"
    },
    {
     "name": "stdout",
     "output_type": "stream",
     "text": [
      "Starting Attempt 45 with 332 Genes Parsed\n"
     ]
    },
    {
     "data": {
      "application/vnd.jupyter.widget-view+json": {
       "model_id": "cbb930fbb1194ac499d54ce7c0224f47",
       "version_major": 2,
       "version_minor": 0
      },
      "text/plain": [
       "HBox(children=(IntProgress(value=0, max=334), HTML(value=u'')))"
      ]
     },
     "metadata": {},
     "output_type": "display_data"
    },
    {
     "name": "stdout",
     "output_type": "stream",
     "text": [
      "Skipped AATF\n",
      "Skipped AATF\n",
      "Skipped CISD3\n",
      "\n",
      "Finished Attempt 45 with 332 Genes Parsed ( 0  New)\n",
      "\n",
      "Skipped CISD3\n",
      "\n",
      "Finished Attempt 45 with 332 Genes Parsed ( 0  New)\n",
      "\n",
      "Starting Attempt 46 with 332 Genes Parsed\n"
     ]
    },
    {
     "data": {
      "application/vnd.jupyter.widget-view+json": {
       "model_id": "618dc19229544e5283115ab4984677b2",
       "version_major": 2,
       "version_minor": 0
      },
      "text/plain": [
       "HBox(children=(IntProgress(value=0, max=334), HTML(value=u'')))"
      ]
     },
     "metadata": {},
     "output_type": "display_data"
    },
    {
     "name": "stdout",
     "output_type": "stream",
     "text": [
      "Starting Attempt 46 with 332 Genes Parsed\n"
     ]
    },
    {
     "data": {
      "application/vnd.jupyter.widget-view+json": {
       "model_id": "618dc19229544e5283115ab4984677b2",
       "version_major": 2,
       "version_minor": 0
      },
      "text/plain": [
       "HBox(children=(IntProgress(value=0, max=334), HTML(value=u'')))"
      ]
     },
     "metadata": {},
     "output_type": "display_data"
    },
    {
     "name": "stdout",
     "output_type": "stream",
     "text": [
      "Skipped AATF\n",
      "Skipped AATF\n",
      "Skipped CISD3\n",
      "\n",
      "Finished Attempt 46 with 332 Genes Parsed ( 0  New)\n",
      "\n",
      "Skipped CISD3\n",
      "\n",
      "Finished Attempt 46 with 332 Genes Parsed ( 0  New)\n",
      "\n",
      "Starting Attempt 47 with 332 Genes Parsed\n",
      "Starting Attempt 47 with 332 Genes Parsed\n"
     ]
    },
    {
     "data": {
      "application/vnd.jupyter.widget-view+json": {
       "model_id": "e1ee07727db3495eb0752b41ddbb00ea",
       "version_major": 2,
       "version_minor": 0
      },
      "text/plain": [
       "HBox(children=(IntProgress(value=0, max=334), HTML(value=u'')))"
      ]
     },
     "metadata": {},
     "output_type": "display_data"
    },
    {
     "data": {
      "application/vnd.jupyter.widget-view+json": {
       "model_id": "e1ee07727db3495eb0752b41ddbb00ea",
       "version_major": 2,
       "version_minor": 0
      },
      "text/plain": [
       "HBox(children=(IntProgress(value=0, max=334), HTML(value=u'')))"
      ]
     },
     "metadata": {},
     "output_type": "display_data"
    },
    {
     "name": "stdout",
     "output_type": "stream",
     "text": [
      "Skipped AATF\n",
      "Skipped AATF\n",
      "Skipped CISD3\n",
      "\n",
      "Finished Attempt 47 with 332 Genes Parsed ( 0  New)\n",
      "\n",
      "Skipped CISD3\n",
      "\n",
      "Finished Attempt 47 with 332 Genes Parsed ( 0  New)\n",
      "\n",
      "Starting Attempt 48 with 332 Genes Parsed\n"
     ]
    },
    {
     "data": {
      "application/vnd.jupyter.widget-view+json": {
       "model_id": "80f656642c4f48bb9d2929fb191a986f",
       "version_major": 2,
       "version_minor": 0
      },
      "text/plain": [
       "HBox(children=(IntProgress(value=0, max=334), HTML(value=u'')))"
      ]
     },
     "metadata": {},
     "output_type": "display_data"
    },
    {
     "name": "stdout",
     "output_type": "stream",
     "text": [
      "Starting Attempt 48 with 332 Genes Parsed\n"
     ]
    },
    {
     "data": {
      "application/vnd.jupyter.widget-view+json": {
       "model_id": "80f656642c4f48bb9d2929fb191a986f",
       "version_major": 2,
       "version_minor": 0
      },
      "text/plain": [
       "HBox(children=(IntProgress(value=0, max=334), HTML(value=u'')))"
      ]
     },
     "metadata": {},
     "output_type": "display_data"
    },
    {
     "name": "stdout",
     "output_type": "stream",
     "text": [
      "Skipped AATF\n",
      "Skipped AATF\n",
      "Skipped CISD3\n",
      "\n",
      "Finished Attempt 48 with 332 Genes Parsed ( 0  New)\n",
      "\n",
      "Skipped CISD3\n",
      "\n",
      "Finished Attempt 48 with 332 Genes Parsed ( 0  New)\n",
      "\n",
      "Starting Attempt 49 with 332 Genes Parsed\n",
      "Starting Attempt 49 with 332 Genes Parsed\n"
     ]
    },
    {
     "data": {
      "application/vnd.jupyter.widget-view+json": {
       "model_id": "2078fba422744571addc6482ce59ef91",
       "version_major": 2,
       "version_minor": 0
      },
      "text/plain": [
       "HBox(children=(IntProgress(value=0, max=334), HTML(value=u'')))"
      ]
     },
     "metadata": {},
     "output_type": "display_data"
    },
    {
     "data": {
      "application/vnd.jupyter.widget-view+json": {
       "model_id": "2078fba422744571addc6482ce59ef91",
       "version_major": 2,
       "version_minor": 0
      },
      "text/plain": [
       "HBox(children=(IntProgress(value=0, max=334), HTML(value=u'')))"
      ]
     },
     "metadata": {},
     "output_type": "display_data"
    },
    {
     "name": "stdout",
     "output_type": "stream",
     "text": [
      "Skipped AATF\n",
      "Skipped AATF\n",
      "Skipped CISD3\n",
      "\n",
      "Finished Attempt 49 with 332 Genes Parsed ( 0  New)\n",
      "\n",
      "Skipped CISD3\n",
      "\n",
      "Finished Attempt 49 with 332 Genes Parsed ( 0  New)\n",
      "\n",
      "Starting Attempt 50 with 332 Genes Parsed\n"
     ]
    },
    {
     "data": {
      "application/vnd.jupyter.widget-view+json": {
       "model_id": "91cf798d699e464fa08867adb880d063",
       "version_major": 2,
       "version_minor": 0
      },
      "text/plain": [
       "HBox(children=(IntProgress(value=0, max=334), HTML(value=u'')))"
      ]
     },
     "metadata": {},
     "output_type": "display_data"
    },
    {
     "name": "stdout",
     "output_type": "stream",
     "text": [
      "Starting Attempt 50 with 332 Genes Parsed\n"
     ]
    },
    {
     "data": {
      "application/vnd.jupyter.widget-view+json": {
       "model_id": "91cf798d699e464fa08867adb880d063",
       "version_major": 2,
       "version_minor": 0
      },
      "text/plain": [
       "HBox(children=(IntProgress(value=0, max=334), HTML(value=u'')))"
      ]
     },
     "metadata": {},
     "output_type": "display_data"
    },
    {
     "name": "stdout",
     "output_type": "stream",
     "text": [
      "Skipped AATF\n",
      "Skipped AATF\n",
      "Skipped CISD3\n",
      "\n",
      "Finished Attempt 50 with 332 Genes Parsed ( 0  New)\n",
      "\n",
      "Skipped CISD3\n",
      "\n",
      "Finished Attempt 50 with 332 Genes Parsed ( 0  New)\n",
      "\n",
      "Starting Attempt 51 with 332 Genes Parsed\n",
      "Starting Attempt 51 with 332 Genes Parsed\n"
     ]
    },
    {
     "data": {
      "application/vnd.jupyter.widget-view+json": {
       "model_id": "591f09ceaa8d48c68f63a9aad4b20356",
       "version_major": 2,
       "version_minor": 0
      },
      "text/plain": [
       "HBox(children=(IntProgress(value=0, max=334), HTML(value=u'')))"
      ]
     },
     "metadata": {},
     "output_type": "display_data"
    },
    {
     "data": {
      "application/vnd.jupyter.widget-view+json": {
       "model_id": "591f09ceaa8d48c68f63a9aad4b20356",
       "version_major": 2,
       "version_minor": 0
      },
      "text/plain": [
       "HBox(children=(IntProgress(value=0, max=334), HTML(value=u'')))"
      ]
     },
     "metadata": {},
     "output_type": "display_data"
    },
    {
     "name": "stdout",
     "output_type": "stream",
     "text": [
      "Skipped AATF\n",
      "Skipped AATF\n",
      "Skipped CISD3\n",
      "\n",
      "Finished Attempt 51 with 332 Genes Parsed ( 0  New)\n",
      "\n",
      "Skipped CISD3\n",
      "\n",
      "Finished Attempt 51 with 332 Genes Parsed ( 0  New)\n",
      "\n",
      "Starting Attempt 52 with 332 Genes Parsed\n",
      "Starting Attempt 52 with 332 Genes Parsed\n"
     ]
    },
    {
     "data": {
      "application/vnd.jupyter.widget-view+json": {
       "model_id": "1c6cb4988b7f4b7497dcfc3017fe726e",
       "version_major": 2,
       "version_minor": 0
      },
      "text/plain": [
       "HBox(children=(IntProgress(value=0, max=334), HTML(value=u'')))"
      ]
     },
     "metadata": {},
     "output_type": "display_data"
    },
    {
     "data": {
      "application/vnd.jupyter.widget-view+json": {
       "model_id": "1c6cb4988b7f4b7497dcfc3017fe726e",
       "version_major": 2,
       "version_minor": 0
      },
      "text/plain": [
       "HBox(children=(IntProgress(value=0, max=334), HTML(value=u'')))"
      ]
     },
     "metadata": {},
     "output_type": "display_data"
    },
    {
     "name": "stdout",
     "output_type": "stream",
     "text": [
      "Skipped AATF\n",
      "Skipped AATF\n",
      "Skipped CISD3\n",
      "\n",
      "Finished Attempt 52 with 332 Genes Parsed ( 0  New)\n",
      "\n",
      "Skipped CISD3\n",
      "\n",
      "Finished Attempt 52 with 332 Genes Parsed ( 0  New)\n",
      "\n",
      "Starting Attempt 53 with 332 Genes Parsed\n",
      "Starting Attempt 53 with 332 Genes Parsed\n"
     ]
    },
    {
     "data": {
      "application/vnd.jupyter.widget-view+json": {
       "model_id": "d110fcf68f2644cbb4b1b1ec25eb86d7",
       "version_major": 2,
       "version_minor": 0
      },
      "text/plain": [
       "HBox(children=(IntProgress(value=0, max=334), HTML(value=u'')))"
      ]
     },
     "metadata": {},
     "output_type": "display_data"
    },
    {
     "data": {
      "application/vnd.jupyter.widget-view+json": {
       "model_id": "d110fcf68f2644cbb4b1b1ec25eb86d7",
       "version_major": 2,
       "version_minor": 0
      },
      "text/plain": [
       "HBox(children=(IntProgress(value=0, max=334), HTML(value=u'')))"
      ]
     },
     "metadata": {},
     "output_type": "display_data"
    },
    {
     "name": "stdout",
     "output_type": "stream",
     "text": [
      "Skipped AATF\n",
      "Skipped AATF\n",
      "Skipped CISD3\n",
      "\n",
      "Finished Attempt 53 with 332 Genes Parsed ( 0  New)\n",
      "\n",
      "Skipped CISD3\n",
      "\n",
      "Finished Attempt 53 with 332 Genes Parsed ( 0  New)\n",
      "\n",
      "Starting Attempt 54 with 332 Genes Parsed\n",
      "Starting Attempt 54 with 332 Genes Parsed\n"
     ]
    },
    {
     "data": {
      "application/vnd.jupyter.widget-view+json": {
       "model_id": "2b19dcadae0d46bcbaf1d8dc70573614",
       "version_major": 2,
       "version_minor": 0
      },
      "text/plain": [
       "HBox(children=(IntProgress(value=0, max=334), HTML(value=u'')))"
      ]
     },
     "metadata": {},
     "output_type": "display_data"
    },
    {
     "data": {
      "application/vnd.jupyter.widget-view+json": {
       "model_id": "2b19dcadae0d46bcbaf1d8dc70573614",
       "version_major": 2,
       "version_minor": 0
      },
      "text/plain": [
       "HBox(children=(IntProgress(value=0, max=334), HTML(value=u'')))"
      ]
     },
     "metadata": {},
     "output_type": "display_data"
    },
    {
     "name": "stdout",
     "output_type": "stream",
     "text": [
      "Skipped AATF\n",
      "Skipped AATF\n",
      "Skipped CISD3\n",
      "\n",
      "Finished Attempt 54 with 332 Genes Parsed ( 0  New)\n",
      "\n",
      "Skipped CISD3\n",
      "\n",
      "Finished Attempt 54 with 332 Genes Parsed ( 0  New)\n",
      "\n",
      "Starting Attempt 55 with 332 Genes Parsed\n"
     ]
    },
    {
     "data": {
      "application/vnd.jupyter.widget-view+json": {
       "model_id": "683c832c6ecd4a96bb80800fb5d86258",
       "version_major": 2,
       "version_minor": 0
      },
      "text/plain": [
       "HBox(children=(IntProgress(value=0, max=334), HTML(value=u'')))"
      ]
     },
     "metadata": {},
     "output_type": "display_data"
    },
    {
     "name": "stdout",
     "output_type": "stream",
     "text": [
      "Starting Attempt 55 with 332 Genes Parsed\n"
     ]
    },
    {
     "data": {
      "application/vnd.jupyter.widget-view+json": {
       "model_id": "683c832c6ecd4a96bb80800fb5d86258",
       "version_major": 2,
       "version_minor": 0
      },
      "text/plain": [
       "HBox(children=(IntProgress(value=0, max=334), HTML(value=u'')))"
      ]
     },
     "metadata": {},
     "output_type": "display_data"
    },
    {
     "name": "stdout",
     "output_type": "stream",
     "text": [
      "Skipped AATF\n",
      "Skipped AATF\n",
      "Skipped CISD3\n",
      "\n",
      "Finished Attempt 55 with 332 Genes Parsed ( 0  New)\n",
      "\n",
      "Skipped CISD3\n",
      "\n",
      "Finished Attempt 55 with 332 Genes Parsed ( 0  New)\n",
      "\n",
      "Starting Attempt 56 with 332 Genes Parsed\n",
      "Starting Attempt 56 with 332 Genes Parsed\n"
     ]
    },
    {
     "data": {
      "application/vnd.jupyter.widget-view+json": {
       "model_id": "0df87b977f0943388f4e71a8852bdd93",
       "version_major": 2,
       "version_minor": 0
      },
      "text/plain": [
       "HBox(children=(IntProgress(value=0, max=334), HTML(value=u'')))"
      ]
     },
     "metadata": {},
     "output_type": "display_data"
    },
    {
     "data": {
      "application/vnd.jupyter.widget-view+json": {
       "model_id": "0df87b977f0943388f4e71a8852bdd93",
       "version_major": 2,
       "version_minor": 0
      },
      "text/plain": [
       "HBox(children=(IntProgress(value=0, max=334), HTML(value=u'')))"
      ]
     },
     "metadata": {},
     "output_type": "display_data"
    },
    {
     "name": "stdout",
     "output_type": "stream",
     "text": [
      "Skipped AATF\n",
      "Skipped AATF\n",
      "Skipped CISD3\n",
      "\n",
      "Finished Attempt 56 with 332 Genes Parsed ( 0  New)\n",
      "\n",
      "Skipped CISD3\n",
      "\n",
      "Finished Attempt 56 with 332 Genes Parsed ( 0  New)\n",
      "\n",
      "Starting Attempt 57 with 332 Genes Parsed\n",
      "Starting Attempt 57 with 332 Genes Parsed\n"
     ]
    },
    {
     "data": {
      "application/vnd.jupyter.widget-view+json": {
       "model_id": "001118ebe0a744b8bb9c9264d4429461",
       "version_major": 2,
       "version_minor": 0
      },
      "text/plain": [
       "HBox(children=(IntProgress(value=0, max=334), HTML(value=u'')))"
      ]
     },
     "metadata": {},
     "output_type": "display_data"
    },
    {
     "data": {
      "application/vnd.jupyter.widget-view+json": {
       "model_id": "001118ebe0a744b8bb9c9264d4429461",
       "version_major": 2,
       "version_minor": 0
      },
      "text/plain": [
       "HBox(children=(IntProgress(value=0, max=334), HTML(value=u'')))"
      ]
     },
     "metadata": {},
     "output_type": "display_data"
    },
    {
     "name": "stdout",
     "output_type": "stream",
     "text": [
      "Skipped AATF\n",
      "Skipped AATF\n",
      "Skipped CISD3\n",
      "\n",
      "Finished Attempt 57 with 332 Genes Parsed ( 0  New)\n",
      "\n",
      "Skipped CISD3\n",
      "\n",
      "Finished Attempt 57 with 332 Genes Parsed ( 0  New)\n",
      "\n",
      "Starting Attempt 58 with 332 Genes Parsed\n"
     ]
    },
    {
     "data": {
      "application/vnd.jupyter.widget-view+json": {
       "model_id": "38107e03a7f24a2097a67070ced537d6",
       "version_major": 2,
       "version_minor": 0
      },
      "text/plain": [
       "HBox(children=(IntProgress(value=0, max=334), HTML(value=u'')))"
      ]
     },
     "metadata": {},
     "output_type": "display_data"
    },
    {
     "name": "stdout",
     "output_type": "stream",
     "text": [
      "Skipped AATF\n",
      "Starting Attempt 58 with 332 Genes Parsed\n"
     ]
    },
    {
     "data": {
      "application/vnd.jupyter.widget-view+json": {
       "model_id": "38107e03a7f24a2097a67070ced537d6",
       "version_major": 2,
       "version_minor": 0
      },
      "text/plain": [
       "HBox(children=(IntProgress(value=0, max=334), HTML(value=u'')))"
      ]
     },
     "metadata": {},
     "output_type": "display_data"
    },
    {
     "name": "stdout",
     "output_type": "stream",
     "text": [
      "Skipped AATF\n",
      "Skipped CISD3\n",
      "\n",
      "Finished Attempt 58 with 332 Genes Parsed ( 0  New)\n",
      "\n",
      "Skipped CISD3\n",
      "\n",
      "Finished Attempt 58 with 332 Genes Parsed ( 0  New)\n",
      "\n",
      "Starting Attempt 59 with 332 Genes Parsed\n"
     ]
    },
    {
     "data": {
      "application/vnd.jupyter.widget-view+json": {
       "model_id": "f6009f85873c4567b920f33a12983303",
       "version_major": 2,
       "version_minor": 0
      },
      "text/plain": [
       "HBox(children=(IntProgress(value=0, max=334), HTML(value=u'')))"
      ]
     },
     "metadata": {},
     "output_type": "display_data"
    },
    {
     "name": "stdout",
     "output_type": "stream",
     "text": [
      "Starting Attempt 59 with 332 Genes Parsed\n"
     ]
    },
    {
     "data": {
      "application/vnd.jupyter.widget-view+json": {
       "model_id": "f6009f85873c4567b920f33a12983303",
       "version_major": 2,
       "version_minor": 0
      },
      "text/plain": [
       "HBox(children=(IntProgress(value=0, max=334), HTML(value=u'')))"
      ]
     },
     "metadata": {},
     "output_type": "display_data"
    },
    {
     "name": "stdout",
     "output_type": "stream",
     "text": [
      "Skipped AATF\n",
      "Skipped AATF\n",
      "Skipped CISD3\n",
      "\n",
      "Finished Attempt 59 with 332 Genes Parsed ( 0  New)\n",
      "\n",
      "Skipped CISD3\n",
      "\n",
      "Finished Attempt 59 with 332 Genes Parsed ( 0  New)\n",
      "\n",
      "Starting Attempt 61 with 332 Genes Parsed\n"
     ]
    },
    {
     "data": {
      "application/vnd.jupyter.widget-view+json": {
       "model_id": "6bff9a299b23473898aa3d0dde758cfb",
       "version_major": 2,
       "version_minor": 0
      },
      "text/plain": [
       "HBox(children=(IntProgress(value=0, max=334), HTML(value=u'')))"
      ]
     },
     "metadata": {},
     "output_type": "display_data"
    },
    {
     "name": "stdout",
     "output_type": "stream",
     "text": [
      "Skipped AATF\n",
      "Skipped CISD3\n",
      "\n",
      "Finished Attempt 61 with 332 Genes Parsed ( 0  New)\n",
      "\n",
      "Starting Attempt 62 with 332 Genes Parsed\n"
     ]
    },
    {
     "data": {
      "application/vnd.jupyter.widget-view+json": {
       "model_id": "bdf8d8bedd9a4a0aa4c35af5ba36a7bb",
       "version_major": 2,
       "version_minor": 0
      },
      "text/plain": [
       "HBox(children=(IntProgress(value=0, max=334), HTML(value=u'')))"
      ]
     },
     "metadata": {},
     "output_type": "display_data"
    },
    {
     "name": "stdout",
     "output_type": "stream",
     "text": [
      "Skipped AATF\n",
      "Skipped CISD3\n",
      "\n",
      "Finished Attempt 62 with 332 Genes Parsed ( 0  New)\n",
      "\n",
      "Starting Attempt 63 with 332 Genes Parsed\n"
     ]
    },
    {
     "data": {
      "application/vnd.jupyter.widget-view+json": {
       "model_id": "2fd3d0f3f3a64e8d9ca47218c33ff903",
       "version_major": 2,
       "version_minor": 0
      },
      "text/plain": [
       "HBox(children=(IntProgress(value=0, max=334), HTML(value=u'')))"
      ]
     },
     "metadata": {},
     "output_type": "display_data"
    },
    {
     "name": "stdout",
     "output_type": "stream",
     "text": [
      "Skipped AATF\n",
      "Skipped CISD3\n",
      "\n",
      "Finished Attempt 63 with 332 Genes Parsed ( 0  New)\n",
      "\n",
      "Starting Attempt 64 with 332 Genes Parsed\n"
     ]
    },
    {
     "data": {
      "application/vnd.jupyter.widget-view+json": {
       "model_id": "3b27255a0f4143f7a0d39367cb633aab",
       "version_major": 2,
       "version_minor": 0
      },
      "text/plain": [
       "HBox(children=(IntProgress(value=0, max=334), HTML(value=u'')))"
      ]
     },
     "metadata": {},
     "output_type": "display_data"
    },
    {
     "name": "stdout",
     "output_type": "stream",
     "text": [
      "Skipped AATF\n",
      "Skipped CISD3\n",
      "\n",
      "Finished Attempt 64 with 332 Genes Parsed ( 0  New)\n",
      "\n",
      "Starting Attempt 65 with 332 Genes Parsed\n"
     ]
    },
    {
     "data": {
      "application/vnd.jupyter.widget-view+json": {
       "model_id": "75d8b378f291497bb7ab9690cf78f1ad",
       "version_major": 2,
       "version_minor": 0
      },
      "text/plain": [
       "HBox(children=(IntProgress(value=0, max=334), HTML(value=u'')))"
      ]
     },
     "metadata": {},
     "output_type": "display_data"
    },
    {
     "name": "stdout",
     "output_type": "stream",
     "text": [
      "Skipped AATF\n",
      "Skipped CISD3\n",
      "\n",
      "Finished Attempt 65 with 332 Genes Parsed ( 0  New)\n",
      "\n",
      "Starting Attempt 66 with 332 Genes Parsed\n"
     ]
    },
    {
     "data": {
      "application/vnd.jupyter.widget-view+json": {
       "model_id": "9cf9cf1a12f9444ea1aa78b30d02ad48",
       "version_major": 2,
       "version_minor": 0
      },
      "text/plain": [
       "HBox(children=(IntProgress(value=0, max=334), HTML(value=u'')))"
      ]
     },
     "metadata": {},
     "output_type": "display_data"
    },
    {
     "name": "stdout",
     "output_type": "stream",
     "text": [
      "Skipped AATF\n",
      "Skipped CISD3\n",
      "\n",
      "Finished Attempt 66 with 332 Genes Parsed ( 0  New)\n",
      "\n",
      "Starting Attempt 67 with 332 Genes Parsed\n"
     ]
    },
    {
     "data": {
      "application/vnd.jupyter.widget-view+json": {
       "model_id": "af9efd98f0d54dc2aceb4ed0c9359e61",
       "version_major": 2,
       "version_minor": 0
      },
      "text/plain": [
       "HBox(children=(IntProgress(value=0, max=334), HTML(value=u'')))"
      ]
     },
     "metadata": {},
     "output_type": "display_data"
    },
    {
     "name": "stdout",
     "output_type": "stream",
     "text": [
      "Skipped AATF\n",
      "Skipped CISD3\n",
      "\n",
      "Finished Attempt 67 with 332 Genes Parsed ( 0  New)\n",
      "\n",
      "Starting Attempt 68 with 332 Genes Parsed\n"
     ]
    },
    {
     "data": {
      "application/vnd.jupyter.widget-view+json": {
       "model_id": "9a750d2b95f34ed38118af9a7d592bf6",
       "version_major": 2,
       "version_minor": 0
      },
      "text/plain": [
       "HBox(children=(IntProgress(value=0, max=334), HTML(value=u'')))"
      ]
     },
     "metadata": {},
     "output_type": "display_data"
    },
    {
     "name": "stdout",
     "output_type": "stream",
     "text": [
      "Skipped AATF\n",
      "Skipped CISD3\n",
      "\n",
      "Finished Attempt 68 with 332 Genes Parsed ( 0  New)\n",
      "\n",
      "Starting Attempt 69 with 332 Genes Parsed\n"
     ]
    },
    {
     "data": {
      "application/vnd.jupyter.widget-view+json": {
       "model_id": "944b4f64a07c4fbd91e28ef85c368f86",
       "version_major": 2,
       "version_minor": 0
      },
      "text/plain": [
       "HBox(children=(IntProgress(value=0, max=334), HTML(value=u'')))"
      ]
     },
     "metadata": {},
     "output_type": "display_data"
    },
    {
     "name": "stdout",
     "output_type": "stream",
     "text": [
      "Skipped AATF\n",
      "Skipped CISD3\n",
      "\n",
      "Finished Attempt 69 with 332 Genes Parsed ( 0  New)\n",
      "\n",
      "Starting Attempt 70 with 332 Genes Parsed\n"
     ]
    },
    {
     "data": {
      "application/vnd.jupyter.widget-view+json": {
       "model_id": "ea5c65789e8a4959a3d537e5a0f8841d",
       "version_major": 2,
       "version_minor": 0
      },
      "text/plain": [
       "HBox(children=(IntProgress(value=0, max=334), HTML(value=u'')))"
      ]
     },
     "metadata": {},
     "output_type": "display_data"
    },
    {
     "name": "stdout",
     "output_type": "stream",
     "text": [
      "Skipped AATF\n",
      "Skipped CISD3\n",
      "\n",
      "Finished Attempt 70 with 332 Genes Parsed ( 0  New)\n",
      "\n",
      "Starting Attempt 71 with 332 Genes Parsed\n"
     ]
    },
    {
     "data": {
      "application/vnd.jupyter.widget-view+json": {
       "model_id": "d2ba7fdc552f4ecc8956edc31b8bafbf",
       "version_major": 2,
       "version_minor": 0
      },
      "text/plain": [
       "HBox(children=(IntProgress(value=0, max=334), HTML(value=u'')))"
      ]
     },
     "metadata": {},
     "output_type": "display_data"
    },
    {
     "name": "stdout",
     "output_type": "stream",
     "text": [
      "Skipped AATF\n",
      "Skipped CISD3\n",
      "\n",
      "Finished Attempt 71 with 332 Genes Parsed ( 0  New)\n",
      "\n",
      "Starting Attempt 72 with 332 Genes Parsed\n"
     ]
    },
    {
     "data": {
      "application/vnd.jupyter.widget-view+json": {
       "model_id": "d6d812bae01e48ca8e47194ba8cbd65f",
       "version_major": 2,
       "version_minor": 0
      },
      "text/plain": [
       "HBox(children=(IntProgress(value=0, max=334), HTML(value=u'')))"
      ]
     },
     "metadata": {},
     "output_type": "display_data"
    },
    {
     "name": "stdout",
     "output_type": "stream",
     "text": [
      "Skipped AATF\n",
      "Skipped CISD3\n",
      "\n",
      "Finished Attempt 72 with 332 Genes Parsed ( 0  New)\n",
      "\n",
      "Starting Attempt 73 with 332 Genes Parsed\n"
     ]
    },
    {
     "data": {
      "application/vnd.jupyter.widget-view+json": {
       "model_id": "3b843ff66f9a4f0ab56151b000bfb47a",
       "version_major": 2,
       "version_minor": 0
      },
      "text/plain": [
       "HBox(children=(IntProgress(value=0, max=334), HTML(value=u'')))"
      ]
     },
     "metadata": {},
     "output_type": "display_data"
    },
    {
     "name": "stdout",
     "output_type": "stream",
     "text": [
      "Skipped AATF\n",
      "Skipped CISD3\n",
      "\n",
      "Finished Attempt 73 with 332 Genes Parsed ( 0  New)\n",
      "\n",
      "Starting Attempt 74 with 332 Genes Parsed\n"
     ]
    },
    {
     "data": {
      "application/vnd.jupyter.widget-view+json": {
       "model_id": "370e945dcd7c456cb850f423128fff9f",
       "version_major": 2,
       "version_minor": 0
      },
      "text/plain": [
       "HBox(children=(IntProgress(value=0, max=334), HTML(value=u'')))"
      ]
     },
     "metadata": {},
     "output_type": "display_data"
    },
    {
     "name": "stdout",
     "output_type": "stream",
     "text": [
      "Skipped AATF\n",
      "Skipped CISD3\n",
      "\n",
      "Finished Attempt 74 with 332 Genes Parsed ( 0  New)\n",
      "\n",
      "Starting Attempt 75 with 332 Genes Parsed\n"
     ]
    },
    {
     "data": {
      "application/vnd.jupyter.widget-view+json": {
       "model_id": "be93a94fd5d247dc89e4b96164408244",
       "version_major": 2,
       "version_minor": 0
      },
      "text/plain": [
       "HBox(children=(IntProgress(value=0, max=334), HTML(value=u'')))"
      ]
     },
     "metadata": {},
     "output_type": "display_data"
    },
    {
     "name": "stdout",
     "output_type": "stream",
     "text": [
      "Skipped AATF\n",
      "Skipped CISD3\n",
      "\n",
      "Finished Attempt 75 with 332 Genes Parsed ( 0  New)\n",
      "\n",
      "Starting Attempt 76 with 332 Genes Parsed\n"
     ]
    },
    {
     "data": {
      "application/vnd.jupyter.widget-view+json": {
       "model_id": "71ffb7e7efe04b08880f782bb1855e13",
       "version_major": 2,
       "version_minor": 0
      },
      "text/plain": [
       "HBox(children=(IntProgress(value=0, max=334), HTML(value=u'')))"
      ]
     },
     "metadata": {},
     "output_type": "display_data"
    },
    {
     "name": "stdout",
     "output_type": "stream",
     "text": [
      "Skipped AATF\n",
      "Skipped CISD3\n",
      "\n",
      "Finished Attempt 76 with 332 Genes Parsed ( 0  New)\n",
      "\n",
      "Starting Attempt 77 with 332 Genes Parsed\n"
     ]
    },
    {
     "data": {
      "application/vnd.jupyter.widget-view+json": {
       "model_id": "74fddb8df8aa4b8582c7a0699d6f9cb6",
       "version_major": 2,
       "version_minor": 0
      },
      "text/plain": [
       "HBox(children=(IntProgress(value=0, max=334), HTML(value=u'')))"
      ]
     },
     "metadata": {},
     "output_type": "display_data"
    },
    {
     "name": "stdout",
     "output_type": "stream",
     "text": [
      "Skipped AATF\n",
      "Skipped CISD3\n",
      "\n",
      "Finished Attempt 77 with 332 Genes Parsed ( 0  New)\n",
      "\n",
      "Starting Attempt 78 with 332 Genes Parsed\n"
     ]
    },
    {
     "data": {
      "application/vnd.jupyter.widget-view+json": {
       "model_id": "43872a80cc014584a36e72550d5d5261",
       "version_major": 2,
       "version_minor": 0
      },
      "text/plain": [
       "HBox(children=(IntProgress(value=0, max=334), HTML(value=u'')))"
      ]
     },
     "metadata": {},
     "output_type": "display_data"
    },
    {
     "name": "stdout",
     "output_type": "stream",
     "text": [
      "Skipped AATF\n",
      "Skipped CISD3\n",
      "\n",
      "Finished Attempt 78 with 332 Genes Parsed ( 0  New)\n",
      "\n",
      "Starting Attempt 79 with 332 Genes Parsed\n"
     ]
    },
    {
     "data": {
      "application/vnd.jupyter.widget-view+json": {
       "model_id": "2eb22970a7df4de6b4159ec933a90a66",
       "version_major": 2,
       "version_minor": 0
      },
      "text/plain": [
       "HBox(children=(IntProgress(value=0, max=334), HTML(value=u'')))"
      ]
     },
     "metadata": {},
     "output_type": "display_data"
    },
    {
     "name": "stdout",
     "output_type": "stream",
     "text": [
      "Skipped AATF\n",
      "Skipped CISD3\n",
      "\n",
      "Finished Attempt 79 with 332 Genes Parsed ( 0  New)\n",
      "\n",
      "Starting Attempt 80 with 332 Genes Parsed\n"
     ]
    },
    {
     "data": {
      "application/vnd.jupyter.widget-view+json": {
       "model_id": "6871c820d2294ccbb7c6c1978d0f303a",
       "version_major": 2,
       "version_minor": 0
      },
      "text/plain": [
       "HBox(children=(IntProgress(value=0, max=334), HTML(value=u'')))"
      ]
     },
     "metadata": {},
     "output_type": "display_data"
    },
    {
     "name": "stdout",
     "output_type": "stream",
     "text": [
      "Skipped AATF\n",
      "Skipped CISD3\n",
      "\n",
      "Finished Attempt 80 with 332 Genes Parsed ( 0  New)\n",
      "\n",
      "Starting Attempt 81 with 332 Genes Parsed\n"
     ]
    },
    {
     "data": {
      "application/vnd.jupyter.widget-view+json": {
       "model_id": "df2c3068823c48769525c218fdaf5b70",
       "version_major": 2,
       "version_minor": 0
      },
      "text/plain": [
       "HBox(children=(IntProgress(value=0, max=334), HTML(value=u'')))"
      ]
     },
     "metadata": {},
     "output_type": "display_data"
    },
    {
     "name": "stdout",
     "output_type": "stream",
     "text": [
      "Skipped AATF\n",
      "Skipped CISD3\n",
      "\n",
      "Finished Attempt 81 with 332 Genes Parsed ( 0  New)\n",
      "\n",
      "Starting Attempt 82 with 332 Genes Parsed\n"
     ]
    },
    {
     "data": {
      "application/vnd.jupyter.widget-view+json": {
       "model_id": "75c5c801e12646d2aa9572ade035e69d",
       "version_major": 2,
       "version_minor": 0
      },
      "text/plain": [
       "HBox(children=(IntProgress(value=0, max=334), HTML(value=u'')))"
      ]
     },
     "metadata": {},
     "output_type": "display_data"
    },
    {
     "name": "stdout",
     "output_type": "stream",
     "text": [
      "Skipped AATF\n",
      "Skipped CISD3\n",
      "\n",
      "Finished Attempt 82 with 332 Genes Parsed ( 0  New)\n",
      "\n",
      "Starting Attempt 83 with 332 Genes Parsed\n"
     ]
    },
    {
     "data": {
      "application/vnd.jupyter.widget-view+json": {
       "model_id": "40df8f278dc54da6b65155ff48829a72",
       "version_major": 2,
       "version_minor": 0
      },
      "text/plain": [
       "HBox(children=(IntProgress(value=0, max=334), HTML(value=u'')))"
      ]
     },
     "metadata": {},
     "output_type": "display_data"
    },
    {
     "name": "stdout",
     "output_type": "stream",
     "text": [
      "Skipped AATF\n",
      "Skipped CISD3\n",
      "\n",
      "Finished Attempt 83 with 332 Genes Parsed ( 0  New)\n",
      "\n",
      "Starting Attempt 84 with 332 Genes Parsed\n"
     ]
    },
    {
     "data": {
      "application/vnd.jupyter.widget-view+json": {
       "model_id": "bb0570f5133d4d08833b5a27c905fee1",
       "version_major": 2,
       "version_minor": 0
      },
      "text/plain": [
       "HBox(children=(IntProgress(value=0, max=334), HTML(value=u'')))"
      ]
     },
     "metadata": {},
     "output_type": "display_data"
    },
    {
     "name": "stdout",
     "output_type": "stream",
     "text": [
      "Skipped AATF\n",
      "Skipped CISD3\n",
      "\n",
      "Finished Attempt 84 with 332 Genes Parsed ( 0  New)\n",
      "\n",
      "Starting Attempt 85 with 332 Genes Parsed\n"
     ]
    },
    {
     "data": {
      "application/vnd.jupyter.widget-view+json": {
       "model_id": "c4dcef58351547cea4a5057e89fb1b90",
       "version_major": 2,
       "version_minor": 0
      },
      "text/plain": [
       "HBox(children=(IntProgress(value=0, max=334), HTML(value=u'')))"
      ]
     },
     "metadata": {},
     "output_type": "display_data"
    },
    {
     "name": "stdout",
     "output_type": "stream",
     "text": [
      "Skipped AATF\n",
      "Skipped CISD3\n",
      "\n",
      "Finished Attempt 85 with 332 Genes Parsed ( 0  New)\n",
      "\n",
      "Starting Attempt 86 with 332 Genes Parsed\n"
     ]
    },
    {
     "data": {
      "application/vnd.jupyter.widget-view+json": {
       "model_id": "745a8baed08e417fbeea16f4c1eb8160",
       "version_major": 2,
       "version_minor": 0
      },
      "text/plain": [
       "HBox(children=(IntProgress(value=0, max=334), HTML(value=u'')))"
      ]
     },
     "metadata": {},
     "output_type": "display_data"
    },
    {
     "name": "stdout",
     "output_type": "stream",
     "text": [
      "Skipped AATF\n",
      "Skipped CISD3\n",
      "\n",
      "Finished Attempt 86 with 332 Genes Parsed ( 0  New)\n",
      "\n",
      "Starting Attempt 87 with 332 Genes Parsed\n"
     ]
    },
    {
     "data": {
      "application/vnd.jupyter.widget-view+json": {
       "model_id": "5a80948212754485aa64b3c706c39720",
       "version_major": 2,
       "version_minor": 0
      },
      "text/plain": [
       "HBox(children=(IntProgress(value=0, max=334), HTML(value=u'')))"
      ]
     },
     "metadata": {},
     "output_type": "display_data"
    },
    {
     "name": "stdout",
     "output_type": "stream",
     "text": [
      "Skipped AATF\n",
      "Skipped CISD3\n",
      "\n",
      "Finished Attempt 87 with 332 Genes Parsed ( 0  New)\n",
      "\n",
      "Starting Attempt 88 with 332 Genes Parsed\n"
     ]
    },
    {
     "data": {
      "application/vnd.jupyter.widget-view+json": {
       "model_id": "424acca964a74a259fbd06a8924cea16",
       "version_major": 2,
       "version_minor": 0
      },
      "text/plain": [
       "HBox(children=(IntProgress(value=0, max=334), HTML(value=u'')))"
      ]
     },
     "metadata": {},
     "output_type": "display_data"
    },
    {
     "name": "stdout",
     "output_type": "stream",
     "text": [
      "Skipped AATF\n",
      "Skipped CISD3\n",
      "\n",
      "Finished Attempt 88 with 332 Genes Parsed ( 0  New)\n",
      "\n",
      "Starting Attempt 89 with 332 Genes Parsed\n"
     ]
    },
    {
     "data": {
      "application/vnd.jupyter.widget-view+json": {
       "model_id": "eae42739ffbf4932903eed3b5fac575b",
       "version_major": 2,
       "version_minor": 0
      },
      "text/plain": [
       "HBox(children=(IntProgress(value=0, max=334), HTML(value=u'')))"
      ]
     },
     "metadata": {},
     "output_type": "display_data"
    },
    {
     "name": "stdout",
     "output_type": "stream",
     "text": [
      "Skipped AATF\n",
      "Skipped CISD3\n",
      "\n",
      "Finished Attempt 89 with 332 Genes Parsed ( 0  New)\n",
      "\n",
      "Starting Attempt 90 with 332 Genes Parsed\n"
     ]
    },
    {
     "data": {
      "application/vnd.jupyter.widget-view+json": {
       "model_id": "5aae89decc324447b00ff4ba6c32290d",
       "version_major": 2,
       "version_minor": 0
      },
      "text/plain": [
       "HBox(children=(IntProgress(value=0, max=334), HTML(value=u'')))"
      ]
     },
     "metadata": {},
     "output_type": "display_data"
    },
    {
     "name": "stdout",
     "output_type": "stream",
     "text": [
      "Skipped AATF\n",
      "Skipped CISD3\n",
      "\n",
      "Finished Attempt 90 with 332 Genes Parsed ( 0  New)\n",
      "\n",
      "Starting Attempt 91 with 332 Genes Parsed\n"
     ]
    },
    {
     "data": {
      "application/vnd.jupyter.widget-view+json": {
       "model_id": "cc642f9f9af743be99777e7b67e0bf6c",
       "version_major": 2,
       "version_minor": 0
      },
      "text/plain": [
       "HBox(children=(IntProgress(value=0, max=334), HTML(value=u'')))"
      ]
     },
     "metadata": {},
     "output_type": "display_data"
    },
    {
     "name": "stdout",
     "output_type": "stream",
     "text": [
      "Skipped AATF\n",
      "Skipped CISD3\n",
      "\n",
      "Finished Attempt 91 with 332 Genes Parsed ( 0  New)\n",
      "\n",
      "Starting Attempt 92 with 332 Genes Parsed\n"
     ]
    },
    {
     "data": {
      "application/vnd.jupyter.widget-view+json": {
       "model_id": "162c6d8b5273409eb47880765ea8b29b",
       "version_major": 2,
       "version_minor": 0
      },
      "text/plain": [
       "HBox(children=(IntProgress(value=0, max=334), HTML(value=u'')))"
      ]
     },
     "metadata": {},
     "output_type": "display_data"
    },
    {
     "name": "stdout",
     "output_type": "stream",
     "text": [
      "Skipped AATF\n",
      "Skipped CISD3\n",
      "\n",
      "Finished Attempt 92 with 332 Genes Parsed ( 0  New)\n",
      "\n",
      "Starting Attempt 93 with 332 Genes Parsed\n"
     ]
    },
    {
     "data": {
      "application/vnd.jupyter.widget-view+json": {
       "model_id": "3a24850accfe49a7bc71e75a77140351",
       "version_major": 2,
       "version_minor": 0
      },
      "text/plain": [
       "HBox(children=(IntProgress(value=0, max=334), HTML(value=u'')))"
      ]
     },
     "metadata": {},
     "output_type": "display_data"
    },
    {
     "name": "stdout",
     "output_type": "stream",
     "text": [
      "Skipped AATF\n",
      "Skipped CISD3\n",
      "\n",
      "Finished Attempt 93 with 332 Genes Parsed ( 0  New)\n",
      "\n",
      "Starting Attempt 94 with 332 Genes Parsed\n"
     ]
    },
    {
     "data": {
      "application/vnd.jupyter.widget-view+json": {
       "model_id": "348136c877ac48f69151704a64ee3317",
       "version_major": 2,
       "version_minor": 0
      },
      "text/plain": [
       "HBox(children=(IntProgress(value=0, max=334), HTML(value=u'')))"
      ]
     },
     "metadata": {},
     "output_type": "display_data"
    },
    {
     "name": "stdout",
     "output_type": "stream",
     "text": [
      "Skipped AATF\n",
      "Skipped CISD3\n",
      "\n",
      "Finished Attempt 94 with 332 Genes Parsed ( 0  New)\n",
      "\n",
      "Starting Attempt 95 with 332 Genes Parsed\n"
     ]
    },
    {
     "data": {
      "application/vnd.jupyter.widget-view+json": {
       "model_id": "8c3a98a06e76451ba8b9429331079eb1",
       "version_major": 2,
       "version_minor": 0
      },
      "text/plain": [
       "HBox(children=(IntProgress(value=0, max=334), HTML(value=u'')))"
      ]
     },
     "metadata": {},
     "output_type": "display_data"
    },
    {
     "name": "stdout",
     "output_type": "stream",
     "text": [
      "Skipped AATF\n",
      "Skipped CISD3\n",
      "\n",
      "Finished Attempt 95 with 332 Genes Parsed ( 0  New)\n",
      "\n",
      "Starting Attempt 96 with 332 Genes Parsed\n"
     ]
    },
    {
     "data": {
      "application/vnd.jupyter.widget-view+json": {
       "model_id": "2620536f93534e0a9fce837193e45d35",
       "version_major": 2,
       "version_minor": 0
      },
      "text/plain": [
       "HBox(children=(IntProgress(value=0, max=334), HTML(value=u'')))"
      ]
     },
     "metadata": {},
     "output_type": "display_data"
    },
    {
     "name": "stdout",
     "output_type": "stream",
     "text": [
      "Skipped AATF\n",
      "Skipped CISD3\n",
      "\n",
      "Finished Attempt 96 with 332 Genes Parsed ( 0  New)\n",
      "\n",
      "Starting Attempt 97 with 332 Genes Parsed\n"
     ]
    },
    {
     "data": {
      "application/vnd.jupyter.widget-view+json": {
       "model_id": "658697e0a151447fbfe3c885bcd0641d",
       "version_major": 2,
       "version_minor": 0
      },
      "text/plain": [
       "HBox(children=(IntProgress(value=0, max=334), HTML(value=u'')))"
      ]
     },
     "metadata": {},
     "output_type": "display_data"
    },
    {
     "name": "stdout",
     "output_type": "stream",
     "text": [
      "Skipped AATF\n",
      "Skipped CISD3\n",
      "\n",
      "Finished Attempt 97 with 332 Genes Parsed ( 0  New)\n",
      "\n",
      "Starting Attempt 98 with 332 Genes Parsed\n"
     ]
    },
    {
     "data": {
      "application/vnd.jupyter.widget-view+json": {
       "model_id": "46c1a6dd2ae04b0f87eafe2abcdc7b3d",
       "version_major": 2,
       "version_minor": 0
      },
      "text/plain": [
       "HBox(children=(IntProgress(value=0, max=334), HTML(value=u'')))"
      ]
     },
     "metadata": {},
     "output_type": "display_data"
    },
    {
     "name": "stdout",
     "output_type": "stream",
     "text": [
      "Skipped AATF\n",
      "Skipped CISD3\n",
      "\n",
      "Finished Attempt 98 with 332 Genes Parsed ( 0  New)\n",
      "\n",
      "Starting Attempt 99 with 332 Genes Parsed\n"
     ]
    },
    {
     "data": {
      "application/vnd.jupyter.widget-view+json": {
       "model_id": "faead861066f46d3ba164b32b7f521a0",
       "version_major": 2,
       "version_minor": 0
      },
      "text/plain": [
       "HBox(children=(IntProgress(value=0, max=334), HTML(value=u'')))"
      ]
     },
     "metadata": {},
     "output_type": "display_data"
    },
    {
     "name": "stdout",
     "output_type": "stream",
     "text": [
      "Skipped AATF\n",
      "Skipped CISD3\n",
      "\n",
      "Finished Attempt 99 with 332 Genes Parsed ( 0  New)\n",
      "\n",
      "Starting Attempt 100 with 332 Genes Parsed\n"
     ]
    },
    {
     "data": {
      "application/vnd.jupyter.widget-view+json": {
       "model_id": "c11c657ab42246c6860051bbd1326515",
       "version_major": 2,
       "version_minor": 0
      },
      "text/plain": [
       "HBox(children=(IntProgress(value=0, max=334), HTML(value=u'')))"
      ]
     },
     "metadata": {},
     "output_type": "display_data"
    },
    {
     "name": "stdout",
     "output_type": "stream",
     "text": [
      "Skipped AATF\n",
      "Skipped CISD3\n",
      "\n",
      "Finished Attempt 100 with 332 Genes Parsed ( 0  New)\n",
      "\n",
      "Starting Attempt 101 with 332 Genes Parsed\n"
     ]
    },
    {
     "data": {
      "application/vnd.jupyter.widget-view+json": {
       "model_id": "50afb55390c34c0fa214fc078d777f9d",
       "version_major": 2,
       "version_minor": 0
      },
      "text/plain": [
       "HBox(children=(IntProgress(value=0, max=334), HTML(value=u'')))"
      ]
     },
     "metadata": {},
     "output_type": "display_data"
    },
    {
     "name": "stdout",
     "output_type": "stream",
     "text": [
      "Skipped AATF\n",
      "Skipped CISD3\n",
      "\n",
      "Finished Attempt 101 with 332 Genes Parsed ( 0  New)\n",
      "\n",
      "Starting Attempt 102 with 332 Genes Parsed\n"
     ]
    },
    {
     "data": {
      "application/vnd.jupyter.widget-view+json": {
       "model_id": "1b99a23f72de4790ba6462bd306ce58c",
       "version_major": 2,
       "version_minor": 0
      },
      "text/plain": [
       "HBox(children=(IntProgress(value=0, max=334), HTML(value=u'')))"
      ]
     },
     "metadata": {},
     "output_type": "display_data"
    },
    {
     "name": "stdout",
     "output_type": "stream",
     "text": [
      "Skipped AATF\n",
      "Skipped CISD3\n",
      "\n",
      "Finished Attempt 102 with 332 Genes Parsed ( 0  New)\n",
      "\n",
      "Starting Attempt 103 with 332 Genes Parsed\n"
     ]
    },
    {
     "data": {
      "application/vnd.jupyter.widget-view+json": {
       "model_id": "969e0b0c27d047f8a047eb4a83c28e9e",
       "version_major": 2,
       "version_minor": 0
      },
      "text/plain": [
       "HBox(children=(IntProgress(value=0, max=334), HTML(value=u'')))"
      ]
     },
     "metadata": {},
     "output_type": "display_data"
    },
    {
     "name": "stdout",
     "output_type": "stream",
     "text": [
      "Skipped AATF\n",
      "Skipped CISD3\n",
      "\n",
      "Finished Attempt 103 with 332 Genes Parsed ( 0  New)\n",
      "\n"
     ]
    },
    {
     "ename": "KeyboardInterrupt",
     "evalue": "",
     "output_type": "error",
     "traceback": [
      "\u001b[0;31m\u001b[0m",
      "\u001b[0;31mKeyboardInterrupt\u001b[0mTraceback (most recent call last)",
      "\u001b[0;32m<ipython-input-69-15d345167f8f>\u001b[0m in \u001b[0;36m<module>\u001b[0;34m()\u001b[0m\n\u001b[1;32m     43\u001b[0m     \u001b[0;32mprint\u001b[0m\u001b[0;34m\u001b[0m\u001b[0m\n\u001b[1;32m     44\u001b[0m     \u001b[0mattempt_i\u001b[0m \u001b[0;34m+=\u001b[0m \u001b[0;36m1\u001b[0m\u001b[0;34m\u001b[0m\u001b[0m\n\u001b[0;32m---> 45\u001b[0;31m     \u001b[0mtime\u001b[0m\u001b[0;34m.\u001b[0m\u001b[0msleep\u001b[0m\u001b[0;34m(\u001b[0m\u001b[0;36m60\u001b[0m\u001b[0;34m)\u001b[0m\u001b[0;34m\u001b[0m\u001b[0m\n\u001b[0m\u001b[1;32m     46\u001b[0m \u001b[0;31m#all_variants = pd.concat(all_variants)\u001b[0m\u001b[0;34m\u001b[0m\u001b[0;34m\u001b[0m\u001b[0m\n",
      "\u001b[0;31mKeyboardInterrupt\u001b[0m: "
     ]
    }
   ],
   "source": [
    "# Fetch All Variants Listed in gnomAD (filter to only missense variants)\n",
    "# NOTE: There is a query rate limit exceeded error that gets thrown if you submit\n",
    "#       too many requests at once. I've jerry rigged this to just keep trying\n",
    "#       until it works. But the first time I ran it, this worked fine on one attempt.\n",
    "#\n",
    "# NOTE: AATF and CISD3 never finish with the current setup (they throw a separate error, no data\n",
    "#       in gnomad_r2_1?). These weren't a problem when I ran using GRCh37 as the reference genome\n",
    "#       instead of GRCh38. Comparing the two outputs, the chromosomal positions don't seem to actually\n",
    "#       change depending on the reference genome selected so I'm not sure what this means. When\n",
    "#       this code was run originally, the GnomAD API didn't require a reference_genome selection.\n",
    "\n",
    "import time\n",
    "#all_variants = dict()\n",
    "\n",
    "attempt_i = 1\n",
    "attempts_per_gene = 10\n",
    "while(True):\n",
    "    cur_keys = len(all_variants)\n",
    "    if(cur_keys == len(human_genes + [\"ACE2\", \"TMPRSS2\"])):\n",
    "        break\n",
    "    print \"Starting Attempt\", attempt_i, \"with\", cur_keys, \"Genes Parsed\"\n",
    "    \n",
    "    # Iterate over all genes\n",
    "    for g in tqdm_notebook(human_genes + [\"ACE2\", \"TMPRSS2\"]):\n",
    "        if(g in all_variants):\n",
    "            continue\n",
    "        \n",
    "        # Try to fetch variants on each gene n times\n",
    "        tries = 0\n",
    "        while(True):\n",
    "            try:\n",
    "                tries += 1\n",
    "                pop_variants = queryGnomadByGene(g)\n",
    "                break\n",
    "            except Exception:\n",
    "                time.sleep(0.1)\n",
    "                if(tries > attempts_per_gene):\n",
    "                    break\n",
    "                pass\n",
    "        if(tries > attempts_per_gene):\n",
    "            print \"Skipped\", g\n",
    "            continue\n",
    "        if(not g == pop_variants[\"gene_symbol\"].unique()[0]):\n",
    "            print \"MISMATCH: \", g, \"-->\", pop_variants[\"gene_symbol\"].unique()[0]\n",
    "            pop_variants[\"gene_symbol\"] = g\n",
    "        all_variants[g] = pop_variants[pop_variants[\"consequence\"] == \"missense_variant\"]\n",
    "    \n",
    "    print \"Finished Attempt\", attempt_i, \"with\", len(all_variants), \"Genes Parsed (\", (len(all_variants) - cur_keys), \" New)\"\n",
    "    print\n",
    "    attempt_i += 1\n",
    "    time.sleep(60)\n",
    "#all_variants = pd.concat(all_variants)"
   ]
  },
  {
   "cell_type": "code",
   "execution_count": 73,
   "metadata": {},
   "outputs": [],
   "source": [
    "# Combine Variants for each gene into one DF\n",
    "all_variants = pd.concat(all_variants.values())"
   ]
  },
  {
   "cell_type": "code",
   "execution_count": 75,
   "metadata": {},
   "outputs": [
    {
     "name": "stdout",
     "output_type": "stream",
     "text": [
      "0\n",
      "133126\n",
      "133126\n"
     ]
    }
   ],
   "source": [
    "# Sort and remove duplicates (no longer necessary?)\n",
    "# (for some reason POL1A had duplicate entries?)\n",
    "# (Could not reproduce, but GnomAD API syntax has also changed since first run)\n",
    "print len(all_variants[all_variants.duplicated([\"chrom\", \"pos\", \"ref\", \"alt\"], keep=False)])\n",
    "\n",
    "all_variants[\"chrom\"] = all_variants[\"chrom\"].map(lambda x: int(x) if not x == \"X\" else x)\n",
    "print len(all_variants)\n",
    "all_variants = all_variants.drop_duplicates().sort_values([\"chrom\", \"pos\", \"ref\", \"alt\"])\n",
    "print len(all_variants)"
   ]
  },
  {
   "cell_type": "code",
   "execution_count": null,
   "metadata": {},
   "outputs": [],
   "source": []
  },
  {
   "cell_type": "code",
   "execution_count": null,
   "metadata": {},
   "outputs": [],
   "source": []
  },
  {
   "cell_type": "markdown",
   "metadata": {},
   "source": [
    "# Map Variants to UniProt Position using VEP"
   ]
  },
  {
   "cell_type": "code",
   "execution_count": 76,
   "metadata": {},
   "outputs": [],
   "source": [
    "# NOTE: This step can most easilly be done by manually querying VEP"
   ]
  },
  {
   "cell_type": "code",
   "execution_count": 77,
   "metadata": {},
   "outputs": [],
   "source": [
    "# Write Input File for VEP\n",
    "out = open(\"{0}/VEP_Input.txt\".format(base_dir), \"w+\")\n",
    "out.write(\"\\n\".join(all_variants[[\"chrom\", \"pos\", \"ref\", \"alt\"]].apply(lambda x: \"{0} {1} . {2} {3}\".format(*x), axis=1)))\n",
    "out.close()"
   ]
  },
  {
   "cell_type": "code",
   "execution_count": 117,
   "metadata": {},
   "outputs": [],
   "source": [
    "# NOTE: Either I'm crazy or there's currently something up with VEP\n",
    "#       When submitting to the grch37 version the SWISSPROT column\n",
    "#       in the output only shows gene names (e.g. PARP_HUMAN) so the\n",
    "#       text download cannnot be used to map UniProt IDs (this is part\n",
    "#       of the sanity check I use to make sure the mapping is verifiable)\n",
    "#\n",
    "#       Instead of just submitting to the grch37 like I did originally.\n",
    "#\n",
    "#       (https://grch37.ensembl.org/Homo_sapiens/Tools/VEP)\n",
    "#\n",
    "#       I instead now need to re-map the GnomAD vairants (only provided in\n",
    "#       grch37 coordinates) to grch38 using the ensembl assembly converter\n",
    "#\n",
    "#       (https://grch37.ensembl.org/Homo_sapiens/Tools/AssemblyConverter?db=core)\n",
    "#\n",
    "#       Then submit the mapped input to the regular grch38 VEP\n",
    "#\n",
    "#       (https://useast.ensembl.org/Homo_sapiens/Tools/VEP?)\n",
    "#\n",
    "#       This then becomes a pain because merging the VEP output (GRCh38) with\n",
    "#       the original GnomAD (GRCh37) input is not straightforward. The Ensembl\n",
    "#       assembly converrter drops some variants during the conversion without\n",
    "#       indicating which ones are dropped so a 1-1 mapping based on order\n",
    "#       is not possible.\n",
    "#       \n",
    "#       Rather than updating and re-runing this script I'm just defaulting to the\n",
    "#       output from the previously working version of this code / external resources.\n",
    "\n",
    "# Submit input file here...\n",
    "#\n",
    "# https://grch37.ensembl.org/Homo_sapiens/Tools/VEP\n",
    "#\n",
    "# Additional Configurations\n",
    "#\n",
    "# - Identifiers\n",
    "#   + Gene Symbol\n",
    "#   + Transcript version\n",
    "#   + UniProt (not selected by default)\n",
    "#\n",
    "# - Variants and Frequency Data\n",
    "#   + Find co-located known variants (Yes)\n",
    "#   + Frequency Data for co-located variants\n",
    "#     - 1000 Genomes global MAF\n",
    "#     - gnomAD exomes (not selected by default)\n",
    "#   + PubMedIDs for citations (Yes)\n",
    "#\n",
    "# - Additional Annotations\n",
    "#   + Default options\n",
    "#\n",
    "# - Predictions\n",
    "#   + Default options (SIFT + PolyPhen prediction and score)\n",
    "#\n",
    "# Filtering Options\n",
    "#   + Defualt\n",
    "#\n",
    "# Advanced Options\n",
    "#   + Default"
   ]
  },
  {
   "cell_type": "code",
   "execution_count": null,
   "metadata": {},
   "outputs": [],
   "source": []
  },
  {
   "cell_type": "code",
   "execution_count": null,
   "metadata": {},
   "outputs": [],
   "source": []
  },
  {
   "cell_type": "code",
   "execution_count": 119,
   "metadata": {},
   "outputs": [],
   "source": [
    "# Read in VEP Mapped Variants\n",
    "# Download output from VEP job\n",
    "# NOTE: From results papge apply filter \"Uploaded variant is missense_variant\"\n",
    "#       to limit to only relevant entries\n",
    "#\n",
    "# Save in root project directory and rename to match filename below...\n",
    "vep_mapped = pd.read_csv(\"{0}/Human_Population_Variants_VEP_Mapped.txt\".format(base_dir), sep=\"\\t\")"
   ]
  },
  {
   "cell_type": "code",
   "execution_count": null,
   "metadata": {},
   "outputs": [],
   "source": []
  },
  {
   "cell_type": "code",
   "execution_count": 123,
   "metadata": {},
   "outputs": [
    {
     "name": "stdout",
     "output_type": "stream",
     "text": [
      "False\n"
     ]
    }
   ],
   "source": [
    "# Join on Key\n",
    "vep_mapped[\"Key\"] = vep_mapped[[\"Location\", \"Allele\"]].apply(lambda x: x[0].split(\"-\")[0] + x[1], axis=1)\n",
    "all_variants[\"Key\"] = all_variants[[\"chrom\", \"pos\", \"alt\"]].apply(lambda x: str(x[0]) + \":\" + str(x[1]) + x[2], axis=1)\n",
    "\n",
    "# Make sure the same variants are included in both\n",
    "# NOTE: This should not match anymore because of GRCh37 to GRCh38 mapping step\n",
    "s1 = set(all_variants[\"Key\"])\n",
    "s2 = set(vep_mapped[\"Key\"])\n",
    "print s1 == s2\n",
    "\n",
    "# Merge\n",
    "merged = all_variants.join(vep_mapped.set_index(\"Key\"), how=\"inner\", on=\"Key\")"
   ]
  },
  {
   "cell_type": "code",
   "execution_count": null,
   "metadata": {},
   "outputs": [],
   "source": []
  },
  {
   "cell_type": "code",
   "execution_count": 125,
   "metadata": {},
   "outputs": [
    {
     "name": "stdout",
     "output_type": "stream",
     "text": [
      "451337\n",
      "282749\n"
     ]
    }
   ],
   "source": [
    "# Get expected UniProt from original input / compare against VEP Mapping\n",
    "proteins = pd.read_csv(\"../Data/Proteins.txt\", sep=\"\\t\")\n",
    "gene2uniprot = proteins.set_index(\"Gene_Name\")[\"ID\"].to_dict()\n",
    "gene2uniprot[\"TMPRSS2\"] = \"O15393\"\n",
    "gene2uniprot[\"ACE2\"] = \"Q9BYF1\"\n",
    "merged[\"Expected_UniProt\"] = merged[\"gene_symbol\"].map(lambda x: gene2uniprot[x])\n",
    "\n",
    "# Drop any cases with wrong UniProt mapping (there are only 2 here so its not a big deal)\n",
    "print len(merged)\n",
    "print len(merged[merged[\"SWISSPROT\"] == merged[\"Expected_UniProt\"]])\n",
    "merged = merged[merged[\"SWISSPROT\"] == merged[\"Expected_UniProt\"]]"
   ]
  },
  {
   "cell_type": "code",
   "execution_count": 126,
   "metadata": {},
   "outputs": [],
   "source": [
    "# Select / Rename Columns\n",
    "merged[\"AA_Ref\"] = merged[\"Amino_acids\"].map(lambda x: x.split(\"/\")[0])\n",
    "merged[\"AA_Alt\"] = merged[\"Amino_acids\"].map(lambda x: x.split(\"/\")[1])\n",
    "merged[\"SIFT_Category\"] = merged[\"SIFT\"].map(lambda x: x.split(\"(\")[0] if not x == \"-\" else np.nan)\n",
    "merged[\"SIFT_Score\"] = merged[\"SIFT\"].map(lambda x: float(x.split(\"(\")[1].strip(\")\")) if not x == \"-\" else np.nan)\n",
    "merged[\"PolyPhen_Category\"] = merged[\"PolyPhen\"].map(lambda x: x.split(\"(\")[0] if not x == \"-\" else np.nan)\n",
    "merged[\"PolyPhen_Score\"] = merged[\"PolyPhen\"].map(lambda x: float(x.split(\"(\")[1].strip(\")\")) if not x == \"-\" else np.nan)\n",
    "merged = merged[[\"gene_symbol\", \"gene_id\", \"SWISSPROT\", \"chrom\", \"pos\", \"ref\", \"alt\", \"consequence\", \"rsid\", \"IMPACT\", \"Protein_position\", \"AA_Ref\", \"AA_Alt\", \"SIFT_Category\", \"SIFT_Score\", \"PolyPhen_Category\", \"PolyPhen_Score\", \"gnomAD_AF\", \"CLIN_SIG\", \"SOMATIC\", \"PHENO\"]]"
   ]
  },
  {
   "cell_type": "code",
   "execution_count": 127,
   "metadata": {},
   "outputs": [],
   "source": [
    "# Rename Columns\n",
    "merged.columns = [\"Gene_Symbol\", \"Gene_ID\", \"UniProt\", \"Chrom\", \"Pos\", \"Ref\", \"Alt\", \"Consequence\", \"rsID\", \"Imact\", \"AA_Pos\", \"AA_Ref\", \"AA_Alt\", \"SIFT_Category\", \"SIFT_Score\", \"PolyPhen_Category\", \"PolyPhen_Score\", \"gnomAD_AF\", \"Clinical_Significance\", \"Somatic\", \"Pheno\"]"
   ]
  },
  {
   "cell_type": "code",
   "execution_count": null,
   "metadata": {},
   "outputs": [],
   "source": []
  },
  {
   "cell_type": "code",
   "execution_count": 128,
   "metadata": {},
   "outputs": [],
   "source": [
    "# Update gnomAD_AF to remove \"-\" blanks\n",
    "merged[\"gnomAD_AF\"] = merged[\"gnomAD_AF\"].map(lambda x: float(x) if not x == \"-\" else np.nan)"
   ]
  },
  {
   "cell_type": "code",
   "execution_count": null,
   "metadata": {},
   "outputs": [],
   "source": []
  },
  {
   "cell_type": "code",
   "execution_count": 130,
   "metadata": {},
   "outputs": [],
   "source": [
    "# Make sure all mapped uniprot positions references match\n",
    "protein_summary = pd.read_csv(\"{0}/Data/Proteins.txt\".format(base_dir), sep=\"\\t\")\n",
    "uni2seq = protein_summary.set_index(\"ID\")[\"Sequence\"].to_dict()\n",
    "uni2seq[\"O15393\"] = my.get_Fasta(\"O15393\")\n",
    "uni2seq[\"Q9BYF1\"] = my.get_Fasta(\"Q9BYF1\")\n",
    "merged[\"Accurate_Pos\"] = merged[[\"UniProt\", \"AA_Pos\", \"AA_Ref\"]].apply(lambda x: uni2seq[x[0]][x[1] - 1] == x[2] if x[1] <= len(uni2seq[x[0]]) else False, axis=1)\n",
    "\n",
    "tmp = merged.sort_values([\"Chrom\", \"Pos\", \"Accurate_Pos\"], ascending=[True, True, False]).drop_duplicates([\"Chrom\", \"Pos\", \"Ref\", \"Alt\"])"
   ]
  },
  {
   "cell_type": "code",
   "execution_count": 131,
   "metadata": {},
   "outputs": [
    {
     "data": {
      "text/plain": [
       "0.95588362526643644"
      ]
     },
     "execution_count": 131,
     "metadata": {},
     "output_type": "execute_result"
    }
   ],
   "source": [
    "tmp[\"Accurate_Pos\"].mean()"
   ]
  },
  {
   "cell_type": "code",
   "execution_count": 132,
   "metadata": {},
   "outputs": [
    {
     "data": {
      "text/plain": [
       "127141"
      ]
     },
     "execution_count": 132,
     "metadata": {},
     "output_type": "execute_result"
    }
   ],
   "source": [
    "len(tmp)"
   ]
  },
  {
   "cell_type": "code",
   "execution_count": 133,
   "metadata": {},
   "outputs": [
    {
     "data": {
      "text/plain": [
       "133126"
      ]
     },
     "execution_count": 133,
     "metadata": {},
     "output_type": "execute_result"
    }
   ],
   "source": [
    "len(all_variants)"
   ]
  },
  {
   "cell_type": "code",
   "execution_count": null,
   "metadata": {},
   "outputs": [],
   "source": []
  },
  {
   "cell_type": "code",
   "execution_count": 134,
   "metadata": {},
   "outputs": [],
   "source": [
    "# Only retain variants where the reference matches at the Uniprot position\n",
    "tmp = tmp[tmp[\"Accurate_Pos\"]]\n",
    "tmp = tmp.drop(\"Accurate_Pos\", axis=1)"
   ]
  },
  {
   "cell_type": "code",
   "execution_count": null,
   "metadata": {},
   "outputs": [],
   "source": []
  },
  {
   "cell_type": "code",
   "execution_count": 135,
   "metadata": {},
   "outputs": [],
   "source": [
    "# Save final list of population variants\n",
    "tmp.to_csv(\"{0}/Data/Pop_Vars.txt\".format(base_dir), sep=\"\\t\", index=None)"
   ]
  },
  {
   "cell_type": "code",
   "execution_count": null,
   "metadata": {},
   "outputs": [],
   "source": []
  },
  {
   "cell_type": "code",
   "execution_count": null,
   "metadata": {},
   "outputs": [],
   "source": []
  }
 ],
 "metadata": {
  "kernelspec": {
   "display_name": "Python 2",
   "language": "python",
   "name": "python2"
  },
  "language_info": {
   "codemirror_mode": {
    "name": "ipython",
    "version": 2
   },
   "file_extension": ".py",
   "mimetype": "text/x-python",
   "name": "python",
   "nbconvert_exporter": "python",
   "pygments_lexer": "ipython2",
   "version": "2.7.15"
  }
 },
 "nbformat": 4,
 "nbformat_minor": 2
}

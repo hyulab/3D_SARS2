{
 "cells": [
  {
   "cell_type": "code",
   "execution_count": 1,
   "metadata": {},
   "outputs": [],
   "source": [
    "# Set the process name to be human readable in htop\n",
    "import setproctitle\n",
    "setproctitle.setproctitle(\"Prep_Downloads\")\n",
    "\n",
    "import requests\n",
    "import pandas as pd\n",
    "pd.options.display.max_columns = 999\n",
    "\n",
    "import numpy as np\n",
    "import helper as my\n",
    "\n",
    "import glob\n",
    "import os\n",
    "import sys\n",
    "\n",
    "from tqdm import tqdm, tqdm_notebook\n",
    "from tqdm._tqdm_notebook import tqdm_notebook\n",
    "\n",
    "tqdm.pandas(tqdm_notebook)\n",
    "tqdm_notebook.pandas()\n",
    "\n",
    "\n",
    "%matplotlib inline\n",
    "import matplotlib\n",
    "import matplotlib.pyplot as plt\n",
    "\n",
    "from collections import defaultdict\n",
    "import math"
   ]
  },
  {
   "cell_type": "code",
   "execution_count": 2,
   "metadata": {},
   "outputs": [],
   "source": [
    "from mjm_tools import zip_res_range, unzip_res_range"
   ]
  },
  {
   "cell_type": "code",
   "execution_count": null,
   "metadata": {},
   "outputs": [],
   "source": []
  },
  {
   "cell_type": "code",
   "execution_count": null,
   "metadata": {},
   "outputs": [],
   "source": []
  },
  {
   "cell_type": "markdown",
   "metadata": {},
   "source": [
    "# Paramaters for file locations"
   ]
  },
  {
   "cell_type": "code",
   "execution_count": 4,
   "metadata": {},
   "outputs": [],
   "source": [
    "# Base directory for whole project\n",
    "base_dir = \"/home/sdw95/3D_SARS2\"\n",
    "\n",
    "# Output directory for finished tables\n",
    "downloads_dir = \"{0}/Downloads\".format(base_dir)\n",
    "\n",
    "if(not os.path.exists(downloads_dir)):\n",
    "    os.mkdir(downloads_dir)"
   ]
  },
  {
   "cell_type": "code",
   "execution_count": null,
   "metadata": {},
   "outputs": [],
   "source": []
  },
  {
   "cell_type": "markdown",
   "metadata": {},
   "source": [
    "# Interface"
   ]
  },
  {
   "cell_type": "code",
   "execution_count": 6,
   "metadata": {},
   "outputs": [
    {
     "data": {
      "text/plain": [
       "0"
      ]
     },
     "execution_count": 6,
     "metadata": {},
     "output_type": "execute_result"
    }
   ],
   "source": [
    "os.system(\"mkdir -p {0}/Interface\".format(downloads_dir))"
   ]
  },
  {
   "cell_type": "markdown",
   "metadata": {},
   "source": [
    "# 1.1 Interface Annotations"
   ]
  },
  {
   "cell_type": "code",
   "execution_count": 8,
   "metadata": {},
   "outputs": [],
   "source": [
    "ires_df = pd.read_csv(\"{0}/Data/Interface_Summary.txt\".format(base_dir), sep=\"\\t\")\n",
    "ires_df = ires_df.sort_values([\"P1\", \"P2\"]).drop_duplicates([\"P1\", \"P2\"])\n",
    "\n",
    "proteins = pd.read_csv(\"{0}/Data/Proteins.txt\".format(base_dir), sep=\"\\t\")\n",
    "\n",
    "ires_df = ires_df.join(proteins.set_index(\"ID\")[[\"UniProt\", \"Gene Name\"]], on=\"P1\", how=\"left\", rsuffix=\" Viral\")\n",
    "ires_df = ires_df.join(proteins.set_index(\"ID\")[[\"UniProt\", \"Gene Name\"]], on=\"P2\", how=\"left\", rsuffix=\" Human\")\n",
    "\n",
    "ires_df = ires_df[[\"Gene Name\", \"UniProt\", \"Gene Name Human\", \"UniProt Human\", \"Source\", \"P1_Len\", \"P1_N_Ires\", \"P1_Ires\", \"P2_Len\", \"P2_N_Ires\", \"P2_Ires\"]]\n",
    "ires_df.columns = [\"Gene Viral\", \"UniProt Viral\", \"Gene Human\", \"UniProt Human\", \"Source\", \"Len Viral\", \"N Ires Viral\", \"Ires Viral\", \"Len Human\", \"N Ires Human\", \"Ires Human\"]\n",
    "\n",
    "ires_df[\"Ires Viral\"] = ires_df[\"Ires Viral\"].map(lambda x: zip_res_range(x) if type(x) == str else \"[]\")\n",
    "ires_df[\"Ires Human\"] = ires_df[\"Ires Human\"].map(lambda x: zip_res_range(x) if type(x) == str else \"[]\")\n",
    "\n",
    "ires_df.sort_values([\"Gene Viral\", \"Gene Human\"]).to_csv(\"{0}/Interface/Interface_annotation_2021_05.txt\".format(downloads_dir), sep=\"\\t\", index=None)"
   ]
  },
  {
   "cell_type": "code",
   "execution_count": null,
   "metadata": {},
   "outputs": [],
   "source": []
  },
  {
   "cell_type": "code",
   "execution_count": null,
   "metadata": {},
   "outputs": [],
   "source": []
  },
  {
   "cell_type": "markdown",
   "metadata": {},
   "source": [
    "# 2.1 ECLAIR Summary"
   ]
  },
  {
   "cell_type": "code",
   "execution_count": 9,
   "metadata": {},
   "outputs": [],
   "source": [
    "ires_df = pd.read_csv(\"{0}/Data/Interface_Summary.txt\".format(base_dir), sep=\"\\t\")\n",
    "ires_df = ires_df[ires_df[\"Source\"] == \"ECLAIR\"]\n",
    "\n",
    "proteins = pd.read_csv(\"{0}/Data/Proteins.txt\".format(base_dir), sep=\"\\t\")\n",
    "\n",
    "ires_df = ires_df.join(proteins.set_index(\"ID\")[[\"UniProt\", \"Gene Name\"]], on=\"P1\", how=\"left\", rsuffix=\" Viral\")\n",
    "ires_df = ires_df.join(proteins.set_index(\"ID\")[[\"UniProt\", \"Gene Name\"]], on=\"P2\", how=\"left\", rsuffix=\" Human\")\n",
    "\n",
    "ires_df = ires_df[[\"Gene Name\", \"UniProt\", \"Gene Name Human\", \"UniProt Human\", \"P1_Len\", \"P1_N_Ires\", \"P1_Ires\", \"P2_Len\", \"P2_N_Ires\", \"P2_Ires\"]]\n",
    "ires_df.columns = [\"Gene Viral\", \"UniProt Viral\", \"Gene Human\", \"UniProt Human\", \"Len Viral\", \"N Ires Viral\", \"Ires Viral\", \"Len Human\", \"N Ires Human\", \"Ires Human\"]\n",
    "\n",
    "ires_df[\"Ires Viral\"] = ires_df[\"Ires Viral\"].map(lambda x: zip_res_range(x) if type(x) == str else \"[]\")\n",
    "ires_df[\"Ires Human\"] = ires_df[\"Ires Human\"].map(lambda x: zip_res_range(x) if type(x) == str else \"[]\")\n",
    "\n",
    "ires_df.sort_values([\"Gene Viral\", \"Gene Human\"]).to_csv(\"{0}/Interface/ECLAIR_summary_2021_05.txt\".format(downloads_dir), sep=\"\\t\", index=None)"
   ]
  },
  {
   "cell_type": "code",
   "execution_count": null,
   "metadata": {},
   "outputs": [],
   "source": []
  },
  {
   "cell_type": "code",
   "execution_count": null,
   "metadata": {},
   "outputs": [],
   "source": []
  },
  {
   "cell_type": "markdown",
   "metadata": {},
   "source": [
    "# 2.2 ECLAIR Predictions"
   ]
  },
  {
   "cell_type": "code",
   "execution_count": 11,
   "metadata": {},
   "outputs": [
    {
     "data": {
      "text/plain": [
       "0"
      ]
     },
     "execution_count": 11,
     "metadata": {},
     "output_type": "execute_result"
    }
   ],
   "source": [
    "os.system(\"mkdir -p {0}/Interface/Eclair_Predictions_2021_05\".format(downloads_dir))"
   ]
  },
  {
   "cell_type": "code",
   "execution_count": 15,
   "metadata": {},
   "outputs": [
    {
     "data": {
      "application/vnd.jupyter.widget-view+json": {
       "model_id": "f78adcfb175f490a845b0a2ca76e3ce0",
       "version_major": 2,
       "version_minor": 0
      },
      "text/plain": [
       "HBox(children=(IntProgress(value=0, max=332), HTML(value=u'')))"
      ]
     },
     "metadata": {},
     "output_type": "display_data"
    },
    {
     "name": "stdout",
     "output_type": "stream",
     "text": [
      "\n"
     ]
    }
   ],
   "source": [
    "for f in tqdm_notebook(glob.glob(\"{0}/Data/Eclair_Predictions/*\".format(base_dir))):\n",
    "    data = pd.read_csv(f, sep=\"\\t\")\n",
    "    \n",
    "    data = data.join(proteins.set_index(\"ID\")[[\"UniProt\", \"Gene Name\"]], on=\"P1\", how=\"left\", rsuffix=\" Viral\")\n",
    "    data = data.join(proteins.set_index(\"ID\")[[\"UniProt\", \"Gene Name\"]], on=\"P2\", how=\"left\", rsuffix=\" Human\")\n",
    "    \n",
    "    data = data[[\"Gene Name\", \"UniProt\", \"Gene Name Human\", \"UniProt Human\"] + list(data)[2:-4]]\n",
    "    data.columns = [\"Gene Viral\", \"UniProt Viral\", \"Gene Human\", \"UniProt Human\", \"Prot\", \"Pos\", \"Res\", \"Clf1\", \"Clf2\", \"Clf3\", \"Clf4\", \"Clf5\", \"Clf6\", \"Clf7\", \"Clf8\", \"TopClf\", \"Pred\", \"Tier\"]\n",
    "    \n",
    "    gene1 = data[\"Gene Viral\"].values[0]\n",
    "    if(pd.isnull(gene1)):\n",
    "        gene1 = data[\"UniProt Viral\"].values[0]\n",
    "    gene2 = data[\"Gene Human\"].values[0]\n",
    "    if(pd.isnull(gene2)):\n",
    "        gene2 = data[\"UniProt Human\"].values[0]\n",
    "    data.to_csv(\"{0}/Interface/Eclair_Predictions_2021_05/{1}_{2}_Eclair_Preds.txt\".format(downloads_dir, gene1, gene2), sep=\"\\t\", index=None)"
   ]
  },
  {
   "cell_type": "code",
   "execution_count": 16,
   "metadata": {},
   "outputs": [],
   "source": [
    "start_dir = os.getcwd()\n",
    "os.chdir(\"{0}/Interface/\".format(downloads_dir))\n",
    "my.call(\"zip -r Eclair_Predictions_2021_05.zip Eclair_Predictions_2021_05\")\n",
    "os.chdir(start_dir)"
   ]
  },
  {
   "cell_type": "code",
   "execution_count": null,
   "metadata": {},
   "outputs": [],
   "source": []
  },
  {
   "cell_type": "code",
   "execution_count": null,
   "metadata": {},
   "outputs": [],
   "source": []
  },
  {
   "cell_type": "markdown",
   "metadata": {},
   "source": [
    "# 3.1 Docking Summary"
   ]
  },
  {
   "cell_type": "code",
   "execution_count": 17,
   "metadata": {},
   "outputs": [],
   "source": [
    "docking = pd.read_csv(\"{0}/Data/Docking_Summary.txt\".format(base_dir), sep=\"\\t\")\n",
    "docking = docking[docking[\"Rank\"] == 1]\n",
    "\n",
    "proteins = pd.read_csv(\"{0}/Data/Proteins.txt\".format(base_dir), sep=\"\\t\")\n",
    "\n",
    "docking = docking.join(proteins.set_index(\"ID\")[[\"UniProt\", \"Gene Name\"]], on=\"P1\", how=\"left\", rsuffix=\" Viral\")\n",
    "docking = docking.join(proteins.set_index(\"ID\")[[\"UniProt\", \"Gene Name\"]], on=\"P2\", how=\"left\", rsuffix=\" Human\")\n",
    "\n",
    "docking = docking[[\"Gene Name\", \"UniProt\", \"Gene Name Human\", \"UniProt Human\", \"Attempt\", \"Score\", \"P1_Ires\", \"P2_Ires\"]]\n",
    "docking.columns = [\"Gene Viral\", \"UniProt Viral\", \"Gene Human\", \"UniProt Human\", \"Attempt\", \"Score\", \"Ires Viral\", \"Ires Human\"]\n",
    "\n",
    "docking[\"Ires Viral\"] = docking[\"Ires Viral\"].map(lambda x: zip_res_range(x) if type(x) == str else \"[]\")\n",
    "docking[\"Ires Human\"] = docking[\"Ires Human\"].map(lambda x: zip_res_range(x) if type(x) == str else \"[]\")\n",
    "\n",
    "docking.sort_values([\"Gene Viral\", \"Gene Human\"]).to_csv(\"{0}/Interface/Protein_docking_summary_20202_07.txt\".format(downloads_dir), sep=\"\\t\", index=None)"
   ]
  },
  {
   "cell_type": "code",
   "execution_count": null,
   "metadata": {},
   "outputs": [],
   "source": []
  },
  {
   "cell_type": "code",
   "execution_count": null,
   "metadata": {},
   "outputs": [],
   "source": []
  },
  {
   "cell_type": "markdown",
   "metadata": {},
   "source": [
    "# 3.2 / 3.3 Top Docks / Other Docks"
   ]
  },
  {
   "cell_type": "code",
   "execution_count": 18,
   "metadata": {},
   "outputs": [
    {
     "data": {
      "text/plain": [
       "0"
      ]
     },
     "execution_count": 18,
     "metadata": {},
     "output_type": "execute_result"
    }
   ],
   "source": [
    "os.system(\"mkdir -p {0}/Interface/Top_ranked_docks_2021_05\".format(downloads_dir))\n",
    "os.system(\"mkdir -p {0}/Interface/Other_docks_2021_05\".format(downloads_dir))"
   ]
  },
  {
   "cell_type": "code",
   "execution_count": 75,
   "metadata": {},
   "outputs": [],
   "source": []
  },
  {
   "cell_type": "code",
   "execution_count": 30,
   "metadata": {},
   "outputs": [],
   "source": [
    "docking = pd.read_csv(\"{0}/Data/Docking_Summary.txt\".format(base_dir), sep=\"\\t\")\n",
    "\n",
    "proteins = pd.read_csv(\"{0}/Data/Proteins.txt\".format(base_dir), sep=\"\\t\")\n",
    "\n",
    "docking = docking.join(proteins.set_index(\"ID\")[[\"UniProt\", \"Gene Name\"]], on=\"P1\", how=\"left\", rsuffix=\" Viral\")\n",
    "docking = docking.join(proteins.set_index(\"ID\")[[\"UniProt\", \"Gene Name\"]], on=\"P2\", how=\"left\", rsuffix=\" Human\")\n",
    "\n",
    "docking = docking[[\"Gene Name\", \"UniProt\", \"Gene Name Human\", \"UniProt Human\", \"Attempt\", \"File\", \"Rank\", \"Score\", \"P1_Ires\", \"P2_Ires\"]]\n",
    "docking.columns = [\"Gene Viral\", \"UniProt Viral\", \"Gene Human\", \"UniProt Human\", \"Attempt\", \"File\", \"Rank\", \"Score\", \"Ires Viral\", \"Ires Human\"]\n",
    "\n",
    "docking[\"Ires Viral\"] = docking[\"Ires Viral\"].map(lambda x: zip_res_range(x) if type(x) == str else \"[]\")\n",
    "docking[\"Ires Human\"] = docking[\"Ires Human\"].map(lambda x: zip_res_range(x) if type(x) == str else \"[]\")\n",
    "\n",
    "docking.sort_values([\"Gene Viral\", \"Gene Human\", \"Rank\"]).to_csv(\"{0}/Interface/Other_docks_2021_05/Protein_docking_summary_full_2021_05.txt\".format(downloads_dir), sep=\"\\t\", index=None)"
   ]
  },
  {
   "cell_type": "code",
   "execution_count": 31,
   "metadata": {},
   "outputs": [
    {
     "data": {
      "application/vnd.jupyter.widget-view+json": {
       "model_id": "563ac3294ca84ae18c07cb2d79375006",
       "version_major": 2,
       "version_minor": 0
      },
      "text/plain": [
       "HBox(children=(IntProgress(value=0, max=27600), HTML(value=u'')))"
      ]
     },
     "metadata": {},
     "output_type": "display_data"
    },
    {
     "name": "stdout",
     "output_type": "stream",
     "text": [
      "\n"
     ]
    }
   ],
   "source": [
    "files = []\n",
    "for g1, uni1, g2, uni2, attempt, f, rank in tqdm_notebook(docking[[\"Gene Viral\", \"UniProt Viral\", \"Gene Human\", \"UniProt Human\", \"Attempt\", \"File\", \"Rank\"]].values):\n",
    "    if(pd.isnull(g1)):\n",
    "        g1 = uni1\n",
    "    if(pd.isnull(g2)):\n",
    "        g2 = uni2\n",
    "    files.append(\"{1}_{2}/{1}_{2}_Dock_{3:02}.pdb\".format(f, g1, g2, attempt))\n",
    "    \n",
    "    \n",
    "    my.call(\"mkdir -p {0}/Interface/Other_docks_2021_05/{1}_{2}\".format(downloads_dir, g1, g2))\n",
    "    o = os.system(\"cp {0} {1}/Interface/Other_docks_2021_05/{2}_{3}/{2}_{3}_Dock_{4:02}.pdb\".format(f, downloads_dir, g1, g2, attempt))\n",
    "    if(o != 0):\n",
    "        print \"ERROR\"\n",
    "        break\n",
    "    \n",
    "    if(rank == 1):\n",
    "        o = os.system(\"cp {0} {1}/Interface/Top_ranked_docks_2021_05/{2}_{3}_top_dock.pdb\".format(f, downloads_dir, g1, g2))"
   ]
  },
  {
   "cell_type": "code",
   "execution_count": 32,
   "metadata": {},
   "outputs": [],
   "source": [
    "docking[\"File\"] = files\n",
    "docking.sort_values([\"Gene Viral\", \"Gene Human\", \"Rank\"]).to_csv(\"{0}/Interface/Other_docks_2021_05/Protein_docking_summary_full_2021_05.txt\".format(downloads_dir), sep=\"\\t\", index=None)"
   ]
  },
  {
   "cell_type": "code",
   "execution_count": 33,
   "metadata": {},
   "outputs": [
    {
     "name": "stderr",
     "output_type": "stream",
     "text": [
      "/home/sdw95/.conda/envs/jp/lib/python2.7/site-packages/ipykernel/__main__.py:3: SettingWithCopyWarning: \n",
      "A value is trying to be set on a copy of a slice from a DataFrame.\n",
      "Try using .loc[row_indexer,col_indexer] = value instead\n",
      "\n",
      "See the caveats in the documentation: http://pandas.pydata.org/pandas-docs/stable/indexing.html#indexing-view-versus-copy\n",
      "  app.launch_new_instance()\n"
     ]
    }
   ],
   "source": [
    "for g in docking.groupby([\"UniProt Human\"]):\n",
    "    base = g[1][\"File\"].map(lambda x: x.split(\"/\")[0]).values[0]\n",
    "    g[1][\"File\"] = g[1][\"File\"].map(lambda x: x.split(\"/\")[1])\n",
    "    \n",
    "    g[1].sort_values([\"Gene Viral\", \"Gene Human\", \"Rank\"]).to_csv(\"{0}/Interface/Other_docks_2021_05/{1}/{1}_docking_summary.txt\".format(downloads_dir, base), sep=\"\\t\", index=None)"
   ]
  },
  {
   "cell_type": "code",
   "execution_count": 34,
   "metadata": {},
   "outputs": [],
   "source": [
    "start_dir = os.getcwd()\n",
    "os.chdir(\"{0}/Interface/\".format(downloads_dir))\n",
    "my.call(\"zip -r Top_ranked_docks_2021_05.zip Top_ranked_docks_2021_05\")\n",
    "my.call(\"zip -r Other_docks_2021_05.zip Other_docks_2021_05\")\n",
    "os.chdir(start_dir)"
   ]
  },
  {
   "cell_type": "code",
   "execution_count": null,
   "metadata": {},
   "outputs": [],
   "source": []
  },
  {
   "cell_type": "code",
   "execution_count": null,
   "metadata": {},
   "outputs": [],
   "source": []
  },
  {
   "cell_type": "code",
   "execution_count": null,
   "metadata": {},
   "outputs": [],
   "source": []
  },
  {
   "cell_type": "markdown",
   "metadata": {},
   "source": [
    "# Structures"
   ]
  },
  {
   "cell_type": "code",
   "execution_count": 35,
   "metadata": {},
   "outputs": [
    {
     "data": {
      "text/plain": [
       "0"
      ]
     },
     "execution_count": 35,
     "metadata": {},
     "output_type": "execute_result"
    }
   ],
   "source": [
    "os.system(\"mkdir -p {0}/Structures\".format(downloads_dir))"
   ]
  },
  {
   "cell_type": "markdown",
   "metadata": {},
   "source": [
    "# 1.1 Viral Homology Models Summary"
   ]
  },
  {
   "cell_type": "code",
   "execution_count": null,
   "metadata": {},
   "outputs": [],
   "source": [
    "# Now Obsolete?"
   ]
  },
  {
   "cell_type": "raw",
   "metadata": {},
   "source": [
    "pdb_fs = glob.glob(\"Data/Undocked_Structures/COVID19*\")\n",
    "uni2seq = pd.read_csv(\"Data/Proteins.txt\", sep=\"\\t\").set_index(\"ID\")[\"Sequence\"].to_dict()"
   ]
  },
  {
   "cell_type": "raw",
   "metadata": {},
   "source": []
  },
  {
   "cell_type": "raw",
   "metadata": {},
   "source": [
    "def getBlosumScore(x, y, matrix=my.MatrixInfo.blosum62):\n",
    "    try:\n",
    "        return matrix[(x, y)]\n",
    "    except KeyError:\n",
    "        return matrix[(y, x)]\n",
    "# FUNCTION END\n",
    "\n",
    "summary = []\n",
    "for f in sorted(pdb_fs):\n",
    "    if(\"5C145A\" in f):\n",
    "        continue\n",
    "    ali = glob.glob(\"Figures/Supplemental_Figure_1/\" + (os.path.basename(f).replace(\"COVID19\", \"\").split(\".\")[0].replace(\"C145A\", \"_C145A\") + \".ali\"))[0]\n",
    "    \n",
    "    seq = uni2seq[os.path.basename(f).split(\".\")[0]]\n",
    "    print f, ali\n",
    "    \n",
    "    lines = my.easyReadLines(ali)\n",
    "    keys = [x.split(\";\")[1] for x in lines[::3]]\n",
    "    values = [x.replace(\"*\", \"\") for x in lines[2::3]]\n",
    "    d = dict(zip(keys, values))\n",
    "    \n",
    "    \n",
    "    #plt.figure(figsize=(5, 5))\n",
    "    all_scores = None\n",
    "    all_identical = None\n",
    "    templates = []\n",
    "    v2 = [v for k, v in d.iteritems() if not \"_\" in k][0]\n",
    "    for k, v in sorted(d.iteritems(), key=lambda x: \"_\" in x[0]):\n",
    "        if(not len(v) == len(seq)):\n",
    "            print \"ERRROR\"\n",
    "        if(not \"_\" in k):\n",
    "            continue\n",
    "        else:\n",
    "            identical = np.array([x[0] == x[1] if not \"-\" in x else -1000 for x in zip(v2, v)])\n",
    "            if(all_identical is None):\n",
    "                all_identical = identical.reshape((len(identical), 1))\n",
    "            else:\n",
    "                all_identical = np.concatenate([all_identical, identical.reshape((len(identical), 1))], axis=1)\n",
    "            \n",
    "            scores = np.array([getBlosumScore(x[0], x[1]) if not \"-\" in x else -1000 for x in zip(v2, v)])\n",
    "            if(all_scores is None):\n",
    "                all_scores = scores.reshape((len(scores), 1))\n",
    "            else:\n",
    "                all_scores = np.concatenate([all_scores, scores.reshape((len(scores), 1))], axis=1)\n",
    "        templates.append(k)\n",
    "    \n",
    "    #if(\"10\" in f):\n",
    "    #    break\n",
    "    \n",
    "    all_identical = all_identical.max(axis=1)\n",
    "    all_scores = all_scores.max(axis=1)\n",
    "    \n",
    "    identical = sum(all_identical == 1) / float(sum(all_identical != -1000))\n",
    "    positives = sum(all_scores >= 0) / float(sum(all_scores != -1000))\n",
    "    coverage = sum(all_scores != -1000) / float(len(seq))\n",
    "    \n",
    "    summary.append([os.path.basename(f).split(\".\")[0], identical, positives, coverage, \";\".join(templates)])"
   ]
  },
  {
   "cell_type": "raw",
   "metadata": {},
   "source": []
  },
  {
   "cell_type": "raw",
   "metadata": {},
   "source": [
    "summary = pd.DataFrame(summary, columns=[\"ID\", \"Identical\", \"Positives\", \"Coverage\", \"Templates\"])\n",
    "summary = summary.join(proteins.set_index(\"ID\")[[\"UniProt\", \"Gene Name\"]], on=\"ID\")\n",
    "structures = pd.read_csv(\"Data/Models.txt\", sep=\"\\t\")\n",
    "structures[\"Residues Covered\"] = structures[\"Resi_Covered\"]\n",
    "summary = summary.join(structures.set_index(\"ID\")[\"Residues Covered\"], on=\"ID\")"
   ]
  },
  {
   "cell_type": "raw",
   "metadata": {},
   "source": [
    "summary[[\"Gene Name\", \"UniProt\", \"Identical\", \"Positives\", \"Coverage\", \"Templates\"]].sort_values(\"Gene Name\").to_csv(\"Downloads/Structures/SARS_CoV_2_homology_model_summary_2021_05.txt\", sep=\"\\t\", index=None)"
   ]
  },
  {
   "cell_type": "code",
   "execution_count": null,
   "metadata": {},
   "outputs": [],
   "source": []
  },
  {
   "cell_type": "code",
   "execution_count": 50,
   "metadata": {},
   "outputs": [],
   "source": [
    "# 1.1 Viral Structures Summary"
   ]
  },
  {
   "cell_type": "code",
   "execution_count": 51,
   "metadata": {},
   "outputs": [],
   "source": [
    "uni2seq = proteins.set_index(\"ID\")[\"Sequence\"].to_dict()"
   ]
  },
  {
   "cell_type": "code",
   "execution_count": 55,
   "metadata": {},
   "outputs": [],
   "source": [
    "structures = pd.read_csv(\"{0}/Data/Models.txt\".format(base_dir), sep=\"\\t\")\n",
    "structures[\"Coverage\"] = structures[[\"ID\", \"Resi_Covered\"]].apply(lambda x: len(unzip_res_range(x[1])) / float(len(uni2seq[x[0]])), axis=1)\n",
    "structures[\"Residues Covered\"] = structures[\"Resi_Covered\"]\n",
    "structures = structures[structures[\"ID\"].map(lambda x: \"COVID\" in x)]\n",
    "structures = structures[[x for x in structures if not x == \"Resi_Covered\" and not x == \"PDB_File\"]]\n",
    "\n",
    "structures = structures.join(proteins.set_index(\"ID\")[[\"UniProt\", \"Gene Name\"]], on=\"ID\")\n",
    "structures = structures[[\"Gene Name\", \"UniProt\"] + list(structures)[1:-2]]\n",
    "\n",
    "structures = structures.drop(\"ModBase_ID\", axis=1)"
   ]
  },
  {
   "cell_type": "code",
   "execution_count": 57,
   "metadata": {},
   "outputs": [],
   "source": [
    "structures.sort_values(\"Gene Name\").to_csv(\"{0}/Structures/SARS_CoV_2_structure_summary_2021_05.txt\".format(downloads_dir), sep=\"\\t\", index=None)"
   ]
  },
  {
   "cell_type": "code",
   "execution_count": null,
   "metadata": {},
   "outputs": [],
   "source": []
  },
  {
   "cell_type": "markdown",
   "metadata": {},
   "source": [
    "# 1.2 Human Structures Summary"
   ]
  },
  {
   "cell_type": "code",
   "execution_count": 58,
   "metadata": {},
   "outputs": [],
   "source": [
    "uni2seq = proteins.set_index(\"ID\")[\"Sequence\"].to_dict()"
   ]
  },
  {
   "cell_type": "code",
   "execution_count": 59,
   "metadata": {},
   "outputs": [],
   "source": [
    "structures = pd.read_csv(\"{0}/Data/Models.txt\".format(base_dir), sep=\"\\t\")\n",
    "structures[\"Coverage\"] = structures[[\"ID\", \"Resi_Covered\"]].apply(lambda x: len(unzip_res_range(x[1])) / float(len(uni2seq[x[0]])), axis=1)\n",
    "structures[\"Residues Covered\"] = structures[\"Resi_Covered\"]\n",
    "structures = structures[structures[\"ID\"].map(lambda x: not \"COVID\" in x)]\n",
    "structures = structures[[x for x in structures if not x == \"Resi_Covered\" and not x == \"PDB_File\"]]\n",
    "\n",
    "structures = structures.join(proteins.set_index(\"ID\")[[\"UniProt\", \"Gene Name\"]], on=\"ID\")\n",
    "structures = structures[[\"Gene Name\", \"UniProt\"] + list(structures)[1:-2]]\n"
   ]
  },
  {
   "cell_type": "code",
   "execution_count": 60,
   "metadata": {},
   "outputs": [],
   "source": [
    "structures.sort_values(\"Gene Name\").to_csv(\"{0}/Structures/Human_structure_summary_2021_05.txt\".format(downloads_dir), sep=\"\\t\", index=None)"
   ]
  },
  {
   "cell_type": "code",
   "execution_count": null,
   "metadata": {},
   "outputs": [],
   "source": []
  },
  {
   "cell_type": "code",
   "execution_count": null,
   "metadata": {},
   "outputs": [],
   "source": []
  },
  {
   "cell_type": "markdown",
   "metadata": {},
   "source": [
    "# 1.3 Viral Structures"
   ]
  },
  {
   "cell_type": "code",
   "execution_count": 61,
   "metadata": {},
   "outputs": [
    {
     "data": {
      "text/plain": [
       "0"
      ]
     },
     "execution_count": 61,
     "metadata": {},
     "output_type": "execute_result"
    }
   ],
   "source": [
    "os.system(\"mkdir -p {0}/Structures/SARS_CoV_2_proteins_2021_05\".format(downloads_dir))"
   ]
  },
  {
   "cell_type": "code",
   "execution_count": 62,
   "metadata": {},
   "outputs": [],
   "source": [
    "for f in glob.glob(\"{0}/Data/Undocked_Structures/*\".format(base_dir)):\n",
    "    if(\"COVID19\" in f):\n",
    "        if(\"5C145A\" in f):\n",
    "            continue\n",
    "        os.system(\"cp {0} {1}/Structures/SARS_CoV_2_proteins_2021_05/{2}.pdb\".format(f, downloads_dir, f.split(\"COVID19\")[1].upper().split(\".\")[0].replace(\"Spike\", \"S\")))"
   ]
  },
  {
   "cell_type": "code",
   "execution_count": 63,
   "metadata": {},
   "outputs": [],
   "source": [
    "start_dir = os.getcwd()\n",
    "os.chdir(\"{0}/Structures/\".format(downloads_dir))\n",
    "my.call(\"zip -r SARS_CoV_2_proteins_2021_05.zip SARS_CoV_2_proteins_2021_05\")\n",
    "os.chdir(start_dir)"
   ]
  },
  {
   "cell_type": "code",
   "execution_count": null,
   "metadata": {},
   "outputs": [],
   "source": []
  },
  {
   "cell_type": "code",
   "execution_count": null,
   "metadata": {},
   "outputs": [],
   "source": []
  },
  {
   "cell_type": "markdown",
   "metadata": {},
   "source": [
    "# 1.4 Human Structures"
   ]
  },
  {
   "cell_type": "code",
   "execution_count": 47,
   "metadata": {},
   "outputs": [
    {
     "data": {
      "text/plain": [
       "0"
      ]
     },
     "execution_count": 47,
     "metadata": {},
     "output_type": "execute_result"
    }
   ],
   "source": [
    "os.system(\"mkdir -p {0}/Structures/Human_proteins_2021_05\".format(downloads_dir))"
   ]
  },
  {
   "cell_type": "code",
   "execution_count": 49,
   "metadata": {},
   "outputs": [],
   "source": [
    "for f in glob.glob(\"{0}/Data/Undocked_Structures/*\".format(base_dir)):\n",
    "    if(not \"COVID19\" in f):\n",
    "        g1 = os.path.basename(f).split(\"_\")[0]\n",
    "        g2 = proteins[proteins[\"ID\"] == g1][\"Gene Name\"].values[0]\n",
    "        if(not str(g2).lower() == \"nan\"):\n",
    "            g1 = g2\n",
    "        o = os.system(\"cp {0} {1}/Structures/Human_proteins_2021_05/{2}.pdb\".format(f, downloads_dir, g1))\n",
    "        if(o != 0):\n",
    "            print \"Error\""
   ]
  },
  {
   "cell_type": "code",
   "execution_count": 64,
   "metadata": {},
   "outputs": [],
   "source": [
    "start_dir = os.getcwd()\n",
    "os.chdir(\"{0}/Structures/\".format(downloads_dir))\n",
    "my.call(\"zip -r Human_proteins_2021_05.zip Human_proteins_2021_05\")\n",
    "os.chdir(start_dir)"
   ]
  },
  {
   "cell_type": "code",
   "execution_count": null,
   "metadata": {},
   "outputs": [],
   "source": []
  },
  {
   "cell_type": "code",
   "execution_count": null,
   "metadata": {},
   "outputs": [],
   "source": []
  },
  {
   "cell_type": "markdown",
   "metadata": {},
   "source": [
    "# 2.1 Drug Top-Docks"
   ]
  },
  {
   "cell_type": "code",
   "execution_count": 65,
   "metadata": {},
   "outputs": [
    {
     "data": {
      "text/plain": [
       "0"
      ]
     },
     "execution_count": 65,
     "metadata": {},
     "output_type": "execute_result"
    }
   ],
   "source": [
    "os.system(\"mkdir -p {0}/Structures/Top_ranked_docked_ligands_2021_05\".format(downloads_dir))"
   ]
  },
  {
   "cell_type": "code",
   "execution_count": 66,
   "metadata": {},
   "outputs": [],
   "source": [
    "for f in glob.glob(\"{0}/Data/Docked_Ligands/Ligand_plus_Structures/*\".format(base_dir)):\n",
    "    g1, drug = os.path.basename(f).split(\"_\")[:2]\n",
    "    g2 = proteins[proteins[\"ID\"] == g1][\"Gene Name\"].values[0]\n",
    "    if(not str(g2).lower() == \"nan\"):\n",
    "        g1 = g2\n",
    "    os.system(\"cp {0} {1}/Structures/Top_ranked_docked_ligands_2021_05/{2}_{3}_top_dock.pdb\".format(f, downloads_dir, g1, drug))"
   ]
  },
  {
   "cell_type": "code",
   "execution_count": 67,
   "metadata": {},
   "outputs": [],
   "source": [
    "start_dir = os.getcwd()\n",
    "os.chdir(\"{0}/Structures/\".format(downloads_dir))\n",
    "my.call(\"zip -r Top_ranked_docked_ligands_2021_05.zip Top_ranked_docked_ligands_2021_05\")\n",
    "os.chdir(start_dir)"
   ]
  },
  {
   "cell_type": "code",
   "execution_count": null,
   "metadata": {},
   "outputs": [],
   "source": []
  },
  {
   "cell_type": "code",
   "execution_count": null,
   "metadata": {},
   "outputs": [],
   "source": []
  },
  {
   "cell_type": "markdown",
   "metadata": {},
   "source": [
    "# 2.2 Drug Other Docks"
   ]
  },
  {
   "cell_type": "code",
   "execution_count": 68,
   "metadata": {},
   "outputs": [
    {
     "data": {
      "text/plain": [
       "0"
      ]
     },
     "execution_count": 68,
     "metadata": {},
     "output_type": "execute_result"
    }
   ],
   "source": [
    "os.system(\"mkdir -p {0}/Structures/Top_10_docked_ligands_2021_05\".format(downloads_dir))"
   ]
  },
  {
   "cell_type": "code",
   "execution_count": 69,
   "metadata": {},
   "outputs": [],
   "source": [
    "for f in glob.glob(\"{0}/Data/Docked_Ligands/*.pdb\".format(base_dir)):\n",
    "    g1, drug = os.path.basename(f).split(\"_\")[:2]\n",
    "    g2 = proteins[proteins[\"ID\"] == g1][\"Gene Name\"].values[0]\n",
    "    if(not str(g2).lower() == \"nan\"):\n",
    "        g1 = g2\n",
    "    \n",
    "    lines = my.easyReadLines(f)\n",
    "    try:\n",
    "        stop_index = [i for i, l in enumerate(lines) if \"ENDMDL\" in l][9]\n",
    "    except:\n",
    "        continue\n",
    "    my.easyWriteLines(\"{0}/Structures/Top_10_docked_ligands_2021_05/{1}_{2}_top_10_dock.pdb\".format(downloads_dir, g1, drug), lines[:stop_index + 1])"
   ]
  },
  {
   "cell_type": "code",
   "execution_count": 70,
   "metadata": {},
   "outputs": [],
   "source": [
    "start_dir = os.getcwd()\n",
    "os.chdir(\"{0}/Structures/\".format(downloads_dir))\n",
    "my.call(\"zip -r Top_10_docked_ligands_2021_05.zip Top_10_docked_ligands_2021_05\")\n",
    "os.chdir(start_dir)"
   ]
  },
  {
   "cell_type": "code",
   "execution_count": null,
   "metadata": {},
   "outputs": [],
   "source": []
  },
  {
   "cell_type": "code",
   "execution_count": null,
   "metadata": {},
   "outputs": [],
   "source": []
  },
  {
   "cell_type": "markdown",
   "metadata": {},
   "source": [
    "# 2.3 Drug Ires Summary"
   ]
  },
  {
   "cell_type": "code",
   "execution_count": 71,
   "metadata": {},
   "outputs": [],
   "source": [
    "ires_df = pd.read_csv(\"{0}/Data/Drug_Docking_Ires_Summary.txt\".format(base_dir), sep=\"\\t\")\n",
    "ires_df = ires_df.join(proteins.set_index(\"ID\")[[\"Gene Name\", \"UniProt\"]], on=\"Human_Protein\")\n",
    "ires_df = ires_df[[\"Gene Name\", \"UniProt\", \"Compound_Name\", \"Rank\", \"Score\", \"Ires\"]]\n",
    "ires_df.columns = [\"Gene Name\", \"UniProt\", \"Compound Name\", \"Rank\", \"Score\", \"Ires\"]\n",
    "ires_df.sort_values([\"Gene Name\", \"Compound Name\", \"Rank\"]).to_csv(\"{0}/Structures/Drug_docking_ires_summary_2021_05.txt\".format(downloads_dir), sep=\"\\t\", index=None)"
   ]
  },
  {
   "cell_type": "code",
   "execution_count": null,
   "metadata": {},
   "outputs": [],
   "source": []
  },
  {
   "cell_type": "code",
   "execution_count": null,
   "metadata": {},
   "outputs": [],
   "source": []
  },
  {
   "cell_type": "markdown",
   "metadata": {},
   "source": [
    "# 2.4 Drug Interface Enrichment Summary"
   ]
  },
  {
   "cell_type": "code",
   "execution_count": 72,
   "metadata": {},
   "outputs": [],
   "source": [
    "ires_df = pd.read_csv(\"{0}/Data/Drug_Interface_Enrichmet.txt\".format(base_dir), sep=\"\\t\")\n",
    "ires_df = ires_df.join(proteins.set_index(\"ID\")[[\"Gene Name\", \"UniProt\"]], on=\"Viral_Interactor\")\n",
    "ires_df = ires_df.join(proteins.set_index(\"ID\")[[\"Gene Name\", \"UniProt\"]], on=\"Human_Protein\", rsuffix=\" Human\")\n",
    "ires_df = ires_df[[\"Gene Name Human\", \"UniProt Human\", \"Compound_Name\", \"Gene Name\", \"UniProt\", \"Docking_Rank\", \"Score\", \"Drug_Ires\", \"Protein_Ires\", \"Log2OR\", \"LowerCI\", \"UpperCI\", \"p-value\"]]\n",
    "ires_df.columns = [\"Gene Human\", \"UniProt Human\", \"Compound Name\", \"Gene Viral\", \"UniProt Viral\", \"Rank\", \"Score\", \"Drug Ires\", \"Protein Ires\", \"Log2OR\", \"LowerCI\", \"UpperCI\", \"p-value\"]\n",
    "ires_df.sort_values([\"Gene Human\", \"Compound Name\", \"Rank\"]).to_csv(\"{0}/Structures/Drug_docking_interface_enrichment_2021_05.txt\".format(downloads_dir), sep=\"\\t\", index=None)"
   ]
  },
  {
   "cell_type": "code",
   "execution_count": null,
   "metadata": {},
   "outputs": [],
   "source": []
  },
  {
   "cell_type": "code",
   "execution_count": null,
   "metadata": {},
   "outputs": [],
   "source": []
  },
  {
   "cell_type": "code",
   "execution_count": null,
   "metadata": {},
   "outputs": [],
   "source": []
  },
  {
   "cell_type": "markdown",
   "metadata": {},
   "source": [
    "# Mutations"
   ]
  },
  {
   "cell_type": "code",
   "execution_count": 73,
   "metadata": {},
   "outputs": [
    {
     "data": {
      "text/plain": [
       "0"
      ]
     },
     "execution_count": 73,
     "metadata": {},
     "output_type": "execute_result"
    }
   ],
   "source": [
    "os.system(\"mkdir -p {0}/Mutations\".format(downloads_dir))"
   ]
  },
  {
   "cell_type": "markdown",
   "metadata": {},
   "source": [
    "# 1.1 SARS Muts"
   ]
  },
  {
   "cell_type": "code",
   "execution_count": 74,
   "metadata": {},
   "outputs": [],
   "source": [
    "sars_muts = pd.read_csv(\"{0}/Tables/Supplemental_Table_4.txt\".format(base_dir), sep=\"\\t\")\n",
    "sars_muts.to_csv(\"{0}/Mutations/SARS_CoV_2_mutations_2021_05.txt\".format(downloads_dir), sep=\"\\t\", index=None)"
   ]
  },
  {
   "cell_type": "code",
   "execution_count": null,
   "metadata": {},
   "outputs": [],
   "source": []
  },
  {
   "cell_type": "markdown",
   "metadata": {},
   "source": [
    "# 1.2 SARS Enrichment"
   ]
  },
  {
   "cell_type": "code",
   "execution_count": 75,
   "metadata": {},
   "outputs": [],
   "source": [
    "sars_enrich = pd.read_csv(\"{0}/Tables/Supplemental_Table_5.txt\".format(base_dir), sep=\"\\t\")\n",
    "sars_enrich = sars_enrich[[\"Gene Viral\", \"UniProt Viral\", \"Gene Human\", \"UniProt Human\", \"LogOdds Viral\", \"CI_Low Viral\", \"CI_Up Viral\", \"P-value Viral\", \"Ires_NoVar Viral\", \"Ires_Var Viral\", \"NoIres_Var Viral\", \"NoIres_NoVar Viral\"]]\n",
    "sars_enrich.columns = [\"Gene Viral\", \"UniProt Viral\", \"Gene Human\", \"UniProt Human\", \"Log2OR\", \"CI_Low\", \"CI_Up\", \"p-value\", \"Ires_NoVar\", \"Ires_Var\", \"NoIres_Var\", \"NoIres_NoVar\"]\n",
    "\n",
    "sars_enrich.to_csv(\"{0}/Mutations/SARS_CoV_2_mutation_enrichment_2021_05\".format(downloads_dir))"
   ]
  },
  {
   "cell_type": "code",
   "execution_count": null,
   "metadata": {},
   "outputs": [],
   "source": []
  },
  {
   "cell_type": "markdown",
   "metadata": {},
   "source": [
    "# 2.1 Human Muts"
   ]
  },
  {
   "cell_type": "code",
   "execution_count": 76,
   "metadata": {},
   "outputs": [
    {
     "name": "stderr",
     "output_type": "stream",
     "text": [
      "/home/sdw95/.conda/envs/jp/lib/python2.7/site-packages/IPython/core/interactiveshell.py:2714: DtypeWarning: Columns (3) have mixed types. Specify dtype option on import or set low_memory=False.\n",
      "  interactivity=interactivity, compiler=compiler, result=result)\n"
     ]
    }
   ],
   "source": [
    "sars_muts = pd.read_csv(\"{0}/Tables/Supplemental_Table_3.txt\".format(base_dir), sep=\"\\t\")\n",
    "sars_muts.to_csv(\"{0}/Mutations/Human_population_variants_2021_05.txt\".format(downloads_dir), sep=\"\\t\", index=None)"
   ]
  },
  {
   "cell_type": "code",
   "execution_count": null,
   "metadata": {},
   "outputs": [],
   "source": []
  },
  {
   "cell_type": "markdown",
   "metadata": {},
   "source": [
    "# 2.2 Human Enrichment"
   ]
  },
  {
   "cell_type": "code",
   "execution_count": 77,
   "metadata": {},
   "outputs": [],
   "source": [
    "sars_enrich = pd.read_csv(\"{0}/Tables/Supplemental_Table_5.txt\".format(base_dir), sep=\"\\t\")\n",
    "sars_enrich = sars_enrich[[\"Gene Viral\", \"UniProt Viral\", \"Gene Human\", \"UniProt Human\", \"LogOdds Human\", \"CI_Low Human\", \"CI_Up Human\", \"P-value Human\", \"Ires_NoVar Human\", \"Ires_Var Human\", \"NoIres_Var Human\", \"NoIres_NoVar Human\"]]\n",
    "sars_enrich.columns = [\"Gene Viral\", \"UniProt Viral\", \"Gene Human\", \"UniProt Human\", \"Log2OR\", \"CI_Low\", \"CI_Up\", \"p-value\", \"Ires_NoVar\", \"Ires_Var\", \"NoIres_Var\", \"NoIres_NoVar\"]\n",
    "\n",
    "sars_enrich.to_csv(\"{0}/Mutations/Human_population_variants_enrichment_2021_05\".format(downloads_dir))"
   ]
  },
  {
   "cell_type": "code",
   "execution_count": null,
   "metadata": {},
   "outputs": [],
   "source": []
  },
  {
   "cell_type": "code",
   "execution_count": null,
   "metadata": {},
   "outputs": [],
   "source": []
  },
  {
   "cell_type": "code",
   "execution_count": null,
   "metadata": {},
   "outputs": [],
   "source": []
  },
  {
   "cell_type": "markdown",
   "metadata": {},
   "source": [
    "# ddG"
   ]
  },
  {
   "cell_type": "code",
   "execution_count": 78,
   "metadata": {},
   "outputs": [
    {
     "data": {
      "text/plain": [
       "0"
      ]
     },
     "execution_count": 78,
     "metadata": {},
     "output_type": "execute_result"
    }
   ],
   "source": [
    "os.system(\"mkdir -p {0}/ddG\".format(downloads_dir))"
   ]
  },
  {
   "cell_type": "markdown",
   "metadata": {},
   "source": [
    "# 1.1 ddG Scanning Mutagenesis"
   ]
  },
  {
   "cell_type": "code",
   "execution_count": 79,
   "metadata": {},
   "outputs": [
    {
     "data": {
      "text/plain": [
       "0"
      ]
     },
     "execution_count": 79,
     "metadata": {},
     "output_type": "execute_result"
    }
   ],
   "source": [
    "os.system(\"mkdir -p {0}/ddG/ddG_scanning_mutagenesis_2021_05\".format(downloads_dir))"
   ]
  },
  {
   "cell_type": "code",
   "execution_count": 80,
   "metadata": {},
   "outputs": [],
   "source": [
    "for f in glob.glob(\"{0}/Data/ddG_Single_Mutants/Summaries/*Mean.txt\".format(base_dir)):\n",
    "    idA, uniB = os.path.basename(f).split(\"_\")[:2]\n",
    "    uniA = proteins[proteins[\"ID\"] == idA][\"UniProt\"].values[0]\n",
    "    geneA = proteins[proteins[\"ID\"] == idA][\"Gene Name\"].values[0]\n",
    "    geneB = proteins[proteins[\"ID\"] == uniB][\"Gene Name\"].values[0]\n",
    "\n",
    "    tmp = pd.read_csv(f, sep=\"\\t\")\n",
    "    tmp2 = []\n",
    "    for row in tmp.values:\n",
    "        row = dict(zip(list(tmp), row))\n",
    "        for col in row:\n",
    "            if(\"ddG_{0}\".format(row[\"Ref\"]) in col):\n",
    "                row[col] = np.nan\n",
    "        if(row[\"Chain\"] == \"A\"):\n",
    "            row[\"Chain\"] = 0\n",
    "        else:\n",
    "            row[\"Chain\"] = 1\n",
    "        tmp2.append([geneA, uniA, geneB, uniB] + [row[c] for c in tmp])\n",
    "    tmp2 = pd.DataFrame(tmp2, columns = [\"Gene Viral\", \"UniProt Viral\", \"Gene Human\", \"UniProt Human\"] + list(tmp))\n",
    "    \n",
    "    a = geneA\n",
    "    b = geneB\n",
    "    if(str(b).lower() == \"nan\"):\n",
    "        b = uniB\n",
    "    tmp2.to_csv(\"{0}/ddG/ddG_scanning_mutagenesis_2021_05/{1}_{2}_scanning_mutagenesis.txt\".format(downloads_dir, a, b), sep=\"\\t\", index=None)"
   ]
  },
  {
   "cell_type": "code",
   "execution_count": 81,
   "metadata": {},
   "outputs": [],
   "source": [
    "start_dir = os.getcwd()\n",
    "os.chdir(\"{0}/ddG/\".format(downloads_dir))\n",
    "my.call(\"zip -r ddG_scanning_mutagenesis_2021_05.zip ddG_scanning_mutagenesis_2021_05\")\n",
    "os.chdir(start_dir)"
   ]
  },
  {
   "cell_type": "code",
   "execution_count": null,
   "metadata": {},
   "outputs": [],
   "source": []
  },
  {
   "cell_type": "code",
   "execution_count": null,
   "metadata": {},
   "outputs": [],
   "source": []
  },
  {
   "cell_type": "markdown",
   "metadata": {},
   "source": [
    "# 1.2 SARS-CoV SARS-CoV-2 ddG"
   ]
  },
  {
   "cell_type": "code",
   "execution_count": 82,
   "metadata": {},
   "outputs": [],
   "source": [
    "tmp = pd.read_csv(\"{0}/Tables/Supplemental_Table_7.txt\".format(base_dir), sep=\"\\t\")\n",
    "tmp.to_csv(\"{0}/ddG/ddG_summary_SARS_CoV_vs_SARS_CoV_2_2021_05\".format(downloads_dir), sep=\"\\t\", index=None)"
   ]
  },
  {
   "cell_type": "code",
   "execution_count": null,
   "metadata": {},
   "outputs": [],
   "source": []
  }
 ],
 "metadata": {
  "kernelspec": {
   "display_name": "Python 2",
   "language": "python",
   "name": "python2"
  },
  "language_info": {
   "codemirror_mode": {
    "name": "ipython",
    "version": 2
   },
   "file_extension": ".py",
   "mimetype": "text/x-python",
   "name": "python",
   "nbconvert_exporter": "python",
   "pygments_lexer": "ipython2",
   "version": "2.7.15"
  }
 },
 "nbformat": 4,
 "nbformat_minor": 2
}

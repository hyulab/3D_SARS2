{
 "cells": [
  {
   "cell_type": "code",
   "execution_count": 135,
   "metadata": {},
   "outputs": [],
   "source": [
    "# Set the process name to be human readable in htop\n",
    "import setproctitle\n",
    "setproctitle.setproctitle(\"Prep_Figure_S2\")\n",
    "\n",
    "import requests\n",
    "import pandas as pd\n",
    "pd.options.display.max_columns = 999\n",
    "\n",
    "import numpy as np\n",
    "import helper as my\n",
    "\n",
    "import glob\n",
    "import os\n",
    "import sys\n",
    "\n",
    "from tqdm import tqdm, tqdm_notebook\n",
    "from tqdm._tqdm_notebook import tqdm_notebook\n",
    "\n",
    "tqdm.pandas(tqdm_notebook)\n",
    "tqdm_notebook.pandas()\n",
    "\n",
    "\n",
    "%matplotlib inline\n",
    "import matplotlib\n",
    "import matplotlib.pyplot as plt\n",
    "\n",
    "from collections import defaultdict\n",
    "import math"
   ]
  },
  {
   "cell_type": "code",
   "execution_count": null,
   "metadata": {},
   "outputs": [],
   "source": []
  },
  {
   "cell_type": "code",
   "execution_count": null,
   "metadata": {},
   "outputs": [],
   "source": []
  },
  {
   "cell_type": "code",
   "execution_count": 136,
   "metadata": {},
   "outputs": [],
   "source": [
    "eclair_preds = pd.concat([pd.read_csv(f, sep=\"\\t\") for f in glob.glob(\"../../Data/Eclair_Predictions/*\")])"
   ]
  },
  {
   "cell_type": "code",
   "execution_count": 137,
   "metadata": {},
   "outputs": [],
   "source": [
    "clf_use_viral = defaultdict(int)\n",
    "clf_use_viral.update(eclair_preds[eclair_preds[\"Prot\"] == 0].sort_values([\"P1\", \"P2\", \"TopClf\"], ascending=False).drop_duplicates([\"P1\", \"P2\"])[\"TopClf\"].value_counts())\n",
    "\n",
    "clf_use_human = defaultdict(int)\n",
    "clf_use_human.update(eclair_preds[eclair_preds[\"Prot\"] == 1].sort_values([\"P1\", \"P2\", \"TopClf\"], ascending=False).drop_duplicates([\"P1\", \"P2\"])[\"TopClf\"].value_counts())\n",
    "\n",
    "clf_use_human_human = dict(zip(range(1, 9), np.random.randint(0, 100, 8)))"
   ]
  },
  {
   "cell_type": "code",
   "execution_count": 138,
   "metadata": {},
   "outputs": [],
   "source": [
    "all_preds = glob.glob(\"[REDACTED_PATH]/eclair/features/per_interaction/*.pkl\")"
   ]
  },
  {
   "cell_type": "code",
   "execution_count": 139,
   "metadata": {},
   "outputs": [],
   "source": [
    "human_unis = set(pd.read_csv(\"[REDACTED_PATH]/uniprot/parsed_files/uniprot_human2aaseq.txt\", sep=\"\\t\", header=None)[0].to_list())"
   ]
  },
  {
   "cell_type": "code",
   "execution_count": 140,
   "metadata": {},
   "outputs": [],
   "source": [
    "human_inters = set(pd.read_csv(\"../../H_sapiens_interfacesALL.txt\", sep=\"\\t\")[[\"P1\", \"P2\"]].apply(lambda x: tuple(sorted(x)), axis=1).values)"
   ]
  },
  {
   "cell_type": "code",
   "execution_count": 141,
   "metadata": {},
   "outputs": [
    {
     "data": {
      "text/plain": [
       "20365"
      ]
     },
     "execution_count": 141,
     "metadata": {},
     "output_type": "execute_result"
    }
   ],
   "source": [
    "len(human_unis)"
   ]
  },
  {
   "cell_type": "code",
   "execution_count": 142,
   "metadata": {},
   "outputs": [],
   "source": [
    "keep = []\n",
    "\n",
    "for p in all_preds:\n",
    "    uni1, uni2 = os.path.basename(p).split(\"_\")[:2]\n",
    "    if(uni1 in human_unis and uni2 in human_unis and tuple(sorted([uni1, uni2])) in human_inters):\n",
    "        keep.append((uni1, uni2))"
   ]
  },
  {
   "cell_type": "code",
   "execution_count": 143,
   "metadata": {},
   "outputs": [],
   "source": [
    "pd.DataFrame(set(keep)).to_csv(\"Predicted_Human_Interactions.txt\", sep=\"\\t\", header=None, index=None)"
   ]
  },
  {
   "cell_type": "code",
   "execution_count": 144,
   "metadata": {},
   "outputs": [],
   "source": [
    "#os.system(\"mkdir [REDACTED_PATH]Collaborators/Lab_Member_Requests/Charles/2020_05_04_COVID19_Website/Figures/Supplemental_Figure_2/Human_Predictions\")"
   ]
  },
  {
   "cell_type": "code",
   "execution_count": 145,
   "metadata": {},
   "outputs": [],
   "source": [
    "#os.system(\"eclair -f [REDACTED_PATH]Collaborators/Lab_Member_Requests/Charles/2020_05_04_COVID19_Website/Figures/Supplemental_Figure_2/Predicted_Human_Interactions.txt -nc 10 -predpath [REDACTED_PATH]Collaborators/Lab_Member_Requests/Charles/2020_05_04_COVID19_Website/Figures/Supplemental_Figure_2/Human_Predictions --step 8\")"
   ]
  },
  {
   "cell_type": "code",
   "execution_count": null,
   "metadata": {},
   "outputs": [],
   "source": []
  },
  {
   "cell_type": "code",
   "execution_count": 146,
   "metadata": {},
   "outputs": [],
   "source": [
    "all_eclair_preds = pd.concat([pd.read_pickle(f) for f in glob.glob(\"Human_Predictions/*\")])"
   ]
  },
  {
   "cell_type": "code",
   "execution_count": 147,
   "metadata": {},
   "outputs": [],
   "source": [
    "clf_use_human_human = defaultdict(int)\n",
    "clf_use_human_human.update(all_eclair_preds.sort_values([\"P1\", \"P2\", \"Prot\", \"TopClf\"], ascending=False).drop_duplicates([\"P1\", \"P2\", \"Prot\"])[\"TopClf\"].value_counts())"
   ]
  },
  {
   "cell_type": "code",
   "execution_count": null,
   "metadata": {},
   "outputs": [],
   "source": []
  },
  {
   "cell_type": "code",
   "execution_count": null,
   "metadata": {},
   "outputs": [],
   "source": []
  },
  {
   "cell_type": "code",
   "execution_count": 34,
   "metadata": {},
   "outputs": [
    {
     "data": {
      "text/plain": [
       "'[REDACTED_PATH]Collaborators/Lab_Member_Requests/Charles/2020_05_04_COVID19_Website/Figures/Supplemental_Figure_2/Predicted_Human_Interactions.txt'"
      ]
     },
     "execution_count": 34,
     "metadata": {},
     "output_type": "execute_result"
    }
   ],
   "source": [
    "os.path.abspath(\"Predicted_Human_Interactions.txt\")"
   ]
  },
  {
   "cell_type": "code",
   "execution_count": null,
   "metadata": {},
   "outputs": [],
   "source": []
  },
  {
   "cell_type": "code",
   "execution_count": null,
   "metadata": {},
   "outputs": [],
   "source": []
  },
  {
   "cell_type": "code",
   "execution_count": null,
   "metadata": {},
   "outputs": [],
   "source": []
  },
  {
   "cell_type": "code",
   "execution_count": 148,
   "metadata": {},
   "outputs": [
    {
     "name": "stdout",
     "output_type": "stream",
     "text": [
      "695054\n"
     ]
    }
   ],
   "source": [
    "print len(all_eclair_preds)"
   ]
  },
  {
   "cell_type": "code",
   "execution_count": null,
   "metadata": {},
   "outputs": [],
   "source": []
  },
  {
   "cell_type": "code",
   "execution_count": null,
   "metadata": {},
   "outputs": [],
   "source": []
  },
  {
   "cell_type": "code",
   "execution_count": 149,
   "metadata": {},
   "outputs": [
    {
     "data": {
      "image/png": "[encoded data removed]",
      "text/plain": [
       "<Figure size 468x288 with 1 Axes>"
      ]
     },
     "metadata": {
      "needs_background": "light"
     },
     "output_type": "display_data"
    }
   ],
   "source": [
    "plt.figure(figsize=(6.5, 4))\n",
    "colors = [\"r\", \"g\", \"b\", \"y\", \"orange\", \"magenta\", \"cyan\", \"pink\"]\n",
    "for i in range(1, 9):\n",
    "    plt.fill_between([i-0.5, i+0.5], 0.5, color=colors[i-1], alpha=0.3)\n",
    "    plt.bar(i - 0.25, clf_use_viral[i] / float(sum(clf_use_viral.values())), width=0.25, color=\"blue\", edgecolor=\"k\")\n",
    "    plt.bar(i, clf_use_human[i] / float(sum(clf_use_human.values())), width=0.25, color=\"green\", edgecolor=\"k\")\n",
    "    plt.bar(i + 0.25, clf_use_human_human[i] / float(sum(clf_use_human_human.values())), width=0.25, color=\"orange\", edgecolor=\"k\")\n",
    "colors = [\"#0000DD\", \"#DD00DD\", \"#DD0000\", \"#DDDD00\", \"#00DD00\"]\n",
    "uses = [[1, 1, 1, 1, 1, 1, 1, 1], [0, 1, 1, 0, 1, 1, 1, 1], [0, 0, 1, 0, 0, 0, 1, 1], [0, 0, 0, 1, 1, 1, 1, 1], [0, 0, 0, 0, 0, 1, 0, 1]]\n",
    "y = 0.8 - 0.02\n",
    "j = 0\n",
    "ticks = [0, 0.1, 0.2, 0.3, 0.4, 0.5]\n",
    "tick_labels = [0, 0.1, 0.2, 0.3, 0.4, 0.5]\n",
    "for u in uses:\n",
    "    for i in range(1, 9):\n",
    "        if(u[i-1] == 1):\n",
    "            plt.barh(y, left=i-0.5, width=1, height=0.04, color=colors[j])\n",
    "    ticks.append(y)\n",
    "    y -= 0.05\n",
    "    j += 1\n",
    "tick_labels += [\"BIOP\", \"CONS\", \"COEV\", \"SASA\", \"DOCK\"]\n",
    "plt.ylim(0, 0.8)\n",
    "plt.xlim(0, 9)\n",
    "plt.yticks(ticks, tick_labels)\n",
    "plt.xticks(range(1, 9), [\"Clf1\", \"Clf2\", \"Clf3\", \"Clf4\", \"Clf5\", \"Clf6\", \"Clf7\", \"Clf8\"])\n",
    "plt.ylabel(\"Fraction of Interactions\")\n",
    "plt.xlabel(\"Top Classifier Per Interaction\")\n",
    "plt.axhline(0.5, color=\"k\")\n",
    "plt.savefig(\"a1.svg\")"
   ]
  },
  {
   "cell_type": "code",
   "execution_count": 165,
   "metadata": {},
   "outputs": [
    {
     "data": {
      "image/png": "[encoded data removed]",
      "text/plain": [
       "<Figure size 72x72 with 1 Axes>"
      ]
     },
     "metadata": {},
     "output_type": "display_data"
    },
    {
     "data": {
      "image/png": "[encoded data removed]",
      "text/plain": [
       "<Figure size 72x72 with 1 Axes>"
      ]
     },
     "metadata": {},
     "output_type": "display_data"
    },
    {
     "data": {
      "image/png": "[encoded data removed]",
      "text/plain": [
       "<Figure size 72x72 with 1 Axes>"
      ]
     },
     "metadata": {},
     "output_type": "display_data"
    }
   ],
   "source": [
    "plt.figure(figsize=(1, 1))\n",
    "colors = [\"r\", \"g\", \"b\", \"y\", \"orange\", \"magenta\", \"cyan\", \"pink\"]\n",
    "plt.pie([clf_use_viral[i] for i in range(1, 9)], colors=colors, startangle=90)\n",
    "plt.savefig(\"a2.svg\")\n",
    "plt.show()\n",
    "plt.figure(figsize=(1, 1))\n",
    "colors = [\"r\", \"g\", \"b\", \"y\", \"orange\", \"magenta\", \"cyan\", \"pink\"]\n",
    "plt.pie([clf_use_human[i] for i in range(1, 9)], colors=colors, startangle=90)\n",
    "plt.savefig(\"a3.svg\")\n",
    "plt.show()\n",
    "plt.figure(figsize=(1, 1))\n",
    "colors = [\"r\", \"g\", \"b\", \"y\", \"orange\", \"magenta\", \"cyan\", \"pink\"]\n",
    "plt.pie([clf_use_human_human[i] for i in range(1, 9)], colors=colors, startangle=90)\n",
    "plt.savefig(\"a4.svg\")\n",
    "plt.show()"
   ]
  },
  {
   "cell_type": "code",
   "execution_count": null,
   "metadata": {},
   "outputs": [],
   "source": []
  },
  {
   "cell_type": "code",
   "execution_count": null,
   "metadata": {},
   "outputs": [],
   "source": []
  },
  {
   "cell_type": "code",
   "execution_count": 151,
   "metadata": {},
   "outputs": [],
   "source": [
    "clf_use_per_res_viral = defaultdict(int)\n",
    "clf_use_per_res_viral.update(eclair_preds[eclair_preds[\"Prot\"] == 0][\"TopClf\"].value_counts())\n",
    "\n",
    "clf_use_per_res_human = defaultdict(int)\n",
    "clf_use_per_res_human.update(eclair_preds[eclair_preds[\"Prot\"] == 1][\"TopClf\"].value_counts())\n",
    "\n",
    "clf_use_per_res_human_human = defaultdict(int)\n",
    "clf_use_per_res_human_human.update(all_eclair_preds[\"TopClf\"].value_counts())"
   ]
  },
  {
   "cell_type": "code",
   "execution_count": 152,
   "metadata": {},
   "outputs": [
    {
     "data": {
      "image/png": "[encoded data removed]",
      "text/plain": [
       "<Figure size 468x288 with 1 Axes>"
      ]
     },
     "metadata": {
      "needs_background": "light"
     },
     "output_type": "display_data"
    }
   ],
   "source": [
    "plt.figure(figsize=(6.5, 4))\n",
    "colors = [\"r\", \"g\", \"b\", \"y\", \"orange\", \"magenta\", \"cyan\", \"pink\"]\n",
    "for i in range(1, 9):\n",
    "    plt.fill_between([i-0.5, i+0.5], 0.75, color=colors[i-1], alpha=0.3)\n",
    "    plt.bar(i - 0.25, clf_use_per_res_viral[i] / float(sum(clf_use_per_res_viral.values())), width=0.25, color=\"blue\", edgecolor=\"k\")\n",
    "    plt.bar(i, clf_use_per_res_human[i] / float(sum(clf_use_per_res_human.values())), width=0.25, color=\"green\", edgecolor=\"k\")\n",
    "    plt.bar(i + 0.25, clf_use_per_res_human_human[i] / float(sum(clf_use_per_res_human_human.values())), width=0.25, color=\"orange\", edgecolor=\"k\")\n",
    "colors = [\"#0000DD\", \"#DD00DD\", \"#DD0000\", \"#DDDD00\", \"#00DD00\"]\n",
    "uses = [[1, 1, 1, 1, 1, 1, 1, 1], [0, 1, 1, 0, 1, 1, 1, 1], [0, 0, 1, 0, 0, 0, 1, 1], [0, 0, 0, 1, 1, 1, 1, 1], [0, 0, 0, 0, 0, 1, 0, 1]]\n",
    "y = 0.75*1.6 - 0.02*3/2\n",
    "j = 0\n",
    "ticks = [0, 0.125, 0.25, 0.375, 0.5, 0.625, 0.75]\n",
    "tick_labels = [0, \"\", 0.25, \"\", 0.5, \"\", 0.75]\n",
    "for u in uses:\n",
    "    for i in range(1, 9):\n",
    "        if(u[i-1] == 1):\n",
    "            plt.barh(y, left=i-0.5, width=1, height=0.04*3/2, color=colors[j])\n",
    "    ticks.append(y)\n",
    "    y -= 0.05*3/2\n",
    "    j += 1\n",
    "tick_labels += [\"BIOP\", \"CONS\", \"COEV\", \"SASA\", \"DOCK\"]\n",
    "plt.ylim(0, 0.75*1.6)\n",
    "plt.xlim(0, 9)\n",
    "plt.yticks(ticks, tick_labels)\n",
    "plt.xticks(range(1, 9), [\"Clf1\", \"Clf2\", \"Clf3\", \"Clf4\", \"Clf5\", \"Clf6\", \"Clf7\", \"Clf8\"])\n",
    "plt.ylabel(\"Fraction of Residues\")\n",
    "plt.xlabel(\"Top Classifier Per Residue\")\n",
    "plt.axhline(0.75, color=\"k\")\n",
    "plt.savefig(\"b1.svg\")"
   ]
  },
  {
   "cell_type": "code",
   "execution_count": 164,
   "metadata": {},
   "outputs": [
    {
     "data": {
      "image/png": "[encoded data removed]",
      "text/plain": [
       "<Figure size 72x72 with 1 Axes>"
      ]
     },
     "metadata": {},
     "output_type": "display_data"
    },
    {
     "data": {
      "image/png": "[encoded data removed]",
      "text/plain": [
       "<Figure size 72x72 with 1 Axes>"
      ]
     },
     "metadata": {},
     "output_type": "display_data"
    },
    {
     "data": {
      "image/png": "[encoded data removed]",
      "text/plain": [
       "<Figure size 72x72 with 1 Axes>"
      ]
     },
     "metadata": {},
     "output_type": "display_data"
    }
   ],
   "source": [
    "plt.figure(figsize=(1, 1))\n",
    "colors = [\"r\", \"g\", \"b\", \"y\", \"orange\", \"magenta\", \"cyan\", \"pink\"]\n",
    "plt.pie([clf_use_per_res_viral[i] for i in range(1, 9)], colors=colors, startangle=90)\n",
    "plt.savefig(\"b2.svg\")\n",
    "plt.show()\n",
    "plt.figure(figsize=(1, 1))\n",
    "colors = [\"r\", \"g\", \"b\", \"y\", \"orange\", \"magenta\", \"cyan\", \"pink\"]\n",
    "plt.pie([clf_use_per_res_human[i] for i in range(1, 9)], colors=colors, startangle=90)\n",
    "plt.savefig(\"b3.svg\")\n",
    "plt.show()\n",
    "plt.figure(figsize=(1, 1))\n",
    "colors = [\"r\", \"g\", \"b\", \"y\", \"orange\", \"magenta\", \"cyan\", \"pink\"]\n",
    "plt.pie([clf_use_per_res_human_human[i] for i in range(1, 9)], colors=colors, startangle=90)\n",
    "plt.savefig(\"b4.svg\")\n",
    "plt.show()"
   ]
  },
  {
   "cell_type": "code",
   "execution_count": null,
   "metadata": {},
   "outputs": [],
   "source": []
  },
  {
   "cell_type": "code",
   "execution_count": null,
   "metadata": {},
   "outputs": [],
   "source": []
  },
  {
   "cell_type": "code",
   "execution_count": 154,
   "metadata": {},
   "outputs": [],
   "source": [
    "import seaborn as sn"
   ]
  },
  {
   "cell_type": "code",
   "execution_count": null,
   "metadata": {},
   "outputs": [],
   "source": []
  },
  {
   "cell_type": "code",
   "execution_count": 155,
   "metadata": {},
   "outputs": [
    {
     "data": {
      "image/png": "[encoded data removed]",
      "text/plain": [
       "<Figure size 288x288 with 1 Axes>"
      ]
     },
     "metadata": {
      "needs_background": "light"
     },
     "output_type": "display_data"
    }
   ],
   "source": [
    "plt.figure(figsize=(4, 4))\n",
    "viral_preds = eclair_preds[eclair_preds[\"Prot\"] == 0][\"Pred\"].values\n",
    "human_preds = eclair_preds[eclair_preds[\"Prot\"] == 1][\"Pred\"].values\n",
    "human_human_preds = all_eclair_preds[\"Pred\"].values\n",
    "sn.violinplot(data=[viral_preds, human_preds, human_human_preds], cut=0)\n",
    "plt.fill_between([-1, 3], [0.12, 0.12], y2=0, color=\"k\", alpha=0.1)\n",
    "plt.fill_between([-1, 3], [0.24, 0.24], y2=0.12, color=\"blue\", alpha=0.1)\n",
    "plt.fill_between([-1, 3], [0.36, 0.36], y2=0.24, color=\"yellow\", alpha=0.1)\n",
    "plt.fill_between([-1, 3], [0.48, 0.48], y2=0.36, color=\"orange\", alpha=0.1)\n",
    "plt.fill_between([-1, 3], [1, 1], y2=0.48, color=\"red\", alpha=0.1)\n",
    "plt.plot([-1, 3], [0.12, 0.12], color=\"blue\", linestyle=\"--\")\n",
    "plt.plot([-1, 3], [0.24, 0.24], color=\"yellow\", linestyle=\"--\")\n",
    "plt.plot([-1, 3], [0.36, 0.36], color=\"orange\", linestyle=\"--\")\n",
    "plt.plot([-1, 3], [0.48, 0.48], color=\"red\", linestyle=\"--\")\n",
    "plt.xticks([0, 1, 2], [\"Viral\", \"Human\", \"Human-Human\"])\n",
    "plt.ylim(0, 1)\n",
    "plt.ylabel(\"ECLAIR Prediction\")\n",
    "plt.savefig(\"c.svg\")"
   ]
  },
  {
   "cell_type": "code",
   "execution_count": 156,
   "metadata": {},
   "outputs": [
    {
     "name": "stdout",
     "output_type": "stream",
     "text": [
      "Ks_2sampResult(statistic=0.14164120821502946, pvalue=0.0)\n",
      "Ks_2sampResult(statistic=0.072722590163282169, pvalue=0.0)\n",
      "Ks_2sampResult(statistic=0.14863883824285617, pvalue=0.0)\n"
     ]
    }
   ],
   "source": [
    "import scipy\n",
    "print scipy.stats.ks_2samp(viral_preds, human_preds)\n",
    "print scipy.stats.ks_2samp(human_human_preds, human_preds)\n",
    "print scipy.stats.ks_2samp(viral_preds, human_human_preds)"
   ]
  },
  {
   "cell_type": "code",
   "execution_count": null,
   "metadata": {},
   "outputs": [],
   "source": []
  },
  {
   "cell_type": "code",
   "execution_count": 157,
   "metadata": {},
   "outputs": [
    {
     "data": {
      "image/png": "[encoded data removed]",
      "text/plain": [
       "<Figure size 288x288 with 1 Axes>"
      ]
     },
     "metadata": {
      "needs_background": "light"
     },
     "output_type": "display_data"
    }
   ],
   "source": [
    "plt.figure(figsize=(4, 4))\n",
    "sub_viral_preds = viral_preds[::len(viral_preds)/1000]\n",
    "sub_human_preds = human_preds[::len(human_preds)/1000]\n",
    "sub_human_human_preds = human_human_preds[::len(human_human_preds)/1000]\n",
    "viral_percentiles = [(i+1)/float(len(sub_viral_preds)) for i in range(len(sub_viral_preds))]\n",
    "human_percentiles = [(i+1)/float(len(sub_human_preds)) for i in range(len(sub_human_preds))]\n",
    "human_human_percentiles = [(i+1)/float(len(sub_human_human_preds)) for i in range(len(sub_human_human_preds))]\n",
    "plt.plot(sorted(sub_viral_preds), viral_percentiles, color=\"b\")\n",
    "plt.plot(sorted(sub_human_preds), human_percentiles, color=\"g\")\n",
    "plt.plot(sorted(sub_human_human_preds), human_human_percentiles, color=\"orange\")\n",
    "plt.fill_betweenx([-1, 3], [0.12, 0.12], x2=0, color=\"k\", alpha=0.1)\n",
    "plt.fill_betweenx([-1, 3], [0.24, 0.24], x2=0.12, color=\"blue\", alpha=0.1)\n",
    "plt.fill_betweenx([-1, 3], [0.36, 0.36], x2=0.24, color=\"yellow\", alpha=0.1)\n",
    "plt.fill_betweenx([-1, 3], [0.48, 0.48], x2=0.36, color=\"orange\", alpha=0.1)\n",
    "plt.fill_betweenx([-1, 3], [1, 1], x2=0.48, color=\"red\", alpha=0.1)\n",
    "plt.plot(y=[-1, 3], x=[0.12, 0.12], color=\"blue\", linestyle=\"--\")\n",
    "plt.plot(y=[-1, 3], x=[0.24, 0.24], color=\"yellow\", linestyle=\"--\")\n",
    "plt.plot(y=[-1, 3], x=[0.36, 0.36], color=\"orange\", linestyle=\"--\")\n",
    "plt.plot(y=[-1, 3], x=[0.48, 0.48], color=\"red\", linestyle=\"--\")\n",
    "plt.xlabel(\"ECLAIR Prediction\")\n",
    "plt.ylabel(\"CDF\")\n",
    "plt.ylim(0, 1)\n",
    "plt.savefig(\"d.svg\")"
   ]
  },
  {
   "cell_type": "code",
   "execution_count": 158,
   "metadata": {},
   "outputs": [
    {
     "data": {
      "image/png": "[encoded data removed]",
      "text/plain": [
       "<Figure size 144x144 with 1 Axes>"
      ]
     },
     "metadata": {},
     "output_type": "display_data"
    },
    {
     "data": {
      "image/png": "[encoded data removed]",
      "text/plain": [
       "<Figure size 144x144 with 1 Axes>"
      ]
     },
     "metadata": {},
     "output_type": "display_data"
    },
    {
     "data": {
      "image/png": "[encoded data removed]",
      "text/plain": [
       "<Figure size 144x144 with 1 Axes>"
      ]
     },
     "metadata": {},
     "output_type": "display_data"
    }
   ],
   "source": [
    "for i, dataset in enumerate([viral_preds, human_preds, human_human_preds]):\n",
    "    vl = sum(dataset < 0.12)\n",
    "    l = sum((0.12 <= dataset) & (dataset < 0.24))\n",
    "    m = sum((0.24 <= dataset) & (dataset < 0.36))\n",
    "    h = sum((0.36 <= dataset) & (dataset < 0.48))\n",
    "    vh = sum(0.48 <= dataset)\n",
    "    plt.figure(figsize=(2, 2))\n",
    "    plt.pie([vl, l, m, h, vh], startangle=90, colors=[\"k\", \"blue\", \"yellow\", \"orange\", \"red\"])\n",
    "    plt.savefig(\"e{0}.svg\".format(i))\n",
    "    plt.show()"
   ]
  },
  {
   "cell_type": "code",
   "execution_count": null,
   "metadata": {},
   "outputs": [],
   "source": []
  },
  {
   "cell_type": "code",
   "execution_count": null,
   "metadata": {},
   "outputs": [],
   "source": []
  },
  {
   "cell_type": "code",
   "execution_count": 159,
   "metadata": {},
   "outputs": [],
   "source": [
    "viral_interface_sizes = []\n",
    "human_interface_sizes = []\n",
    "for g in eclair_preds.groupby([\"P1\", \"P2\"]):\n",
    "    viral_interface_sizes.append(len(g[1][(g[1][\"Prot\"] == 0)&(g[1][\"Pred\"] >= 0.36)]))\n",
    "    human_interface_sizes.append(len(g[1][(g[1][\"Prot\"] == 1)&(g[1][\"Pred\"] >= 0.36)]))\n",
    "\n",
    "human_human_interface_sizes = []\n",
    "for g in all_eclair_preds.groupby([\"P1\", \"P2\"]):\n",
    "    human_human_interface_sizes.append(len(g[1][(g[1][\"Prot\"] == 0)&(g[1][\"Pred\"] >= 0.36)]))\n",
    "    if(not g[0][0] == g[0][1]):\n",
    "        human_human_interface_sizes.append(len(g[1][(g[1][\"Prot\"] == 1)&(g[1][\"Pred\"] >= 0.36)]))"
   ]
  },
  {
   "cell_type": "code",
   "execution_count": null,
   "metadata": {},
   "outputs": [],
   "source": []
  },
  {
   "cell_type": "code",
   "execution_count": 160,
   "metadata": {},
   "outputs": [
    {
     "data": {
      "image/png": "[encoded data removed]",
      "text/plain": [
       "<Figure size 288x288 with 1 Axes>"
      ]
     },
     "metadata": {
      "needs_background": "light"
     },
     "output_type": "display_data"
    }
   ],
   "source": [
    "plt.figure(figsize=(4, 4))\n",
    "sn.violinplot(data=[viral_interface_sizes, human_interface_sizes, human_human_interface_sizes], cut=0)\n",
    "plt.ylim(0, 100)\n",
    "plt.ylabel(\"ECLAIR Interface Size\")\n",
    "plt.xticks([0, 1, 2], [\"Viral\", \"Human\", \"Human-Human\"])\n",
    "plt.savefig(\"f.svg\")"
   ]
  },
  {
   "cell_type": "code",
   "execution_count": null,
   "metadata": {},
   "outputs": [],
   "source": []
  },
  {
   "cell_type": "code",
   "execution_count": 161,
   "metadata": {},
   "outputs": [],
   "source": [
    "ires_df = pd.read_csv(\"../../Data/Interface_Summary.txt\", sep=\"\\t\")\n",
    "ires_df = ires_df[ires_df[\"Source\"] == \"Docking\"]"
   ]
  },
  {
   "cell_type": "code",
   "execution_count": 162,
   "metadata": {},
   "outputs": [],
   "source": [
    "viral_docked_ires_sizes = ires_df[\"P1_Ires\"].map(lambda x: len(x.split(\",\")) if type(x) == str else 0).values\n",
    "human_docked_ires_sizes = ires_df[\"P2_Ires\"].map(lambda x: len(x.split(\",\")) if type(x) == str else 0).values"
   ]
  },
  {
   "cell_type": "code",
   "execution_count": 163,
   "metadata": {},
   "outputs": [
    {
     "data": {
      "image/png": "[encoded data removed]",
      "text/plain": [
       "<Figure size 288x288 with 1 Axes>"
      ]
     },
     "metadata": {
      "needs_background": "light"
     },
     "output_type": "display_data"
    }
   ],
   "source": [
    "plt.figure(figsize=(4, 4))\n",
    "sn.violinplot(data=[viral_docked_ires_sizes, human_docked_ires_sizes])\n",
    "plt.ylim(0, 50)\n",
    "plt.ylabel(\"Docked Interface Size\")\n",
    "plt.xticks([0, 1], [\"Viral\", \"Human\"])\n",
    "plt.savefig(\"g.svg\")"
   ]
  },
  {
   "cell_type": "code",
   "execution_count": 167,
   "metadata": {},
   "outputs": [
    {
     "data": {
      "text/plain": [
       "18.164000000000001"
      ]
     },
     "execution_count": 167,
     "metadata": {},
     "output_type": "execute_result"
    }
   ],
   "source": [
    "viral_docked_ires_sizes.mean()"
   ]
  },
  {
   "cell_type": "code",
   "execution_count": 168,
   "metadata": {},
   "outputs": [
    {
     "data": {
      "text/plain": [
       "17.931999999999999"
      ]
     },
     "execution_count": 168,
     "metadata": {},
     "output_type": "execute_result"
    }
   ],
   "source": [
    "human_docked_ires_sizes.mean()"
   ]
  },
  {
   "cell_type": "code",
   "execution_count": 169,
   "metadata": {},
   "outputs": [
    {
     "data": {
      "text/plain": [
       "4483"
      ]
     },
     "execution_count": 169,
     "metadata": {},
     "output_type": "execute_result"
    }
   ],
   "source": [
    "sum(human_docked_ires_sizes)"
   ]
  },
  {
   "cell_type": "code",
   "execution_count": null,
   "metadata": {},
   "outputs": [],
   "source": []
  }
 ],
 "metadata": {
  "kernelspec": {
   "display_name": "Python 2",
   "language": "python",
   "name": "python2"
  },
  "language_info": {
   "codemirror_mode": {
    "name": "ipython",
    "version": 2
   },
   "file_extension": ".py",
   "mimetype": "text/x-python",
   "name": "python",
   "nbconvert_exporter": "python",
   "pygments_lexer": "ipython2",
   "version": "2.7.15"
  }
 },
 "nbformat": 4,
 "nbformat_minor": 2
}
